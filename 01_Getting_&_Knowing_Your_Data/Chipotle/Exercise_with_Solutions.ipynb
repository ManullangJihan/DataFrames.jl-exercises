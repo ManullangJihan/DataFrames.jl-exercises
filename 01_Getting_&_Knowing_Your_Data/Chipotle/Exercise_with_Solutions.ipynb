{
 "cells": [
  {
   "cell_type": "markdown",
   "metadata": {},
   "source": [
    "# Ex2 - Getting and Knowing your Data"
   ]
  },
  {
   "cell_type": "markdown",
   "metadata": {},
   "source": [
    "This time we are going to pull data directly from the internet.\n",
    "Special thanks to: https://github.com/justmarkham for sharing the dataset and materials.\n",
    "\n",
    "### Step 1. Import the necessary libraries"
   ]
  },
  {
   "cell_type": "code",
   "execution_count": null,
   "metadata": {},
   "outputs": [],
   "source": [
    "using DotEnv\n",
    "using Pkg\n",
    "\n",
    "DotEnv.load!()\n",
    "path = ENV[\"ENV_PATH\"]\n",
    "Pkg.activate(path)\n",
    "    \n",
    "using CSV\n",
    "using DataFrames\n",
    "using Downloads\n",
    "using Statistics"
   ]
  },
  {
   "cell_type": "markdown",
   "metadata": {},
   "source": [
    "### Step 2. Import the dataset from this [address](https://raw.githubusercontent.com/justmarkham/DAT8/master/data/chipotle.tsv). "
   ]
  },
  {
   "cell_type": "markdown",
   "metadata": {},
   "source": [
    "### Step 3. Assign it to a variable called chipo."
   ]
  },
  {
   "cell_type": "code",
   "execution_count": 2,
   "metadata": {
    "collapsed": false
   },
   "outputs": [],
   "source": [
    "file = Downloads.download(\"https://raw.githubusercontent.com/justmarkham/DAT8/master/data/chipotle.tsv\")\n",
    "chipo = CSV.read(file, DataFrame, delim='\\t');"
   ]
  },
  {
   "cell_type": "markdown",
   "metadata": {},
   "source": [
    "### Step 4. See the first 10 entries"
   ]
  },
  {
   "cell_type": "code",
   "execution_count": 3,
   "metadata": {
    "collapsed": false,
    "scrolled": false
   },
   "outputs": [
    {
     "data": {
      "text/html": [
       "<div><div style = \"float: left;\"><span>10×5 DataFrame</span></div><div style = \"clear: both;\"></div></div><div class = \"data-frame\" style = \"overflow-x: scroll;\"><table class = \"data-frame\" style = \"margin-bottom: 6px;\"><thead><tr class = \"header\"><th class = \"rowNumber\" style = \"font-weight: bold; text-align: right;\">Row</th><th style = \"text-align: left;\">order_id</th><th style = \"text-align: left;\">quantity</th><th style = \"text-align: left;\">item_name</th><th style = \"text-align: left;\">choice_description</th><th style = \"text-align: left;\">item_price</th></tr><tr class = \"subheader headerLastRow\"><th class = \"rowNumber\" style = \"font-weight: bold; text-align: right;\"></th><th title = \"Int64\" style = \"text-align: left;\">Int64</th><th title = \"Int64\" style = \"text-align: left;\">Int64</th><th title = \"String\" style = \"text-align: left;\">String</th><th title = \"String\" style = \"text-align: left;\">String</th><th title = \"String7\" style = \"text-align: left;\">String7</th></tr></thead><tbody><tr><td class = \"rowNumber\" style = \"font-weight: bold; text-align: right;\">1</td><td style = \"text-align: right;\">1</td><td style = \"text-align: right;\">1</td><td style = \"text-align: left;\">Chips and Fresh Tomato Salsa</td><td style = \"text-align: left;\">NULL</td><td style = \"text-align: left;\">$2.39 </td></tr><tr><td class = \"rowNumber\" style = \"font-weight: bold; text-align: right;\">2</td><td style = \"text-align: right;\">1</td><td style = \"text-align: right;\">1</td><td style = \"text-align: left;\">Izze</td><td style = \"text-align: left;\">[Clementine]</td><td style = \"text-align: left;\">$3.39 </td></tr><tr><td class = \"rowNumber\" style = \"font-weight: bold; text-align: right;\">3</td><td style = \"text-align: right;\">1</td><td style = \"text-align: right;\">1</td><td style = \"text-align: left;\">Nantucket Nectar</td><td style = \"text-align: left;\">[Apple]</td><td style = \"text-align: left;\">$3.39 </td></tr><tr><td class = \"rowNumber\" style = \"font-weight: bold; text-align: right;\">4</td><td style = \"text-align: right;\">1</td><td style = \"text-align: right;\">1</td><td style = \"text-align: left;\">Chips and Tomatillo-Green Chili Salsa</td><td style = \"text-align: left;\">NULL</td><td style = \"text-align: left;\">$2.39 </td></tr><tr><td class = \"rowNumber\" style = \"font-weight: bold; text-align: right;\">5</td><td style = \"text-align: right;\">2</td><td style = \"text-align: right;\">2</td><td style = \"text-align: left;\">Chicken Bowl</td><td style = \"text-align: left;\">[Tomatillo-Red Chili Salsa (Hot), [Black Beans, Rice, Cheese, Sour Cream]]</td><td style = \"text-align: left;\">$16.98 </td></tr><tr><td class = \"rowNumber\" style = \"font-weight: bold; text-align: right;\">6</td><td style = \"text-align: right;\">3</td><td style = \"text-align: right;\">1</td><td style = \"text-align: left;\">Chicken Bowl</td><td style = \"text-align: left;\">[Fresh Tomato Salsa (Mild), [Rice, Cheese, Sour Cream, Guacamole, Lettuce]]</td><td style = \"text-align: left;\">$10.98 </td></tr><tr><td class = \"rowNumber\" style = \"font-weight: bold; text-align: right;\">7</td><td style = \"text-align: right;\">3</td><td style = \"text-align: right;\">1</td><td style = \"text-align: left;\">Side of Chips</td><td style = \"text-align: left;\">NULL</td><td style = \"text-align: left;\">$1.69 </td></tr><tr><td class = \"rowNumber\" style = \"font-weight: bold; text-align: right;\">8</td><td style = \"text-align: right;\">4</td><td style = \"text-align: right;\">1</td><td style = \"text-align: left;\">Steak Burrito</td><td style = \"text-align: left;\">[Tomatillo Red Chili Salsa, [Fajita Vegetables, Black Beans, Pinto Beans, Cheese, Sour Cream, Guacamole, Lettuce]]</td><td style = \"text-align: left;\">$11.75 </td></tr><tr><td class = \"rowNumber\" style = \"font-weight: bold; text-align: right;\">9</td><td style = \"text-align: right;\">4</td><td style = \"text-align: right;\">1</td><td style = \"text-align: left;\">Steak Soft Tacos</td><td style = \"text-align: left;\">[Tomatillo Green Chili Salsa, [Pinto Beans, Cheese, Sour Cream, Lettuce]]</td><td style = \"text-align: left;\">$9.25 </td></tr><tr><td class = \"rowNumber\" style = \"font-weight: bold; text-align: right;\">10</td><td style = \"text-align: right;\">5</td><td style = \"text-align: right;\">1</td><td style = \"text-align: left;\">Steak Burrito</td><td style = \"text-align: left;\">[Fresh Tomato Salsa, [Rice, Black Beans, Pinto Beans, Cheese, Sour Cream, Lettuce]]</td><td style = \"text-align: left;\">$9.25 </td></tr></tbody></table></div>"
      ],
      "text/latex": [
       "\\begin{tabular}{r|ccccc}\n",
       "\t& order\\_id & quantity & item\\_name & choice\\_description & \\\\\n",
       "\t\\hline\n",
       "\t& Int64 & Int64 & String & String & \\\\\n",
       "\t\\hline\n",
       "\t1 & 1 & 1 & Chips and Fresh Tomato Salsa & NULL & $\\dots$ \\\\\n",
       "\t2 & 1 & 1 & Izze & [Clementine] & $\\dots$ \\\\\n",
       "\t3 & 1 & 1 & Nantucket Nectar & [Apple] & $\\dots$ \\\\\n",
       "\t4 & 1 & 1 & Chips and Tomatillo-Green Chili Salsa & NULL & $\\dots$ \\\\\n",
       "\t5 & 2 & 2 & Chicken Bowl & [Tomatillo-Red Chili Salsa (Hot), [Black Beans, Rice, Cheese, Sour Cream]] & $\\dots$ \\\\\n",
       "\t6 & 3 & 1 & Chicken Bowl & [Fresh Tomato Salsa (Mild), [Rice, Cheese, Sour Cream, Guacamole, Lettuce]] & $\\dots$ \\\\\n",
       "\t7 & 3 & 1 & Side of Chips & NULL & $\\dots$ \\\\\n",
       "\t8 & 4 & 1 & Steak Burrito & [Tomatillo Red Chili Salsa, [Fajita Vegetables, Black Beans, Pinto Beans, Cheese, Sour Cream, Guacamole, Lettuce]] & $\\dots$ \\\\\n",
       "\t9 & 4 & 1 & Steak Soft Tacos & [Tomatillo Green Chili Salsa, [Pinto Beans, Cheese, Sour Cream, Lettuce]] & $\\dots$ \\\\\n",
       "\t10 & 5 & 1 & Steak Burrito & [Fresh Tomato Salsa, [Rice, Black Beans, Pinto Beans, Cheese, Sour Cream, Lettuce]] & $\\dots$ \\\\\n",
       "\\end{tabular}\n"
      ],
      "text/plain": [
       "\u001b[1m10×5 DataFrame\u001b[0m\n",
       "\u001b[1m Row \u001b[0m│\u001b[1m order_id \u001b[0m\u001b[1m quantity \u001b[0m\u001b[1m item_name                         \u001b[0m\u001b[1m choice_descripti\u001b[0m ⋯\n",
       "     │\u001b[90m Int64    \u001b[0m\u001b[90m Int64    \u001b[0m\u001b[90m String                            \u001b[0m\u001b[90m String          \u001b[0m ⋯\n",
       "─────┼──────────────────────────────────────────────────────────────────────────\n",
       "   1 │        1         1  Chips and Fresh Tomato Salsa       NULL             ⋯\n",
       "   2 │        1         1  Izze                               [Clementine]\n",
       "   3 │        1         1  Nantucket Nectar                   [Apple]\n",
       "   4 │        1         1  Chips and Tomatillo-Green Chili …  NULL\n",
       "   5 │        2         2  Chicken Bowl                       [Tomatillo-Red C ⋯\n",
       "   6 │        3         1  Chicken Bowl                       [Fresh Tomato Sa\n",
       "   7 │        3         1  Side of Chips                      NULL\n",
       "   8 │        4         1  Steak Burrito                      [Tomatillo Red C\n",
       "   9 │        4         1  Steak Soft Tacos                   [Tomatillo Green ⋯\n",
       "  10 │        5         1  Steak Burrito                      [Fresh Tomato Sa\n",
       "\u001b[36m                                                               2 columns omitted\u001b[0m"
      ]
     },
     "metadata": {},
     "output_type": "display_data"
    }
   ],
   "source": [
    "first(chipo, 10)"
   ]
  },
  {
   "cell_type": "markdown",
   "metadata": {},
   "source": [
    "### Step 5. What is the number of observations in the dataset?"
   ]
  },
  {
   "cell_type": "code",
   "execution_count": 4,
   "metadata": {
    "collapsed": false
   },
   "outputs": [
    {
     "name": "stdout",
     "output_type": "stream",
     "text": [
      "n_observation = 4622\n"
     ]
    }
   ],
   "source": [
    "n_observation = size(chipo, 1)\n",
    "@show n_observation;"
   ]
  },
  {
   "cell_type": "markdown",
   "metadata": {},
   "source": [
    "### Step 6. What is the number of columns in the dataset?"
   ]
  },
  {
   "cell_type": "code",
   "execution_count": 5,
   "metadata": {
    "collapsed": false
   },
   "outputs": [
    {
     "name": "stdout",
     "output_type": "stream",
     "text": [
      "n_columns = 5\n"
     ]
    }
   ],
   "source": [
    "n_columns = size(chipo, 2)\n",
    "@show n_columns;"
   ]
  },
  {
   "cell_type": "markdown",
   "metadata": {},
   "source": [
    "### Step 7. Print the name of all the columns."
   ]
  },
  {
   "cell_type": "code",
   "execution_count": 6,
   "metadata": {
    "collapsed": false
   },
   "outputs": [
    {
     "name": "stdout",
     "output_type": "stream",
     "text": [
      "column_names = [\"order_id\", \"quantity\", \"item_name\", \"choice_description\", \"item_price\"]\n"
     ]
    },
    {
     "data": {
      "text/plain": [
       "5-element Vector{String}:\n",
       " \"order_id\"\n",
       " \"quantity\"\n",
       " \"item_name\"\n",
       " \"choice_description\"\n",
       " \"item_price\""
      ]
     },
     "metadata": {},
     "output_type": "display_data"
    }
   ],
   "source": [
    "column_names = names(chipo)\n",
    "@show column_names"
   ]
  },
  {
   "cell_type": "markdown",
   "metadata": {},
   "source": [
    "### Step 8. Which was the most-ordered item? "
   ]
  },
  {
   "cell_type": "code",
   "execution_count": 7,
   "metadata": {
    "collapsed": false
   },
   "outputs": [
    {
     "data": {
      "text/html": [
       "<div><div style = \"float: left;\"><span>DataFrameRow (2 columns)</span></div><div style = \"clear: both;\"></div></div><div class = \"data-frame\" style = \"overflow-x: scroll;\"><table class = \"data-frame\" style = \"margin-bottom: 6px;\"><thead><tr class = \"header\"><th class = \"rowLabel\" style = \"font-weight: bold; text-align: right;\">Row</th><th style = \"text-align: left;\">item_name</th><th style = \"text-align: left;\">total_ordered</th></tr><tr class = \"subheader headerLastRow\"><th class = \"rowLabel\" style = \"font-weight: bold; text-align: right;\"></th><th title = \"String\" style = \"text-align: left;\">String</th><th title = \"Int64\" style = \"text-align: left;\">Int64</th></tr></thead><tbody><tr><td class = \"rowLabel\" style = \"font-weight: bold; text-align: right;\">1</td><td style = \"text-align: left;\">Chicken Bowl</td><td style = \"text-align: right;\">761</td></tr></tbody></table></div>"
      ],
      "text/latex": [
       "\\begin{tabular}{r|cc}\n",
       "\t& item\\_name & total\\_ordered\\\\\n",
       "\t\\hline\n",
       "\t& String & Int64\\\\\n",
       "\t\\hline\n",
       "\t1 & Chicken Bowl & 761 \\\\\n",
       "\\end{tabular}\n"
      ],
      "text/plain": [
       "\u001b[1mDataFrameRow\u001b[0m\n",
       "\u001b[1m Row \u001b[0m│\u001b[1m item_name    \u001b[0m\u001b[1m total_ordered \u001b[0m\n",
       "     │\u001b[90m String       \u001b[0m\u001b[90m Int64         \u001b[0m\n",
       "─────┼─────────────────────────────\n",
       "   1 │ Chicken Bowl            761"
      ]
     },
     "metadata": {},
     "output_type": "display_data"
    }
   ],
   "source": [
    "most_ordered_item = combine(\n",
    "    groupby(\n",
    "        chipo, :item_name\n",
    "    ), :quantity => sum => :total_ordered\n",
    ")\n",
    "\n",
    "most_ordered_item = sort(most_ordered_item, :total_ordered, rev=true)[1, :]"
   ]
  },
  {
   "cell_type": "markdown",
   "metadata": {},
   "source": [
    "### Step 9. For the most-ordered item, how many items were ordered?"
   ]
  },
  {
   "cell_type": "code",
   "execution_count": 8,
   "metadata": {
    "collapsed": false
   },
   "outputs": [
    {
     "name": "stdout",
     "output_type": "stream",
     "text": [
      "chicken_bowl_total_ordered = 761\n"
     ]
    }
   ],
   "source": [
    "chicken_bowl_total_ordered = sum(chipo[chipo[!, :item_name] .== \"Chicken Bowl\", \"quantity\"])\n",
    "@show chicken_bowl_total_ordered;"
   ]
  },
  {
   "cell_type": "markdown",
   "metadata": {},
   "source": [
    "### Step 10. What was the most ordered item in the choice_description column?"
   ]
  },
  {
   "cell_type": "code",
   "execution_count": 9,
   "metadata": {
    "collapsed": false
   },
   "outputs": [
    {
     "data": {
      "text/html": [
       "<div><div style = \"float: left;\"><span>3×2 DataFrame</span></div><div style = \"clear: both;\"></div></div><div class = \"data-frame\" style = \"overflow-x: scroll;\"><table class = \"data-frame\" style = \"margin-bottom: 6px;\"><thead><tr class = \"header\"><th class = \"rowNumber\" style = \"font-weight: bold; text-align: right;\">Row</th><th style = \"text-align: left;\">choice_description</th><th style = \"text-align: left;\">total_ordered</th></tr><tr class = \"subheader headerLastRow\"><th class = \"rowNumber\" style = \"font-weight: bold; text-align: right;\"></th><th title = \"String\" style = \"text-align: left;\">String</th><th title = \"Int64\" style = \"text-align: left;\">Int64</th></tr></thead><tbody><tr><td class = \"rowNumber\" style = \"font-weight: bold; text-align: right;\">1</td><td style = \"text-align: left;\">NULL</td><td style = \"text-align: right;\">1382</td></tr><tr><td class = \"rowNumber\" style = \"font-weight: bold; text-align: right;\">2</td><td style = \"text-align: left;\">[Diet Coke]</td><td style = \"text-align: right;\">159</td></tr><tr><td class = \"rowNumber\" style = \"font-weight: bold; text-align: right;\">3</td><td style = \"text-align: left;\">[Coke]</td><td style = \"text-align: right;\">143</td></tr></tbody></table></div>"
      ],
      "text/latex": [
       "\\begin{tabular}{r|cc}\n",
       "\t& choice\\_description & total\\_ordered\\\\\n",
       "\t\\hline\n",
       "\t& String & Int64\\\\\n",
       "\t\\hline\n",
       "\t1 & NULL & 1382 \\\\\n",
       "\t2 & [Diet Coke] & 159 \\\\\n",
       "\t3 & [Coke] & 143 \\\\\n",
       "\\end{tabular}\n"
      ],
      "text/plain": [
       "\u001b[1m3×2 DataFrame\u001b[0m\n",
       "\u001b[1m Row \u001b[0m│\u001b[1m choice_description \u001b[0m\u001b[1m total_ordered \u001b[0m\n",
       "     │\u001b[90m String             \u001b[0m\u001b[90m Int64         \u001b[0m\n",
       "─────┼───────────────────────────────────\n",
       "   1 │ NULL                         1382\n",
       "   2 │ [Diet Coke]                   159\n",
       "   3 │ [Coke]                        143"
      ]
     },
     "metadata": {},
     "output_type": "display_data"
    }
   ],
   "source": [
    "most_ordered_cd = sort(\n",
    "    combine(\n",
    "        groupby(\n",
    "            chipo, :choice_description\n",
    "        ), :quantity => sum => \"total_ordered\"\n",
    "    ), :total_ordered, rev=true\n",
    ")\n",
    "\n",
    "first(most_ordered_cd, 3)"
   ]
  },
  {
   "cell_type": "markdown",
   "metadata": {},
   "source": [
    "### Step 11. How many items were orderd in total?"
   ]
  },
  {
   "cell_type": "code",
   "execution_count": 10,
   "metadata": {
    "collapsed": false
   },
   "outputs": [
    {
     "name": "stdout",
     "output_type": "stream",
     "text": [
      "total_items_ordered = 4972\n"
     ]
    }
   ],
   "source": [
    "total_items_ordered = sum(chipo[!, :quantity])\n",
    "@show total_items_ordered;"
   ]
  },
  {
   "cell_type": "markdown",
   "metadata": {},
   "source": [
    "### Step 12. Turn the item price into a float"
   ]
  },
  {
   "cell_type": "markdown",
   "metadata": {},
   "source": [
    "#### Step 12.a. Check the item price type"
   ]
  },
  {
   "cell_type": "code",
   "execution_count": 11,
   "metadata": {
    "collapsed": false
   },
   "outputs": [
    {
     "data": {
      "text/plain": [
       "PooledVector{String7, UInt32, Vector{UInt32}}\u001b[90m (alias for \u001b[39m\u001b[90mPooledArrays.PooledArray{String7, UInt32, 1, Array{UInt32, 1}}\u001b[39m\u001b[90m)\u001b[39m"
      ]
     },
     "metadata": {},
     "output_type": "display_data"
    }
   ],
   "source": [
    "typeof(chipo[!, \"item_price\"])"
   ]
  },
  {
   "cell_type": "markdown",
   "metadata": {},
   "source": [
    "#### Step 12.b. Change the type of item price to Float64"
   ]
  },
  {
   "cell_type": "code",
   "execution_count": 12,
   "metadata": {
    "collapsed": true
   },
   "outputs": [],
   "source": [
    "chipo[!, \"item_price\"] = strip.(chipo[!, \"item_price\"], '$')\n",
    "chipo[!, \"item_price\"] = strip.(chipo[!, \"item_price\"], ' ')\n",
    "chipo[!, \"item_price\"] = parse.(Float64, chipo[!, \"item_price\"]);"
   ]
  },
  {
   "cell_type": "markdown",
   "metadata": {},
   "source": [
    "#### Step 12.c. Check the item price type"
   ]
  },
  {
   "cell_type": "code",
   "execution_count": 13,
   "metadata": {
    "collapsed": false
   },
   "outputs": [
    {
     "data": {
      "text/plain": [
       "Vector{Float64}\u001b[90m (alias for \u001b[39m\u001b[90mArray{Float64, 1}\u001b[39m\u001b[90m)\u001b[39m"
      ]
     },
     "metadata": {},
     "output_type": "display_data"
    }
   ],
   "source": [
    "typeof(chipo[!, \"item_price\"])"
   ]
  },
  {
   "cell_type": "markdown",
   "metadata": {},
   "source": [
    "### Step 13. How much was the revenue for the period in the dataset?"
   ]
  },
  {
   "cell_type": "code",
   "execution_count": 14,
   "metadata": {
    "collapsed": false
   },
   "outputs": [
    {
     "name": "stdout",
     "output_type": "stream",
     "text": [
      "total_revenue = 39237.02\n"
     ]
    }
   ],
   "source": [
    "total_revenue = sum(chipo[!, :quantity] .* chipo[!, :item_price])\n",
    "@show total_revenue;"
   ]
  },
  {
   "cell_type": "markdown",
   "metadata": {},
   "source": [
    "### Step 14. How many orders were made in the period?"
   ]
  },
  {
   "cell_type": "code",
   "execution_count": 15,
   "metadata": {},
   "outputs": [
    {
     "data": {
      "text/plain": [
       "1834"
      ]
     },
     "metadata": {},
     "output_type": "display_data"
    }
   ],
   "source": [
    "total_orders = combine(\n",
    "    groupby(\n",
    "        chipo, :order_id\n",
    "    ), nrow => :total_orders\n",
    ")\n",
    "\n",
    "total_orders = size(total_orders, 1)"
   ]
  },
  {
   "cell_type": "markdown",
   "metadata": {},
   "source": [
    "### Step 15. What is the average revenue amount per order?"
   ]
  },
  {
   "cell_type": "code",
   "execution_count": 56,
   "metadata": {
    "collapsed": false
   },
   "outputs": [
    {
     "name": "stdout",
     "output_type": "stream",
     "text": [
      "average_revenue = 21.39423118865868\n"
     ]
    }
   ],
   "source": [
    "# Solution 1\n",
    "using Statistics\n",
    "\n",
    "chipo[!, \"revenue\"] = chipo[!, :quantity] .* chipo[!, :item_price]\n",
    "grouped = combine(\n",
    "    groupby(\n",
    "        chipo, :order_id\n",
    "    ), \"revenue\" => sum => :revenue_sum\n",
    ")\n",
    "average_revenue = mean(grouped[!, :revenue_sum])\n",
    "@show average_revenue;"
   ]
  },
  {
   "cell_type": "markdown",
   "metadata": {},
   "source": [
    "### Step 16. How many different items are sold?"
   ]
  },
  {
   "cell_type": "code",
   "execution_count": 46,
   "metadata": {
    "collapsed": false
   },
   "outputs": [
    {
     "name": "stdout",
     "output_type": "stream",
     "text": [
      "n_different_items_sold = 50\n"
     ]
    }
   ],
   "source": [
    "n_different_items_sold = length(unique(chipo[!, \"item_name\"]))\n",
    "@show n_different_items_sold;"
   ]
  }
 ],
 "metadata": {
  "anaconda-cloud": {},
  "kernelspec": {
   "display_name": "Julia 1.10.3",
   "language": "julia",
   "name": "julia-1.10"
  },
  "language_info": {
   "file_extension": ".jl",
   "mimetype": "application/julia",
   "name": "julia",
   "version": "1.10.3"
  }
 },
 "nbformat": 4,
 "nbformat_minor": 0
}
