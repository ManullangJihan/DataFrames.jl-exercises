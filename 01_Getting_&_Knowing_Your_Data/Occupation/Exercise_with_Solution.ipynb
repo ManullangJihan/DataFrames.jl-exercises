{
 "cells": [
  {
   "cell_type": "markdown",
   "metadata": {},
   "source": [
    "# Ex3 - Getting and Knowing your Data"
   ]
  },
  {
   "cell_type": "markdown",
   "metadata": {},
   "source": [
    "This time we are going to pull data directly from the internet.\n",
    "Special thanks to: https://github.com/justmarkham for sharing the dataset and materials.\n",
    "\n",
    "### Step 1. Import the necessary libraries"
   ]
  },
  {
   "cell_type": "code",
   "execution_count": null,
   "metadata": {},
   "outputs": [],
   "source": [
    "using DotEnv\n",
    "using Pkg\n",
    "\n",
    "DotEnv.load!()\n",
    "path = ENV[\"ENV_PATH\"]\n",
    "Pkg.activate(path)\n",
    "\n",
    "using CSV\n",
    "using DataFrames\n",
    "using Downloads"
   ]
  },
  {
   "cell_type": "markdown",
   "metadata": {},
   "source": [
    "### Step 2. Import the dataset from this [address](https://raw.githubusercontent.com/justmarkham/DAT8/master/data/u.user). "
   ]
  },
  {
   "cell_type": "code",
   "execution_count": 2,
   "metadata": {},
   "outputs": [
    {
     "data": {
      "text/plain": [
       "\"/tmp/jl_u5INuH0FI1\""
      ]
     },
     "metadata": {},
     "output_type": "display_data"
    }
   ],
   "source": [
    "file = Downloads.download(\"https://raw.githubusercontent.com/justmarkham/DAT8/master/data/u.user\")"
   ]
  },
  {
   "cell_type": "markdown",
   "metadata": {},
   "source": [
    "### Step 3. Assign it to a variable called users"
   ]
  },
  {
   "cell_type": "code",
   "execution_count": 3,
   "metadata": {
    "collapsed": false
   },
   "outputs": [],
   "source": [
    "users = CSV.read(file, DataFrame, delim=\"|\");"
   ]
  },
  {
   "cell_type": "markdown",
   "metadata": {},
   "source": [
    "### Step 4. See the first 25 entries"
   ]
  },
  {
   "cell_type": "code",
   "execution_count": 4,
   "metadata": {
    "collapsed": false,
    "scrolled": true
   },
   "outputs": [
    {
     "data": {
      "text/html": [
       "<div><div style = \"float: left;\"><span>25×5 DataFrame</span></div><div style = \"clear: both;\"></div></div><div class = \"data-frame\" style = \"overflow-x: scroll;\"><table class = \"data-frame\" style = \"margin-bottom: 6px;\"><thead><tr class = \"header\"><th class = \"rowNumber\" style = \"font-weight: bold; text-align: right;\">Row</th><th style = \"text-align: left;\">user_id</th><th style = \"text-align: left;\">age</th><th style = \"text-align: left;\">gender</th><th style = \"text-align: left;\">occupation</th><th style = \"text-align: left;\">zip_code</th></tr><tr class = \"subheader headerLastRow\"><th class = \"rowNumber\" style = \"font-weight: bold; text-align: right;\"></th><th title = \"Int64\" style = \"text-align: left;\">Int64</th><th title = \"Int64\" style = \"text-align: left;\">Int64</th><th title = \"String1\" style = \"text-align: left;\">String1</th><th title = \"String15\" style = \"text-align: left;\">String15</th><th title = \"String7\" style = \"text-align: left;\">String7</th></tr></thead><tbody><tr><td class = \"rowNumber\" style = \"font-weight: bold; text-align: right;\">1</td><td style = \"text-align: right;\">1</td><td style = \"text-align: right;\">24</td><td style = \"text-align: left;\">M</td><td style = \"text-align: left;\">technician</td><td style = \"text-align: left;\">85711</td></tr><tr><td class = \"rowNumber\" style = \"font-weight: bold; text-align: right;\">2</td><td style = \"text-align: right;\">2</td><td style = \"text-align: right;\">53</td><td style = \"text-align: left;\">F</td><td style = \"text-align: left;\">other</td><td style = \"text-align: left;\">94043</td></tr><tr><td class = \"rowNumber\" style = \"font-weight: bold; text-align: right;\">3</td><td style = \"text-align: right;\">3</td><td style = \"text-align: right;\">23</td><td style = \"text-align: left;\">M</td><td style = \"text-align: left;\">writer</td><td style = \"text-align: left;\">32067</td></tr><tr><td class = \"rowNumber\" style = \"font-weight: bold; text-align: right;\">4</td><td style = \"text-align: right;\">4</td><td style = \"text-align: right;\">24</td><td style = \"text-align: left;\">M</td><td style = \"text-align: left;\">technician</td><td style = \"text-align: left;\">43537</td></tr><tr><td class = \"rowNumber\" style = \"font-weight: bold; text-align: right;\">5</td><td style = \"text-align: right;\">5</td><td style = \"text-align: right;\">33</td><td style = \"text-align: left;\">F</td><td style = \"text-align: left;\">other</td><td style = \"text-align: left;\">15213</td></tr><tr><td class = \"rowNumber\" style = \"font-weight: bold; text-align: right;\">6</td><td style = \"text-align: right;\">6</td><td style = \"text-align: right;\">42</td><td style = \"text-align: left;\">M</td><td style = \"text-align: left;\">executive</td><td style = \"text-align: left;\">98101</td></tr><tr><td class = \"rowNumber\" style = \"font-weight: bold; text-align: right;\">7</td><td style = \"text-align: right;\">7</td><td style = \"text-align: right;\">57</td><td style = \"text-align: left;\">M</td><td style = \"text-align: left;\">administrator</td><td style = \"text-align: left;\">91344</td></tr><tr><td class = \"rowNumber\" style = \"font-weight: bold; text-align: right;\">8</td><td style = \"text-align: right;\">8</td><td style = \"text-align: right;\">36</td><td style = \"text-align: left;\">M</td><td style = \"text-align: left;\">administrator</td><td style = \"text-align: left;\">05201</td></tr><tr><td class = \"rowNumber\" style = \"font-weight: bold; text-align: right;\">9</td><td style = \"text-align: right;\">9</td><td style = \"text-align: right;\">29</td><td style = \"text-align: left;\">M</td><td style = \"text-align: left;\">student</td><td style = \"text-align: left;\">01002</td></tr><tr><td class = \"rowNumber\" style = \"font-weight: bold; text-align: right;\">10</td><td style = \"text-align: right;\">10</td><td style = \"text-align: right;\">53</td><td style = \"text-align: left;\">M</td><td style = \"text-align: left;\">lawyer</td><td style = \"text-align: left;\">90703</td></tr><tr><td class = \"rowNumber\" style = \"font-weight: bold; text-align: right;\">11</td><td style = \"text-align: right;\">11</td><td style = \"text-align: right;\">39</td><td style = \"text-align: left;\">F</td><td style = \"text-align: left;\">other</td><td style = \"text-align: left;\">30329</td></tr><tr><td class = \"rowNumber\" style = \"font-weight: bold; text-align: right;\">12</td><td style = \"text-align: right;\">12</td><td style = \"text-align: right;\">28</td><td style = \"text-align: left;\">F</td><td style = \"text-align: left;\">other</td><td style = \"text-align: left;\">06405</td></tr><tr><td class = \"rowNumber\" style = \"font-weight: bold; text-align: right;\">13</td><td style = \"text-align: right;\">13</td><td style = \"text-align: right;\">47</td><td style = \"text-align: left;\">M</td><td style = \"text-align: left;\">educator</td><td style = \"text-align: left;\">29206</td></tr><tr><td class = \"rowNumber\" style = \"font-weight: bold; text-align: right;\">14</td><td style = \"text-align: right;\">14</td><td style = \"text-align: right;\">45</td><td style = \"text-align: left;\">M</td><td style = \"text-align: left;\">scientist</td><td style = \"text-align: left;\">55106</td></tr><tr><td class = \"rowNumber\" style = \"font-weight: bold; text-align: right;\">15</td><td style = \"text-align: right;\">15</td><td style = \"text-align: right;\">49</td><td style = \"text-align: left;\">F</td><td style = \"text-align: left;\">educator</td><td style = \"text-align: left;\">97301</td></tr><tr><td class = \"rowNumber\" style = \"font-weight: bold; text-align: right;\">16</td><td style = \"text-align: right;\">16</td><td style = \"text-align: right;\">21</td><td style = \"text-align: left;\">M</td><td style = \"text-align: left;\">entertainment</td><td style = \"text-align: left;\">10309</td></tr><tr><td class = \"rowNumber\" style = \"font-weight: bold; text-align: right;\">17</td><td style = \"text-align: right;\">17</td><td style = \"text-align: right;\">30</td><td style = \"text-align: left;\">M</td><td style = \"text-align: left;\">programmer</td><td style = \"text-align: left;\">06355</td></tr><tr><td class = \"rowNumber\" style = \"font-weight: bold; text-align: right;\">18</td><td style = \"text-align: right;\">18</td><td style = \"text-align: right;\">35</td><td style = \"text-align: left;\">F</td><td style = \"text-align: left;\">other</td><td style = \"text-align: left;\">37212</td></tr><tr><td class = \"rowNumber\" style = \"font-weight: bold; text-align: right;\">19</td><td style = \"text-align: right;\">19</td><td style = \"text-align: right;\">40</td><td style = \"text-align: left;\">M</td><td style = \"text-align: left;\">librarian</td><td style = \"text-align: left;\">02138</td></tr><tr><td class = \"rowNumber\" style = \"font-weight: bold; text-align: right;\">20</td><td style = \"text-align: right;\">20</td><td style = \"text-align: right;\">42</td><td style = \"text-align: left;\">F</td><td style = \"text-align: left;\">homemaker</td><td style = \"text-align: left;\">95660</td></tr><tr><td class = \"rowNumber\" style = \"font-weight: bold; text-align: right;\">21</td><td style = \"text-align: right;\">21</td><td style = \"text-align: right;\">26</td><td style = \"text-align: left;\">M</td><td style = \"text-align: left;\">writer</td><td style = \"text-align: left;\">30068</td></tr><tr><td class = \"rowNumber\" style = \"font-weight: bold; text-align: right;\">22</td><td style = \"text-align: right;\">22</td><td style = \"text-align: right;\">25</td><td style = \"text-align: left;\">M</td><td style = \"text-align: left;\">writer</td><td style = \"text-align: left;\">40206</td></tr><tr><td class = \"rowNumber\" style = \"font-weight: bold; text-align: right;\">23</td><td style = \"text-align: right;\">23</td><td style = \"text-align: right;\">30</td><td style = \"text-align: left;\">F</td><td style = \"text-align: left;\">artist</td><td style = \"text-align: left;\">48197</td></tr><tr><td class = \"rowNumber\" style = \"font-weight: bold; text-align: right;\">24</td><td style = \"text-align: right;\">24</td><td style = \"text-align: right;\">21</td><td style = \"text-align: left;\">F</td><td style = \"text-align: left;\">artist</td><td style = \"text-align: left;\">94533</td></tr><tr><td class = \"rowNumber\" style = \"font-weight: bold; text-align: right;\">25</td><td style = \"text-align: right;\">25</td><td style = \"text-align: right;\">39</td><td style = \"text-align: left;\">M</td><td style = \"text-align: left;\">engineer</td><td style = \"text-align: left;\">55107</td></tr></tbody></table></div>"
      ],
      "text/latex": [
       "\\begin{tabular}{r|ccccc}\n",
       "\t& user\\_id & age & gender & occupation & zip\\_code\\\\\n",
       "\t\\hline\n",
       "\t& Int64 & Int64 & String1 & String15 & String7\\\\\n",
       "\t\\hline\n",
       "\t1 & 1 & 24 & M & technician & 85711 \\\\\n",
       "\t2 & 2 & 53 & F & other & 94043 \\\\\n",
       "\t3 & 3 & 23 & M & writer & 32067 \\\\\n",
       "\t4 & 4 & 24 & M & technician & 43537 \\\\\n",
       "\t5 & 5 & 33 & F & other & 15213 \\\\\n",
       "\t6 & 6 & 42 & M & executive & 98101 \\\\\n",
       "\t7 & 7 & 57 & M & administrator & 91344 \\\\\n",
       "\t8 & 8 & 36 & M & administrator & 05201 \\\\\n",
       "\t9 & 9 & 29 & M & student & 01002 \\\\\n",
       "\t10 & 10 & 53 & M & lawyer & 90703 \\\\\n",
       "\t11 & 11 & 39 & F & other & 30329 \\\\\n",
       "\t12 & 12 & 28 & F & other & 06405 \\\\\n",
       "\t13 & 13 & 47 & M & educator & 29206 \\\\\n",
       "\t14 & 14 & 45 & M & scientist & 55106 \\\\\n",
       "\t15 & 15 & 49 & F & educator & 97301 \\\\\n",
       "\t16 & 16 & 21 & M & entertainment & 10309 \\\\\n",
       "\t17 & 17 & 30 & M & programmer & 06355 \\\\\n",
       "\t18 & 18 & 35 & F & other & 37212 \\\\\n",
       "\t19 & 19 & 40 & M & librarian & 02138 \\\\\n",
       "\t20 & 20 & 42 & F & homemaker & 95660 \\\\\n",
       "\t21 & 21 & 26 & M & writer & 30068 \\\\\n",
       "\t22 & 22 & 25 & M & writer & 40206 \\\\\n",
       "\t23 & 23 & 30 & F & artist & 48197 \\\\\n",
       "\t24 & 24 & 21 & F & artist & 94533 \\\\\n",
       "\t$\\dots$ & $\\dots$ & $\\dots$ & $\\dots$ & $\\dots$ & $\\dots$ \\\\\n",
       "\\end{tabular}\n"
      ],
      "text/plain": [
       "\u001b[1m25×5 DataFrame\u001b[0m\n",
       "\u001b[1m Row \u001b[0m│\u001b[1m user_id \u001b[0m\u001b[1m age   \u001b[0m\u001b[1m gender  \u001b[0m\u001b[1m occupation    \u001b[0m\u001b[1m zip_code \u001b[0m\n",
       "     │\u001b[90m Int64   \u001b[0m\u001b[90m Int64 \u001b[0m\u001b[90m String1 \u001b[0m\u001b[90m String15      \u001b[0m\u001b[90m String7  \u001b[0m\n",
       "─────┼──────────────────────────────────────────────────\n",
       "   1 │       1     24  M        technician     85711\n",
       "   2 │       2     53  F        other          94043\n",
       "   3 │       3     23  M        writer         32067\n",
       "   4 │       4     24  M        technician     43537\n",
       "   5 │       5     33  F        other          15213\n",
       "   6 │       6     42  M        executive      98101\n",
       "   7 │       7     57  M        administrator  91344\n",
       "   8 │       8     36  M        administrator  05201\n",
       "  ⋮  │    ⋮       ⋮       ⋮           ⋮           ⋮\n",
       "  19 │      19     40  M        librarian      02138\n",
       "  20 │      20     42  F        homemaker      95660\n",
       "  21 │      21     26  M        writer         30068\n",
       "  22 │      22     25  M        writer         40206\n",
       "  23 │      23     30  F        artist         48197\n",
       "  24 │      24     21  F        artist         94533\n",
       "  25 │      25     39  M        engineer       55107\n",
       "\u001b[36m                                         10 rows omitted\u001b[0m"
      ]
     },
     "metadata": {},
     "output_type": "display_data"
    }
   ],
   "source": [
    "first(users, 25)"
   ]
  },
  {
   "cell_type": "markdown",
   "metadata": {},
   "source": [
    "### Step 5. See the last 10 entries"
   ]
  },
  {
   "cell_type": "code",
   "execution_count": 6,
   "metadata": {
    "collapsed": false,
    "scrolled": true
   },
   "outputs": [
    {
     "data": {
      "text/html": [
       "<div><div style = \"float: left;\"><span>10×5 DataFrame</span></div><div style = \"clear: both;\"></div></div><div class = \"data-frame\" style = \"overflow-x: scroll;\"><table class = \"data-frame\" style = \"margin-bottom: 6px;\"><thead><tr class = \"header\"><th class = \"rowNumber\" style = \"font-weight: bold; text-align: right;\">Row</th><th style = \"text-align: left;\">user_id</th><th style = \"text-align: left;\">age</th><th style = \"text-align: left;\">gender</th><th style = \"text-align: left;\">occupation</th><th style = \"text-align: left;\">zip_code</th></tr><tr class = \"subheader headerLastRow\"><th class = \"rowNumber\" style = \"font-weight: bold; text-align: right;\"></th><th title = \"Int64\" style = \"text-align: left;\">Int64</th><th title = \"Int64\" style = \"text-align: left;\">Int64</th><th title = \"String1\" style = \"text-align: left;\">String1</th><th title = \"String15\" style = \"text-align: left;\">String15</th><th title = \"String7\" style = \"text-align: left;\">String7</th></tr></thead><tbody><tr><td class = \"rowNumber\" style = \"font-weight: bold; text-align: right;\">1</td><td style = \"text-align: right;\">934</td><td style = \"text-align: right;\">61</td><td style = \"text-align: left;\">M</td><td style = \"text-align: left;\">engineer</td><td style = \"text-align: left;\">22902</td></tr><tr><td class = \"rowNumber\" style = \"font-weight: bold; text-align: right;\">2</td><td style = \"text-align: right;\">935</td><td style = \"text-align: right;\">42</td><td style = \"text-align: left;\">M</td><td style = \"text-align: left;\">doctor</td><td style = \"text-align: left;\">66221</td></tr><tr><td class = \"rowNumber\" style = \"font-weight: bold; text-align: right;\">3</td><td style = \"text-align: right;\">936</td><td style = \"text-align: right;\">24</td><td style = \"text-align: left;\">M</td><td style = \"text-align: left;\">other</td><td style = \"text-align: left;\">32789</td></tr><tr><td class = \"rowNumber\" style = \"font-weight: bold; text-align: right;\">4</td><td style = \"text-align: right;\">937</td><td style = \"text-align: right;\">48</td><td style = \"text-align: left;\">M</td><td style = \"text-align: left;\">educator</td><td style = \"text-align: left;\">98072</td></tr><tr><td class = \"rowNumber\" style = \"font-weight: bold; text-align: right;\">5</td><td style = \"text-align: right;\">938</td><td style = \"text-align: right;\">38</td><td style = \"text-align: left;\">F</td><td style = \"text-align: left;\">technician</td><td style = \"text-align: left;\">55038</td></tr><tr><td class = \"rowNumber\" style = \"font-weight: bold; text-align: right;\">6</td><td style = \"text-align: right;\">939</td><td style = \"text-align: right;\">26</td><td style = \"text-align: left;\">F</td><td style = \"text-align: left;\">student</td><td style = \"text-align: left;\">33319</td></tr><tr><td class = \"rowNumber\" style = \"font-weight: bold; text-align: right;\">7</td><td style = \"text-align: right;\">940</td><td style = \"text-align: right;\">32</td><td style = \"text-align: left;\">M</td><td style = \"text-align: left;\">administrator</td><td style = \"text-align: left;\">02215</td></tr><tr><td class = \"rowNumber\" style = \"font-weight: bold; text-align: right;\">8</td><td style = \"text-align: right;\">941</td><td style = \"text-align: right;\">20</td><td style = \"text-align: left;\">M</td><td style = \"text-align: left;\">student</td><td style = \"text-align: left;\">97229</td></tr><tr><td class = \"rowNumber\" style = \"font-weight: bold; text-align: right;\">9</td><td style = \"text-align: right;\">942</td><td style = \"text-align: right;\">48</td><td style = \"text-align: left;\">F</td><td style = \"text-align: left;\">librarian</td><td style = \"text-align: left;\">78209</td></tr><tr><td class = \"rowNumber\" style = \"font-weight: bold; text-align: right;\">10</td><td style = \"text-align: right;\">943</td><td style = \"text-align: right;\">22</td><td style = \"text-align: left;\">M</td><td style = \"text-align: left;\">student</td><td style = \"text-align: left;\">77841</td></tr></tbody></table></div>"
      ],
      "text/latex": [
       "\\begin{tabular}{r|ccccc}\n",
       "\t& user\\_id & age & gender & occupation & zip\\_code\\\\\n",
       "\t\\hline\n",
       "\t& Int64 & Int64 & String1 & String15 & String7\\\\\n",
       "\t\\hline\n",
       "\t1 & 934 & 61 & M & engineer & 22902 \\\\\n",
       "\t2 & 935 & 42 & M & doctor & 66221 \\\\\n",
       "\t3 & 936 & 24 & M & other & 32789 \\\\\n",
       "\t4 & 937 & 48 & M & educator & 98072 \\\\\n",
       "\t5 & 938 & 38 & F & technician & 55038 \\\\\n",
       "\t6 & 939 & 26 & F & student & 33319 \\\\\n",
       "\t7 & 940 & 32 & M & administrator & 02215 \\\\\n",
       "\t8 & 941 & 20 & M & student & 97229 \\\\\n",
       "\t9 & 942 & 48 & F & librarian & 78209 \\\\\n",
       "\t10 & 943 & 22 & M & student & 77841 \\\\\n",
       "\\end{tabular}\n"
      ],
      "text/plain": [
       "\u001b[1m10×5 DataFrame\u001b[0m\n",
       "\u001b[1m Row \u001b[0m│\u001b[1m user_id \u001b[0m\u001b[1m age   \u001b[0m\u001b[1m gender  \u001b[0m\u001b[1m occupation    \u001b[0m\u001b[1m zip_code \u001b[0m\n",
       "     │\u001b[90m Int64   \u001b[0m\u001b[90m Int64 \u001b[0m\u001b[90m String1 \u001b[0m\u001b[90m String15      \u001b[0m\u001b[90m String7  \u001b[0m\n",
       "─────┼──────────────────────────────────────────────────\n",
       "   1 │     934     61  M        engineer       22902\n",
       "   2 │     935     42  M        doctor         66221\n",
       "   3 │     936     24  M        other          32789\n",
       "   4 │     937     48  M        educator       98072\n",
       "   5 │     938     38  F        technician     55038\n",
       "   6 │     939     26  F        student        33319\n",
       "   7 │     940     32  M        administrator  02215\n",
       "   8 │     941     20  M        student        97229\n",
       "   9 │     942     48  F        librarian      78209\n",
       "  10 │     943     22  M        student        77841"
      ]
     },
     "metadata": {},
     "output_type": "display_data"
    }
   ],
   "source": [
    "last(users, 10)"
   ]
  },
  {
   "cell_type": "markdown",
   "metadata": {},
   "source": [
    "### Step 6. What is the number of observations in the dataset?"
   ]
  },
  {
   "cell_type": "code",
   "execution_count": 5,
   "metadata": {
    "collapsed": false
   },
   "outputs": [
    {
     "name": "stdout",
     "output_type": "stream",
     "text": [
      "n_observations = 943\n"
     ]
    }
   ],
   "source": [
    "n_observations = size(users, 1)\n",
    "@show n_observations;"
   ]
  },
  {
   "cell_type": "markdown",
   "metadata": {},
   "source": [
    "### Step 7. What is the number of columns in the dataset?"
   ]
  },
  {
   "cell_type": "code",
   "execution_count": 7,
   "metadata": {
    "collapsed": false
   },
   "outputs": [
    {
     "name": "stdout",
     "output_type": "stream",
     "text": [
      "n_columns = 5\n"
     ]
    }
   ],
   "source": [
    "n_columns = size(users, 2)\n",
    "@show n_columns;"
   ]
  },
  {
   "cell_type": "markdown",
   "metadata": {},
   "source": [
    "### Step 8. Print the name of all the columns."
   ]
  },
  {
   "cell_type": "code",
   "execution_count": 9,
   "metadata": {
    "collapsed": false
   },
   "outputs": [
    {
     "name": "stdout",
     "output_type": "stream",
     "text": [
      "column_names = [\"user_id\", \"age\", \"gender\", \"occupation\", \"zip_code\"]\n"
     ]
    },
    {
     "data": {
      "text/plain": [
       "5-element Vector{String}:\n",
       " \"user_id\"\n",
       " \"age\"\n",
       " \"gender\"\n",
       " \"occupation\"\n",
       " \"zip_code\""
      ]
     },
     "metadata": {},
     "output_type": "display_data"
    }
   ],
   "source": [
    "column_names = names(users)\n",
    "@show column_names"
   ]
  },
  {
   "cell_type": "markdown",
   "metadata": {},
   "source": [
    "### Step 9. What is the data type of each column?"
   ]
  },
  {
   "cell_type": "code",
   "execution_count": 10,
   "metadata": {
    "collapsed": false
   },
   "outputs": [
    {
     "data": {
      "text/plain": [
       "5-element Vector{DataType}:\n",
       " Int64\n",
       " Int64\n",
       " String1\n",
       " String15\n",
       " String7"
      ]
     },
     "metadata": {},
     "output_type": "display_data"
    }
   ],
   "source": [
    "eltype.(eachcol(users))"
   ]
  },
  {
   "cell_type": "markdown",
   "metadata": {},
   "source": [
    "### Step 10. Print only the occupation column"
   ]
  },
  {
   "cell_type": "code",
   "execution_count": 10,
   "metadata": {
    "collapsed": false
   },
   "outputs": [
    {
     "data": {
      "text/plain": [
       "943-element PooledArrays.PooledVector{String15, UInt32, Vector{UInt32}}:\n",
       " \"technician\"\n",
       " \"other\"\n",
       " \"writer\"\n",
       " \"technician\"\n",
       " \"other\"\n",
       " \"executive\"\n",
       " \"administrator\"\n",
       " \"administrator\"\n",
       " \"student\"\n",
       " \"lawyer\"\n",
       " ⋮\n",
       " \"doctor\"\n",
       " \"other\"\n",
       " \"educator\"\n",
       " \"technician\"\n",
       " \"student\"\n",
       " \"administrator\"\n",
       " \"student\"\n",
       " \"librarian\"\n",
       " \"student\""
      ]
     },
     "metadata": {},
     "output_type": "display_data"
    }
   ],
   "source": [
    "users[!, :occupation]"
   ]
  },
  {
   "cell_type": "markdown",
   "metadata": {},
   "source": [
    "### Step 11. How many different occupations are in this dataset?"
   ]
  },
  {
   "cell_type": "code",
   "execution_count": 12,
   "metadata": {
    "collapsed": false
   },
   "outputs": [
    {
     "name": "stdout",
     "output_type": "stream",
     "text": [
      "n_different_occupations = 21\n"
     ]
    }
   ],
   "source": [
    "n_different_occupations = length(unique(users[!, :occupation]))\n",
    "@show n_different_occupations;"
   ]
  },
  {
   "cell_type": "markdown",
   "metadata": {},
   "source": [
    "### Step 12. What is the most frequent occupation?"
   ]
  },
  {
   "cell_type": "code",
   "execution_count": 14,
   "metadata": {
    "collapsed": false
   },
   "outputs": [
    {
     "data": {
      "text/html": [
       "<div><div style = \"float: left;\"><span>DataFrameRow (2 columns)</span></div><div style = \"clear: both;\"></div></div><div class = \"data-frame\" style = \"overflow-x: scroll;\"><table class = \"data-frame\" style = \"margin-bottom: 6px;\"><thead><tr class = \"header\"><th class = \"rowLabel\" style = \"font-weight: bold; text-align: right;\">Row</th><th style = \"text-align: left;\">occupation</th><th style = \"text-align: left;\">nrow</th></tr><tr class = \"subheader headerLastRow\"><th class = \"rowLabel\" style = \"font-weight: bold; text-align: right;\"></th><th title = \"String15\" style = \"text-align: left;\">String15</th><th title = \"Int64\" style = \"text-align: left;\">Int64</th></tr></thead><tbody><tr><td class = \"rowLabel\" style = \"font-weight: bold; text-align: right;\">1</td><td style = \"text-align: left;\">student</td><td style = \"text-align: right;\">196</td></tr></tbody></table></div>"
      ],
      "text/latex": [
       "\\begin{tabular}{r|cc}\n",
       "\t& occupation & nrow\\\\\n",
       "\t\\hline\n",
       "\t& String15 & Int64\\\\\n",
       "\t\\hline\n",
       "\t1 & student & 196 \\\\\n",
       "\\end{tabular}\n"
      ],
      "text/plain": [
       "\u001b[1mDataFrameRow\u001b[0m\n",
       "\u001b[1m Row \u001b[0m│\u001b[1m occupation \u001b[0m\u001b[1m nrow  \u001b[0m\n",
       "     │\u001b[90m String15   \u001b[0m\u001b[90m Int64 \u001b[0m\n",
       "─────┼───────────────────\n",
       "   1 │ student       196"
      ]
     },
     "metadata": {},
     "output_type": "display_data"
    }
   ],
   "source": [
    "function value_counts(df::DataFrame, col::Union{String, Symbol}, rev::Bool=true)\n",
    "    grouped_df = combine(groupby(df, col), nrow)\n",
    "    sorted_grouped_df = sort(grouped_df, :nrow, rev=rev)\n",
    "    return sorted_grouped_df\n",
    "end\n",
    "\n",
    "value_counts(users, :occupation)[1, :]"
   ]
  },
  {
   "cell_type": "markdown",
   "metadata": {},
   "source": [
    "### Step 13. Summarize the DataFrame."
   ]
  },
  {
   "cell_type": "code",
   "execution_count": 15,
   "metadata": {
    "collapsed": false
   },
   "outputs": [
    {
     "data": {
      "text/html": [
       "<div><div style = \"float: left;\"><span>5×7 DataFrame</span></div><div style = \"clear: both;\"></div></div><div class = \"data-frame\" style = \"overflow-x: scroll;\"><table class = \"data-frame\" style = \"margin-bottom: 6px;\"><thead><tr class = \"header\"><th class = \"rowNumber\" style = \"font-weight: bold; text-align: right;\">Row</th><th style = \"text-align: left;\">variable</th><th style = \"text-align: left;\">mean</th><th style = \"text-align: left;\">min</th><th style = \"text-align: left;\">median</th><th style = \"text-align: left;\">max</th><th style = \"text-align: left;\">nmissing</th><th style = \"text-align: left;\">eltype</th></tr><tr class = \"subheader headerLastRow\"><th class = \"rowNumber\" style = \"font-weight: bold; text-align: right;\"></th><th title = \"Symbol\" style = \"text-align: left;\">Symbol</th><th title = \"Union{Nothing, Float64}\" style = \"text-align: left;\">Union…</th><th title = \"Any\" style = \"text-align: left;\">Any</th><th title = \"Union{Nothing, Float64}\" style = \"text-align: left;\">Union…</th><th title = \"Any\" style = \"text-align: left;\">Any</th><th title = \"Int64\" style = \"text-align: left;\">Int64</th><th title = \"DataType\" style = \"text-align: left;\">DataType</th></tr></thead><tbody><tr><td class = \"rowNumber\" style = \"font-weight: bold; text-align: right;\">1</td><td style = \"text-align: left;\">user_id</td><td style = \"text-align: left;\">472.0</td><td style = \"text-align: left;\">1</td><td style = \"text-align: left;\">472.0</td><td style = \"text-align: left;\">943</td><td style = \"text-align: right;\">0</td><td style = \"text-align: left;\">Int64</td></tr><tr><td class = \"rowNumber\" style = \"font-weight: bold; text-align: right;\">2</td><td style = \"text-align: left;\">age</td><td style = \"text-align: left;\">34.052</td><td style = \"text-align: left;\">7</td><td style = \"text-align: left;\">31.0</td><td style = \"text-align: left;\">73</td><td style = \"text-align: right;\">0</td><td style = \"text-align: left;\">Int64</td></tr><tr><td class = \"rowNumber\" style = \"font-weight: bold; text-align: right;\">3</td><td style = \"text-align: left;\">gender</td><td style = \"font-style: italic; text-align: left;\"></td><td style = \"text-align: left;\">F</td><td style = \"font-style: italic; text-align: left;\"></td><td style = \"text-align: left;\">M</td><td style = \"text-align: right;\">0</td><td style = \"text-align: left;\">String1</td></tr><tr><td class = \"rowNumber\" style = \"font-weight: bold; text-align: right;\">4</td><td style = \"text-align: left;\">occupation</td><td style = \"font-style: italic; text-align: left;\"></td><td style = \"text-align: left;\">administrator</td><td style = \"font-style: italic; text-align: left;\"></td><td style = \"text-align: left;\">writer</td><td style = \"text-align: right;\">0</td><td style = \"text-align: left;\">String15</td></tr><tr><td class = \"rowNumber\" style = \"font-weight: bold; text-align: right;\">5</td><td style = \"text-align: left;\">zip_code</td><td style = \"font-style: italic; text-align: left;\"></td><td style = \"text-align: left;\">00000</td><td style = \"font-style: italic; text-align: left;\"></td><td style = \"text-align: left;\">Y1A6B</td><td style = \"text-align: right;\">0</td><td style = \"text-align: left;\">String7</td></tr></tbody></table></div>"
      ],
      "text/latex": [
       "\\begin{tabular}{r|ccccccc}\n",
       "\t& variable & mean & min & median & max & nmissing & eltype\\\\\n",
       "\t\\hline\n",
       "\t& Symbol & Union… & Any & Union… & Any & Int64 & DataType\\\\\n",
       "\t\\hline\n",
       "\t1 & user\\_id & 472.0 & 1 & 472.0 & 943 & 0 & Int64 \\\\\n",
       "\t2 & age & 34.052 & 7 & 31.0 & 73 & 0 & Int64 \\\\\n",
       "\t3 & gender &  & F &  & M & 0 & String1 \\\\\n",
       "\t4 & occupation &  & administrator &  & writer & 0 & String15 \\\\\n",
       "\t5 & zip\\_code &  & 00000 &  & Y1A6B & 0 & String7 \\\\\n",
       "\\end{tabular}\n"
      ],
      "text/plain": [
       "\u001b[1m5×7 DataFrame\u001b[0m\n",
       "\u001b[1m Row \u001b[0m│\u001b[1m variable   \u001b[0m\u001b[1m mean   \u001b[0m\u001b[1m min           \u001b[0m\u001b[1m median \u001b[0m\u001b[1m max    \u001b[0m\u001b[1m nmissing \u001b[0m\u001b[1m eltype   \u001b[0m\n",
       "     │\u001b[90m Symbol     \u001b[0m\u001b[90m Union… \u001b[0m\u001b[90m Any           \u001b[0m\u001b[90m Union… \u001b[0m\u001b[90m Any    \u001b[0m\u001b[90m Int64    \u001b[0m\u001b[90m DataType \u001b[0m\n",
       "─────┼───────────────────────────────────────────────────────────────────────\n",
       "   1 │ user_id     472.0   1              472.0   943            0  Int64\n",
       "   2 │ age         34.052  7              31.0    73             0  Int64\n",
       "   3 │ gender     \u001b[90m        \u001b[0m F             \u001b[90m        \u001b[0m M              0  String1\n",
       "   4 │ occupation \u001b[90m        \u001b[0m administrator \u001b[90m        \u001b[0m writer         0  String15\n",
       "   5 │ zip_code   \u001b[90m        \u001b[0m 00000         \u001b[90m        \u001b[0m Y1A6B          0  String7"
      ]
     },
     "metadata": {},
     "output_type": "display_data"
    }
   ],
   "source": [
    "describe(users)"
   ]
  },
  {
   "cell_type": "markdown",
   "metadata": {},
   "source": [
    "### Step 14. Summarize only the occupation column"
   ]
  },
  {
   "cell_type": "code",
   "execution_count": 16,
   "metadata": {
    "collapsed": false
   },
   "outputs": [
    {
     "data": {
      "text/html": [
       "<div><div style = \"float: left;\"><span>1×7 DataFrame</span></div><div style = \"clear: both;\"></div></div><div class = \"data-frame\" style = \"overflow-x: scroll;\"><table class = \"data-frame\" style = \"margin-bottom: 6px;\"><thead><tr class = \"header\"><th class = \"rowNumber\" style = \"font-weight: bold; text-align: right;\">Row</th><th style = \"text-align: left;\">variable</th><th style = \"text-align: left;\">mean</th><th style = \"text-align: left;\">min</th><th style = \"text-align: left;\">median</th><th style = \"text-align: left;\">max</th><th style = \"text-align: left;\">nmissing</th><th style = \"text-align: left;\">eltype</th></tr><tr class = \"subheader headerLastRow\"><th class = \"rowNumber\" style = \"font-weight: bold; text-align: right;\"></th><th title = \"Symbol\" style = \"text-align: left;\">Symbol</th><th title = \"Nothing\" style = \"text-align: left;\">Nothing</th><th title = \"String15\" style = \"text-align: left;\">String15</th><th title = \"Nothing\" style = \"text-align: left;\">Nothing</th><th title = \"String15\" style = \"text-align: left;\">String15</th><th title = \"Int64\" style = \"text-align: left;\">Int64</th><th title = \"DataType\" style = \"text-align: left;\">DataType</th></tr></thead><tbody><tr><td class = \"rowNumber\" style = \"font-weight: bold; text-align: right;\">1</td><td style = \"text-align: left;\">occupation</td><td style = \"font-style: italic; text-align: left;\"></td><td style = \"text-align: left;\">administrator</td><td style = \"font-style: italic; text-align: left;\"></td><td style = \"text-align: left;\">writer</td><td style = \"text-align: right;\">0</td><td style = \"text-align: left;\">String15</td></tr></tbody></table></div>"
      ],
      "text/latex": [
       "\\begin{tabular}{r|ccccccc}\n",
       "\t& variable & mean & min & median & max & nmissing & eltype\\\\\n",
       "\t\\hline\n",
       "\t& Symbol & Nothing & String15 & Nothing & String15 & Int64 & DataType\\\\\n",
       "\t\\hline\n",
       "\t1 & occupation &  & administrator &  & writer & 0 & String15 \\\\\n",
       "\\end{tabular}\n"
      ],
      "text/plain": [
       "\u001b[1m1×7 DataFrame\u001b[0m\n",
       "\u001b[1m Row \u001b[0m│\u001b[1m variable   \u001b[0m\u001b[1m mean    \u001b[0m\u001b[1m min           \u001b[0m\u001b[1m median  \u001b[0m\u001b[1m max      \u001b[0m\u001b[1m nmissing \u001b[0m\u001b[1m eltype\u001b[0m ⋯\n",
       "     │\u001b[90m Symbol     \u001b[0m\u001b[90m Nothing \u001b[0m\u001b[90m String15      \u001b[0m\u001b[90m Nothing \u001b[0m\u001b[90m String15 \u001b[0m\u001b[90m Int64    \u001b[0m\u001b[90m DataTy\u001b[0m ⋯\n",
       "─────┼──────────────────────────────────────────────────────────────────────────\n",
       "   1 │ occupation \u001b[90m         \u001b[0m administrator \u001b[90m         \u001b[0m writer           0  String ⋯\n",
       "\u001b[36m                                                                1 column omitted\u001b[0m"
      ]
     },
     "metadata": {},
     "output_type": "display_data"
    }
   ],
   "source": [
    "describe(users, cols=:occupation)"
   ]
  },
  {
   "cell_type": "markdown",
   "metadata": {},
   "source": [
    "### Step 15. What is the mean age of users?"
   ]
  },
  {
   "cell_type": "code",
   "execution_count": 19,
   "metadata": {
    "collapsed": false
   },
   "outputs": [
    {
     "name": "stdout",
     "output_type": "stream",
     "text": [
      "user_mean_age = 34.05\n"
     ]
    }
   ],
   "source": [
    "using Statistics\n",
    "\n",
    "user_mean_age = round(mean(users[!, :age]), digits=2)\n",
    "@show user_mean_age;"
   ]
  },
  {
   "cell_type": "markdown",
   "metadata": {},
   "source": [
    "### Step 16. What is the age with least occurrence?"
   ]
  },
  {
   "cell_type": "code",
   "execution_count": 22,
   "metadata": {
    "collapsed": false
   },
   "outputs": [
    {
     "data": {
      "text/html": [
       "<div><div style = \"float: left;\"><span>10×2 DataFrame</span></div><div style = \"clear: both;\"></div></div><div class = \"data-frame\" style = \"overflow-x: scroll;\"><table class = \"data-frame\" style = \"margin-bottom: 6px;\"><thead><tr class = \"header\"><th class = \"rowNumber\" style = \"font-weight: bold; text-align: right;\">Row</th><th style = \"text-align: left;\">age</th><th style = \"text-align: left;\">nrow</th></tr><tr class = \"subheader headerLastRow\"><th class = \"rowNumber\" style = \"font-weight: bold; text-align: right;\"></th><th title = \"Int64\" style = \"text-align: left;\">Int64</th><th title = \"Int64\" style = \"text-align: left;\">Int64</th></tr></thead><tbody><tr><td class = \"rowNumber\" style = \"font-weight: bold; text-align: right;\">1</td><td style = \"text-align: right;\">7</td><td style = \"text-align: right;\">1</td></tr><tr><td class = \"rowNumber\" style = \"font-weight: bold; text-align: right;\">2</td><td style = \"text-align: right;\">10</td><td style = \"text-align: right;\">1</td></tr><tr><td class = \"rowNumber\" style = \"font-weight: bold; text-align: right;\">3</td><td style = \"text-align: right;\">11</td><td style = \"text-align: right;\">1</td></tr><tr><td class = \"rowNumber\" style = \"font-weight: bold; text-align: right;\">4</td><td style = \"text-align: right;\">66</td><td style = \"text-align: right;\">1</td></tr><tr><td class = \"rowNumber\" style = \"font-weight: bold; text-align: right;\">5</td><td style = \"text-align: right;\">73</td><td style = \"text-align: right;\">1</td></tr><tr><td class = \"rowNumber\" style = \"font-weight: bold; text-align: right;\">6</td><td style = \"text-align: right;\">62</td><td style = \"text-align: right;\">2</td></tr><tr><td class = \"rowNumber\" style = \"font-weight: bold; text-align: right;\">7</td><td style = \"text-align: right;\">64</td><td style = \"text-align: right;\">2</td></tr><tr><td class = \"rowNumber\" style = \"font-weight: bold; text-align: right;\">8</td><td style = \"text-align: right;\">68</td><td style = \"text-align: right;\">2</td></tr><tr><td class = \"rowNumber\" style = \"font-weight: bold; text-align: right;\">9</td><td style = \"text-align: right;\">69</td><td style = \"text-align: right;\">2</td></tr><tr><td class = \"rowNumber\" style = \"font-weight: bold; text-align: right;\">10</td><td style = \"text-align: right;\">14</td><td style = \"text-align: right;\">3</td></tr></tbody></table></div>"
      ],
      "text/latex": [
       "\\begin{tabular}{r|cc}\n",
       "\t& age & nrow\\\\\n",
       "\t\\hline\n",
       "\t& Int64 & Int64\\\\\n",
       "\t\\hline\n",
       "\t1 & 7 & 1 \\\\\n",
       "\t2 & 10 & 1 \\\\\n",
       "\t3 & 11 & 1 \\\\\n",
       "\t4 & 66 & 1 \\\\\n",
       "\t5 & 73 & 1 \\\\\n",
       "\t6 & 62 & 2 \\\\\n",
       "\t7 & 64 & 2 \\\\\n",
       "\t8 & 68 & 2 \\\\\n",
       "\t9 & 69 & 2 \\\\\n",
       "\t10 & 14 & 3 \\\\\n",
       "\\end{tabular}\n"
      ],
      "text/plain": [
       "\u001b[1m10×2 DataFrame\u001b[0m\n",
       "\u001b[1m Row \u001b[0m│\u001b[1m age   \u001b[0m\u001b[1m nrow  \u001b[0m\n",
       "     │\u001b[90m Int64 \u001b[0m\u001b[90m Int64 \u001b[0m\n",
       "─────┼──────────────\n",
       "   1 │     7      1\n",
       "   2 │    10      1\n",
       "   3 │    11      1\n",
       "   4 │    66      1\n",
       "   5 │    73      1\n",
       "   6 │    62      2\n",
       "   7 │    64      2\n",
       "   8 │    68      2\n",
       "   9 │    69      2\n",
       "  10 │    14      3"
      ]
     },
     "metadata": {},
     "output_type": "display_data"
    }
   ],
   "source": [
    "value_counts(users, :age, false)[1:10, :]"
   ]
  }
 ],
 "metadata": {
  "anaconda-cloud": {},
  "kernelspec": {
   "display_name": "Julia 1.10.3",
   "language": "julia",
   "name": "julia-1.10"
  },
  "language_info": {
   "file_extension": ".jl",
   "mimetype": "application/julia",
   "name": "julia",
   "version": "1.10.3"
  }
 },
 "nbformat": 4,
 "nbformat_minor": 0
}
