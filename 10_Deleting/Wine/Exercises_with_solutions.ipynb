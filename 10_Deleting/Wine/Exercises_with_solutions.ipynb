{
 "cells": [
  {
   "cell_type": "markdown",
   "metadata": {},
   "source": [
    "# Wine"
   ]
  },
  {
   "cell_type": "markdown",
   "metadata": {},
   "source": [
    "### Introduction:\n",
    "\n",
    "This exercise is a adaptation from the UCI Wine dataset.\n",
    "The only pupose is to practice deleting data with pandas.\n",
    "\n",
    "### Step 1. Import the necessary libraries"
   ]
  },
  {
   "cell_type": "code",
   "execution_count": null,
   "metadata": {
    "collapsed": false
   },
   "outputs": [],
   "source": [
    "using DotEnv\n",
    "using Pkg\n",
    "DotEnv.load!()\n",
    "Pkg.activate(ENV[\"ENV_PATH\"])\n",
    "\n",
    "using CSV\n",
    "using Dates\n",
    "using Downloads\n",
    "using Statistics\n",
    "using DataFrames"
   ]
  },
  {
   "cell_type": "markdown",
   "metadata": {},
   "source": [
    "### Step 2. Import the dataset from this [address](https://archive.ics.uci.edu/ml/machine-learning-databases/wine/wine.data). "
   ]
  },
  {
   "cell_type": "markdown",
   "metadata": {},
   "source": [
    "### Step 3. Assign it to a variable called wine\n",
    "\n",
    "and assign the columns as below\n",
    "\n",
    "The attributes are (donated by Riccardo Leardi, riclea '@' anchem.unige.it):  \n",
    "1. alcohol  \n",
    "2. malic_acid  \n",
    "3. alcalinity_of_ash  \n",
    "4. magnesium  \n",
    "5. flavanoids  \n",
    "6. proanthocyanins  \n",
    "7. hue "
   ]
  },
  {
   "cell_type": "code",
   "execution_count": 2,
   "metadata": {
    "collapsed": false
   },
   "outputs": [
    {
     "name": "stderr",
     "output_type": "stream",
     "text": [
      "┌ Warning: thread = 1 warning: parsed expected 7 columns, but didn't reach end of line around data row: 1. Parsing extra columns and widening final columnset\n",
      "└ @ CSV /home/hanjiya/.julia/packages/CSV/XLcqT/src/file.jl:593\n"
     ]
    },
    {
     "data": {
      "text/html": [
       "<div><div style = \"float: left;\"><span>3×14 DataFrame</span></div><div style = \"clear: both;\"></div></div><div class = \"data-frame\" style = \"overflow-x: scroll;\"><table class = \"data-frame\" style = \"margin-bottom: 6px;\"><thead><tr class = \"header\"><th class = \"rowNumber\" style = \"font-weight: bold; text-align: right;\">Row</th><th style = \"text-align: left;\">alcohol</th><th style = \"text-align: left;\">malic_acid</th><th style = \"text-align: left;\">alcalinity_of_ash</th><th style = \"text-align: left;\">magnesium</th><th style = \"text-align: left;\">flavanoids</th><th style = \"text-align: left;\">proanthocyanins</th><th style = \"text-align: left;\">hue</th><th style = \"text-align: left;\">Column8</th><th style = \"text-align: left;\">Column9</th><th style = \"text-align: left;\">Column10</th><th style = \"text-align: left;\">Column11</th><th style = \"text-align: left;\">Column12</th><th style = \"text-align: left;\">Column13</th><th style = \"text-align: left;\">Column14</th></tr><tr class = \"subheader headerLastRow\"><th class = \"rowNumber\" style = \"font-weight: bold; text-align: right;\"></th><th title = \"Int64\" style = \"text-align: left;\">Int64</th><th title = \"Float64\" style = \"text-align: left;\">Float64</th><th title = \"Float64\" style = \"text-align: left;\">Float64</th><th title = \"Float64\" style = \"text-align: left;\">Float64</th><th title = \"Float64\" style = \"text-align: left;\">Float64</th><th title = \"Int64\" style = \"text-align: left;\">Int64</th><th title = \"Float64\" style = \"text-align: left;\">Float64</th><th title = \"Float64\" style = \"text-align: left;\">Float64</th><th title = \"Float64\" style = \"text-align: left;\">Float64</th><th title = \"Float64\" style = \"text-align: left;\">Float64</th><th title = \"Float64\" style = \"text-align: left;\">Float64</th><th title = \"Float64\" style = \"text-align: left;\">Float64</th><th title = \"Float64\" style = \"text-align: left;\">Float64</th><th title = \"Int64\" style = \"text-align: left;\">Int64</th></tr></thead><tbody><tr><td class = \"rowNumber\" style = \"font-weight: bold; text-align: right;\">1</td><td style = \"text-align: right;\">1</td><td style = \"text-align: right;\">14.23</td><td style = \"text-align: right;\">1.71</td><td style = \"text-align: right;\">2.43</td><td style = \"text-align: right;\">15.6</td><td style = \"text-align: right;\">127</td><td style = \"text-align: right;\">2.8</td><td style = \"text-align: right;\">3.06</td><td style = \"text-align: right;\">0.28</td><td style = \"text-align: right;\">2.29</td><td style = \"text-align: right;\">5.64</td><td style = \"text-align: right;\">1.04</td><td style = \"text-align: right;\">3.92</td><td style = \"text-align: right;\">1065</td></tr><tr><td class = \"rowNumber\" style = \"font-weight: bold; text-align: right;\">2</td><td style = \"text-align: right;\">1</td><td style = \"text-align: right;\">13.2</td><td style = \"text-align: right;\">1.78</td><td style = \"text-align: right;\">2.14</td><td style = \"text-align: right;\">11.2</td><td style = \"text-align: right;\">100</td><td style = \"text-align: right;\">2.65</td><td style = \"text-align: right;\">2.76</td><td style = \"text-align: right;\">0.26</td><td style = \"text-align: right;\">1.28</td><td style = \"text-align: right;\">4.38</td><td style = \"text-align: right;\">1.05</td><td style = \"text-align: right;\">3.4</td><td style = \"text-align: right;\">1050</td></tr><tr><td class = \"rowNumber\" style = \"font-weight: bold; text-align: right;\">3</td><td style = \"text-align: right;\">1</td><td style = \"text-align: right;\">13.16</td><td style = \"text-align: right;\">2.36</td><td style = \"text-align: right;\">2.67</td><td style = \"text-align: right;\">18.6</td><td style = \"text-align: right;\">101</td><td style = \"text-align: right;\">2.8</td><td style = \"text-align: right;\">3.24</td><td style = \"text-align: right;\">0.3</td><td style = \"text-align: right;\">2.81</td><td style = \"text-align: right;\">5.68</td><td style = \"text-align: right;\">1.03</td><td style = \"text-align: right;\">3.17</td><td style = \"text-align: right;\">1185</td></tr></tbody></table></div>"
      ],
      "text/latex": [
       "\\begin{tabular}{r|ccccccc}\n",
       "\t& alcohol & malic\\_acid & alcalinity\\_of\\_ash & magnesium & flavanoids & proanthocyanins & \\\\\n",
       "\t\\hline\n",
       "\t& Int64 & Float64 & Float64 & Float64 & Float64 & Int64 & \\\\\n",
       "\t\\hline\n",
       "\t1 & 1 & 14.23 & 1.71 & 2.43 & 15.6 & 127 & $\\dots$ \\\\\n",
       "\t2 & 1 & 13.2 & 1.78 & 2.14 & 11.2 & 100 & $\\dots$ \\\\\n",
       "\t3 & 1 & 13.16 & 2.36 & 2.67 & 18.6 & 101 & $\\dots$ \\\\\n",
       "\\end{tabular}\n"
      ],
      "text/plain": [
       "\u001b[1m3×14 DataFrame\u001b[0m\n",
       "\u001b[1m Row \u001b[0m│\u001b[1m alcohol \u001b[0m\u001b[1m malic_acid \u001b[0m\u001b[1m alcalinity_of_ash \u001b[0m\u001b[1m magnesium \u001b[0m\u001b[1m flavanoids \u001b[0m\u001b[1m proantho\u001b[0m ⋯\n",
       "     │\u001b[90m Int64   \u001b[0m\u001b[90m Float64    \u001b[0m\u001b[90m Float64           \u001b[0m\u001b[90m Float64   \u001b[0m\u001b[90m Float64    \u001b[0m\u001b[90m Int64   \u001b[0m ⋯\n",
       "─────┼──────────────────────────────────────────────────────────────────────────\n",
       "   1 │       1       14.23               1.71       2.43        15.6           ⋯\n",
       "   2 │       1       13.2                1.78       2.14        11.2\n",
       "   3 │       1       13.16               2.36       2.67        18.6\n",
       "\u001b[36m                                                               9 columns omitted\u001b[0m"
      ]
     },
     "metadata": {},
     "output_type": "display_data"
    }
   ],
   "source": [
    "url = \"https://archive.ics.uci.edu/ml/machine-learning-databases/wine/wine.data\"\n",
    "file = Downloads.download(url)\n",
    "columns = [\"alcohol\", \"malic_acid\", \"alcalinity_of_ash\", \"magnesium\", \"flavanoids\", \"proanthocyanins\", \"hue\"]\n",
    "wine = CSV.read(file, DataFrame, header = columns)\n",
    "first(wine, 3)"
   ]
  },
  {
   "cell_type": "markdown",
   "metadata": {},
   "source": [
    "### Step 4. Delete the first, fourth, seventh, nineth, eleventh, thirteenth and fourteenth columns"
   ]
  },
  {
   "cell_type": "code",
   "execution_count": 3,
   "metadata": {
    "collapsed": false
   },
   "outputs": [
    {
     "data": {
      "text/html": [
       "<div><div style = \"float: left;\"><span>5×7 DataFrame</span></div><div style = \"clear: both;\"></div></div><div class = \"data-frame\" style = \"overflow-x: scroll;\"><table class = \"data-frame\" style = \"margin-bottom: 6px;\"><thead><tr class = \"header\"><th class = \"rowNumber\" style = \"font-weight: bold; text-align: right;\">Row</th><th style = \"text-align: left;\">malic_acid</th><th style = \"text-align: left;\">alcalinity_of_ash</th><th style = \"text-align: left;\">flavanoids</th><th style = \"text-align: left;\">proanthocyanins</th><th style = \"text-align: left;\">Column8</th><th style = \"text-align: left;\">Column10</th><th style = \"text-align: left;\">Column11</th></tr><tr class = \"subheader headerLastRow\"><th class = \"rowNumber\" style = \"font-weight: bold; text-align: right;\"></th><th title = \"Float64\" style = \"text-align: left;\">Float64</th><th title = \"Float64\" style = \"text-align: left;\">Float64</th><th title = \"Float64\" style = \"text-align: left;\">Float64</th><th title = \"Int64\" style = \"text-align: left;\">Int64</th><th title = \"Float64\" style = \"text-align: left;\">Float64</th><th title = \"Float64\" style = \"text-align: left;\">Float64</th><th title = \"Float64\" style = \"text-align: left;\">Float64</th></tr></thead><tbody><tr><td class = \"rowNumber\" style = \"font-weight: bold; text-align: right;\">1</td><td style = \"text-align: right;\">14.23</td><td style = \"text-align: right;\">1.71</td><td style = \"text-align: right;\">15.6</td><td style = \"text-align: right;\">127</td><td style = \"text-align: right;\">3.06</td><td style = \"text-align: right;\">2.29</td><td style = \"text-align: right;\">5.64</td></tr><tr><td class = \"rowNumber\" style = \"font-weight: bold; text-align: right;\">2</td><td style = \"text-align: right;\">13.2</td><td style = \"text-align: right;\">1.78</td><td style = \"text-align: right;\">11.2</td><td style = \"text-align: right;\">100</td><td style = \"text-align: right;\">2.76</td><td style = \"text-align: right;\">1.28</td><td style = \"text-align: right;\">4.38</td></tr><tr><td class = \"rowNumber\" style = \"font-weight: bold; text-align: right;\">3</td><td style = \"text-align: right;\">13.16</td><td style = \"text-align: right;\">2.36</td><td style = \"text-align: right;\">18.6</td><td style = \"text-align: right;\">101</td><td style = \"text-align: right;\">3.24</td><td style = \"text-align: right;\">2.81</td><td style = \"text-align: right;\">5.68</td></tr><tr><td class = \"rowNumber\" style = \"font-weight: bold; text-align: right;\">4</td><td style = \"text-align: right;\">14.37</td><td style = \"text-align: right;\">1.95</td><td style = \"text-align: right;\">16.8</td><td style = \"text-align: right;\">113</td><td style = \"text-align: right;\">3.49</td><td style = \"text-align: right;\">2.18</td><td style = \"text-align: right;\">7.8</td></tr><tr><td class = \"rowNumber\" style = \"font-weight: bold; text-align: right;\">5</td><td style = \"text-align: right;\">13.24</td><td style = \"text-align: right;\">2.59</td><td style = \"text-align: right;\">21.0</td><td style = \"text-align: right;\">118</td><td style = \"text-align: right;\">2.69</td><td style = \"text-align: right;\">1.82</td><td style = \"text-align: right;\">4.32</td></tr></tbody></table></div>"
      ],
      "text/latex": [
       "\\begin{tabular}{r|ccccccc}\n",
       "\t& malic\\_acid & alcalinity\\_of\\_ash & flavanoids & proanthocyanins & Column8 & Column10 & Column11\\\\\n",
       "\t\\hline\n",
       "\t& Float64 & Float64 & Float64 & Int64 & Float64 & Float64 & Float64\\\\\n",
       "\t\\hline\n",
       "\t1 & 14.23 & 1.71 & 15.6 & 127 & 3.06 & 2.29 & 5.64 \\\\\n",
       "\t2 & 13.2 & 1.78 & 11.2 & 100 & 2.76 & 1.28 & 4.38 \\\\\n",
       "\t3 & 13.16 & 2.36 & 18.6 & 101 & 3.24 & 2.81 & 5.68 \\\\\n",
       "\t4 & 14.37 & 1.95 & 16.8 & 113 & 3.49 & 2.18 & 7.8 \\\\\n",
       "\t5 & 13.24 & 2.59 & 21.0 & 118 & 2.69 & 1.82 & 4.32 \\\\\n",
       "\\end{tabular}\n"
      ],
      "text/plain": [
       "\u001b[1m5×7 DataFrame\u001b[0m\n",
       "\u001b[1m Row \u001b[0m│\u001b[1m malic_acid \u001b[0m\u001b[1m alcalinity_of_ash \u001b[0m\u001b[1m flavanoids \u001b[0m\u001b[1m proanthocyanins \u001b[0m\u001b[1m Column8 \u001b[0m\u001b[1m Co\u001b[0m ⋯\n",
       "     │\u001b[90m Float64    \u001b[0m\u001b[90m Float64           \u001b[0m\u001b[90m Float64    \u001b[0m\u001b[90m Int64           \u001b[0m\u001b[90m Float64 \u001b[0m\u001b[90m Fl\u001b[0m ⋯\n",
       "─────┼──────────────────────────────────────────────────────────────────────────\n",
       "   1 │      14.23               1.71        15.6              127     3.06     ⋯\n",
       "   2 │      13.2                1.78        11.2              100     2.76\n",
       "   3 │      13.16               2.36        18.6              101     3.24\n",
       "   4 │      14.37               1.95        16.8              113     3.49\n",
       "   5 │      13.24               2.59        21.0              118     2.69     ⋯\n",
       "\u001b[36m                                                               2 columns omitted\u001b[0m"
      ]
     },
     "metadata": {},
     "output_type": "display_data"
    }
   ],
   "source": [
    "select!(wine, Not([1, 4, 7, 9, 12, 13, 14]))\n",
    "first(wine, 5)"
   ]
  },
  {
   "cell_type": "markdown",
   "metadata": {},
   "source": [
    "### Step 5. Assign the columns as below:\n",
    "\n",
    "The attributes are (donated by Riccardo Leardi, riclea '@' anchem.unige.it):\n",
    "1. alcohol\n",
    "2. malic_acid\n",
    "3. alcalinity_of_ash\n",
    "4. magnesium\n",
    "5. flavanoids\n",
    "6. proanthocyanins\n",
    "7. hue\n"
   ]
  },
  {
   "cell_type": "code",
   "execution_count": 15,
   "metadata": {},
   "outputs": [
    {
     "data": {
      "text/html": [
       "<div><div style = \"float: left;\"><span>5×7 DataFrame</span></div><div style = \"clear: both;\"></div></div><div class = \"data-frame\" style = \"overflow-x: scroll;\"><table class = \"data-frame\" style = \"margin-bottom: 6px;\"><thead><tr class = \"header\"><th class = \"rowNumber\" style = \"font-weight: bold; text-align: right;\">Row</th><th style = \"text-align: left;\">alcohol</th><th style = \"text-align: left;\">malic_acid</th><th style = \"text-align: left;\">alcalinity_of_ash</th><th style = \"text-align: left;\">magnesium</th><th style = \"text-align: left;\">flavanoids</th><th style = \"text-align: left;\">proanthocyanins</th><th style = \"text-align: left;\">hue</th></tr><tr class = \"subheader headerLastRow\"><th class = \"rowNumber\" style = \"font-weight: bold; text-align: right;\"></th><th title = \"Float64\" style = \"text-align: left;\">Float64</th><th title = \"Float64\" style = \"text-align: left;\">Float64</th><th title = \"Float64\" style = \"text-align: left;\">Float64</th><th title = \"Int64\" style = \"text-align: left;\">Int64</th><th title = \"Float64\" style = \"text-align: left;\">Float64</th><th title = \"Float64\" style = \"text-align: left;\">Float64</th><th title = \"Float64\" style = \"text-align: left;\">Float64</th></tr></thead><tbody><tr><td class = \"rowNumber\" style = \"font-weight: bold; text-align: right;\">1</td><td style = \"text-align: right;\">10.0</td><td style = \"text-align: right;\">1.71</td><td style = \"text-align: right;\">15.6</td><td style = \"text-align: right;\">127</td><td style = \"text-align: right;\">3.06</td><td style = \"text-align: right;\">2.29</td><td style = \"text-align: right;\">5.64</td></tr><tr><td class = \"rowNumber\" style = \"font-weight: bold; text-align: right;\">2</td><td style = \"text-align: right;\">14.06</td><td style = \"text-align: right;\">2.15</td><td style = \"text-align: right;\">17.6</td><td style = \"text-align: right;\">121</td><td style = \"text-align: right;\">2.51</td><td style = \"text-align: right;\">1.25</td><td style = \"text-align: right;\">5.05</td></tr><tr><td class = \"rowNumber\" style = \"font-weight: bold; text-align: right;\">3</td><td style = \"text-align: right;\">14.1</td><td style = \"text-align: right;\">2.16</td><td style = \"text-align: right;\">18.0</td><td style = \"text-align: right;\">105</td><td style = \"text-align: right;\">3.32</td><td style = \"text-align: right;\">2.38</td><td style = \"text-align: right;\">5.75</td></tr><tr><td class = \"rowNumber\" style = \"font-weight: bold; text-align: right;\">4</td><td style = \"text-align: right;\">14.12</td><td style = \"text-align: right;\">1.48</td><td style = \"text-align: right;\">16.8</td><td style = \"text-align: right;\">95</td><td style = \"text-align: right;\">2.43</td><td style = \"text-align: right;\">1.57</td><td style = \"text-align: right;\">5.0</td></tr><tr><td class = \"rowNumber\" style = \"font-weight: bold; text-align: right;\">5</td><td style = \"text-align: right;\">13.75</td><td style = \"text-align: right;\">1.73</td><td style = \"text-align: right;\">16.0</td><td style = \"text-align: right;\">89</td><td style = \"text-align: right;\">2.76</td><td style = \"text-align: right;\">1.81</td><td style = \"text-align: right;\">5.6</td></tr></tbody></table></div>"
      ],
      "text/latex": [
       "\\begin{tabular}{r|ccccccc}\n",
       "\t& alcohol & malic\\_acid & alcalinity\\_of\\_ash & magnesium & flavanoids & proanthocyanins & \\\\\n",
       "\t\\hline\n",
       "\t& Float64 & Float64 & Float64 & Int64 & Float64 & Float64 & \\\\\n",
       "\t\\hline\n",
       "\t1 & 10.0 & 1.71 & 15.6 & 127 & 3.06 & 2.29 & $\\dots$ \\\\\n",
       "\t2 & 14.06 & 2.15 & 17.6 & 121 & 2.51 & 1.25 & $\\dots$ \\\\\n",
       "\t3 & 14.1 & 2.16 & 18.0 & 105 & 3.32 & 2.38 & $\\dots$ \\\\\n",
       "\t4 & 14.12 & 1.48 & 16.8 & 95 & 2.43 & 1.57 & $\\dots$ \\\\\n",
       "\t5 & 13.75 & 1.73 & 16.0 & 89 & 2.76 & 1.81 & $\\dots$ \\\\\n",
       "\\end{tabular}\n"
      ],
      "text/plain": [
       "\u001b[1m5×7 DataFrame\u001b[0m\n",
       "\u001b[1m Row \u001b[0m│\u001b[1m alcohol \u001b[0m\u001b[1m malic_acid \u001b[0m\u001b[1m alcalinity_of_ash \u001b[0m\u001b[1m magnesium \u001b[0m\u001b[1m flavanoids \u001b[0m\u001b[1m proantho\u001b[0m ⋯\n",
       "     │\u001b[90m Float64 \u001b[0m\u001b[90m Float64    \u001b[0m\u001b[90m Float64           \u001b[0m\u001b[90m Int64     \u001b[0m\u001b[90m Float64    \u001b[0m\u001b[90m Float64 \u001b[0m ⋯\n",
       "─────┼──────────────────────────────────────────────────────────────────────────\n",
       "   1 │   10.0         1.71               15.6        127        3.06           ⋯\n",
       "   2 │   14.06        2.15               17.6        121        2.51\n",
       "   3 │   14.1         2.16               18.0        105        3.32\n",
       "   4 │   14.12        1.48               16.8         95        2.43\n",
       "   5 │   13.75        1.73               16.0         89        2.76           ⋯\n",
       "\u001b[36m                                                               2 columns omitted\u001b[0m"
      ]
     },
     "metadata": {},
     "output_type": "display_data"
    }
   ],
   "source": [
    "rename!(wine, [:alcohol, :malic_acid, :alcalinity_of_ash, :magnesium, :flavanoids, :proanthocyanins, :hue]);\n",
    "first(wine, 5)"
   ]
  },
  {
   "cell_type": "markdown",
   "metadata": {},
   "source": [
    "### Step 6. Set the values of the first 3 rows from alcohol as missing"
   ]
  },
  {
   "cell_type": "code",
   "execution_count": 16,
   "metadata": {
    "collapsed": false
   },
   "outputs": [
    {
     "data": {
      "text/plain": [
       "3-element view(::Vector{Union{Missing, Float64}}, 1:3) with eltype Union{Missing, Float64}:\n",
       " missing\n",
       " missing\n",
       " missing"
      ]
     },
     "metadata": {},
     "output_type": "display_data"
    }
   ],
   "source": [
    "allowmissing!(wine, :alcohol)\n",
    "wine[1:3, :alcohol] .= missing"
   ]
  },
  {
   "cell_type": "markdown",
   "metadata": {},
   "source": [
    "### Step 7. Now set the value of the rows 3 and 4 of magnesium as missing"
   ]
  },
  {
   "cell_type": "code",
   "execution_count": 17,
   "metadata": {
    "collapsed": false
   },
   "outputs": [
    {
     "data": {
      "text/plain": [
       "2-element view(::Vector{Union{Missing, Int64}}, 3:4) with eltype Union{Missing, Int64}:\n",
       " missing\n",
       " missing"
      ]
     },
     "metadata": {},
     "output_type": "display_data"
    }
   ],
   "source": [
    "allowmissing!(wine, :magnesium)\n",
    "wine[3:4, :magnesium] .= missing"
   ]
  },
  {
   "cell_type": "markdown",
   "metadata": {},
   "source": [
    "### Step 8. Fill the value of missing with the number 10 in alcohol and 100 in magnesium"
   ]
  },
  {
   "cell_type": "code",
   "execution_count": 18,
   "metadata": {
    "collapsed": false
   },
   "outputs": [],
   "source": [
    "replace!(wine[!, :alcohol], missing => 10)\n",
    "replace!(wine[!, :magnesium], missing => 100);"
   ]
  },
  {
   "cell_type": "markdown",
   "metadata": {},
   "source": [
    "### Step 9. Count the number of missing values"
   ]
  },
  {
   "cell_type": "code",
   "execution_count": 21,
   "metadata": {
    "collapsed": false
   },
   "outputs": [
    {
     "name": "stdout",
     "output_type": "stream",
     "text": [
      "alcohol total missing value: 0\n",
      "malic_acid total missing value: 0\n",
      "alcalinity_of_ash total missing value: 0\n",
      "magnesium total missing value: 0\n",
      "flavanoids total missing value: 0\n",
      "proanthocyanins total missing value: 0\n",
      "hue total missing value: 0\n",
      "all_total_missing = 0\n"
     ]
    }
   ],
   "source": [
    "all_total_missing = 0\n",
    "for col in names(wine)\n",
    "    total_missing = sum(ismissing.(wine[!, col]))\n",
    "    all_total_missing += total_missing\n",
    "    println(\"$col total missing value: $total_missing\")\n",
    "end\n",
    "\n",
    "@show all_total_missing;"
   ]
  },
  {
   "cell_type": "markdown",
   "metadata": {},
   "source": [
    "### Step 10.  Create an array of 10 random numbers up until 10"
   ]
  },
  {
   "cell_type": "code",
   "execution_count": 22,
   "metadata": {
    "collapsed": false
   },
   "outputs": [
    {
     "data": {
      "text/plain": [
       "10-element Vector{Int64}:\n",
       "  8\n",
       " 10\n",
       "  7\n",
       "  9\n",
       "  9\n",
       "  7\n",
       "  1\n",
       " 10\n",
       "  6\n",
       " 10"
      ]
     },
     "metadata": {},
     "output_type": "display_data"
    }
   ],
   "source": [
    "using Random\n",
    "\n",
    "random_number = rand(1:10, 10)"
   ]
  },
  {
   "cell_type": "markdown",
   "metadata": {},
   "source": [
    "### Step 11.  Use random numbers you generated as an index and assign missing value to each of cell."
   ]
  },
  {
   "cell_type": "code",
   "execution_count": 23,
   "metadata": {
    "collapsed": false
   },
   "outputs": [
    {
     "data": {
      "text/html": [
       "<div><div style = \"float: left;\"><span>10×7 DataFrame</span></div><div style = \"clear: both;\"></div></div><div class = \"data-frame\" style = \"overflow-x: scroll;\"><table class = \"data-frame\" style = \"margin-bottom: 6px;\"><thead><tr class = \"header\"><th class = \"rowNumber\" style = \"font-weight: bold; text-align: right;\">Row</th><th style = \"text-align: left;\">alcohol</th><th style = \"text-align: left;\">malic_acid</th><th style = \"text-align: left;\">alcalinity_of_ash</th><th style = \"text-align: left;\">magnesium</th><th style = \"text-align: left;\">flavanoids</th><th style = \"text-align: left;\">proanthocyanins</th><th style = \"text-align: left;\">hue</th></tr><tr class = \"subheader headerLastRow\"><th class = \"rowNumber\" style = \"font-weight: bold; text-align: right;\"></th><th title = \"Union{Missing, Float64}\" style = \"text-align: left;\">Float64?</th><th title = \"Float64\" style = \"text-align: left;\">Float64</th><th title = \"Float64\" style = \"text-align: left;\">Float64</th><th title = \"Union{Missing, Int64}\" style = \"text-align: left;\">Int64?</th><th title = \"Float64\" style = \"text-align: left;\">Float64</th><th title = \"Float64\" style = \"text-align: left;\">Float64</th><th title = \"Float64\" style = \"text-align: left;\">Float64</th></tr></thead><tbody><tr><td class = \"rowNumber\" style = \"font-weight: bold; text-align: right;\">1</td><td style = \"font-style: italic; text-align: right;\">missing</td><td style = \"text-align: right;\">1.71</td><td style = \"text-align: right;\">15.6</td><td style = \"text-align: right;\">127</td><td style = \"text-align: right;\">3.06</td><td style = \"text-align: right;\">2.29</td><td style = \"text-align: right;\">5.64</td></tr><tr><td class = \"rowNumber\" style = \"font-weight: bold; text-align: right;\">2</td><td style = \"text-align: right;\">10.0</td><td style = \"text-align: right;\">2.15</td><td style = \"text-align: right;\">17.6</td><td style = \"text-align: right;\">121</td><td style = \"text-align: right;\">2.51</td><td style = \"text-align: right;\">1.25</td><td style = \"text-align: right;\">5.05</td></tr><tr><td class = \"rowNumber\" style = \"font-weight: bold; text-align: right;\">3</td><td style = \"text-align: right;\">10.0</td><td style = \"text-align: right;\">2.16</td><td style = \"text-align: right;\">18.0</td><td style = \"text-align: right;\">100</td><td style = \"text-align: right;\">3.32</td><td style = \"text-align: right;\">2.38</td><td style = \"text-align: right;\">5.75</td></tr><tr><td class = \"rowNumber\" style = \"font-weight: bold; text-align: right;\">4</td><td style = \"text-align: right;\">14.12</td><td style = \"text-align: right;\">1.48</td><td style = \"text-align: right;\">16.8</td><td style = \"text-align: right;\">100</td><td style = \"text-align: right;\">2.43</td><td style = \"text-align: right;\">1.57</td><td style = \"text-align: right;\">5.0</td></tr><tr><td class = \"rowNumber\" style = \"font-weight: bold; text-align: right;\">5</td><td style = \"text-align: right;\">13.75</td><td style = \"text-align: right;\">1.73</td><td style = \"text-align: right;\">16.0</td><td style = \"text-align: right;\">89</td><td style = \"text-align: right;\">2.76</td><td style = \"text-align: right;\">1.81</td><td style = \"text-align: right;\">5.6</td></tr><tr><td class = \"rowNumber\" style = \"font-weight: bold; text-align: right;\">6</td><td style = \"font-style: italic; text-align: right;\">missing</td><td style = \"text-align: right;\">1.73</td><td style = \"text-align: right;\">11.4</td><td style = \"text-align: right;\">91</td><td style = \"text-align: right;\">3.69</td><td style = \"text-align: right;\">2.81</td><td style = \"text-align: right;\">5.4</td></tr><tr><td class = \"rowNumber\" style = \"font-weight: bold; text-align: right;\">7</td><td style = \"font-style: italic; text-align: right;\">missing</td><td style = \"text-align: right;\">1.87</td><td style = \"text-align: right;\">12.0</td><td style = \"text-align: right;\">102</td><td style = \"text-align: right;\">3.64</td><td style = \"text-align: right;\">2.96</td><td style = \"text-align: right;\">7.5</td></tr><tr><td class = \"rowNumber\" style = \"font-weight: bold; text-align: right;\">8</td><td style = \"font-style: italic; text-align: right;\">missing</td><td style = \"text-align: right;\">1.81</td><td style = \"text-align: right;\">17.2</td><td style = \"text-align: right;\">112</td><td style = \"text-align: right;\">2.91</td><td style = \"text-align: right;\">1.46</td><td style = \"text-align: right;\">7.3</td></tr><tr><td class = \"rowNumber\" style = \"font-weight: bold; text-align: right;\">9</td><td style = \"font-style: italic; text-align: right;\">missing</td><td style = \"text-align: right;\">1.92</td><td style = \"text-align: right;\">20.0</td><td style = \"text-align: right;\">120</td><td style = \"text-align: right;\">3.14</td><td style = \"text-align: right;\">1.97</td><td style = \"text-align: right;\">6.2</td></tr><tr><td class = \"rowNumber\" style = \"font-weight: bold; text-align: right;\">10</td><td style = \"font-style: italic; text-align: right;\">missing</td><td style = \"text-align: right;\">1.57</td><td style = \"text-align: right;\">20.0</td><td style = \"text-align: right;\">115</td><td style = \"text-align: right;\">3.4</td><td style = \"text-align: right;\">1.72</td><td style = \"text-align: right;\">6.6</td></tr></tbody></table></div>"
      ],
      "text/latex": [
       "\\begin{tabular}{r|ccccccc}\n",
       "\t& alcohol & malic\\_acid & alcalinity\\_of\\_ash & magnesium & flavanoids & proanthocyanins & \\\\\n",
       "\t\\hline\n",
       "\t& Float64? & Float64 & Float64 & Int64? & Float64 & Float64 & \\\\\n",
       "\t\\hline\n",
       "\t1 & \\emph{missing} & 1.71 & 15.6 & 127 & 3.06 & 2.29 & $\\dots$ \\\\\n",
       "\t2 & 10.0 & 2.15 & 17.6 & 121 & 2.51 & 1.25 & $\\dots$ \\\\\n",
       "\t3 & 10.0 & 2.16 & 18.0 & 100 & 3.32 & 2.38 & $\\dots$ \\\\\n",
       "\t4 & 14.12 & 1.48 & 16.8 & 100 & 2.43 & 1.57 & $\\dots$ \\\\\n",
       "\t5 & 13.75 & 1.73 & 16.0 & 89 & 2.76 & 1.81 & $\\dots$ \\\\\n",
       "\t6 & \\emph{missing} & 1.73 & 11.4 & 91 & 3.69 & 2.81 & $\\dots$ \\\\\n",
       "\t7 & \\emph{missing} & 1.87 & 12.0 & 102 & 3.64 & 2.96 & $\\dots$ \\\\\n",
       "\t8 & \\emph{missing} & 1.81 & 17.2 & 112 & 2.91 & 1.46 & $\\dots$ \\\\\n",
       "\t9 & \\emph{missing} & 1.92 & 20.0 & 120 & 3.14 & 1.97 & $\\dots$ \\\\\n",
       "\t10 & \\emph{missing} & 1.57 & 20.0 & 115 & 3.4 & 1.72 & $\\dots$ \\\\\n",
       "\\end{tabular}\n"
      ],
      "text/plain": [
       "\u001b[1m10×7 DataFrame\u001b[0m\n",
       "\u001b[1m Row \u001b[0m│\u001b[1m alcohol    \u001b[0m\u001b[1m malic_acid \u001b[0m\u001b[1m alcalinity_of_ash \u001b[0m\u001b[1m magnesium \u001b[0m\u001b[1m flavanoids \u001b[0m\u001b[1m proan\u001b[0m ⋯\n",
       "     │\u001b[90m Float64?   \u001b[0m\u001b[90m Float64    \u001b[0m\u001b[90m Float64           \u001b[0m\u001b[90m Int64?    \u001b[0m\u001b[90m Float64    \u001b[0m\u001b[90m Float\u001b[0m ⋯\n",
       "─────┼──────────────────────────────────────────────────────────────────────────\n",
       "   1 │\u001b[90m missing    \u001b[0m       1.71               15.6        127        3.06        ⋯\n",
       "   2 │      10.0         2.15               17.6        121        2.51\n",
       "   3 │      10.0         2.16               18.0        100        3.32\n",
       "   4 │      14.12        1.48               16.8        100        2.43\n",
       "   5 │      13.75        1.73               16.0         89        2.76        ⋯\n",
       "   6 │\u001b[90m missing    \u001b[0m       1.73               11.4         91        3.69\n",
       "   7 │\u001b[90m missing    \u001b[0m       1.87               12.0        102        3.64\n",
       "   8 │\u001b[90m missing    \u001b[0m       1.81               17.2        112        2.91\n",
       "   9 │\u001b[90m missing    \u001b[0m       1.92               20.0        120        3.14        ⋯\n",
       "  10 │\u001b[90m missing    \u001b[0m       1.57               20.0        115        3.4\n",
       "\u001b[36m                                                               2 columns omitted\u001b[0m"
      ]
     },
     "metadata": {},
     "output_type": "display_data"
    }
   ],
   "source": [
    "wine[random_number, :alcohol] .= missing\n",
    "first(wine, 10)"
   ]
  },
  {
   "cell_type": "markdown",
   "metadata": {},
   "source": [
    "### Step 12.  How many missing values do we have?"
   ]
  },
  {
   "cell_type": "code",
   "execution_count": 24,
   "metadata": {
    "collapsed": false
   },
   "outputs": [
    {
     "name": "stdout",
     "output_type": "stream",
     "text": [
      "alcohol: 6\n",
      "malic_acid: 0\n",
      "alcalinity_of_ash: 0\n",
      "magnesium: 0\n",
      "flavanoids: 0\n",
      "proanthocyanins: 0\n",
      "hue: 0\n"
     ]
    }
   ],
   "source": [
    "for col in names(wine)\n",
    "    total_miss = sum(ismissing.(wine[!, col]))\n",
    "    println(\"$(col): $(total_miss)\")\n",
    "end"
   ]
  },
  {
   "cell_type": "markdown",
   "metadata": {},
   "source": [
    "### Step 13. Delete the rows that contain missing values"
   ]
  },
  {
   "cell_type": "code",
   "execution_count": 25,
   "metadata": {
    "collapsed": false
   },
   "outputs": [
    {
     "data": {
      "text/html": [
       "<div><div style = \"float: left;\"><span>5×7 DataFrame</span></div><div style = \"clear: both;\"></div></div><div class = \"data-frame\" style = \"overflow-x: scroll;\"><table class = \"data-frame\" style = \"margin-bottom: 6px;\"><thead><tr class = \"header\"><th class = \"rowNumber\" style = \"font-weight: bold; text-align: right;\">Row</th><th style = \"text-align: left;\">alcohol</th><th style = \"text-align: left;\">malic_acid</th><th style = \"text-align: left;\">alcalinity_of_ash</th><th style = \"text-align: left;\">magnesium</th><th style = \"text-align: left;\">flavanoids</th><th style = \"text-align: left;\">proanthocyanins</th><th style = \"text-align: left;\">hue</th></tr><tr class = \"subheader headerLastRow\"><th class = \"rowNumber\" style = \"font-weight: bold; text-align: right;\"></th><th title = \"Float64\" style = \"text-align: left;\">Float64</th><th title = \"Float64\" style = \"text-align: left;\">Float64</th><th title = \"Float64\" style = \"text-align: left;\">Float64</th><th title = \"Int64\" style = \"text-align: left;\">Int64</th><th title = \"Float64\" style = \"text-align: left;\">Float64</th><th title = \"Float64\" style = \"text-align: left;\">Float64</th><th title = \"Float64\" style = \"text-align: left;\">Float64</th></tr></thead><tbody><tr><td class = \"rowNumber\" style = \"font-weight: bold; text-align: right;\">1</td><td style = \"text-align: right;\">10.0</td><td style = \"text-align: right;\">2.15</td><td style = \"text-align: right;\">17.6</td><td style = \"text-align: right;\">121</td><td style = \"text-align: right;\">2.51</td><td style = \"text-align: right;\">1.25</td><td style = \"text-align: right;\">5.05</td></tr><tr><td class = \"rowNumber\" style = \"font-weight: bold; text-align: right;\">2</td><td style = \"text-align: right;\">10.0</td><td style = \"text-align: right;\">2.16</td><td style = \"text-align: right;\">18.0</td><td style = \"text-align: right;\">100</td><td style = \"text-align: right;\">3.32</td><td style = \"text-align: right;\">2.38</td><td style = \"text-align: right;\">5.75</td></tr><tr><td class = \"rowNumber\" style = \"font-weight: bold; text-align: right;\">3</td><td style = \"text-align: right;\">14.12</td><td style = \"text-align: right;\">1.48</td><td style = \"text-align: right;\">16.8</td><td style = \"text-align: right;\">100</td><td style = \"text-align: right;\">2.43</td><td style = \"text-align: right;\">1.57</td><td style = \"text-align: right;\">5.0</td></tr><tr><td class = \"rowNumber\" style = \"font-weight: bold; text-align: right;\">4</td><td style = \"text-align: right;\">13.75</td><td style = \"text-align: right;\">1.73</td><td style = \"text-align: right;\">16.0</td><td style = \"text-align: right;\">89</td><td style = \"text-align: right;\">2.76</td><td style = \"text-align: right;\">1.81</td><td style = \"text-align: right;\">5.6</td></tr><tr><td class = \"rowNumber\" style = \"font-weight: bold; text-align: right;\">5</td><td style = \"text-align: right;\">14.19</td><td style = \"text-align: right;\">1.59</td><td style = \"text-align: right;\">16.5</td><td style = \"text-align: right;\">108</td><td style = \"text-align: right;\">3.93</td><td style = \"text-align: right;\">1.86</td><td style = \"text-align: right;\">8.7</td></tr></tbody></table></div>"
      ],
      "text/latex": [
       "\\begin{tabular}{r|ccccccc}\n",
       "\t& alcohol & malic\\_acid & alcalinity\\_of\\_ash & magnesium & flavanoids & proanthocyanins & \\\\\n",
       "\t\\hline\n",
       "\t& Float64 & Float64 & Float64 & Int64 & Float64 & Float64 & \\\\\n",
       "\t\\hline\n",
       "\t1 & 10.0 & 2.15 & 17.6 & 121 & 2.51 & 1.25 & $\\dots$ \\\\\n",
       "\t2 & 10.0 & 2.16 & 18.0 & 100 & 3.32 & 2.38 & $\\dots$ \\\\\n",
       "\t3 & 14.12 & 1.48 & 16.8 & 100 & 2.43 & 1.57 & $\\dots$ \\\\\n",
       "\t4 & 13.75 & 1.73 & 16.0 & 89 & 2.76 & 1.81 & $\\dots$ \\\\\n",
       "\t5 & 14.19 & 1.59 & 16.5 & 108 & 3.93 & 1.86 & $\\dots$ \\\\\n",
       "\\end{tabular}\n"
      ],
      "text/plain": [
       "\u001b[1m5×7 DataFrame\u001b[0m\n",
       "\u001b[1m Row \u001b[0m│\u001b[1m alcohol \u001b[0m\u001b[1m malic_acid \u001b[0m\u001b[1m alcalinity_of_ash \u001b[0m\u001b[1m magnesium \u001b[0m\u001b[1m flavanoids \u001b[0m\u001b[1m proantho\u001b[0m ⋯\n",
       "     │\u001b[90m Float64 \u001b[0m\u001b[90m Float64    \u001b[0m\u001b[90m Float64           \u001b[0m\u001b[90m Int64     \u001b[0m\u001b[90m Float64    \u001b[0m\u001b[90m Float64 \u001b[0m ⋯\n",
       "─────┼──────────────────────────────────────────────────────────────────────────\n",
       "   1 │   10.0         2.15               17.6        121        2.51           ⋯\n",
       "   2 │   10.0         2.16               18.0        100        3.32\n",
       "   3 │   14.12        1.48               16.8        100        2.43\n",
       "   4 │   13.75        1.73               16.0         89        2.76\n",
       "   5 │   14.19        1.59               16.5        108        3.93           ⋯\n",
       "\u001b[36m                                                               2 columns omitted\u001b[0m"
      ]
     },
     "metadata": {},
     "output_type": "display_data"
    }
   ],
   "source": [
    "dropmissing!(wine)\n",
    "first(wine, 5)"
   ]
  },
  {
   "cell_type": "markdown",
   "metadata": {},
   "source": [
    "### Step 14. Print only the non-null values in alcohol"
   ]
  },
  {
   "cell_type": "code",
   "execution_count": 26,
   "metadata": {
    "collapsed": false
   },
   "outputs": [
    {
     "data": {
      "text/plain": [
       "164-element Vector{Float64}:\n",
       " 10.0\n",
       " 10.0\n",
       " 14.12\n",
       " 13.75\n",
       " 14.19\n",
       " 13.64\n",
       " 14.06\n",
       " 12.93\n",
       " 13.71\n",
       " 12.85\n",
       "  ⋮\n",
       " 13.4\n",
       " 12.2\n",
       " 12.77\n",
       " 14.16\n",
       " 13.71\n",
       " 13.4\n",
       " 13.27\n",
       " 13.17\n",
       " 14.13"
      ]
     },
     "metadata": {},
     "output_type": "display_data"
    }
   ],
   "source": [
    "mask = .!ismissing.(wine[!, \"alcohol\"])\n",
    "wine[mask , :alcohol]"
   ]
  },
  {
   "cell_type": "markdown",
   "metadata": {},
   "source": [
    "### BONUS: Create your own question and answer it."
   ]
  },
  {
   "cell_type": "code",
   "execution_count": 14,
   "metadata": {
    "collapsed": true
   },
   "outputs": [],
   "source": []
  }
 ],
 "metadata": {
  "kernelspec": {
   "display_name": "Julia 1.10.3",
   "language": "julia",
   "name": "julia-1.10"
  },
  "language_info": {
   "file_extension": ".jl",
   "mimetype": "application/julia",
   "name": "julia",
   "version": "1.10.3"
  }
 },
 "nbformat": 4,
 "nbformat_minor": 0
}
