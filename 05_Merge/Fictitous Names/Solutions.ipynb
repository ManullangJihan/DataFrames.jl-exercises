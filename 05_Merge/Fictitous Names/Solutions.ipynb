{
 "cells": [
  {
   "cell_type": "markdown",
   "metadata": {},
   "source": [
    "# Fictitious Names"
   ]
  },
  {
   "cell_type": "markdown",
   "metadata": {},
   "source": [
    "### Introduction:\n",
    "\n",
    "This time you will create a data again \n",
    "\n",
    "Special thanks to [Chris Albon](http://chrisalbon.com/) for sharing the dataset and materials.\n",
    "All the credits to this exercise belongs to him.  \n",
    "\n",
    "In order to understand about it go [here](https://blog.codinghorror.com/a-visual-explanation-of-sql-joins/).\n",
    "\n",
    "### Step 1. Import the necessary libraries"
   ]
  },
  {
   "cell_type": "code",
   "execution_count": null,
   "metadata": {
    "collapsed": false
   },
   "outputs": [],
   "source": []
  },
  {
   "cell_type": "markdown",
   "metadata": {},
   "source": [
    "### Step 2. Create the 3 DataFrames based on the following raw data"
   ]
  },
  {
   "cell_type": "code",
   "execution_count": 2,
   "metadata": {
    "collapsed": true
   },
   "outputs": [],
   "source": []
  },
  {
   "cell_type": "markdown",
   "metadata": {},
   "source": [
    "### Step 3. Assign each to a variable called data1, data2, data3"
   ]
  },
  {
   "cell_type": "code",
   "execution_count": 3,
   "metadata": {
    "collapsed": false
   },
   "outputs": [],
   "source": []
  },
  {
   "cell_type": "markdown",
   "metadata": {},
   "source": [
    "### Step 4. Join the two dataframes along rows and assign all_data"
   ]
  },
  {
   "cell_type": "code",
   "execution_count": 5,
   "metadata": {
    "collapsed": false
   },
   "outputs": [
    {
     "data": {
      "text/html": [
       "<div><div style = \"float: left;\"><span>10×3 DataFrame</span></div><div style = \"clear: both;\"></div></div><div class = \"data-frame\" style = \"overflow-x: scroll;\"><table class = \"data-frame\" style = \"margin-bottom: 6px;\"><thead><tr class = \"header\"><th class = \"rowNumber\" style = \"font-weight: bold; text-align: right;\">Row</th><th style = \"text-align: left;\">first_name</th><th style = \"text-align: left;\">last_name</th><th style = \"text-align: left;\">subject_id</th></tr><tr class = \"subheader headerLastRow\"><th class = \"rowNumber\" style = \"font-weight: bold; text-align: right;\"></th><th title = \"String\" style = \"text-align: left;\">String</th><th title = \"String\" style = \"text-align: left;\">String</th><th title = \"String\" style = \"text-align: left;\">String</th></tr></thead><tbody><tr><td class = \"rowNumber\" style = \"font-weight: bold; text-align: right;\">1</td><td style = \"text-align: left;\">Alex</td><td style = \"text-align: left;\">Anderson</td><td style = \"text-align: left;\">1</td></tr><tr><td class = \"rowNumber\" style = \"font-weight: bold; text-align: right;\">2</td><td style = \"text-align: left;\">Amy</td><td style = \"text-align: left;\">Ackerman</td><td style = \"text-align: left;\">2</td></tr><tr><td class = \"rowNumber\" style = \"font-weight: bold; text-align: right;\">3</td><td style = \"text-align: left;\">Allen</td><td style = \"text-align: left;\">Ali</td><td style = \"text-align: left;\">3</td></tr><tr><td class = \"rowNumber\" style = \"font-weight: bold; text-align: right;\">4</td><td style = \"text-align: left;\">Alice</td><td style = \"text-align: left;\">Aoni</td><td style = \"text-align: left;\">4</td></tr><tr><td class = \"rowNumber\" style = \"font-weight: bold; text-align: right;\">5</td><td style = \"text-align: left;\">Ayoung</td><td style = \"text-align: left;\">Atiches</td><td style = \"text-align: left;\">5</td></tr><tr><td class = \"rowNumber\" style = \"font-weight: bold; text-align: right;\">6</td><td style = \"text-align: left;\">Billy</td><td style = \"text-align: left;\">Bonder</td><td style = \"text-align: left;\">4</td></tr><tr><td class = \"rowNumber\" style = \"font-weight: bold; text-align: right;\">7</td><td style = \"text-align: left;\">Brian</td><td style = \"text-align: left;\">Black</td><td style = \"text-align: left;\">5</td></tr><tr><td class = \"rowNumber\" style = \"font-weight: bold; text-align: right;\">8</td><td style = \"text-align: left;\">Bran</td><td style = \"text-align: left;\">Balwner</td><td style = \"text-align: left;\">6</td></tr><tr><td class = \"rowNumber\" style = \"font-weight: bold; text-align: right;\">9</td><td style = \"text-align: left;\">Bryce</td><td style = \"text-align: left;\">Brice</td><td style = \"text-align: left;\">7</td></tr><tr><td class = \"rowNumber\" style = \"font-weight: bold; text-align: right;\">10</td><td style = \"text-align: left;\">Betty</td><td style = \"text-align: left;\">Btisan</td><td style = \"text-align: left;\">8</td></tr></tbody></table></div>"
      ],
      "text/latex": [
       "\\begin{tabular}{r|ccc}\n",
       "\t& first\\_name & last\\_name & subject\\_id\\\\\n",
       "\t\\hline\n",
       "\t& String & String & String\\\\\n",
       "\t\\hline\n",
       "\t1 & Alex & Anderson & 1 \\\\\n",
       "\t2 & Amy & Ackerman & 2 \\\\\n",
       "\t3 & Allen & Ali & 3 \\\\\n",
       "\t4 & Alice & Aoni & 4 \\\\\n",
       "\t5 & Ayoung & Atiches & 5 \\\\\n",
       "\t6 & Billy & Bonder & 4 \\\\\n",
       "\t7 & Brian & Black & 5 \\\\\n",
       "\t8 & Bran & Balwner & 6 \\\\\n",
       "\t9 & Bryce & Brice & 7 \\\\\n",
       "\t10 & Betty & Btisan & 8 \\\\\n",
       "\\end{tabular}\n"
      ],
      "text/plain": [
       "\u001b[1m10×3 DataFrame\u001b[0m\n",
       "\u001b[1m Row \u001b[0m│\u001b[1m first_name \u001b[0m\u001b[1m last_name \u001b[0m\u001b[1m subject_id \u001b[0m\n",
       "     │\u001b[90m String     \u001b[0m\u001b[90m String    \u001b[0m\u001b[90m String     \u001b[0m\n",
       "─────┼───────────────────────────────────\n",
       "   1 │ Alex        Anderson   1\n",
       "   2 │ Amy         Ackerman   2\n",
       "   3 │ Allen       Ali        3\n",
       "   4 │ Alice       Aoni       4\n",
       "   5 │ Ayoung      Atiches    5\n",
       "   6 │ Billy       Bonder     4\n",
       "   7 │ Brian       Black      5\n",
       "   8 │ Bran        Balwner    6\n",
       "   9 │ Bryce       Brice      7\n",
       "  10 │ Betty       Btisan     8"
      ]
     },
     "metadata": {},
     "output_type": "display_data"
    }
   ],
   "source": []
  },
  {
   "cell_type": "markdown",
   "metadata": {},
   "source": [
    "### Step 5. Join the two dataframes along columns and assing to all_data_col"
   ]
  },
  {
   "cell_type": "code",
   "execution_count": 6,
   "metadata": {
    "collapsed": false
   },
   "outputs": [
    {
     "data": {
      "text/html": [
       "<div><div style = \"float: left;\"><span>5×6 DataFrame</span></div><div style = \"clear: both;\"></div></div><div class = \"data-frame\" style = \"overflow-x: scroll;\"><table class = \"data-frame\" style = \"margin-bottom: 6px;\"><thead><tr class = \"header\"><th class = \"rowNumber\" style = \"font-weight: bold; text-align: right;\">Row</th><th style = \"text-align: left;\">first_name</th><th style = \"text-align: left;\">last_name</th><th style = \"text-align: left;\">subject_id</th><th style = \"text-align: left;\">first_name_1</th><th style = \"text-align: left;\">last_name_1</th><th style = \"text-align: left;\">subject_id_1</th></tr><tr class = \"subheader headerLastRow\"><th class = \"rowNumber\" style = \"font-weight: bold; text-align: right;\"></th><th title = \"String\" style = \"text-align: left;\">String</th><th title = \"String\" style = \"text-align: left;\">String</th><th title = \"String\" style = \"text-align: left;\">String</th><th title = \"String\" style = \"text-align: left;\">String</th><th title = \"String\" style = \"text-align: left;\">String</th><th title = \"String\" style = \"text-align: left;\">String</th></tr></thead><tbody><tr><td class = \"rowNumber\" style = \"font-weight: bold; text-align: right;\">1</td><td style = \"text-align: left;\">Alex</td><td style = \"text-align: left;\">Anderson</td><td style = \"text-align: left;\">1</td><td style = \"text-align: left;\">Billy</td><td style = \"text-align: left;\">Bonder</td><td style = \"text-align: left;\">4</td></tr><tr><td class = \"rowNumber\" style = \"font-weight: bold; text-align: right;\">2</td><td style = \"text-align: left;\">Amy</td><td style = \"text-align: left;\">Ackerman</td><td style = \"text-align: left;\">2</td><td style = \"text-align: left;\">Brian</td><td style = \"text-align: left;\">Black</td><td style = \"text-align: left;\">5</td></tr><tr><td class = \"rowNumber\" style = \"font-weight: bold; text-align: right;\">3</td><td style = \"text-align: left;\">Allen</td><td style = \"text-align: left;\">Ali</td><td style = \"text-align: left;\">3</td><td style = \"text-align: left;\">Bran</td><td style = \"text-align: left;\">Balwner</td><td style = \"text-align: left;\">6</td></tr><tr><td class = \"rowNumber\" style = \"font-weight: bold; text-align: right;\">4</td><td style = \"text-align: left;\">Alice</td><td style = \"text-align: left;\">Aoni</td><td style = \"text-align: left;\">4</td><td style = \"text-align: left;\">Bryce</td><td style = \"text-align: left;\">Brice</td><td style = \"text-align: left;\">7</td></tr><tr><td class = \"rowNumber\" style = \"font-weight: bold; text-align: right;\">5</td><td style = \"text-align: left;\">Ayoung</td><td style = \"text-align: left;\">Atiches</td><td style = \"text-align: left;\">5</td><td style = \"text-align: left;\">Betty</td><td style = \"text-align: left;\">Btisan</td><td style = \"text-align: left;\">8</td></tr></tbody></table></div>"
      ],
      "text/latex": [
       "\\begin{tabular}{r|cccccc}\n",
       "\t& first\\_name & last\\_name & subject\\_id & first\\_name\\_1 & last\\_name\\_1 & subject\\_id\\_1\\\\\n",
       "\t\\hline\n",
       "\t& String & String & String & String & String & String\\\\\n",
       "\t\\hline\n",
       "\t1 & Alex & Anderson & 1 & Billy & Bonder & 4 \\\\\n",
       "\t2 & Amy & Ackerman & 2 & Brian & Black & 5 \\\\\n",
       "\t3 & Allen & Ali & 3 & Bran & Balwner & 6 \\\\\n",
       "\t4 & Alice & Aoni & 4 & Bryce & Brice & 7 \\\\\n",
       "\t5 & Ayoung & Atiches & 5 & Betty & Btisan & 8 \\\\\n",
       "\\end{tabular}\n"
      ],
      "text/plain": [
       "\u001b[1m5×6 DataFrame\u001b[0m\n",
       "\u001b[1m Row \u001b[0m│\u001b[1m first_name \u001b[0m\u001b[1m last_name \u001b[0m\u001b[1m subject_id \u001b[0m\u001b[1m first_name_1 \u001b[0m\u001b[1m last_name_1 \u001b[0m\u001b[1m subject_i\u001b[0m ⋯\n",
       "     │\u001b[90m String     \u001b[0m\u001b[90m String    \u001b[0m\u001b[90m String     \u001b[0m\u001b[90m String       \u001b[0m\u001b[90m String      \u001b[0m\u001b[90m String   \u001b[0m ⋯\n",
       "─────┼──────────────────────────────────────────────────────────────────────────\n",
       "   1 │ Alex        Anderson   1           Billy         Bonder       4         ⋯\n",
       "   2 │ Amy         Ackerman   2           Brian         Black        5\n",
       "   3 │ Allen       Ali        3           Bran          Balwner      6\n",
       "   4 │ Alice       Aoni       4           Bryce         Brice        7\n",
       "   5 │ Ayoung      Atiches    5           Betty         Btisan       8         ⋯\n",
       "\u001b[36m                                                                1 column omitted\u001b[0m"
      ]
     },
     "metadata": {},
     "output_type": "display_data"
    }
   ],
   "source": []
  },
  {
   "cell_type": "markdown",
   "metadata": {},
   "source": [
    "### Step 6. Print data3"
   ]
  },
  {
   "cell_type": "code",
   "execution_count": 7,
   "metadata": {
    "collapsed": false
   },
   "outputs": [
    {
     "data": {
      "text/html": [
       "<div><div style = \"float: left;\"><span>10×2 DataFrame</span></div><div style = \"clear: both;\"></div></div><div class = \"data-frame\" style = \"overflow-x: scroll;\"><table class = \"data-frame\" style = \"margin-bottom: 6px;\"><thead><tr class = \"header\"><th class = \"rowNumber\" style = \"font-weight: bold; text-align: right;\">Row</th><th style = \"text-align: left;\">subject_id</th><th style = \"text-align: left;\">test_id</th></tr><tr class = \"subheader headerLastRow\"><th class = \"rowNumber\" style = \"font-weight: bold; text-align: right;\"></th><th title = \"String\" style = \"text-align: left;\">String</th><th title = \"Int64\" style = \"text-align: left;\">Int64</th></tr></thead><tbody><tr><td class = \"rowNumber\" style = \"font-weight: bold; text-align: right;\">1</td><td style = \"text-align: left;\">1</td><td style = \"text-align: right;\">51</td></tr><tr><td class = \"rowNumber\" style = \"font-weight: bold; text-align: right;\">2</td><td style = \"text-align: left;\">2</td><td style = \"text-align: right;\">15</td></tr><tr><td class = \"rowNumber\" style = \"font-weight: bold; text-align: right;\">3</td><td style = \"text-align: left;\">3</td><td style = \"text-align: right;\">15</td></tr><tr><td class = \"rowNumber\" style = \"font-weight: bold; text-align: right;\">4</td><td style = \"text-align: left;\">4</td><td style = \"text-align: right;\">61</td></tr><tr><td class = \"rowNumber\" style = \"font-weight: bold; text-align: right;\">5</td><td style = \"text-align: left;\">5</td><td style = \"text-align: right;\">16</td></tr><tr><td class = \"rowNumber\" style = \"font-weight: bold; text-align: right;\">6</td><td style = \"text-align: left;\">7</td><td style = \"text-align: right;\">14</td></tr><tr><td class = \"rowNumber\" style = \"font-weight: bold; text-align: right;\">7</td><td style = \"text-align: left;\">8</td><td style = \"text-align: right;\">15</td></tr><tr><td class = \"rowNumber\" style = \"font-weight: bold; text-align: right;\">8</td><td style = \"text-align: left;\">9</td><td style = \"text-align: right;\">1</td></tr><tr><td class = \"rowNumber\" style = \"font-weight: bold; text-align: right;\">9</td><td style = \"text-align: left;\">10</td><td style = \"text-align: right;\">61</td></tr><tr><td class = \"rowNumber\" style = \"font-weight: bold; text-align: right;\">10</td><td style = \"text-align: left;\">11</td><td style = \"text-align: right;\">16</td></tr></tbody></table></div>"
      ],
      "text/latex": [
       "\\begin{tabular}{r|cc}\n",
       "\t& subject\\_id & test\\_id\\\\\n",
       "\t\\hline\n",
       "\t& String & Int64\\\\\n",
       "\t\\hline\n",
       "\t1 & 1 & 51 \\\\\n",
       "\t2 & 2 & 15 \\\\\n",
       "\t3 & 3 & 15 \\\\\n",
       "\t4 & 4 & 61 \\\\\n",
       "\t5 & 5 & 16 \\\\\n",
       "\t6 & 7 & 14 \\\\\n",
       "\t7 & 8 & 15 \\\\\n",
       "\t8 & 9 & 1 \\\\\n",
       "\t9 & 10 & 61 \\\\\n",
       "\t10 & 11 & 16 \\\\\n",
       "\\end{tabular}\n"
      ],
      "text/plain": [
       "\u001b[1m10×2 DataFrame\u001b[0m\n",
       "\u001b[1m Row \u001b[0m│\u001b[1m subject_id \u001b[0m\u001b[1m test_id \u001b[0m\n",
       "     │\u001b[90m String     \u001b[0m\u001b[90m Int64   \u001b[0m\n",
       "─────┼─────────────────────\n",
       "   1 │ 1                51\n",
       "   2 │ 2                15\n",
       "   3 │ 3                15\n",
       "   4 │ 4                61\n",
       "   5 │ 5                16\n",
       "   6 │ 7                14\n",
       "   7 │ 8                15\n",
       "   8 │ 9                 1\n",
       "   9 │ 10               61\n",
       "  10 │ 11               16"
      ]
     },
     "metadata": {},
     "output_type": "display_data"
    }
   ],
   "source": []
  },
  {
   "cell_type": "markdown",
   "metadata": {},
   "source": [
    "### Step 7. Merge all_data and data3 along the subject_id value"
   ]
  },
  {
   "cell_type": "code",
   "execution_count": 8,
   "metadata": {},
   "outputs": [
    {
     "data": {
      "text/html": [
       "<div><div style = \"float: left;\"><span>13×4 DataFrame</span></div><div style = \"clear: both;\"></div></div><div class = \"data-frame\" style = \"overflow-x: scroll;\"><table class = \"data-frame\" style = \"margin-bottom: 6px;\"><thead><tr class = \"header\"><th class = \"rowNumber\" style = \"font-weight: bold; text-align: right;\">Row</th><th style = \"text-align: left;\">first_name</th><th style = \"text-align: left;\">last_name</th><th style = \"text-align: left;\">subject_id</th><th style = \"text-align: left;\">test_id</th></tr><tr class = \"subheader headerLastRow\"><th class = \"rowNumber\" style = \"font-weight: bold; text-align: right;\"></th><th title = \"Union{Missing, String}\" style = \"text-align: left;\">String?</th><th title = \"Union{Missing, String}\" style = \"text-align: left;\">String?</th><th title = \"String\" style = \"text-align: left;\">String</th><th title = \"Union{Missing, Int64}\" style = \"text-align: left;\">Int64?</th></tr></thead><tbody><tr><td class = \"rowNumber\" style = \"font-weight: bold; text-align: right;\">1</td><td style = \"text-align: left;\">Alex</td><td style = \"text-align: left;\">Anderson</td><td style = \"text-align: left;\">1</td><td style = \"text-align: right;\">51</td></tr><tr><td class = \"rowNumber\" style = \"font-weight: bold; text-align: right;\">2</td><td style = \"text-align: left;\">Amy</td><td style = \"text-align: left;\">Ackerman</td><td style = \"text-align: left;\">2</td><td style = \"text-align: right;\">15</td></tr><tr><td class = \"rowNumber\" style = \"font-weight: bold; text-align: right;\">3</td><td style = \"text-align: left;\">Allen</td><td style = \"text-align: left;\">Ali</td><td style = \"text-align: left;\">3</td><td style = \"text-align: right;\">15</td></tr><tr><td class = \"rowNumber\" style = \"font-weight: bold; text-align: right;\">4</td><td style = \"text-align: left;\">Alice</td><td style = \"text-align: left;\">Aoni</td><td style = \"text-align: left;\">4</td><td style = \"text-align: right;\">61</td></tr><tr><td class = \"rowNumber\" style = \"font-weight: bold; text-align: right;\">5</td><td style = \"text-align: left;\">Billy</td><td style = \"text-align: left;\">Bonder</td><td style = \"text-align: left;\">4</td><td style = \"text-align: right;\">61</td></tr><tr><td class = \"rowNumber\" style = \"font-weight: bold; text-align: right;\">6</td><td style = \"text-align: left;\">Ayoung</td><td style = \"text-align: left;\">Atiches</td><td style = \"text-align: left;\">5</td><td style = \"text-align: right;\">16</td></tr><tr><td class = \"rowNumber\" style = \"font-weight: bold; text-align: right;\">7</td><td style = \"text-align: left;\">Brian</td><td style = \"text-align: left;\">Black</td><td style = \"text-align: left;\">5</td><td style = \"text-align: right;\">16</td></tr><tr><td class = \"rowNumber\" style = \"font-weight: bold; text-align: right;\">8</td><td style = \"text-align: left;\">Bryce</td><td style = \"text-align: left;\">Brice</td><td style = \"text-align: left;\">7</td><td style = \"text-align: right;\">14</td></tr><tr><td class = \"rowNumber\" style = \"font-weight: bold; text-align: right;\">9</td><td style = \"text-align: left;\">Betty</td><td style = \"text-align: left;\">Btisan</td><td style = \"text-align: left;\">8</td><td style = \"text-align: right;\">15</td></tr><tr><td class = \"rowNumber\" style = \"font-weight: bold; text-align: right;\">10</td><td style = \"text-align: left;\">Bran</td><td style = \"text-align: left;\">Balwner</td><td style = \"text-align: left;\">6</td><td style = \"font-style: italic; text-align: right;\">missing</td></tr><tr><td class = \"rowNumber\" style = \"font-weight: bold; text-align: right;\">11</td><td style = \"font-style: italic; text-align: left;\">missing</td><td style = \"font-style: italic; text-align: left;\">missing</td><td style = \"text-align: left;\">9</td><td style = \"text-align: right;\">1</td></tr><tr><td class = \"rowNumber\" style = \"font-weight: bold; text-align: right;\">12</td><td style = \"font-style: italic; text-align: left;\">missing</td><td style = \"font-style: italic; text-align: left;\">missing</td><td style = \"text-align: left;\">10</td><td style = \"text-align: right;\">61</td></tr><tr><td class = \"rowNumber\" style = \"font-weight: bold; text-align: right;\">13</td><td style = \"font-style: italic; text-align: left;\">missing</td><td style = \"font-style: italic; text-align: left;\">missing</td><td style = \"text-align: left;\">11</td><td style = \"text-align: right;\">16</td></tr></tbody></table></div>"
      ],
      "text/latex": [
       "\\begin{tabular}{r|cccc}\n",
       "\t& first\\_name & last\\_name & subject\\_id & test\\_id\\\\\n",
       "\t\\hline\n",
       "\t& String? & String? & String & Int64?\\\\\n",
       "\t\\hline\n",
       "\t1 & Alex & Anderson & 1 & 51 \\\\\n",
       "\t2 & Amy & Ackerman & 2 & 15 \\\\\n",
       "\t3 & Allen & Ali & 3 & 15 \\\\\n",
       "\t4 & Alice & Aoni & 4 & 61 \\\\\n",
       "\t5 & Billy & Bonder & 4 & 61 \\\\\n",
       "\t6 & Ayoung & Atiches & 5 & 16 \\\\\n",
       "\t7 & Brian & Black & 5 & 16 \\\\\n",
       "\t8 & Bryce & Brice & 7 & 14 \\\\\n",
       "\t9 & Betty & Btisan & 8 & 15 \\\\\n",
       "\t10 & Bran & Balwner & 6 & \\emph{missing} \\\\\n",
       "\t11 & \\emph{missing} & \\emph{missing} & 9 & 1 \\\\\n",
       "\t12 & \\emph{missing} & \\emph{missing} & 10 & 61 \\\\\n",
       "\t13 & \\emph{missing} & \\emph{missing} & 11 & 16 \\\\\n",
       "\\end{tabular}\n"
      ],
      "text/plain": [
       "\u001b[1m13×4 DataFrame\u001b[0m\n",
       "\u001b[1m Row \u001b[0m│\u001b[1m first_name \u001b[0m\u001b[1m last_name \u001b[0m\u001b[1m subject_id \u001b[0m\u001b[1m test_id \u001b[0m\n",
       "     │\u001b[90m String?    \u001b[0m\u001b[90m String?   \u001b[0m\u001b[90m String     \u001b[0m\u001b[90m Int64?  \u001b[0m\n",
       "─────┼────────────────────────────────────────────\n",
       "   1 │ Alex        Anderson   1                51\n",
       "   2 │ Amy         Ackerman   2                15\n",
       "   3 │ Allen       Ali        3                15\n",
       "   4 │ Alice       Aoni       4                61\n",
       "   5 │ Billy       Bonder     4                61\n",
       "   6 │ Ayoung      Atiches    5                16\n",
       "   7 │ Brian       Black      5                16\n",
       "   8 │ Bryce       Brice      7                14\n",
       "   9 │ Betty       Btisan     8                15\n",
       "  10 │ Bran        Balwner    6          \u001b[90m missing \u001b[0m\n",
       "  11 │\u001b[90m missing    \u001b[0m\u001b[90m missing   \u001b[0m 9                 1\n",
       "  12 │\u001b[90m missing    \u001b[0m\u001b[90m missing   \u001b[0m 10               61\n",
       "  13 │\u001b[90m missing    \u001b[0m\u001b[90m missing   \u001b[0m 11               16"
      ]
     },
     "metadata": {},
     "output_type": "display_data"
    }
   ],
   "source": []
  },
  {
   "cell_type": "markdown",
   "metadata": {},
   "source": [
    "### Step 8. Merge only the data that has the same 'subject_id' on both data1 and data2"
   ]
  },
  {
   "cell_type": "code",
   "execution_count": 13,
   "metadata": {},
   "outputs": [
    {
     "data": {
      "text/html": [
       "<div><div style = \"float: left;\"><span>5×5 DataFrame</span></div><div style = \"clear: both;\"></div></div><div class = \"data-frame\" style = \"overflow-x: scroll;\"><table class = \"data-frame\" style = \"margin-bottom: 6px;\"><thead><tr class = \"header\"><th class = \"rowNumber\" style = \"font-weight: bold; text-align: right;\">Row</th><th style = \"text-align: left;\">first_name</th><th style = \"text-align: left;\">last_name</th><th style = \"text-align: left;\">subject_id</th><th style = \"text-align: left;\">first_name_1</th><th style = \"text-align: left;\">last_name_1</th></tr><tr class = \"subheader headerLastRow\"><th class = \"rowNumber\" style = \"font-weight: bold; text-align: right;\"></th><th title = \"String\" style = \"text-align: left;\">String</th><th title = \"String\" style = \"text-align: left;\">String</th><th title = \"String\" style = \"text-align: left;\">String</th><th title = \"Union{Missing, String}\" style = \"text-align: left;\">String?</th><th title = \"Union{Missing, String}\" style = \"text-align: left;\">String?</th></tr></thead><tbody><tr><td class = \"rowNumber\" style = \"font-weight: bold; text-align: right;\">1</td><td style = \"text-align: left;\">Alice</td><td style = \"text-align: left;\">Aoni</td><td style = \"text-align: left;\">4</td><td style = \"text-align: left;\">Billy</td><td style = \"text-align: left;\">Bonder</td></tr><tr><td class = \"rowNumber\" style = \"font-weight: bold; text-align: right;\">2</td><td style = \"text-align: left;\">Ayoung</td><td style = \"text-align: left;\">Atiches</td><td style = \"text-align: left;\">5</td><td style = \"text-align: left;\">Brian</td><td style = \"text-align: left;\">Black</td></tr><tr><td class = \"rowNumber\" style = \"font-weight: bold; text-align: right;\">3</td><td style = \"text-align: left;\">Alex</td><td style = \"text-align: left;\">Anderson</td><td style = \"text-align: left;\">1</td><td style = \"font-style: italic; text-align: left;\">missing</td><td style = \"font-style: italic; text-align: left;\">missing</td></tr><tr><td class = \"rowNumber\" style = \"font-weight: bold; text-align: right;\">4</td><td style = \"text-align: left;\">Amy</td><td style = \"text-align: left;\">Ackerman</td><td style = \"text-align: left;\">2</td><td style = \"font-style: italic; text-align: left;\">missing</td><td style = \"font-style: italic; text-align: left;\">missing</td></tr><tr><td class = \"rowNumber\" style = \"font-weight: bold; text-align: right;\">5</td><td style = \"text-align: left;\">Allen</td><td style = \"text-align: left;\">Ali</td><td style = \"text-align: left;\">3</td><td style = \"font-style: italic; text-align: left;\">missing</td><td style = \"font-style: italic; text-align: left;\">missing</td></tr></tbody></table></div>"
      ],
      "text/latex": [
       "\\begin{tabular}{r|ccccc}\n",
       "\t& first\\_name & last\\_name & subject\\_id & first\\_name\\_1 & last\\_name\\_1\\\\\n",
       "\t\\hline\n",
       "\t& String & String & String & String? & String?\\\\\n",
       "\t\\hline\n",
       "\t1 & Alice & Aoni & 4 & Billy & Bonder \\\\\n",
       "\t2 & Ayoung & Atiches & 5 & Brian & Black \\\\\n",
       "\t3 & Alex & Anderson & 1 & \\emph{missing} & \\emph{missing} \\\\\n",
       "\t4 & Amy & Ackerman & 2 & \\emph{missing} & \\emph{missing} \\\\\n",
       "\t5 & Allen & Ali & 3 & \\emph{missing} & \\emph{missing} \\\\\n",
       "\\end{tabular}\n"
      ],
      "text/plain": [
       "\u001b[1m5×5 DataFrame\u001b[0m\n",
       "\u001b[1m Row \u001b[0m│\u001b[1m first_name \u001b[0m\u001b[1m last_name \u001b[0m\u001b[1m subject_id \u001b[0m\u001b[1m first_name_1 \u001b[0m\u001b[1m last_name_1 \u001b[0m\n",
       "     │\u001b[90m String     \u001b[0m\u001b[90m String    \u001b[0m\u001b[90m String     \u001b[0m\u001b[90m String?      \u001b[0m\u001b[90m String?     \u001b[0m\n",
       "─────┼──────────────────────────────────────────────────────────────\n",
       "   1 │ Alice       Aoni       4           Billy         Bonder\n",
       "   2 │ Ayoung      Atiches    5           Brian         Black\n",
       "   3 │ Alex        Anderson   1          \u001b[90m missing      \u001b[0m\u001b[90m missing     \u001b[0m\n",
       "   4 │ Amy         Ackerman   2          \u001b[90m missing      \u001b[0m\u001b[90m missing     \u001b[0m\n",
       "   5 │ Allen       Ali        3          \u001b[90m missing      \u001b[0m\u001b[90m missing     \u001b[0m"
      ]
     },
     "metadata": {},
     "output_type": "display_data"
    }
   ],
   "source": []
  },
  {
   "cell_type": "code",
   "execution_count": 14,
   "metadata": {
    "collapsed": false
   },
   "outputs": [
    {
     "data": {
      "text/html": [
       "<div><div style = \"float: left;\"><span>2×5 DataFrame</span></div><div style = \"clear: both;\"></div></div><div class = \"data-frame\" style = \"overflow-x: scroll;\"><table class = \"data-frame\" style = \"margin-bottom: 6px;\"><thead><tr class = \"header\"><th class = \"rowNumber\" style = \"font-weight: bold; text-align: right;\">Row</th><th style = \"text-align: left;\">first_name</th><th style = \"text-align: left;\">last_name</th><th style = \"text-align: left;\">subject_id</th><th style = \"text-align: left;\">first_name_1</th><th style = \"text-align: left;\">last_name_1</th></tr><tr class = \"subheader headerLastRow\"><th class = \"rowNumber\" style = \"font-weight: bold; text-align: right;\"></th><th title = \"String\" style = \"text-align: left;\">String</th><th title = \"String\" style = \"text-align: left;\">String</th><th title = \"String\" style = \"text-align: left;\">String</th><th title = \"Union{Missing, String}\" style = \"text-align: left;\">String?</th><th title = \"Union{Missing, String}\" style = \"text-align: left;\">String?</th></tr></thead><tbody><tr><td class = \"rowNumber\" style = \"font-weight: bold; text-align: right;\">1</td><td style = \"text-align: left;\">Alice</td><td style = \"text-align: left;\">Aoni</td><td style = \"text-align: left;\">4</td><td style = \"text-align: left;\">Billy</td><td style = \"text-align: left;\">Bonder</td></tr><tr><td class = \"rowNumber\" style = \"font-weight: bold; text-align: right;\">2</td><td style = \"text-align: left;\">Ayoung</td><td style = \"text-align: left;\">Atiches</td><td style = \"text-align: left;\">5</td><td style = \"text-align: left;\">Brian</td><td style = \"text-align: left;\">Black</td></tr></tbody></table></div>"
      ],
      "text/latex": [
       "\\begin{tabular}{r|ccccc}\n",
       "\t& first\\_name & last\\_name & subject\\_id & first\\_name\\_1 & last\\_name\\_1\\\\\n",
       "\t\\hline\n",
       "\t& String & String & String & String? & String?\\\\\n",
       "\t\\hline\n",
       "\t1 & Alice & Aoni & 4 & Billy & Bonder \\\\\n",
       "\t2 & Ayoung & Atiches & 5 & Brian & Black \\\\\n",
       "\\end{tabular}\n"
      ],
      "text/plain": [
       "\u001b[1m2×5 DataFrame\u001b[0m\n",
       "\u001b[1m Row \u001b[0m│\u001b[1m first_name \u001b[0m\u001b[1m last_name \u001b[0m\u001b[1m subject_id \u001b[0m\u001b[1m first_name_1 \u001b[0m\u001b[1m last_name_1 \u001b[0m\n",
       "     │\u001b[90m String     \u001b[0m\u001b[90m String    \u001b[0m\u001b[90m String     \u001b[0m\u001b[90m String?      \u001b[0m\u001b[90m String?     \u001b[0m\n",
       "─────┼──────────────────────────────────────────────────────────────\n",
       "   1 │ Alice       Aoni       4           Billy         Bonder\n",
       "   2 │ Ayoung      Atiches    5           Brian         Black"
      ]
     },
     "metadata": {},
     "output_type": "display_data"
    }
   ],
   "source": []
  },
  {
   "cell_type": "markdown",
   "metadata": {},
   "source": [
    "### Step 9. Merge all values in data1 and data2, with matching records from both sides where available."
   ]
  },
  {
   "cell_type": "code",
   "execution_count": 15,
   "metadata": {
    "collapsed": false
   },
   "outputs": [
    {
     "data": {
      "text/html": [
       "<div><div style = \"float: left;\"><span>8×5 DataFrame</span></div><div style = \"clear: both;\"></div></div><div class = \"data-frame\" style = \"overflow-x: scroll;\"><table class = \"data-frame\" style = \"margin-bottom: 6px;\"><thead><tr class = \"header\"><th class = \"rowNumber\" style = \"font-weight: bold; text-align: right;\">Row</th><th style = \"text-align: left;\">first_name</th><th style = \"text-align: left;\">last_name</th><th style = \"text-align: left;\">subject_id</th><th style = \"text-align: left;\">first_name_1</th><th style = \"text-align: left;\">last_name_1</th></tr><tr class = \"subheader headerLastRow\"><th class = \"rowNumber\" style = \"font-weight: bold; text-align: right;\"></th><th title = \"Union{Missing, String}\" style = \"text-align: left;\">String?</th><th title = \"Union{Missing, String}\" style = \"text-align: left;\">String?</th><th title = \"String\" style = \"text-align: left;\">String</th><th title = \"Union{Missing, String}\" style = \"text-align: left;\">String?</th><th title = \"Union{Missing, String}\" style = \"text-align: left;\">String?</th></tr></thead><tbody><tr><td class = \"rowNumber\" style = \"font-weight: bold; text-align: right;\">1</td><td style = \"text-align: left;\">Alice</td><td style = \"text-align: left;\">Aoni</td><td style = \"text-align: left;\">4</td><td style = \"text-align: left;\">Billy</td><td style = \"text-align: left;\">Bonder</td></tr><tr><td class = \"rowNumber\" style = \"font-weight: bold; text-align: right;\">2</td><td style = \"text-align: left;\">Ayoung</td><td style = \"text-align: left;\">Atiches</td><td style = \"text-align: left;\">5</td><td style = \"text-align: left;\">Brian</td><td style = \"text-align: left;\">Black</td></tr><tr><td class = \"rowNumber\" style = \"font-weight: bold; text-align: right;\">3</td><td style = \"text-align: left;\">Alex</td><td style = \"text-align: left;\">Anderson</td><td style = \"text-align: left;\">1</td><td style = \"font-style: italic; text-align: left;\">missing</td><td style = \"font-style: italic; text-align: left;\">missing</td></tr><tr><td class = \"rowNumber\" style = \"font-weight: bold; text-align: right;\">4</td><td style = \"text-align: left;\">Amy</td><td style = \"text-align: left;\">Ackerman</td><td style = \"text-align: left;\">2</td><td style = \"font-style: italic; text-align: left;\">missing</td><td style = \"font-style: italic; text-align: left;\">missing</td></tr><tr><td class = \"rowNumber\" style = \"font-weight: bold; text-align: right;\">5</td><td style = \"text-align: left;\">Allen</td><td style = \"text-align: left;\">Ali</td><td style = \"text-align: left;\">3</td><td style = \"font-style: italic; text-align: left;\">missing</td><td style = \"font-style: italic; text-align: left;\">missing</td></tr><tr><td class = \"rowNumber\" style = \"font-weight: bold; text-align: right;\">6</td><td style = \"font-style: italic; text-align: left;\">missing</td><td style = \"font-style: italic; text-align: left;\">missing</td><td style = \"text-align: left;\">6</td><td style = \"text-align: left;\">Bran</td><td style = \"text-align: left;\">Balwner</td></tr><tr><td class = \"rowNumber\" style = \"font-weight: bold; text-align: right;\">7</td><td style = \"font-style: italic; text-align: left;\">missing</td><td style = \"font-style: italic; text-align: left;\">missing</td><td style = \"text-align: left;\">7</td><td style = \"text-align: left;\">Bryce</td><td style = \"text-align: left;\">Brice</td></tr><tr><td class = \"rowNumber\" style = \"font-weight: bold; text-align: right;\">8</td><td style = \"font-style: italic; text-align: left;\">missing</td><td style = \"font-style: italic; text-align: left;\">missing</td><td style = \"text-align: left;\">8</td><td style = \"text-align: left;\">Betty</td><td style = \"text-align: left;\">Btisan</td></tr></tbody></table></div>"
      ],
      "text/latex": [
       "\\begin{tabular}{r|ccccc}\n",
       "\t& first\\_name & last\\_name & subject\\_id & first\\_name\\_1 & last\\_name\\_1\\\\\n",
       "\t\\hline\n",
       "\t& String? & String? & String & String? & String?\\\\\n",
       "\t\\hline\n",
       "\t1 & Alice & Aoni & 4 & Billy & Bonder \\\\\n",
       "\t2 & Ayoung & Atiches & 5 & Brian & Black \\\\\n",
       "\t3 & Alex & Anderson & 1 & \\emph{missing} & \\emph{missing} \\\\\n",
       "\t4 & Amy & Ackerman & 2 & \\emph{missing} & \\emph{missing} \\\\\n",
       "\t5 & Allen & Ali & 3 & \\emph{missing} & \\emph{missing} \\\\\n",
       "\t6 & \\emph{missing} & \\emph{missing} & 6 & Bran & Balwner \\\\\n",
       "\t7 & \\emph{missing} & \\emph{missing} & 7 & Bryce & Brice \\\\\n",
       "\t8 & \\emph{missing} & \\emph{missing} & 8 & Betty & Btisan \\\\\n",
       "\\end{tabular}\n"
      ],
      "text/plain": [
       "\u001b[1m8×5 DataFrame\u001b[0m\n",
       "\u001b[1m Row \u001b[0m│\u001b[1m first_name \u001b[0m\u001b[1m last_name \u001b[0m\u001b[1m subject_id \u001b[0m\u001b[1m first_name_1 \u001b[0m\u001b[1m last_name_1 \u001b[0m\n",
       "     │\u001b[90m String?    \u001b[0m\u001b[90m String?   \u001b[0m\u001b[90m String     \u001b[0m\u001b[90m String?      \u001b[0m\u001b[90m String?     \u001b[0m\n",
       "─────┼──────────────────────────────────────────────────────────────\n",
       "   1 │ Alice       Aoni       4           Billy         Bonder\n",
       "   2 │ Ayoung      Atiches    5           Brian         Black\n",
       "   3 │ Alex        Anderson   1          \u001b[90m missing      \u001b[0m\u001b[90m missing     \u001b[0m\n",
       "   4 │ Amy         Ackerman   2          \u001b[90m missing      \u001b[0m\u001b[90m missing     \u001b[0m\n",
       "   5 │ Allen       Ali        3          \u001b[90m missing      \u001b[0m\u001b[90m missing     \u001b[0m\n",
       "   6 │\u001b[90m missing    \u001b[0m\u001b[90m missing   \u001b[0m 6           Bran          Balwner\n",
       "   7 │\u001b[90m missing    \u001b[0m\u001b[90m missing   \u001b[0m 7           Bryce         Brice\n",
       "   8 │\u001b[90m missing    \u001b[0m\u001b[90m missing   \u001b[0m 8           Betty         Btisan"
      ]
     },
     "metadata": {},
     "output_type": "display_data"
    }
   ],
   "source": []
  },
  {
   "cell_type": "code",
   "execution_count": null,
   "metadata": {},
   "outputs": [],
   "source": []
  }
 ],
 "metadata": {
  "kernelspec": {
   "display_name": "Julia 1.10.3",
   "language": "julia",
   "name": "julia-1.10"
  },
  "language_info": {
   "file_extension": ".jl",
   "mimetype": "application/julia",
   "name": "julia",
   "version": "1.10.3"
  }
 },
 "nbformat": 4,
 "nbformat_minor": 0
}
