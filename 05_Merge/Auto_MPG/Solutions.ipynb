{
 "cells": [
  {
   "cell_type": "markdown",
   "metadata": {},
   "source": [
    "# MPG Cars"
   ]
  },
  {
   "cell_type": "markdown",
   "metadata": {},
   "source": [
    "### Introduction:\n",
    "\n",
    "The following exercise utilizes data from [UC Irvine Machine Learning Repository](https://archive.ics.uci.edu/ml/datasets/Auto+MPG)\n",
    "\n",
    "### Step 1. Import the necessary libraries"
   ]
  },
  {
   "cell_type": "code",
   "execution_count": null,
   "metadata": {
    "collapsed": false
   },
   "outputs": [],
   "source": []
  },
  {
   "cell_type": "markdown",
   "metadata": {},
   "source": [
    "### Step 2. Import the first dataset [cars1](https://raw.githubusercontent.com/guipsamora/pandas_exercises/master/05_Merge/Auto_MPG/cars1.csv) and [cars2](https://raw.githubusercontent.com/guipsamora/pandas_exercises/master/05_Merge/Auto_MPG/cars2.csv).  "
   ]
  },
  {
   "cell_type": "markdown",
   "metadata": {},
   "source": [
    "   ### Step 3. Assign each to a variable called cars1 and cars2"
   ]
  },
  {
   "cell_type": "code",
   "execution_count": 2,
   "metadata": {
    "collapsed": false
   },
   "outputs": [],
   "source": []
  },
  {
   "cell_type": "code",
   "execution_count": 3,
   "metadata": {},
   "outputs": [
    {
     "data": {
      "text/html": [
       "<div><div style = \"float: left;\"><span>5×14 DataFrame</span></div><div style = \"clear: both;\"></div></div><div class = \"data-frame\" style = \"overflow-x: scroll;\"><table class = \"data-frame\" style = \"margin-bottom: 6px;\"><thead><tr class = \"header\"><th class = \"rowNumber\" style = \"font-weight: bold; text-align: right;\">Row</th><th style = \"text-align: left;\">mpg</th><th style = \"text-align: left;\">cylinders</th><th style = \"text-align: left;\">displacement</th><th style = \"text-align: left;\">horsepower</th><th style = \"text-align: left;\">weight</th><th style = \"text-align: left;\">acceleration</th><th style = \"text-align: left;\">model</th><th style = \"text-align: left;\">origin</th><th style = \"text-align: left;\">car</th><th style = \"text-align: left;\">Column10</th><th style = \"text-align: left;\">Column11</th><th style = \"text-align: left;\">Column12</th><th style = \"text-align: left;\">Column13</th><th style = \"text-align: left;\">Column14</th></tr><tr class = \"subheader headerLastRow\"><th class = \"rowNumber\" style = \"font-weight: bold; text-align: right;\"></th><th title = \"Float64\" style = \"text-align: left;\">Float64</th><th title = \"Int64\" style = \"text-align: left;\">Int64</th><th title = \"Int64\" style = \"text-align: left;\">Int64</th><th title = \"String3\" style = \"text-align: left;\">String3</th><th title = \"Int64\" style = \"text-align: left;\">Int64</th><th title = \"Float64\" style = \"text-align: left;\">Float64</th><th title = \"Int64\" style = \"text-align: left;\">Int64</th><th title = \"Int64\" style = \"text-align: left;\">Int64</th><th title = \"String\" style = \"text-align: left;\">String</th><th title = \"Missing\" style = \"text-align: left;\">Missing</th><th title = \"Missing\" style = \"text-align: left;\">Missing</th><th title = \"Missing\" style = \"text-align: left;\">Missing</th><th title = \"Missing\" style = \"text-align: left;\">Missing</th><th title = \"Missing\" style = \"text-align: left;\">Missing</th></tr></thead><tbody><tr><td class = \"rowNumber\" style = \"font-weight: bold; text-align: right;\">1</td><td style = \"text-align: right;\">18.0</td><td style = \"text-align: right;\">8</td><td style = \"text-align: right;\">307</td><td style = \"text-align: left;\">130</td><td style = \"text-align: right;\">3504</td><td style = \"text-align: right;\">12.0</td><td style = \"text-align: right;\">70</td><td style = \"text-align: right;\">1</td><td style = \"text-align: left;\">chevrolet chevelle malibu</td><td style = \"font-style: italic; text-align: right;\">missing</td><td style = \"font-style: italic; text-align: right;\">missing</td><td style = \"font-style: italic; text-align: right;\">missing</td><td style = \"font-style: italic; text-align: right;\">missing</td><td style = \"font-style: italic; text-align: right;\">missing</td></tr><tr><td class = \"rowNumber\" style = \"font-weight: bold; text-align: right;\">2</td><td style = \"text-align: right;\">15.0</td><td style = \"text-align: right;\">8</td><td style = \"text-align: right;\">350</td><td style = \"text-align: left;\">165</td><td style = \"text-align: right;\">3693</td><td style = \"text-align: right;\">11.5</td><td style = \"text-align: right;\">70</td><td style = \"text-align: right;\">1</td><td style = \"text-align: left;\">buick skylark 320</td><td style = \"font-style: italic; text-align: right;\">missing</td><td style = \"font-style: italic; text-align: right;\">missing</td><td style = \"font-style: italic; text-align: right;\">missing</td><td style = \"font-style: italic; text-align: right;\">missing</td><td style = \"font-style: italic; text-align: right;\">missing</td></tr><tr><td class = \"rowNumber\" style = \"font-weight: bold; text-align: right;\">3</td><td style = \"text-align: right;\">18.0</td><td style = \"text-align: right;\">8</td><td style = \"text-align: right;\">318</td><td style = \"text-align: left;\">150</td><td style = \"text-align: right;\">3436</td><td style = \"text-align: right;\">11.0</td><td style = \"text-align: right;\">70</td><td style = \"text-align: right;\">1</td><td style = \"text-align: left;\">plymouth satellite</td><td style = \"font-style: italic; text-align: right;\">missing</td><td style = \"font-style: italic; text-align: right;\">missing</td><td style = \"font-style: italic; text-align: right;\">missing</td><td style = \"font-style: italic; text-align: right;\">missing</td><td style = \"font-style: italic; text-align: right;\">missing</td></tr><tr><td class = \"rowNumber\" style = \"font-weight: bold; text-align: right;\">4</td><td style = \"text-align: right;\">16.0</td><td style = \"text-align: right;\">8</td><td style = \"text-align: right;\">304</td><td style = \"text-align: left;\">150</td><td style = \"text-align: right;\">3433</td><td style = \"text-align: right;\">12.0</td><td style = \"text-align: right;\">70</td><td style = \"text-align: right;\">1</td><td style = \"text-align: left;\">amc rebel sst</td><td style = \"font-style: italic; text-align: right;\">missing</td><td style = \"font-style: italic; text-align: right;\">missing</td><td style = \"font-style: italic; text-align: right;\">missing</td><td style = \"font-style: italic; text-align: right;\">missing</td><td style = \"font-style: italic; text-align: right;\">missing</td></tr><tr><td class = \"rowNumber\" style = \"font-weight: bold; text-align: right;\">5</td><td style = \"text-align: right;\">17.0</td><td style = \"text-align: right;\">8</td><td style = \"text-align: right;\">302</td><td style = \"text-align: left;\">140</td><td style = \"text-align: right;\">3449</td><td style = \"text-align: right;\">10.5</td><td style = \"text-align: right;\">70</td><td style = \"text-align: right;\">1</td><td style = \"text-align: left;\">ford torino</td><td style = \"font-style: italic; text-align: right;\">missing</td><td style = \"font-style: italic; text-align: right;\">missing</td><td style = \"font-style: italic; text-align: right;\">missing</td><td style = \"font-style: italic; text-align: right;\">missing</td><td style = \"font-style: italic; text-align: right;\">missing</td></tr></tbody></table></div>"
      ],
      "text/latex": [
       "\\begin{tabular}{r|ccccccccc}\n",
       "\t& mpg & cylinders & displacement & horsepower & weight & acceleration & model & origin & \\\\\n",
       "\t\\hline\n",
       "\t& Float64 & Int64 & Int64 & String3 & Int64 & Float64 & Int64 & Int64 & \\\\\n",
       "\t\\hline\n",
       "\t1 & 18.0 & 8 & 307 & 130 & 3504 & 12.0 & 70 & 1 & $\\dots$ \\\\\n",
       "\t2 & 15.0 & 8 & 350 & 165 & 3693 & 11.5 & 70 & 1 & $\\dots$ \\\\\n",
       "\t3 & 18.0 & 8 & 318 & 150 & 3436 & 11.0 & 70 & 1 & $\\dots$ \\\\\n",
       "\t4 & 16.0 & 8 & 304 & 150 & 3433 & 12.0 & 70 & 1 & $\\dots$ \\\\\n",
       "\t5 & 17.0 & 8 & 302 & 140 & 3449 & 10.5 & 70 & 1 & $\\dots$ \\\\\n",
       "\\end{tabular}\n"
      ],
      "text/plain": [
       "\u001b[1m5×14 DataFrame\u001b[0m\n",
       "\u001b[1m Row \u001b[0m│\u001b[1m mpg     \u001b[0m\u001b[1m cylinders \u001b[0m\u001b[1m displacement \u001b[0m\u001b[1m horsepower \u001b[0m\u001b[1m weight \u001b[0m\u001b[1m acceleration \u001b[0m\u001b[1m mod\u001b[0m ⋯\n",
       "     │\u001b[90m Float64 \u001b[0m\u001b[90m Int64     \u001b[0m\u001b[90m Int64        \u001b[0m\u001b[90m String3    \u001b[0m\u001b[90m Int64  \u001b[0m\u001b[90m Float64      \u001b[0m\u001b[90m Int\u001b[0m ⋯\n",
       "─────┼──────────────────────────────────────────────────────────────────────────\n",
       "   1 │    18.0          8           307  130           3504          12.0      ⋯\n",
       "   2 │    15.0          8           350  165           3693          11.5\n",
       "   3 │    18.0          8           318  150           3436          11.0\n",
       "   4 │    16.0          8           304  150           3433          12.0\n",
       "   5 │    17.0          8           302  140           3449          10.5      ⋯\n",
       "\u001b[36m                                                               8 columns omitted\u001b[0m"
      ]
     },
     "metadata": {},
     "output_type": "display_data"
    }
   ],
   "source": []
  },
  {
   "cell_type": "code",
   "execution_count": 4,
   "metadata": {},
   "outputs": [
    {
     "data": {
      "text/html": [
       "<div><div style = \"float: left;\"><span>5×9 DataFrame</span></div><div style = \"clear: both;\"></div></div><div class = \"data-frame\" style = \"overflow-x: scroll;\"><table class = \"data-frame\" style = \"margin-bottom: 6px;\"><thead><tr class = \"header\"><th class = \"rowNumber\" style = \"font-weight: bold; text-align: right;\">Row</th><th style = \"text-align: left;\">mpg</th><th style = \"text-align: left;\">cylinders</th><th style = \"text-align: left;\">displacement</th><th style = \"text-align: left;\">horsepower</th><th style = \"text-align: left;\">weight</th><th style = \"text-align: left;\">acceleration</th><th style = \"text-align: left;\">model</th><th style = \"text-align: left;\">origin</th><th style = \"text-align: left;\">car</th></tr><tr class = \"subheader headerLastRow\"><th class = \"rowNumber\" style = \"font-weight: bold; text-align: right;\"></th><th title = \"Float64\" style = \"text-align: left;\">Float64</th><th title = \"Int64\" style = \"text-align: left;\">Int64</th><th title = \"Int64\" style = \"text-align: left;\">Int64</th><th title = \"String3\" style = \"text-align: left;\">String3</th><th title = \"Int64\" style = \"text-align: left;\">Int64</th><th title = \"Float64\" style = \"text-align: left;\">Float64</th><th title = \"Int64\" style = \"text-align: left;\">Int64</th><th title = \"Int64\" style = \"text-align: left;\">Int64</th><th title = \"String\" style = \"text-align: left;\">String</th></tr></thead><tbody><tr><td class = \"rowNumber\" style = \"font-weight: bold; text-align: right;\">1</td><td style = \"text-align: right;\">33.0</td><td style = \"text-align: right;\">4</td><td style = \"text-align: right;\">91</td><td style = \"text-align: left;\">53</td><td style = \"text-align: right;\">1795</td><td style = \"text-align: right;\">17.4</td><td style = \"text-align: right;\">76</td><td style = \"text-align: right;\">3</td><td style = \"text-align: left;\">honda civic</td></tr><tr><td class = \"rowNumber\" style = \"font-weight: bold; text-align: right;\">2</td><td style = \"text-align: right;\">20.0</td><td style = \"text-align: right;\">6</td><td style = \"text-align: right;\">225</td><td style = \"text-align: left;\">100</td><td style = \"text-align: right;\">3651</td><td style = \"text-align: right;\">17.7</td><td style = \"text-align: right;\">76</td><td style = \"text-align: right;\">1</td><td style = \"text-align: left;\">dodge aspen se</td></tr><tr><td class = \"rowNumber\" style = \"font-weight: bold; text-align: right;\">3</td><td style = \"text-align: right;\">18.0</td><td style = \"text-align: right;\">6</td><td style = \"text-align: right;\">250</td><td style = \"text-align: left;\">78</td><td style = \"text-align: right;\">3574</td><td style = \"text-align: right;\">21.0</td><td style = \"text-align: right;\">76</td><td style = \"text-align: right;\">1</td><td style = \"text-align: left;\">ford granada ghia</td></tr><tr><td class = \"rowNumber\" style = \"font-weight: bold; text-align: right;\">4</td><td style = \"text-align: right;\">18.5</td><td style = \"text-align: right;\">6</td><td style = \"text-align: right;\">250</td><td style = \"text-align: left;\">110</td><td style = \"text-align: right;\">3645</td><td style = \"text-align: right;\">16.2</td><td style = \"text-align: right;\">76</td><td style = \"text-align: right;\">1</td><td style = \"text-align: left;\">pontiac ventura sj</td></tr><tr><td class = \"rowNumber\" style = \"font-weight: bold; text-align: right;\">5</td><td style = \"text-align: right;\">17.5</td><td style = \"text-align: right;\">6</td><td style = \"text-align: right;\">258</td><td style = \"text-align: left;\">95</td><td style = \"text-align: right;\">3193</td><td style = \"text-align: right;\">17.8</td><td style = \"text-align: right;\">76</td><td style = \"text-align: right;\">1</td><td style = \"text-align: left;\">amc pacer d/l</td></tr></tbody></table></div>"
      ],
      "text/latex": [
       "\\begin{tabular}{r|ccccccccc}\n",
       "\t& mpg & cylinders & displacement & horsepower & weight & acceleration & model & origin & \\\\\n",
       "\t\\hline\n",
       "\t& Float64 & Int64 & Int64 & String3 & Int64 & Float64 & Int64 & Int64 & \\\\\n",
       "\t\\hline\n",
       "\t1 & 33.0 & 4 & 91 & 53 & 1795 & 17.4 & 76 & 3 & $\\dots$ \\\\\n",
       "\t2 & 20.0 & 6 & 225 & 100 & 3651 & 17.7 & 76 & 1 & $\\dots$ \\\\\n",
       "\t3 & 18.0 & 6 & 250 & 78 & 3574 & 21.0 & 76 & 1 & $\\dots$ \\\\\n",
       "\t4 & 18.5 & 6 & 250 & 110 & 3645 & 16.2 & 76 & 1 & $\\dots$ \\\\\n",
       "\t5 & 17.5 & 6 & 258 & 95 & 3193 & 17.8 & 76 & 1 & $\\dots$ \\\\\n",
       "\\end{tabular}\n"
      ],
      "text/plain": [
       "\u001b[1m5×9 DataFrame\u001b[0m\n",
       "\u001b[1m Row \u001b[0m│\u001b[1m mpg     \u001b[0m\u001b[1m cylinders \u001b[0m\u001b[1m displacement \u001b[0m\u001b[1m horsepower \u001b[0m\u001b[1m weight \u001b[0m\u001b[1m acceleration \u001b[0m\u001b[1m mod\u001b[0m ⋯\n",
       "     │\u001b[90m Float64 \u001b[0m\u001b[90m Int64     \u001b[0m\u001b[90m Int64        \u001b[0m\u001b[90m String3    \u001b[0m\u001b[90m Int64  \u001b[0m\u001b[90m Float64      \u001b[0m\u001b[90m Int\u001b[0m ⋯\n",
       "─────┼──────────────────────────────────────────────────────────────────────────\n",
       "   1 │    33.0          4            91  53            1795          17.4      ⋯\n",
       "   2 │    20.0          6           225  100           3651          17.7\n",
       "   3 │    18.0          6           250  78            3574          21.0\n",
       "   4 │    18.5          6           250  110           3645          16.2\n",
       "   5 │    17.5          6           258  95            3193          17.8      ⋯\n",
       "\u001b[36m                                                               3 columns omitted\u001b[0m"
      ]
     },
     "metadata": {},
     "output_type": "display_data"
    }
   ],
   "source": []
  },
  {
   "cell_type": "markdown",
   "metadata": {},
   "source": [
    "### Step 4. Oops, it seems our first dataset has some unnamed blank columns, fix cars1"
   ]
  },
  {
   "cell_type": "code",
   "execution_count": 5,
   "metadata": {
    "collapsed": false
   },
   "outputs": [
    {
     "data": {
      "text/html": [
       "<div><div style = \"float: left;\"><span>5×9 DataFrame</span></div><div style = \"clear: both;\"></div></div><div class = \"data-frame\" style = \"overflow-x: scroll;\"><table class = \"data-frame\" style = \"margin-bottom: 6px;\"><thead><tr class = \"header\"><th class = \"rowNumber\" style = \"font-weight: bold; text-align: right;\">Row</th><th style = \"text-align: left;\">mpg</th><th style = \"text-align: left;\">cylinders</th><th style = \"text-align: left;\">displacement</th><th style = \"text-align: left;\">horsepower</th><th style = \"text-align: left;\">weight</th><th style = \"text-align: left;\">acceleration</th><th style = \"text-align: left;\">model</th><th style = \"text-align: left;\">origin</th><th style = \"text-align: left;\">car</th></tr><tr class = \"subheader headerLastRow\"><th class = \"rowNumber\" style = \"font-weight: bold; text-align: right;\"></th><th title = \"Float64\" style = \"text-align: left;\">Float64</th><th title = \"Int64\" style = \"text-align: left;\">Int64</th><th title = \"Int64\" style = \"text-align: left;\">Int64</th><th title = \"String3\" style = \"text-align: left;\">String3</th><th title = \"Int64\" style = \"text-align: left;\">Int64</th><th title = \"Float64\" style = \"text-align: left;\">Float64</th><th title = \"Int64\" style = \"text-align: left;\">Int64</th><th title = \"Int64\" style = \"text-align: left;\">Int64</th><th title = \"String\" style = \"text-align: left;\">String</th></tr></thead><tbody><tr><td class = \"rowNumber\" style = \"font-weight: bold; text-align: right;\">1</td><td style = \"text-align: right;\">18.0</td><td style = \"text-align: right;\">8</td><td style = \"text-align: right;\">307</td><td style = \"text-align: left;\">130</td><td style = \"text-align: right;\">3504</td><td style = \"text-align: right;\">12.0</td><td style = \"text-align: right;\">70</td><td style = \"text-align: right;\">1</td><td style = \"text-align: left;\">chevrolet chevelle malibu</td></tr><tr><td class = \"rowNumber\" style = \"font-weight: bold; text-align: right;\">2</td><td style = \"text-align: right;\">15.0</td><td style = \"text-align: right;\">8</td><td style = \"text-align: right;\">350</td><td style = \"text-align: left;\">165</td><td style = \"text-align: right;\">3693</td><td style = \"text-align: right;\">11.5</td><td style = \"text-align: right;\">70</td><td style = \"text-align: right;\">1</td><td style = \"text-align: left;\">buick skylark 320</td></tr><tr><td class = \"rowNumber\" style = \"font-weight: bold; text-align: right;\">3</td><td style = \"text-align: right;\">18.0</td><td style = \"text-align: right;\">8</td><td style = \"text-align: right;\">318</td><td style = \"text-align: left;\">150</td><td style = \"text-align: right;\">3436</td><td style = \"text-align: right;\">11.0</td><td style = \"text-align: right;\">70</td><td style = \"text-align: right;\">1</td><td style = \"text-align: left;\">plymouth satellite</td></tr><tr><td class = \"rowNumber\" style = \"font-weight: bold; text-align: right;\">4</td><td style = \"text-align: right;\">16.0</td><td style = \"text-align: right;\">8</td><td style = \"text-align: right;\">304</td><td style = \"text-align: left;\">150</td><td style = \"text-align: right;\">3433</td><td style = \"text-align: right;\">12.0</td><td style = \"text-align: right;\">70</td><td style = \"text-align: right;\">1</td><td style = \"text-align: left;\">amc rebel sst</td></tr><tr><td class = \"rowNumber\" style = \"font-weight: bold; text-align: right;\">5</td><td style = \"text-align: right;\">17.0</td><td style = \"text-align: right;\">8</td><td style = \"text-align: right;\">302</td><td style = \"text-align: left;\">140</td><td style = \"text-align: right;\">3449</td><td style = \"text-align: right;\">10.5</td><td style = \"text-align: right;\">70</td><td style = \"text-align: right;\">1</td><td style = \"text-align: left;\">ford torino</td></tr></tbody></table></div>"
      ],
      "text/latex": [
       "\\begin{tabular}{r|ccccccccc}\n",
       "\t& mpg & cylinders & displacement & horsepower & weight & acceleration & model & origin & \\\\\n",
       "\t\\hline\n",
       "\t& Float64 & Int64 & Int64 & String3 & Int64 & Float64 & Int64 & Int64 & \\\\\n",
       "\t\\hline\n",
       "\t1 & 18.0 & 8 & 307 & 130 & 3504 & 12.0 & 70 & 1 & $\\dots$ \\\\\n",
       "\t2 & 15.0 & 8 & 350 & 165 & 3693 & 11.5 & 70 & 1 & $\\dots$ \\\\\n",
       "\t3 & 18.0 & 8 & 318 & 150 & 3436 & 11.0 & 70 & 1 & $\\dots$ \\\\\n",
       "\t4 & 16.0 & 8 & 304 & 150 & 3433 & 12.0 & 70 & 1 & $\\dots$ \\\\\n",
       "\t5 & 17.0 & 8 & 302 & 140 & 3449 & 10.5 & 70 & 1 & $\\dots$ \\\\\n",
       "\\end{tabular}\n"
      ],
      "text/plain": [
       "\u001b[1m5×9 DataFrame\u001b[0m\n",
       "\u001b[1m Row \u001b[0m│\u001b[1m mpg     \u001b[0m\u001b[1m cylinders \u001b[0m\u001b[1m displacement \u001b[0m\u001b[1m horsepower \u001b[0m\u001b[1m weight \u001b[0m\u001b[1m acceleration \u001b[0m\u001b[1m mod\u001b[0m ⋯\n",
       "     │\u001b[90m Float64 \u001b[0m\u001b[90m Int64     \u001b[0m\u001b[90m Int64        \u001b[0m\u001b[90m String3    \u001b[0m\u001b[90m Int64  \u001b[0m\u001b[90m Float64      \u001b[0m\u001b[90m Int\u001b[0m ⋯\n",
       "─────┼──────────────────────────────────────────────────────────────────────────\n",
       "   1 │    18.0          8           307  130           3504          12.0      ⋯\n",
       "   2 │    15.0          8           350  165           3693          11.5\n",
       "   3 │    18.0          8           318  150           3436          11.0\n",
       "   4 │    16.0          8           304  150           3433          12.0\n",
       "   5 │    17.0          8           302  140           3449          10.5      ⋯\n",
       "\u001b[36m                                                               3 columns omitted\u001b[0m"
      ]
     },
     "metadata": {},
     "output_type": "display_data"
    }
   ],
   "source": []
  },
  {
   "cell_type": "markdown",
   "metadata": {},
   "source": [
    "### Step 5. What is the number of observations in each dataset?"
   ]
  },
  {
   "cell_type": "code",
   "execution_count": 6,
   "metadata": {
    "collapsed": false
   },
   "outputs": [
    {
     "name": "stdout",
     "output_type": "stream",
     "text": [
      "n_observations_cars1 = (198, 9)\n",
      "n_observations_cars2 = (200, 9)\n"
     ]
    }
   ],
   "source": []
  },
  {
   "cell_type": "markdown",
   "metadata": {},
   "source": [
    "### Step 6. Join cars1 and cars2 into a single DataFrame called cars"
   ]
  },
  {
   "cell_type": "code",
   "execution_count": 7,
   "metadata": {
    "collapsed": false
   },
   "outputs": [
    {
     "data": {
      "text/html": [
       "<div><div style = \"float: left;\"><span>3×9 DataFrame</span></div><div style = \"clear: both;\"></div></div><div class = \"data-frame\" style = \"overflow-x: scroll;\"><table class = \"data-frame\" style = \"margin-bottom: 6px;\"><thead><tr class = \"header\"><th class = \"rowNumber\" style = \"font-weight: bold; text-align: right;\">Row</th><th style = \"text-align: left;\">mpg</th><th style = \"text-align: left;\">cylinders</th><th style = \"text-align: left;\">displacement</th><th style = \"text-align: left;\">horsepower</th><th style = \"text-align: left;\">weight</th><th style = \"text-align: left;\">acceleration</th><th style = \"text-align: left;\">model</th><th style = \"text-align: left;\">origin</th><th style = \"text-align: left;\">car</th></tr><tr class = \"subheader headerLastRow\"><th class = \"rowNumber\" style = \"font-weight: bold; text-align: right;\"></th><th title = \"Float64\" style = \"text-align: left;\">Float64</th><th title = \"Int64\" style = \"text-align: left;\">Int64</th><th title = \"Int64\" style = \"text-align: left;\">Int64</th><th title = \"String3\" style = \"text-align: left;\">String3</th><th title = \"Int64\" style = \"text-align: left;\">Int64</th><th title = \"Float64\" style = \"text-align: left;\">Float64</th><th title = \"Int64\" style = \"text-align: left;\">Int64</th><th title = \"Int64\" style = \"text-align: left;\">Int64</th><th title = \"String\" style = \"text-align: left;\">String</th></tr></thead><tbody><tr><td class = \"rowNumber\" style = \"font-weight: bold; text-align: right;\">1</td><td style = \"text-align: right;\">18.0</td><td style = \"text-align: right;\">8</td><td style = \"text-align: right;\">307</td><td style = \"text-align: left;\">130</td><td style = \"text-align: right;\">3504</td><td style = \"text-align: right;\">12.0</td><td style = \"text-align: right;\">70</td><td style = \"text-align: right;\">1</td><td style = \"text-align: left;\">chevrolet chevelle malibu</td></tr><tr><td class = \"rowNumber\" style = \"font-weight: bold; text-align: right;\">2</td><td style = \"text-align: right;\">15.0</td><td style = \"text-align: right;\">8</td><td style = \"text-align: right;\">350</td><td style = \"text-align: left;\">165</td><td style = \"text-align: right;\">3693</td><td style = \"text-align: right;\">11.5</td><td style = \"text-align: right;\">70</td><td style = \"text-align: right;\">1</td><td style = \"text-align: left;\">buick skylark 320</td></tr><tr><td class = \"rowNumber\" style = \"font-weight: bold; text-align: right;\">3</td><td style = \"text-align: right;\">18.0</td><td style = \"text-align: right;\">8</td><td style = \"text-align: right;\">318</td><td style = \"text-align: left;\">150</td><td style = \"text-align: right;\">3436</td><td style = \"text-align: right;\">11.0</td><td style = \"text-align: right;\">70</td><td style = \"text-align: right;\">1</td><td style = \"text-align: left;\">plymouth satellite</td></tr></tbody></table></div>"
      ],
      "text/latex": [
       "\\begin{tabular}{r|ccccccccc}\n",
       "\t& mpg & cylinders & displacement & horsepower & weight & acceleration & model & origin & \\\\\n",
       "\t\\hline\n",
       "\t& Float64 & Int64 & Int64 & String3 & Int64 & Float64 & Int64 & Int64 & \\\\\n",
       "\t\\hline\n",
       "\t1 & 18.0 & 8 & 307 & 130 & 3504 & 12.0 & 70 & 1 & $\\dots$ \\\\\n",
       "\t2 & 15.0 & 8 & 350 & 165 & 3693 & 11.5 & 70 & 1 & $\\dots$ \\\\\n",
       "\t3 & 18.0 & 8 & 318 & 150 & 3436 & 11.0 & 70 & 1 & $\\dots$ \\\\\n",
       "\\end{tabular}\n"
      ],
      "text/plain": [
       "\u001b[1m3×9 DataFrame\u001b[0m\n",
       "\u001b[1m Row \u001b[0m│\u001b[1m mpg     \u001b[0m\u001b[1m cylinders \u001b[0m\u001b[1m displacement \u001b[0m\u001b[1m horsepower \u001b[0m\u001b[1m weight \u001b[0m\u001b[1m acceleration \u001b[0m\u001b[1m mod\u001b[0m ⋯\n",
       "     │\u001b[90m Float64 \u001b[0m\u001b[90m Int64     \u001b[0m\u001b[90m Int64        \u001b[0m\u001b[90m String3    \u001b[0m\u001b[90m Int64  \u001b[0m\u001b[90m Float64      \u001b[0m\u001b[90m Int\u001b[0m ⋯\n",
       "─────┼──────────────────────────────────────────────────────────────────────────\n",
       "   1 │    18.0          8           307  130           3504          12.0      ⋯\n",
       "   2 │    15.0          8           350  165           3693          11.5\n",
       "   3 │    18.0          8           318  150           3436          11.0\n",
       "\u001b[36m                                                               3 columns omitted\u001b[0m"
      ]
     },
     "metadata": {},
     "output_type": "display_data"
    }
   ],
   "source": []
  },
  {
   "cell_type": "markdown",
   "metadata": {},
   "source": [
    "### Step 7. Oops, there is a column missing, called owners. Create a random number Series from 15,000 to 73,000."
   ]
  },
  {
   "cell_type": "code",
   "execution_count": 8,
   "metadata": {},
   "outputs": [
    {
     "name": "stdout",
     "output_type": "stream",
     "text": [
      "nr_owners = [31773, 60393, 54442, 68173, 48611, 23320, 37841, 62290, 48456, 30101, 53905, 25883, 32955, 58807, 41901, 25182, 49151, 40772, 41649, 41823, 32566, 49061, 35008, 40470, 37243, 44504, 37129, 44254, 69608, 50710, 42261, 50050, 66400, 40420, 31980, 68536, 21177, 16707, 69830, 48150, 54085, 38497, 49993, 23977, 27640, 43919, 36021, 22459, 62168, 54538, 52565, 19875, 37320, 60287, 49363, 34648, 60135, 36125, 37649, 68957, 51453, 69495, 60272, 54912, 23387, 48297, 48233, 15381, 39032, 20646, 48470, 48022, 15331, 43569, 50313, 38224, 28140, 50356, 21781, 24654, 70273, 51689, 41900, 17556, 37828, 66145, 20538, 61751, 50180, 26854, 28998, 63136, 52601, 33975, 51558, 63855, 72589, 61463, 39941, 34713, 37730, 71496, 21576, 23037, 46769, 48488, 38520, 23091, 17907, 45916, 45842, 68683, 36085, 35524, 65966, 38284, 70431, 26234, 43681, 29073, 23277, 41310, 52684, 39363, 39654, 50427, 48014, 58614, 23990, 48748, 47528, 69135, 39026, 37394, 17376, 51491, 31288, 21725, 67974, 28635, 66033, 30177, 62705, 70312, 24239, 24042, 47031, 51855, 61063, 50016, 51490, 42471, 38363, 53156, 34811, 64287, 44828, 49506, 21621, 24251, 71494, 56700, 15149, 26756, 58663, 29386, 53134, 70476, 40729, 59839, 65108, 43254, 46584, 35377, 24013, 70221, 56599, 61863, 16235, 19863, 63819, 50098, 68767, 59410, 29599, 67143, 41663, 53330, 46175, 26831, 19009, 67572, 48154, 53745, 59360, 50474, 40372, 55777, 47776, 40343, 35607, 59185, 36028, 62502, 29348, 41435, 53343, 71947, 69442, 23346, 55960, 34176, 69042, 23546, 21003, 71123, 63424, 38329, 16991, 42473, 49074, 72203, 29823, 64018, 65830, 37891, 50543, 51876, 24894, 36042, 39341, 54449, 42924, 34256, 32994, 41460, 21457, 48891, 54546, 28163, 58003, 47298, 37698, 32819, 27793, 18900, 30964, 49844, 21748, 21609, 55345, 27907, 21193, 59616, 45477, 39540, 26366, 51803, 63000, 55181, 66312, 45826, 71341, 22575, 22980, 19120, 27111, 32164, 20122, 20582, 64800, 66336, 45811, 45192, 20557, 52188, 46757, 53890, 66401, 59759, 44490, 33386, 29567, 38495, 15177, 30616, 32388, 55863, 16228, 41042, 18890, 24441, 32301, 69651, 69135, 21068, 59372, 18803, 15602, 65950, 63901, 19359, 66264, 60283, 49458, 64297, 25670, 24898, 24029, 30541, 64098, 54457, 46473, 17635, 58861, 27120, 26929, 65667, 68823, 53235, 52885, 69672, 56589, 43538, 15411, 21620, 53151, 46377, 36334, 62609, 55970, 58836, 51833, 16223, 37831, 16083, 15938, 28599, 43132, 17145, 52243, 67570, 70524, 60722, 38385, 53598, 22767, 50778, 15939, 64135, 18383, 39129, 66148, 46700, 27563, 17733, 44819, 40507, 70131, 66719, 66443, 58214, 59930, 51016, 60032, 35148, 34370, 41248, 64695, 55782, 39578, 15013, 67533, 37565, 55549, 26640, 34044, 56920, 21533, 49278, 36473, 17963, 63629, 20069, 65559, 43044, 16099, 37848, 53272, 38982, 33948, 54612, 22364, 27070, 18269, 31389, 35810, 19545]\n"
     ]
    }
   ],
   "source": []
  },
  {
   "cell_type": "markdown",
   "metadata": {},
   "source": [
    "### Step 8. Add the column owners to cars"
   ]
  },
  {
   "cell_type": "code",
   "execution_count": 9,
   "metadata": {
    "collapsed": false
   },
   "outputs": [
    {
     "data": {
      "text/html": [
       "<div><div style = \"float: left;\"><span>3×10 DataFrame</span></div><div style = \"clear: both;\"></div></div><div class = \"data-frame\" style = \"overflow-x: scroll;\"><table class = \"data-frame\" style = \"margin-bottom: 6px;\"><thead><tr class = \"header\"><th class = \"rowNumber\" style = \"font-weight: bold; text-align: right;\">Row</th><th style = \"text-align: left;\">mpg</th><th style = \"text-align: left;\">cylinders</th><th style = \"text-align: left;\">displacement</th><th style = \"text-align: left;\">horsepower</th><th style = \"text-align: left;\">weight</th><th style = \"text-align: left;\">acceleration</th><th style = \"text-align: left;\">model</th><th style = \"text-align: left;\">origin</th><th style = \"text-align: left;\">car</th><th style = \"text-align: left;\">nr_owners</th></tr><tr class = \"subheader headerLastRow\"><th class = \"rowNumber\" style = \"font-weight: bold; text-align: right;\"></th><th title = \"Float64\" style = \"text-align: left;\">Float64</th><th title = \"Int64\" style = \"text-align: left;\">Int64</th><th title = \"Int64\" style = \"text-align: left;\">Int64</th><th title = \"String3\" style = \"text-align: left;\">String3</th><th title = \"Int64\" style = \"text-align: left;\">Int64</th><th title = \"Float64\" style = \"text-align: left;\">Float64</th><th title = \"Int64\" style = \"text-align: left;\">Int64</th><th title = \"Int64\" style = \"text-align: left;\">Int64</th><th title = \"String\" style = \"text-align: left;\">String</th><th title = \"Int64\" style = \"text-align: left;\">Int64</th></tr></thead><tbody><tr><td class = \"rowNumber\" style = \"font-weight: bold; text-align: right;\">1</td><td style = \"text-align: right;\">18.0</td><td style = \"text-align: right;\">8</td><td style = \"text-align: right;\">307</td><td style = \"text-align: left;\">130</td><td style = \"text-align: right;\">3504</td><td style = \"text-align: right;\">12.0</td><td style = \"text-align: right;\">70</td><td style = \"text-align: right;\">1</td><td style = \"text-align: left;\">chevrolet chevelle malibu</td><td style = \"text-align: right;\">31773</td></tr><tr><td class = \"rowNumber\" style = \"font-weight: bold; text-align: right;\">2</td><td style = \"text-align: right;\">15.0</td><td style = \"text-align: right;\">8</td><td style = \"text-align: right;\">350</td><td style = \"text-align: left;\">165</td><td style = \"text-align: right;\">3693</td><td style = \"text-align: right;\">11.5</td><td style = \"text-align: right;\">70</td><td style = \"text-align: right;\">1</td><td style = \"text-align: left;\">buick skylark 320</td><td style = \"text-align: right;\">60393</td></tr><tr><td class = \"rowNumber\" style = \"font-weight: bold; text-align: right;\">3</td><td style = \"text-align: right;\">18.0</td><td style = \"text-align: right;\">8</td><td style = \"text-align: right;\">318</td><td style = \"text-align: left;\">150</td><td style = \"text-align: right;\">3436</td><td style = \"text-align: right;\">11.0</td><td style = \"text-align: right;\">70</td><td style = \"text-align: right;\">1</td><td style = \"text-align: left;\">plymouth satellite</td><td style = \"text-align: right;\">54442</td></tr></tbody></table></div>"
      ],
      "text/latex": [
       "\\begin{tabular}{r|ccccccccc}\n",
       "\t& mpg & cylinders & displacement & horsepower & weight & acceleration & model & origin & \\\\\n",
       "\t\\hline\n",
       "\t& Float64 & Int64 & Int64 & String3 & Int64 & Float64 & Int64 & Int64 & \\\\\n",
       "\t\\hline\n",
       "\t1 & 18.0 & 8 & 307 & 130 & 3504 & 12.0 & 70 & 1 & $\\dots$ \\\\\n",
       "\t2 & 15.0 & 8 & 350 & 165 & 3693 & 11.5 & 70 & 1 & $\\dots$ \\\\\n",
       "\t3 & 18.0 & 8 & 318 & 150 & 3436 & 11.0 & 70 & 1 & $\\dots$ \\\\\n",
       "\\end{tabular}\n"
      ],
      "text/plain": [
       "\u001b[1m3×10 DataFrame\u001b[0m\n",
       "\u001b[1m Row \u001b[0m│\u001b[1m mpg     \u001b[0m\u001b[1m cylinders \u001b[0m\u001b[1m displacement \u001b[0m\u001b[1m horsepower \u001b[0m\u001b[1m weight \u001b[0m\u001b[1m acceleration \u001b[0m\u001b[1m mod\u001b[0m ⋯\n",
       "     │\u001b[90m Float64 \u001b[0m\u001b[90m Int64     \u001b[0m\u001b[90m Int64        \u001b[0m\u001b[90m String3    \u001b[0m\u001b[90m Int64  \u001b[0m\u001b[90m Float64      \u001b[0m\u001b[90m Int\u001b[0m ⋯\n",
       "─────┼──────────────────────────────────────────────────────────────────────────\n",
       "   1 │    18.0          8           307  130           3504          12.0      ⋯\n",
       "   2 │    15.0          8           350  165           3693          11.5\n",
       "   3 │    18.0          8           318  150           3436          11.0\n",
       "\u001b[36m                                                               4 columns omitted\u001b[0m"
      ]
     },
     "metadata": {},
     "output_type": "display_data"
    }
   ],
   "source": []
  }
 ],
 "metadata": {
  "anaconda-cloud": {},
  "kernelspec": {
   "display_name": "Julia 1.10.3",
   "language": "julia",
   "name": "julia-1.10"
  },
  "language_info": {
   "file_extension": ".jl",
   "mimetype": "application/julia",
   "name": "julia",
   "version": "1.10.3"
  }
 },
 "nbformat": 4,
 "nbformat_minor": 0
}
