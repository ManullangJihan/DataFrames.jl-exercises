{
 "cells": [
  {
   "cell_type": "markdown",
   "metadata": {},
   "source": [
    "# US - Baby Names"
   ]
  },
  {
   "cell_type": "markdown",
   "metadata": {},
   "source": [
    "### Introduction:\n",
    "\n",
    "We are going to use a subset of [US Baby Names](https://www.kaggle.com/kaggle/us-baby-names) from Kaggle.  \n",
    "In the file it will be names from 2004 until 2014\n",
    "\n",
    "\n",
    "### Step 1. Import the necessary libraries"
   ]
  },
  {
   "cell_type": "code",
   "execution_count": null,
   "metadata": {
    "collapsed": false
   },
   "outputs": [],
   "source": []
  },
  {
   "cell_type": "markdown",
   "metadata": {},
   "source": [
    "### Step 2. Import the dataset from this [address](https://raw.githubusercontent.com/guipsamora/pandas_exercises/master/06_Stats/US_Baby_Names/US_Baby_Names_right.csv). "
   ]
  },
  {
   "cell_type": "markdown",
   "metadata": {},
   "source": [
    "### Step 3. Assign it to a variable called baby_names."
   ]
  },
  {
   "cell_type": "code",
   "execution_count": 2,
   "metadata": {
    "collapsed": false
   },
   "outputs": [],
   "source": []
  },
  {
   "cell_type": "markdown",
   "metadata": {},
   "source": [
    "### Step 4. See the first 10 entries"
   ]
  },
  {
   "cell_type": "code",
   "execution_count": 3,
   "metadata": {
    "collapsed": false
   },
   "outputs": [
    {
     "data": {
      "text/html": [
       "<div><div style = \"float: left;\"><span>10×7 DataFrame</span></div><div style = \"clear: both;\"></div></div><div class = \"data-frame\" style = \"overflow-x: scroll;\"><table class = \"data-frame\" style = \"margin-bottom: 6px;\"><thead><tr class = \"header\"><th class = \"rowNumber\" style = \"font-weight: bold; text-align: right;\">Row</th><th style = \"text-align: left;\">Column1</th><th style = \"text-align: left;\">Id</th><th style = \"text-align: left;\">Name</th><th style = \"text-align: left;\">Year</th><th style = \"text-align: left;\">Gender</th><th style = \"text-align: left;\">State</th><th style = \"text-align: left;\">Count</th></tr><tr class = \"subheader headerLastRow\"><th class = \"rowNumber\" style = \"font-weight: bold; text-align: right;\"></th><th title = \"Int64\" style = \"text-align: left;\">Int64</th><th title = \"Int64\" style = \"text-align: left;\">Int64</th><th title = \"String15\" style = \"text-align: left;\">String15</th><th title = \"Int64\" style = \"text-align: left;\">Int64</th><th title = \"String1\" style = \"text-align: left;\">String1</th><th title = \"String3\" style = \"text-align: left;\">String3</th><th title = \"Int64\" style = \"text-align: left;\">Int64</th></tr></thead><tbody><tr><td class = \"rowNumber\" style = \"font-weight: bold; text-align: right;\">1</td><td style = \"text-align: right;\">11349</td><td style = \"text-align: right;\">11350</td><td style = \"text-align: left;\">Emma</td><td style = \"text-align: right;\">2004</td><td style = \"text-align: left;\">F</td><td style = \"text-align: left;\">AK</td><td style = \"text-align: right;\">62</td></tr><tr><td class = \"rowNumber\" style = \"font-weight: bold; text-align: right;\">2</td><td style = \"text-align: right;\">11350</td><td style = \"text-align: right;\">11351</td><td style = \"text-align: left;\">Madison</td><td style = \"text-align: right;\">2004</td><td style = \"text-align: left;\">F</td><td style = \"text-align: left;\">AK</td><td style = \"text-align: right;\">48</td></tr><tr><td class = \"rowNumber\" style = \"font-weight: bold; text-align: right;\">3</td><td style = \"text-align: right;\">11351</td><td style = \"text-align: right;\">11352</td><td style = \"text-align: left;\">Hannah</td><td style = \"text-align: right;\">2004</td><td style = \"text-align: left;\">F</td><td style = \"text-align: left;\">AK</td><td style = \"text-align: right;\">46</td></tr><tr><td class = \"rowNumber\" style = \"font-weight: bold; text-align: right;\">4</td><td style = \"text-align: right;\">11352</td><td style = \"text-align: right;\">11353</td><td style = \"text-align: left;\">Grace</td><td style = \"text-align: right;\">2004</td><td style = \"text-align: left;\">F</td><td style = \"text-align: left;\">AK</td><td style = \"text-align: right;\">44</td></tr><tr><td class = \"rowNumber\" style = \"font-weight: bold; text-align: right;\">5</td><td style = \"text-align: right;\">11353</td><td style = \"text-align: right;\">11354</td><td style = \"text-align: left;\">Emily</td><td style = \"text-align: right;\">2004</td><td style = \"text-align: left;\">F</td><td style = \"text-align: left;\">AK</td><td style = \"text-align: right;\">41</td></tr><tr><td class = \"rowNumber\" style = \"font-weight: bold; text-align: right;\">6</td><td style = \"text-align: right;\">11354</td><td style = \"text-align: right;\">11355</td><td style = \"text-align: left;\">Abigail</td><td style = \"text-align: right;\">2004</td><td style = \"text-align: left;\">F</td><td style = \"text-align: left;\">AK</td><td style = \"text-align: right;\">37</td></tr><tr><td class = \"rowNumber\" style = \"font-weight: bold; text-align: right;\">7</td><td style = \"text-align: right;\">11355</td><td style = \"text-align: right;\">11356</td><td style = \"text-align: left;\">Olivia</td><td style = \"text-align: right;\">2004</td><td style = \"text-align: left;\">F</td><td style = \"text-align: left;\">AK</td><td style = \"text-align: right;\">33</td></tr><tr><td class = \"rowNumber\" style = \"font-weight: bold; text-align: right;\">8</td><td style = \"text-align: right;\">11356</td><td style = \"text-align: right;\">11357</td><td style = \"text-align: left;\">Isabella</td><td style = \"text-align: right;\">2004</td><td style = \"text-align: left;\">F</td><td style = \"text-align: left;\">AK</td><td style = \"text-align: right;\">30</td></tr><tr><td class = \"rowNumber\" style = \"font-weight: bold; text-align: right;\">9</td><td style = \"text-align: right;\">11357</td><td style = \"text-align: right;\">11358</td><td style = \"text-align: left;\">Alyssa</td><td style = \"text-align: right;\">2004</td><td style = \"text-align: left;\">F</td><td style = \"text-align: left;\">AK</td><td style = \"text-align: right;\">29</td></tr><tr><td class = \"rowNumber\" style = \"font-weight: bold; text-align: right;\">10</td><td style = \"text-align: right;\">11358</td><td style = \"text-align: right;\">11359</td><td style = \"text-align: left;\">Sophia</td><td style = \"text-align: right;\">2004</td><td style = \"text-align: left;\">F</td><td style = \"text-align: left;\">AK</td><td style = \"text-align: right;\">28</td></tr></tbody></table></div>"
      ],
      "text/latex": [
       "\\begin{tabular}{r|ccccccc}\n",
       "\t& Column1 & Id & Name & Year & Gender & State & Count\\\\\n",
       "\t\\hline\n",
       "\t& Int64 & Int64 & String15 & Int64 & String1 & String3 & Int64\\\\\n",
       "\t\\hline\n",
       "\t1 & 11349 & 11350 & Emma & 2004 & F & AK & 62 \\\\\n",
       "\t2 & 11350 & 11351 & Madison & 2004 & F & AK & 48 \\\\\n",
       "\t3 & 11351 & 11352 & Hannah & 2004 & F & AK & 46 \\\\\n",
       "\t4 & 11352 & 11353 & Grace & 2004 & F & AK & 44 \\\\\n",
       "\t5 & 11353 & 11354 & Emily & 2004 & F & AK & 41 \\\\\n",
       "\t6 & 11354 & 11355 & Abigail & 2004 & F & AK & 37 \\\\\n",
       "\t7 & 11355 & 11356 & Olivia & 2004 & F & AK & 33 \\\\\n",
       "\t8 & 11356 & 11357 & Isabella & 2004 & F & AK & 30 \\\\\n",
       "\t9 & 11357 & 11358 & Alyssa & 2004 & F & AK & 29 \\\\\n",
       "\t10 & 11358 & 11359 & Sophia & 2004 & F & AK & 28 \\\\\n",
       "\\end{tabular}\n"
      ],
      "text/plain": [
       "\u001b[1m10×7 DataFrame\u001b[0m\n",
       "\u001b[1m Row \u001b[0m│\u001b[1m Column1 \u001b[0m\u001b[1m Id    \u001b[0m\u001b[1m Name     \u001b[0m\u001b[1m Year  \u001b[0m\u001b[1m Gender  \u001b[0m\u001b[1m State   \u001b[0m\u001b[1m Count \u001b[0m\n",
       "     │\u001b[90m Int64   \u001b[0m\u001b[90m Int64 \u001b[0m\u001b[90m String15 \u001b[0m\u001b[90m Int64 \u001b[0m\u001b[90m String1 \u001b[0m\u001b[90m String3 \u001b[0m\u001b[90m Int64 \u001b[0m\n",
       "─────┼──────────────────────────────────────────────────────────\n",
       "   1 │   11349  11350  Emma       2004  F        AK          62\n",
       "   2 │   11350  11351  Madison    2004  F        AK          48\n",
       "   3 │   11351  11352  Hannah     2004  F        AK          46\n",
       "   4 │   11352  11353  Grace      2004  F        AK          44\n",
       "   5 │   11353  11354  Emily      2004  F        AK          41\n",
       "   6 │   11354  11355  Abigail    2004  F        AK          37\n",
       "   7 │   11355  11356  Olivia     2004  F        AK          33\n",
       "   8 │   11356  11357  Isabella   2004  F        AK          30\n",
       "   9 │   11357  11358  Alyssa     2004  F        AK          29\n",
       "  10 │   11358  11359  Sophia     2004  F        AK          28"
      ]
     },
     "metadata": {},
     "output_type": "display_data"
    }
   ],
   "source": []
  },
  {
   "cell_type": "markdown",
   "metadata": {},
   "source": [
    "### Step 5. Delete the column 'Column1' and 'Id'"
   ]
  },
  {
   "cell_type": "code",
   "execution_count": 4,
   "metadata": {
    "collapsed": false
   },
   "outputs": [
    {
     "data": {
      "text/html": [
       "<div><div style = \"float: left;\"><span>3×5 DataFrame</span></div><div style = \"clear: both;\"></div></div><div class = \"data-frame\" style = \"overflow-x: scroll;\"><table class = \"data-frame\" style = \"margin-bottom: 6px;\"><thead><tr class = \"header\"><th class = \"rowNumber\" style = \"font-weight: bold; text-align: right;\">Row</th><th style = \"text-align: left;\">Name</th><th style = \"text-align: left;\">Year</th><th style = \"text-align: left;\">Gender</th><th style = \"text-align: left;\">State</th><th style = \"text-align: left;\">Count</th></tr><tr class = \"subheader headerLastRow\"><th class = \"rowNumber\" style = \"font-weight: bold; text-align: right;\"></th><th title = \"String15\" style = \"text-align: left;\">String15</th><th title = \"Int64\" style = \"text-align: left;\">Int64</th><th title = \"String1\" style = \"text-align: left;\">String1</th><th title = \"String3\" style = \"text-align: left;\">String3</th><th title = \"Int64\" style = \"text-align: left;\">Int64</th></tr></thead><tbody><tr><td class = \"rowNumber\" style = \"font-weight: bold; text-align: right;\">1</td><td style = \"text-align: left;\">Emma</td><td style = \"text-align: right;\">2004</td><td style = \"text-align: left;\">F</td><td style = \"text-align: left;\">AK</td><td style = \"text-align: right;\">62</td></tr><tr><td class = \"rowNumber\" style = \"font-weight: bold; text-align: right;\">2</td><td style = \"text-align: left;\">Madison</td><td style = \"text-align: right;\">2004</td><td style = \"text-align: left;\">F</td><td style = \"text-align: left;\">AK</td><td style = \"text-align: right;\">48</td></tr><tr><td class = \"rowNumber\" style = \"font-weight: bold; text-align: right;\">3</td><td style = \"text-align: left;\">Hannah</td><td style = \"text-align: right;\">2004</td><td style = \"text-align: left;\">F</td><td style = \"text-align: left;\">AK</td><td style = \"text-align: right;\">46</td></tr></tbody></table></div>"
      ],
      "text/latex": [
       "\\begin{tabular}{r|ccccc}\n",
       "\t& Name & Year & Gender & State & Count\\\\\n",
       "\t\\hline\n",
       "\t& String15 & Int64 & String1 & String3 & Int64\\\\\n",
       "\t\\hline\n",
       "\t1 & Emma & 2004 & F & AK & 62 \\\\\n",
       "\t2 & Madison & 2004 & F & AK & 48 \\\\\n",
       "\t3 & Hannah & 2004 & F & AK & 46 \\\\\n",
       "\\end{tabular}\n"
      ],
      "text/plain": [
       "\u001b[1m3×5 DataFrame\u001b[0m\n",
       "\u001b[1m Row \u001b[0m│\u001b[1m Name     \u001b[0m\u001b[1m Year  \u001b[0m\u001b[1m Gender  \u001b[0m\u001b[1m State   \u001b[0m\u001b[1m Count \u001b[0m\n",
       "     │\u001b[90m String15 \u001b[0m\u001b[90m Int64 \u001b[0m\u001b[90m String1 \u001b[0m\u001b[90m String3 \u001b[0m\u001b[90m Int64 \u001b[0m\n",
       "─────┼──────────────────────────────────────────\n",
       "   1 │ Emma       2004  F        AK          62\n",
       "   2 │ Madison    2004  F        AK          48\n",
       "   3 │ Hannah     2004  F        AK          46"
      ]
     },
     "metadata": {},
     "output_type": "display_data"
    }
   ],
   "source": []
  },
  {
   "cell_type": "markdown",
   "metadata": {},
   "source": [
    "### Step 6. Is there more male or female names in the dataset?"
   ]
  },
  {
   "cell_type": "code",
   "execution_count": 5,
   "metadata": {
    "collapsed": false
   },
   "outputs": [
    {
     "data": {
      "text/html": [
       "<div><div style = \"float: left;\"><span>2×2 DataFrame</span></div><div style = \"clear: both;\"></div></div><div class = \"data-frame\" style = \"overflow-x: scroll;\"><table class = \"data-frame\" style = \"margin-bottom: 6px;\"><thead><tr class = \"header\"><th class = \"rowNumber\" style = \"font-weight: bold; text-align: right;\">Row</th><th style = \"text-align: left;\">Gender</th><th style = \"text-align: left;\">nrow</th></tr><tr class = \"subheader headerLastRow\"><th class = \"rowNumber\" style = \"font-weight: bold; text-align: right;\"></th><th title = \"String1\" style = \"text-align: left;\">String1</th><th title = \"Int64\" style = \"text-align: left;\">Int64</th></tr></thead><tbody><tr><td class = \"rowNumber\" style = \"font-weight: bold; text-align: right;\">1</td><td style = \"text-align: left;\">F</td><td style = \"text-align: right;\">558846</td></tr><tr><td class = \"rowNumber\" style = \"font-weight: bold; text-align: right;\">2</td><td style = \"text-align: left;\">M</td><td style = \"text-align: right;\">457549</td></tr></tbody></table></div>"
      ],
      "text/latex": [
       "\\begin{tabular}{r|cc}\n",
       "\t& Gender & nrow\\\\\n",
       "\t\\hline\n",
       "\t& String1 & Int64\\\\\n",
       "\t\\hline\n",
       "\t1 & F & 558846 \\\\\n",
       "\t2 & M & 457549 \\\\\n",
       "\\end{tabular}\n"
      ],
      "text/plain": [
       "\u001b[1m2×2 DataFrame\u001b[0m\n",
       "\u001b[1m Row \u001b[0m│\u001b[1m Gender  \u001b[0m\u001b[1m nrow   \u001b[0m\n",
       "     │\u001b[90m String1 \u001b[0m\u001b[90m Int64  \u001b[0m\n",
       "─────┼─────────────────\n",
       "   1 │ F        558846\n",
       "   2 │ M        457549"
      ]
     },
     "metadata": {},
     "output_type": "display_data"
    }
   ],
   "source": []
  },
  {
   "cell_type": "markdown",
   "metadata": {},
   "source": [
    "### Step 7. Group the dataset by name and assign to names_"
   ]
  },
  {
   "cell_type": "code",
   "execution_count": 6,
   "metadata": {
    "collapsed": false
   },
   "outputs": [],
   "source": []
  },
  {
   "cell_type": "markdown",
   "metadata": {},
   "source": [
    "### Step 8. How many different names exist in the dataset?"
   ]
  },
  {
   "cell_type": "code",
   "execution_count": 14,
   "metadata": {},
   "outputs": [
    {
     "data": {
      "text/html": [
       "<div><div style = \"float: left;\"><span>17632×2 DataFrame</span></div><div style = \"float: right;\"><span style = \"font-style: italic;\">17607 rows omitted</span></div><div style = \"clear: both;\"></div></div><div class = \"data-frame\" style = \"overflow-x: scroll;\"><table class = \"data-frame\" style = \"margin-bottom: 6px;\"><thead><tr class = \"header\"><th class = \"rowNumber\" style = \"font-weight: bold; text-align: right;\">Row</th><th style = \"text-align: left;\">Name</th><th style = \"text-align: left;\">nrow</th></tr><tr class = \"subheader headerLastRow\"><th class = \"rowNumber\" style = \"font-weight: bold; text-align: right;\"></th><th title = \"String15\" style = \"text-align: left;\">String15</th><th title = \"Int64\" style = \"text-align: left;\">Int64</th></tr></thead><tbody><tr><td class = \"rowNumber\" style = \"font-weight: bold; text-align: right;\">1</td><td style = \"text-align: left;\">Emma</td><td style = \"text-align: right;\">566</td></tr><tr><td class = \"rowNumber\" style = \"font-weight: bold; text-align: right;\">2</td><td style = \"text-align: left;\">Madison</td><td style = \"text-align: right;\">588</td></tr><tr><td class = \"rowNumber\" style = \"font-weight: bold; text-align: right;\">3</td><td style = \"text-align: left;\">Hannah</td><td style = \"text-align: right;\">562</td></tr><tr><td class = \"rowNumber\" style = \"font-weight: bold; text-align: right;\">4</td><td style = \"text-align: left;\">Grace</td><td style = \"text-align: right;\">565</td></tr><tr><td class = \"rowNumber\" style = \"font-weight: bold; text-align: right;\">5</td><td style = \"text-align: left;\">Emily</td><td style = \"text-align: right;\">565</td></tr><tr><td class = \"rowNumber\" style = \"font-weight: bold; text-align: right;\">6</td><td style = \"text-align: left;\">Abigail</td><td style = \"text-align: right;\">562</td></tr><tr><td class = \"rowNumber\" style = \"font-weight: bold; text-align: right;\">7</td><td style = \"text-align: left;\">Olivia</td><td style = \"text-align: right;\">566</td></tr><tr><td class = \"rowNumber\" style = \"font-weight: bold; text-align: right;\">8</td><td style = \"text-align: left;\">Isabella</td><td style = \"text-align: right;\">566</td></tr><tr><td class = \"rowNumber\" style = \"font-weight: bold; text-align: right;\">9</td><td style = \"text-align: left;\">Alyssa</td><td style = \"text-align: right;\">554</td></tr><tr><td class = \"rowNumber\" style = \"font-weight: bold; text-align: right;\">10</td><td style = \"text-align: left;\">Sophia</td><td style = \"text-align: right;\">563</td></tr><tr><td class = \"rowNumber\" style = \"font-weight: bold; text-align: right;\">11</td><td style = \"text-align: left;\">Alexis</td><td style = \"text-align: right;\">984</td></tr><tr><td class = \"rowNumber\" style = \"font-weight: bold; text-align: right;\">12</td><td style = \"text-align: left;\">Elizabeth</td><td style = \"text-align: right;\">564</td></tr><tr><td class = \"rowNumber\" style = \"font-weight: bold; text-align: right;\">13</td><td style = \"text-align: left;\">Hailey</td><td style = \"text-align: right;\">561</td></tr><tr><td style = \"text-align: right;\">&vellip;</td><td style = \"text-align: right;\">&vellip;</td><td style = \"text-align: right;\">&vellip;</td></tr><tr><td class = \"rowNumber\" style = \"font-weight: bold; text-align: right;\">17621</td><td style = \"text-align: left;\">Miroslav</td><td style = \"text-align: right;\">1</td></tr><tr><td class = \"rowNumber\" style = \"font-weight: bold; text-align: right;\">17622</td><td style = \"text-align: left;\">Thaddaeus</td><td style = \"text-align: right;\">1</td></tr><tr><td class = \"rowNumber\" style = \"font-weight: bold; text-align: right;\">17623</td><td style = \"text-align: left;\">Montanna</td><td style = \"text-align: right;\">1</td></tr><tr><td class = \"rowNumber\" style = \"font-weight: bold; text-align: right;\">17624</td><td style = \"text-align: left;\">Anaka</td><td style = \"text-align: right;\">1</td></tr><tr><td class = \"rowNumber\" style = \"font-weight: bold; text-align: right;\">17625</td><td style = \"text-align: left;\">Shouana</td><td style = \"text-align: right;\">1</td></tr><tr><td class = \"rowNumber\" style = \"font-weight: bold; text-align: right;\">17626</td><td style = \"text-align: left;\">Luanna</td><td style = \"text-align: right;\">1</td></tr><tr><td class = \"rowNumber\" style = \"font-weight: bold; text-align: right;\">17627</td><td style = \"text-align: left;\">Yuepheng</td><td style = \"text-align: right;\">1</td></tr><tr><td class = \"rowNumber\" style = \"font-weight: bold; text-align: right;\">17628</td><td style = \"text-align: left;\">Kong</td><td style = \"text-align: right;\">1</td></tr><tr><td class = \"rowNumber\" style = \"font-weight: bold; text-align: right;\">17629</td><td style = \"text-align: left;\">Adrion</td><td style = \"text-align: right;\">1</td></tr><tr><td class = \"rowNumber\" style = \"font-weight: bold; text-align: right;\">17630</td><td style = \"text-align: left;\">Braun</td><td style = \"text-align: right;\">1</td></tr><tr><td class = \"rowNumber\" style = \"font-weight: bold; text-align: right;\">17631</td><td style = \"text-align: left;\">Evrett</td><td style = \"text-align: right;\">1</td></tr><tr><td class = \"rowNumber\" style = \"font-weight: bold; text-align: right;\">17632</td><td style = \"text-align: left;\">Coalton</td><td style = \"text-align: right;\">1</td></tr></tbody></table></div>"
      ],
      "text/latex": [
       "\\begin{tabular}{r|cc}\n",
       "\t& Name & nrow\\\\\n",
       "\t\\hline\n",
       "\t& String15 & Int64\\\\\n",
       "\t\\hline\n",
       "\t1 & Emma & 566 \\\\\n",
       "\t2 & Madison & 588 \\\\\n",
       "\t3 & Hannah & 562 \\\\\n",
       "\t4 & Grace & 565 \\\\\n",
       "\t5 & Emily & 565 \\\\\n",
       "\t6 & Abigail & 562 \\\\\n",
       "\t7 & Olivia & 566 \\\\\n",
       "\t8 & Isabella & 566 \\\\\n",
       "\t9 & Alyssa & 554 \\\\\n",
       "\t10 & Sophia & 563 \\\\\n",
       "\t11 & Alexis & 984 \\\\\n",
       "\t12 & Elizabeth & 564 \\\\\n",
       "\t13 & Hailey & 561 \\\\\n",
       "\t14 & Anna & 561 \\\\\n",
       "\t15 & Natalie & 563 \\\\\n",
       "\t16 & Sarah & 557 \\\\\n",
       "\t17 & Sydney & 602 \\\\\n",
       "\t18 & Ava & 567 \\\\\n",
       "\t19 & Trinity & 575 \\\\\n",
       "\t20 & Haley & 510 \\\\\n",
       "\t21 & Kaylee & 555 \\\\\n",
       "\t22 & Taylor & 1033 \\\\\n",
       "\t23 & Chloe & 562 \\\\\n",
       "\t24 & Ella & 562 \\\\\n",
       "\t$\\dots$ & $\\dots$ & $\\dots$ \\\\\n",
       "\\end{tabular}\n"
      ],
      "text/plain": [
       "\u001b[1m17632×2 DataFrame\u001b[0m\n",
       "\u001b[1m   Row \u001b[0m│\u001b[1m Name      \u001b[0m\u001b[1m nrow  \u001b[0m\n",
       "       │\u001b[90m String15  \u001b[0m\u001b[90m Int64 \u001b[0m\n",
       "───────┼──────────────────\n",
       "     1 │ Emma         566\n",
       "     2 │ Madison      588\n",
       "     3 │ Hannah       562\n",
       "     4 │ Grace        565\n",
       "     5 │ Emily        565\n",
       "     6 │ Abigail      562\n",
       "     7 │ Olivia       566\n",
       "     8 │ Isabella     566\n",
       "   ⋮   │     ⋮        ⋮\n",
       " 17626 │ Luanna         1\n",
       " 17627 │ Yuepheng       1\n",
       " 17628 │ Kong           1\n",
       " 17629 │ Adrion         1\n",
       " 17630 │ Braun          1\n",
       " 17631 │ Evrett         1\n",
       " 17632 │ Coalton        1\n",
       "\u001b[36m        17617 rows omitted\u001b[0m"
      ]
     },
     "metadata": {},
     "output_type": "display_data"
    }
   ],
   "source": []
  },
  {
   "cell_type": "markdown",
   "metadata": {},
   "source": [
    "### Step 9. What is the name with most occurrences?"
   ]
  },
  {
   "cell_type": "code",
   "execution_count": 16,
   "metadata": {
    "collapsed": false
   },
   "outputs": [
    {
     "data": {
      "text/html": [
       "<div><div style = \"float: left;\"><span>1×2 DataFrame</span></div><div style = \"clear: both;\"></div></div><div class = \"data-frame\" style = \"overflow-x: scroll;\"><table class = \"data-frame\" style = \"margin-bottom: 6px;\"><thead><tr class = \"header\"><th class = \"rowNumber\" style = \"font-weight: bold; text-align: right;\">Row</th><th style = \"text-align: left;\">Name</th><th style = \"text-align: left;\">Count_sum</th></tr><tr class = \"subheader headerLastRow\"><th class = \"rowNumber\" style = \"font-weight: bold; text-align: right;\"></th><th title = \"String15\" style = \"text-align: left;\">String15</th><th title = \"Int64\" style = \"text-align: left;\">Int64</th></tr></thead><tbody><tr><td class = \"rowNumber\" style = \"font-weight: bold; text-align: right;\">1</td><td style = \"text-align: left;\">Jacob</td><td style = \"text-align: right;\">242874</td></tr></tbody></table></div>"
      ],
      "text/latex": [
       "\\begin{tabular}{r|cc}\n",
       "\t& Name & Count\\_sum\\\\\n",
       "\t\\hline\n",
       "\t& String15 & Int64\\\\\n",
       "\t\\hline\n",
       "\t1 & Jacob & 242874 \\\\\n",
       "\\end{tabular}\n"
      ],
      "text/plain": [
       "\u001b[1m1×2 DataFrame\u001b[0m\n",
       "\u001b[1m Row \u001b[0m│\u001b[1m Name     \u001b[0m\u001b[1m Count_sum \u001b[0m\n",
       "     │\u001b[90m String15 \u001b[0m\u001b[90m Int64     \u001b[0m\n",
       "─────┼─────────────────────\n",
       "   1 │ Jacob        242874"
      ]
     },
     "metadata": {},
     "output_type": "display_data"
    }
   ],
   "source": []
  },
  {
   "cell_type": "markdown",
   "metadata": {},
   "source": [
    "### Step 10. How many different names have the least occurrences?"
   ]
  },
  {
   "cell_type": "code",
   "execution_count": 17,
   "metadata": {},
   "outputs": [
    {
     "data": {
      "text/plain": [
       "2578"
      ]
     },
     "metadata": {},
     "output_type": "display_data"
    }
   ],
   "source": []
  },
  {
   "cell_type": "markdown",
   "metadata": {},
   "source": [
    "### Step 11. What is the median name occurrence?"
   ]
  },
  {
   "cell_type": "code",
   "execution_count": 21,
   "metadata": {},
   "outputs": [
    {
     "data": {
      "text/html": [
       "<div><div style = \"float: left;\"><span>66×2 DataFrame</span></div><div style = \"float: right;\"><span style = \"font-style: italic;\">41 rows omitted</span></div><div style = \"clear: both;\"></div></div><div class = \"data-frame\" style = \"overflow-x: scroll;\"><table class = \"data-frame\" style = \"margin-bottom: 6px;\"><thead><tr class = \"header\"><th class = \"rowNumber\" style = \"font-weight: bold; text-align: right;\">Row</th><th style = \"text-align: left;\">Name</th><th style = \"text-align: left;\">Count_sum</th></tr><tr class = \"subheader headerLastRow\"><th class = \"rowNumber\" style = \"font-weight: bold; text-align: right;\"></th><th title = \"String15\" style = \"text-align: left;\">String15</th><th title = \"Int64\" style = \"text-align: left;\">Int64</th></tr></thead><tbody><tr><td class = \"rowNumber\" style = \"font-weight: bold; text-align: right;\">1</td><td style = \"text-align: left;\">Shalyn</td><td style = \"text-align: right;\">49</td></tr><tr><td class = \"rowNumber\" style = \"font-weight: bold; text-align: right;\">2</td><td style = \"text-align: left;\">Jamiracle</td><td style = \"text-align: right;\">49</td></tr><tr><td class = \"rowNumber\" style = \"font-weight: bold; text-align: right;\">3</td><td style = \"text-align: left;\">Kynsley</td><td style = \"text-align: right;\">49</td></tr><tr><td class = \"rowNumber\" style = \"font-weight: bold; text-align: right;\">4</td><td style = \"text-align: left;\">Jkwon</td><td style = \"text-align: right;\">49</td></tr><tr><td class = \"rowNumber\" style = \"font-weight: bold; text-align: right;\">5</td><td style = \"text-align: left;\">Zuleima</td><td style = \"text-align: right;\">49</td></tr><tr><td class = \"rowNumber\" style = \"font-weight: bold; text-align: right;\">6</td><td style = \"text-align: left;\">Riot</td><td style = \"text-align: right;\">49</td></tr><tr><td class = \"rowNumber\" style = \"font-weight: bold; text-align: right;\">7</td><td style = \"text-align: left;\">Ryatt</td><td style = \"text-align: right;\">49</td></tr><tr><td class = \"rowNumber\" style = \"font-weight: bold; text-align: right;\">8</td><td style = \"text-align: left;\">Cristine</td><td style = \"text-align: right;\">49</td></tr><tr><td class = \"rowNumber\" style = \"font-weight: bold; text-align: right;\">9</td><td style = \"text-align: left;\">Anely</td><td style = \"text-align: right;\">49</td></tr><tr><td class = \"rowNumber\" style = \"font-weight: bold; text-align: right;\">10</td><td style = \"text-align: left;\">Alysse</td><td style = \"text-align: right;\">49</td></tr><tr><td class = \"rowNumber\" style = \"font-weight: bold; text-align: right;\">11</td><td style = \"text-align: left;\">Deserae</td><td style = \"text-align: right;\">49</td></tr><tr><td class = \"rowNumber\" style = \"font-weight: bold; text-align: right;\">12</td><td style = \"text-align: left;\">Envy</td><td style = \"text-align: right;\">49</td></tr><tr><td class = \"rowNumber\" style = \"font-weight: bold; text-align: right;\">13</td><td style = \"text-align: left;\">Antonina</td><td style = \"text-align: right;\">49</td></tr><tr><td style = \"text-align: right;\">&vellip;</td><td style = \"text-align: right;\">&vellip;</td><td style = \"text-align: right;\">&vellip;</td></tr><tr><td class = \"rowNumber\" style = \"font-weight: bold; text-align: right;\">55</td><td style = \"text-align: left;\">Ameir</td><td style = \"text-align: right;\">49</td></tr><tr><td class = \"rowNumber\" style = \"font-weight: bold; text-align: right;\">56</td><td style = \"text-align: left;\">Maisha</td><td style = \"text-align: right;\">49</td></tr><tr><td class = \"rowNumber\" style = \"font-weight: bold; text-align: right;\">57</td><td style = \"text-align: left;\">Emmanuela</td><td style = \"text-align: right;\">49</td></tr><tr><td class = \"rowNumber\" style = \"font-weight: bold; text-align: right;\">58</td><td style = \"text-align: left;\">Caleah</td><td style = \"text-align: right;\">49</td></tr><tr><td class = \"rowNumber\" style = \"font-weight: bold; text-align: right;\">59</td><td style = \"text-align: left;\">Marquell</td><td style = \"text-align: right;\">49</td></tr><tr><td class = \"rowNumber\" style = \"font-weight: bold; text-align: right;\">60</td><td style = \"text-align: left;\">Trinton</td><td style = \"text-align: right;\">49</td></tr><tr><td class = \"rowNumber\" style = \"font-weight: bold; text-align: right;\">61</td><td style = \"text-align: left;\">Aziah</td><td style = \"text-align: right;\">49</td></tr><tr><td class = \"rowNumber\" style = \"font-weight: bold; text-align: right;\">62</td><td style = \"text-align: left;\">Kyndle</td><td style = \"text-align: right;\">49</td></tr><tr><td class = \"rowNumber\" style = \"font-weight: bold; text-align: right;\">63</td><td style = \"text-align: left;\">Reghan</td><td style = \"text-align: right;\">49</td></tr><tr><td class = \"rowNumber\" style = \"font-weight: bold; text-align: right;\">64</td><td style = \"text-align: left;\">Ridwan</td><td style = \"text-align: right;\">49</td></tr><tr><td class = \"rowNumber\" style = \"font-weight: bold; text-align: right;\">65</td><td style = \"text-align: left;\">Nazier</td><td style = \"text-align: right;\">49</td></tr><tr><td class = \"rowNumber\" style = \"font-weight: bold; text-align: right;\">66</td><td style = \"text-align: left;\">Sanjuanita</td><td style = \"text-align: right;\">49</td></tr></tbody></table></div>"
      ],
      "text/latex": [
       "\\begin{tabular}{r|cc}\n",
       "\t& Name & Count\\_sum\\\\\n",
       "\t\\hline\n",
       "\t& String15 & Int64\\\\\n",
       "\t\\hline\n",
       "\t1 & Shalyn & 49 \\\\\n",
       "\t2 & Jamiracle & 49 \\\\\n",
       "\t3 & Kynsley & 49 \\\\\n",
       "\t4 & Jkwon & 49 \\\\\n",
       "\t5 & Zuleima & 49 \\\\\n",
       "\t6 & Riot & 49 \\\\\n",
       "\t7 & Ryatt & 49 \\\\\n",
       "\t8 & Cristine & 49 \\\\\n",
       "\t9 & Anely & 49 \\\\\n",
       "\t10 & Alysse & 49 \\\\\n",
       "\t11 & Deserae & 49 \\\\\n",
       "\t12 & Envy & 49 \\\\\n",
       "\t13 & Antonina & 49 \\\\\n",
       "\t14 & Esli & 49 \\\\\n",
       "\t15 & Kaelee & 49 \\\\\n",
       "\t16 & Leylanie & 49 \\\\\n",
       "\t17 & Nalleli & 49 \\\\\n",
       "\t18 & Mariann & 49 \\\\\n",
       "\t19 & Rebecka & 49 \\\\\n",
       "\t20 & Alara & 49 \\\\\n",
       "\t21 & Elizah & 49 \\\\\n",
       "\t22 & Emmaly & 49 \\\\\n",
       "\t23 & Dahlila & 49 \\\\\n",
       "\t24 & Skylie & 49 \\\\\n",
       "\t$\\dots$ & $\\dots$ & $\\dots$ \\\\\n",
       "\\end{tabular}\n"
      ],
      "text/plain": [
       "\u001b[1m66×2 DataFrame\u001b[0m\n",
       "\u001b[1m Row \u001b[0m│\u001b[1m Name       \u001b[0m\u001b[1m Count_sum \u001b[0m\n",
       "     │\u001b[90m String15   \u001b[0m\u001b[90m Int64     \u001b[0m\n",
       "─────┼───────────────────────\n",
       "   1 │ Shalyn             49\n",
       "   2 │ Jamiracle          49\n",
       "   3 │ Kynsley            49\n",
       "   4 │ Jkwon              49\n",
       "   5 │ Zuleima            49\n",
       "   6 │ Riot               49\n",
       "   7 │ Ryatt              49\n",
       "   8 │ Cristine           49\n",
       "  ⋮  │     ⋮           ⋮\n",
       "  60 │ Trinton            49\n",
       "  61 │ Aziah              49\n",
       "  62 │ Kyndle             49\n",
       "  63 │ Reghan             49\n",
       "  64 │ Ridwan             49\n",
       "  65 │ Nazier             49\n",
       "  66 │ Sanjuanita         49\n",
       "\u001b[36m              51 rows omitted\u001b[0m"
      ]
     },
     "metadata": {},
     "output_type": "display_data"
    }
   ],
   "source": []
  },
  {
   "cell_type": "markdown",
   "metadata": {},
   "source": [
    "### Step 12. What is the standard deviation of names?"
   ]
  },
  {
   "cell_type": "code",
   "execution_count": 30,
   "metadata": {
    "collapsed": false
   },
   "outputs": [
    {
     "data": {
      "text/plain": [
       "11006.06946789057"
      ]
     },
     "metadata": {},
     "output_type": "display_data"
    }
   ],
   "source": []
  },
  {
   "cell_type": "markdown",
   "metadata": {},
   "source": [
    "### Step 13. Get a summary with the mean, min, max, std and quartiles."
   ]
  },
  {
   "cell_type": "code",
   "execution_count": 22,
   "metadata": {
    "collapsed": false
   },
   "outputs": [
    {
     "data": {
      "text/html": [
       "<div><div style = \"float: left;\"><span>1×7 DataFrame</span></div><div style = \"clear: both;\"></div></div><div class = \"data-frame\" style = \"overflow-x: scroll;\"><table class = \"data-frame\" style = \"margin-bottom: 6px;\"><thead><tr class = \"header\"><th class = \"rowNumber\" style = \"font-weight: bold; text-align: right;\">Row</th><th style = \"text-align: left;\">count</th><th style = \"text-align: left;\">mean</th><th style = \"text-align: left;\">min</th><th style = \"text-align: left;\">max</th><th style = \"text-align: left;\">q1</th><th style = \"text-align: left;\">q2</th><th style = \"text-align: left;\">q3</th></tr><tr class = \"subheader headerLastRow\"><th class = \"rowNumber\" style = \"font-weight: bold; text-align: right;\"></th><th title = \"Int64\" style = \"text-align: left;\">Int64</th><th title = \"Float64\" style = \"text-align: left;\">Float64</th><th title = \"Int64\" style = \"text-align: left;\">Int64</th><th title = \"Int64\" style = \"text-align: left;\">Int64</th><th title = \"Float64\" style = \"text-align: left;\">Float64</th><th title = \"Float64\" style = \"text-align: left;\">Float64</th><th title = \"Float64\" style = \"text-align: left;\">Float64</th></tr></thead><tbody><tr><td class = \"rowNumber\" style = \"font-weight: bold; text-align: right;\">1</td><td style = \"text-align: right;\">17632</td><td style = \"text-align: right;\">2008.93</td><td style = \"text-align: right;\">5</td><td style = \"text-align: right;\">242874</td><td style = \"text-align: right;\">11.0</td><td style = \"text-align: right;\">49.0</td><td style = \"text-align: right;\">337.0</td></tr></tbody></table></div>"
      ],
      "text/latex": [
       "\\begin{tabular}{r|ccccccc}\n",
       "\t& count & mean & min & max & q1 & q2 & q3\\\\\n",
       "\t\\hline\n",
       "\t& Int64 & Float64 & Int64 & Int64 & Float64 & Float64 & Float64\\\\\n",
       "\t\\hline\n",
       "\t1 & 17632 & 2008.93 & 5 & 242874 & 11.0 & 49.0 & 337.0 \\\\\n",
       "\\end{tabular}\n"
      ],
      "text/plain": [
       "\u001b[1m1×7 DataFrame\u001b[0m\n",
       "\u001b[1m Row \u001b[0m│\u001b[1m count \u001b[0m\u001b[1m mean    \u001b[0m\u001b[1m min   \u001b[0m\u001b[1m max    \u001b[0m\u001b[1m q1      \u001b[0m\u001b[1m q2      \u001b[0m\u001b[1m q3      \u001b[0m\n",
       "     │\u001b[90m Int64 \u001b[0m\u001b[90m Float64 \u001b[0m\u001b[90m Int64 \u001b[0m\u001b[90m Int64  \u001b[0m\u001b[90m Float64 \u001b[0m\u001b[90m Float64 \u001b[0m\u001b[90m Float64 \u001b[0m\n",
       "─────┼──────────────────────────────────────────────────────────\n",
       "   1 │ 17632  2008.93      5  242874     11.0     49.0    337.0"
      ]
     },
     "metadata": {},
     "output_type": "display_data"
    }
   ],
   "source": []
  }
 ],
 "metadata": {
  "anaconda-cloud": {},
  "kernelspec": {
   "display_name": "Julia 1.10.3",
   "language": "julia",
   "name": "julia-1.10"
  },
  "language_info": {
   "file_extension": ".jl",
   "mimetype": "application/julia",
   "name": "julia",
   "version": "1.10.3"
  }
 },
 "nbformat": 4,
 "nbformat_minor": 0
}
