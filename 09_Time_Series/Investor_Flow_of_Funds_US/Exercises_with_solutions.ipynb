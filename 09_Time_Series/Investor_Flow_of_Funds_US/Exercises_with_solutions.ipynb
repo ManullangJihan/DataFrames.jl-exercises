{
 "cells": [
  {
   "cell_type": "markdown",
   "metadata": {},
   "source": [
    "# Investor - Flow of Funds - US"
   ]
  },
  {
   "cell_type": "markdown",
   "metadata": {},
   "source": [
    "### Introduction:\n",
    "\n",
    "Special thanks to: https://github.com/rgrp for sharing the dataset.\n",
    "\n",
    "### Step 1. Import the necessary libraries"
   ]
  },
  {
   "cell_type": "code",
   "execution_count": null,
   "metadata": {
    "collapsed": false
   },
   "outputs": [],
   "source": [
    "using DotEnv\n",
    "using Pkg\n",
    "DotEnv.load!()\n",
    "Pkg.activate(ENV[\"ENV_PATH\"])\n",
    "\n",
    "using CSV\n",
    "using Dates\n",
    "using Plots\n",
    "using Downloads\n",
    "using Statistics\n",
    "using DataFrames"
   ]
  },
  {
   "cell_type": "markdown",
   "metadata": {},
   "source": [
    "### Step 2. Import the dataset from this [address](https://raw.githubusercontent.com/datasets/investor-flow-of-funds-us/master/data/weekly.csv). "
   ]
  },
  {
   "cell_type": "markdown",
   "metadata": {},
   "source": [
    "### Step 3. Assign it to a variable called df"
   ]
  },
  {
   "cell_type": "code",
   "execution_count": 2,
   "metadata": {
    "collapsed": false
   },
   "outputs": [
    {
     "data": {
      "text/html": [
       "<div><div style = \"float: left;\"><span>5×9 DataFrame</span></div><div style = \"clear: both;\"></div></div><div class = \"data-frame\" style = \"overflow-x: scroll;\"><table class = \"data-frame\" style = \"margin-bottom: 6px;\"><thead><tr class = \"header\"><th class = \"rowNumber\" style = \"font-weight: bold; text-align: right;\">Row</th><th style = \"text-align: left;\">Date</th><th style = \"text-align: left;\">Total Equity</th><th style = \"text-align: left;\">Domestic Equity</th><th style = \"text-align: left;\">World Equity</th><th style = \"text-align: left;\">Hybrid</th><th style = \"text-align: left;\">Total Bond</th><th style = \"text-align: left;\">Taxable Bond</th><th style = \"text-align: left;\">Municipal Bond</th><th style = \"text-align: left;\">Total</th></tr><tr class = \"subheader headerLastRow\"><th class = \"rowNumber\" style = \"font-weight: bold; text-align: right;\"></th><th title = \"Date\" style = \"text-align: left;\">Date</th><th title = \"Int64\" style = \"text-align: left;\">Int64</th><th title = \"Int64\" style = \"text-align: left;\">Int64</th><th title = \"Int64\" style = \"text-align: left;\">Int64</th><th title = \"Int64\" style = \"text-align: left;\">Int64</th><th title = \"Int64\" style = \"text-align: left;\">Int64</th><th title = \"Int64\" style = \"text-align: left;\">Int64</th><th title = \"Int64\" style = \"text-align: left;\">Int64</th><th title = \"Int64\" style = \"text-align: left;\">Int64</th></tr></thead><tbody><tr><td class = \"rowNumber\" style = \"font-weight: bold; text-align: right;\">1</td><td style = \"text-align: left;\">2012-12-05</td><td style = \"text-align: right;\">-7426</td><td style = \"text-align: right;\">-6060</td><td style = \"text-align: right;\">-1367</td><td style = \"text-align: right;\">-74</td><td style = \"text-align: right;\">5317</td><td style = \"text-align: right;\">4210</td><td style = \"text-align: right;\">1107</td><td style = \"text-align: right;\">-2183</td></tr><tr><td class = \"rowNumber\" style = \"font-weight: bold; text-align: right;\">2</td><td style = \"text-align: left;\">2012-12-12</td><td style = \"text-align: right;\">-8783</td><td style = \"text-align: right;\">-7520</td><td style = \"text-align: right;\">-1263</td><td style = \"text-align: right;\">123</td><td style = \"text-align: right;\">1818</td><td style = \"text-align: right;\">1598</td><td style = \"text-align: right;\">219</td><td style = \"text-align: right;\">-6842</td></tr><tr><td class = \"rowNumber\" style = \"font-weight: bold; text-align: right;\">3</td><td style = \"text-align: left;\">2012-12-19</td><td style = \"text-align: right;\">-5496</td><td style = \"text-align: right;\">-5470</td><td style = \"text-align: right;\">-26</td><td style = \"text-align: right;\">-73</td><td style = \"text-align: right;\">103</td><td style = \"text-align: right;\">3472</td><td style = \"text-align: right;\">-3369</td><td style = \"text-align: right;\">-5466</td></tr><tr><td class = \"rowNumber\" style = \"font-weight: bold; text-align: right;\">4</td><td style = \"text-align: left;\">2012-12-26</td><td style = \"text-align: right;\">-4451</td><td style = \"text-align: right;\">-4076</td><td style = \"text-align: right;\">-375</td><td style = \"text-align: right;\">550</td><td style = \"text-align: right;\">2610</td><td style = \"text-align: right;\">3333</td><td style = \"text-align: right;\">-722</td><td style = \"text-align: right;\">-1291</td></tr><tr><td class = \"rowNumber\" style = \"font-weight: bold; text-align: right;\">5</td><td style = \"text-align: left;\">2013-01-02</td><td style = \"text-align: right;\">-11156</td><td style = \"text-align: right;\">-9622</td><td style = \"text-align: right;\">-1533</td><td style = \"text-align: right;\">-158</td><td style = \"text-align: right;\">2383</td><td style = \"text-align: right;\">2103</td><td style = \"text-align: right;\">280</td><td style = \"text-align: right;\">-8931</td></tr></tbody></table></div>"
      ],
      "text/latex": [
       "\\begin{tabular}{r|cccccccc}\n",
       "\t& Date & Total Equity & Domestic Equity & World Equity & Hybrid & Total Bond & Taxable Bond & \\\\\n",
       "\t\\hline\n",
       "\t& Date & Int64 & Int64 & Int64 & Int64 & Int64 & Int64 & \\\\\n",
       "\t\\hline\n",
       "\t1 & 2012-12-05 & -7426 & -6060 & -1367 & -74 & 5317 & 4210 & $\\dots$ \\\\\n",
       "\t2 & 2012-12-12 & -8783 & -7520 & -1263 & 123 & 1818 & 1598 & $\\dots$ \\\\\n",
       "\t3 & 2012-12-19 & -5496 & -5470 & -26 & -73 & 103 & 3472 & $\\dots$ \\\\\n",
       "\t4 & 2012-12-26 & -4451 & -4076 & -375 & 550 & 2610 & 3333 & $\\dots$ \\\\\n",
       "\t5 & 2013-01-02 & -11156 & -9622 & -1533 & -158 & 2383 & 2103 & $\\dots$ \\\\\n",
       "\\end{tabular}\n"
      ],
      "text/plain": [
       "\u001b[1m5×9 DataFrame\u001b[0m\n",
       "\u001b[1m Row \u001b[0m│\u001b[1m Date       \u001b[0m\u001b[1m Total Equity \u001b[0m\u001b[1m Domestic Equity \u001b[0m\u001b[1m World Equity \u001b[0m\u001b[1m Hybrid \u001b[0m\u001b[1m Total \u001b[0m ⋯\n",
       "     │\u001b[90m Date       \u001b[0m\u001b[90m Int64        \u001b[0m\u001b[90m Int64           \u001b[0m\u001b[90m Int64        \u001b[0m\u001b[90m Int64  \u001b[0m\u001b[90m Int64 \u001b[0m ⋯\n",
       "─────┼──────────────────────────────────────────────────────────────────────────\n",
       "   1 │ 2012-12-05         -7426            -6060         -1367     -74         ⋯\n",
       "   2 │ 2012-12-12         -8783            -7520         -1263     123\n",
       "   3 │ 2012-12-19         -5496            -5470           -26     -73\n",
       "   4 │ 2012-12-26         -4451            -4076          -375     550\n",
       "   5 │ 2013-01-02        -11156            -9622         -1533    -158         ⋯\n",
       "\u001b[36m                                                               4 columns omitted\u001b[0m"
      ]
     },
     "metadata": {},
     "output_type": "display_data"
    }
   ],
   "source": [
    "url = \"https://raw.githubusercontent.com/datasets/investor-flow-of-funds-us/master/data/weekly.csv\"\n",
    "file = Downloads.download(url)\n",
    "df = CSV.read(file, DataFrame)\n",
    "\n",
    "first(df, 5)"
   ]
  },
  {
   "cell_type": "markdown",
   "metadata": {},
   "source": [
    "### Step 4.  What is the frequency of the dataset?"
   ]
  },
  {
   "cell_type": "code",
   "execution_count": 3,
   "metadata": {
    "collapsed": false
   },
   "outputs": [],
   "source": [
    "# weekly data"
   ]
  },
  {
   "cell_type": "markdown",
   "metadata": {},
   "source": [
    "### Step 5. What is the type of the Date ?"
   ]
  },
  {
   "cell_type": "code",
   "execution_count": 4,
   "metadata": {
    "collapsed": false
   },
   "outputs": [
    {
     "data": {
      "text/plain": [
       "Date"
      ]
     },
     "metadata": {},
     "output_type": "display_data"
    }
   ],
   "source": [
    "eltype(df[!, \"Date\"])"
   ]
  },
  {
   "cell_type": "markdown",
   "metadata": {},
   "source": [
    "### Step 6. Set the type of column Date to a Date type"
   ]
  },
  {
   "cell_type": "code",
   "execution_count": 5,
   "metadata": {
    "collapsed": false
   },
   "outputs": [
    {
     "data": {
      "text/html": [
       "<div><div style = \"float: left;\"><span>5×9 DataFrame</span></div><div style = \"clear: both;\"></div></div><div class = \"data-frame\" style = \"overflow-x: scroll;\"><table class = \"data-frame\" style = \"margin-bottom: 6px;\"><thead><tr class = \"header\"><th class = \"rowNumber\" style = \"font-weight: bold; text-align: right;\">Row</th><th style = \"text-align: left;\">Date</th><th style = \"text-align: left;\">Total Equity</th><th style = \"text-align: left;\">Domestic Equity</th><th style = \"text-align: left;\">World Equity</th><th style = \"text-align: left;\">Hybrid</th><th style = \"text-align: left;\">Total Bond</th><th style = \"text-align: left;\">Taxable Bond</th><th style = \"text-align: left;\">Municipal Bond</th><th style = \"text-align: left;\">Total</th></tr><tr class = \"subheader headerLastRow\"><th class = \"rowNumber\" style = \"font-weight: bold; text-align: right;\"></th><th title = \"Date\" style = \"text-align: left;\">Date</th><th title = \"Int64\" style = \"text-align: left;\">Int64</th><th title = \"Int64\" style = \"text-align: left;\">Int64</th><th title = \"Int64\" style = \"text-align: left;\">Int64</th><th title = \"Int64\" style = \"text-align: left;\">Int64</th><th title = \"Int64\" style = \"text-align: left;\">Int64</th><th title = \"Int64\" style = \"text-align: left;\">Int64</th><th title = \"Int64\" style = \"text-align: left;\">Int64</th><th title = \"Int64\" style = \"text-align: left;\">Int64</th></tr></thead><tbody><tr><td class = \"rowNumber\" style = \"font-weight: bold; text-align: right;\">1</td><td style = \"text-align: left;\">2012-12-05</td><td style = \"text-align: right;\">-7426</td><td style = \"text-align: right;\">-6060</td><td style = \"text-align: right;\">-1367</td><td style = \"text-align: right;\">-74</td><td style = \"text-align: right;\">5317</td><td style = \"text-align: right;\">4210</td><td style = \"text-align: right;\">1107</td><td style = \"text-align: right;\">-2183</td></tr><tr><td class = \"rowNumber\" style = \"font-weight: bold; text-align: right;\">2</td><td style = \"text-align: left;\">2012-12-12</td><td style = \"text-align: right;\">-8783</td><td style = \"text-align: right;\">-7520</td><td style = \"text-align: right;\">-1263</td><td style = \"text-align: right;\">123</td><td style = \"text-align: right;\">1818</td><td style = \"text-align: right;\">1598</td><td style = \"text-align: right;\">219</td><td style = \"text-align: right;\">-6842</td></tr><tr><td class = \"rowNumber\" style = \"font-weight: bold; text-align: right;\">3</td><td style = \"text-align: left;\">2012-12-19</td><td style = \"text-align: right;\">-5496</td><td style = \"text-align: right;\">-5470</td><td style = \"text-align: right;\">-26</td><td style = \"text-align: right;\">-73</td><td style = \"text-align: right;\">103</td><td style = \"text-align: right;\">3472</td><td style = \"text-align: right;\">-3369</td><td style = \"text-align: right;\">-5466</td></tr><tr><td class = \"rowNumber\" style = \"font-weight: bold; text-align: right;\">4</td><td style = \"text-align: left;\">2012-12-26</td><td style = \"text-align: right;\">-4451</td><td style = \"text-align: right;\">-4076</td><td style = \"text-align: right;\">-375</td><td style = \"text-align: right;\">550</td><td style = \"text-align: right;\">2610</td><td style = \"text-align: right;\">3333</td><td style = \"text-align: right;\">-722</td><td style = \"text-align: right;\">-1291</td></tr><tr><td class = \"rowNumber\" style = \"font-weight: bold; text-align: right;\">5</td><td style = \"text-align: left;\">2013-01-02</td><td style = \"text-align: right;\">-11156</td><td style = \"text-align: right;\">-9622</td><td style = \"text-align: right;\">-1533</td><td style = \"text-align: right;\">-158</td><td style = \"text-align: right;\">2383</td><td style = \"text-align: right;\">2103</td><td style = \"text-align: right;\">280</td><td style = \"text-align: right;\">-8931</td></tr></tbody></table></div>"
      ],
      "text/latex": [
       "\\begin{tabular}{r|cccccccc}\n",
       "\t& Date & Total Equity & Domestic Equity & World Equity & Hybrid & Total Bond & Taxable Bond & \\\\\n",
       "\t\\hline\n",
       "\t& Date & Int64 & Int64 & Int64 & Int64 & Int64 & Int64 & \\\\\n",
       "\t\\hline\n",
       "\t1 & 2012-12-05 & -7426 & -6060 & -1367 & -74 & 5317 & 4210 & $\\dots$ \\\\\n",
       "\t2 & 2012-12-12 & -8783 & -7520 & -1263 & 123 & 1818 & 1598 & $\\dots$ \\\\\n",
       "\t3 & 2012-12-19 & -5496 & -5470 & -26 & -73 & 103 & 3472 & $\\dots$ \\\\\n",
       "\t4 & 2012-12-26 & -4451 & -4076 & -375 & 550 & 2610 & 3333 & $\\dots$ \\\\\n",
       "\t5 & 2013-01-02 & -11156 & -9622 & -1533 & -158 & 2383 & 2103 & $\\dots$ \\\\\n",
       "\\end{tabular}\n"
      ],
      "text/plain": [
       "\u001b[1m5×9 DataFrame\u001b[0m\n",
       "\u001b[1m Row \u001b[0m│\u001b[1m Date       \u001b[0m\u001b[1m Total Equity \u001b[0m\u001b[1m Domestic Equity \u001b[0m\u001b[1m World Equity \u001b[0m\u001b[1m Hybrid \u001b[0m\u001b[1m Total \u001b[0m ⋯\n",
       "     │\u001b[90m Date       \u001b[0m\u001b[90m Int64        \u001b[0m\u001b[90m Int64           \u001b[0m\u001b[90m Int64        \u001b[0m\u001b[90m Int64  \u001b[0m\u001b[90m Int64 \u001b[0m ⋯\n",
       "─────┼──────────────────────────────────────────────────────────────────────────\n",
       "   1 │ 2012-12-05         -7426            -6060         -1367     -74         ⋯\n",
       "   2 │ 2012-12-12         -8783            -7520         -1263     123\n",
       "   3 │ 2012-12-19         -5496            -5470           -26     -73\n",
       "   4 │ 2012-12-26         -4451            -4076          -375     550\n",
       "   5 │ 2013-01-02        -11156            -9622         -1533    -158         ⋯\n",
       "\u001b[36m                                                               4 columns omitted\u001b[0m"
      ]
     },
     "metadata": {},
     "output_type": "display_data"
    }
   ],
   "source": [
    "df[!, \"Date\"] = Date.(df[!, \"Date\"])\n",
    "first(df, 5)"
   ]
  },
  {
   "cell_type": "markdown",
   "metadata": {},
   "source": [
    "### Step 7.  Change the frequency to monthly, sum the values and assign it to monthly."
   ]
  },
  {
   "cell_type": "code",
   "execution_count": 6,
   "metadata": {},
   "outputs": [
    {
     "data": {
      "text/html": [
       "<div><div style = \"float: left;\"><span>5×9 DataFrame</span></div><div style = \"clear: both;\"></div></div><div class = \"data-frame\" style = \"overflow-x: scroll;\"><table class = \"data-frame\" style = \"margin-bottom: 6px;\"><thead><tr class = \"header\"><th class = \"rowNumber\" style = \"font-weight: bold; text-align: right;\">Row</th><th style = \"text-align: left;\">Date</th><th style = \"text-align: left;\">Total Equity_sum</th><th style = \"text-align: left;\">Domestic Equity_sum</th><th style = \"text-align: left;\">World Equity_sum</th><th style = \"text-align: left;\">Hybrid_sum</th><th style = \"text-align: left;\">Total Bond_sum</th><th style = \"text-align: left;\">Taxable Bond_sum</th><th style = \"text-align: left;\">Municipal Bond_sum</th><th style = \"text-align: left;\">Total_sum</th></tr><tr class = \"subheader headerLastRow\"><th class = \"rowNumber\" style = \"font-weight: bold; text-align: right;\"></th><th title = \"String\" style = \"text-align: left;\">String</th><th title = \"Int64\" style = \"text-align: left;\">Int64</th><th title = \"Int64\" style = \"text-align: left;\">Int64</th><th title = \"Int64\" style = \"text-align: left;\">Int64</th><th title = \"Int64\" style = \"text-align: left;\">Int64</th><th title = \"Int64\" style = \"text-align: left;\">Int64</th><th title = \"Int64\" style = \"text-align: left;\">Int64</th><th title = \"Int64\" style = \"text-align: left;\">Int64</th><th title = \"Int64\" style = \"text-align: left;\">Int64</th></tr></thead><tbody><tr><td class = \"rowNumber\" style = \"font-weight: bold; text-align: right;\">1</td><td style = \"text-align: left;\">2012-12</td><td style = \"text-align: right;\">-26156</td><td style = \"text-align: right;\">-23126</td><td style = \"text-align: right;\">-3031</td><td style = \"text-align: right;\">526</td><td style = \"text-align: right;\">9848</td><td style = \"text-align: right;\">12613</td><td style = \"text-align: right;\">-2765</td><td style = \"text-align: right;\">-15782</td></tr><tr><td class = \"rowNumber\" style = \"font-weight: bold; text-align: right;\">2</td><td style = \"text-align: left;\">2013-01</td><td style = \"text-align: right;\">3661</td><td style = \"text-align: right;\">-1627</td><td style = \"text-align: right;\">5288</td><td style = \"text-align: right;\">2730</td><td style = \"text-align: right;\">12149</td><td style = \"text-align: right;\">9414</td><td style = \"text-align: right;\">2735</td><td style = \"text-align: right;\">18540</td></tr><tr><td class = \"rowNumber\" style = \"font-weight: bold; text-align: right;\">3</td><td style = \"text-align: left;\">2014-04</td><td style = \"text-align: right;\">10842</td><td style = \"text-align: right;\">1048</td><td style = \"text-align: right;\">9794</td><td style = \"text-align: right;\">4931</td><td style = \"text-align: right;\">8493</td><td style = \"text-align: right;\">7193</td><td style = \"text-align: right;\">1300</td><td style = \"text-align: right;\">24267</td></tr><tr><td class = \"rowNumber\" style = \"font-weight: bold; text-align: right;\">4</td><td style = \"text-align: left;\">2014-05</td><td style = \"text-align: right;\">-2203</td><td style = \"text-align: right;\">-8720</td><td style = \"text-align: right;\">6518</td><td style = \"text-align: right;\">3172</td><td style = \"text-align: right;\">13767</td><td style = \"text-align: right;\">10192</td><td style = \"text-align: right;\">3576</td><td style = \"text-align: right;\">14736</td></tr><tr><td class = \"rowNumber\" style = \"font-weight: bold; text-align: right;\">5</td><td style = \"text-align: left;\">2014-06</td><td style = \"text-align: right;\">2319</td><td style = \"text-align: right;\">-6546</td><td style = \"text-align: right;\">8865</td><td style = \"text-align: right;\">4588</td><td style = \"text-align: right;\">9715</td><td style = \"text-align: right;\">7551</td><td style = \"text-align: right;\">2163</td><td style = \"text-align: right;\">16621</td></tr></tbody></table></div>"
      ],
      "text/latex": [
       "\\begin{tabular}{r|ccccccc}\n",
       "\t& Date & Total Equity\\_sum & Domestic Equity\\_sum & World Equity\\_sum & Hybrid\\_sum & Total Bond\\_sum & \\\\\n",
       "\t\\hline\n",
       "\t& String & Int64 & Int64 & Int64 & Int64 & Int64 & \\\\\n",
       "\t\\hline\n",
       "\t1 & 2012-12 & -26156 & -23126 & -3031 & 526 & 9848 & $\\dots$ \\\\\n",
       "\t2 & 2013-01 & 3661 & -1627 & 5288 & 2730 & 12149 & $\\dots$ \\\\\n",
       "\t3 & 2014-04 & 10842 & 1048 & 9794 & 4931 & 8493 & $\\dots$ \\\\\n",
       "\t4 & 2014-05 & -2203 & -8720 & 6518 & 3172 & 13767 & $\\dots$ \\\\\n",
       "\t5 & 2014-06 & 2319 & -6546 & 8865 & 4588 & 9715 & $\\dots$ \\\\\n",
       "\\end{tabular}\n"
      ],
      "text/plain": [
       "\u001b[1m5×9 DataFrame\u001b[0m\n",
       "\u001b[1m Row \u001b[0m│\u001b[1m Date    \u001b[0m\u001b[1m Total Equity_sum \u001b[0m\u001b[1m Domestic Equity_sum \u001b[0m\u001b[1m World Equity_sum \u001b[0m\u001b[1m Hybri\u001b[0m ⋯\n",
       "     │\u001b[90m String  \u001b[0m\u001b[90m Int64            \u001b[0m\u001b[90m Int64               \u001b[0m\u001b[90m Int64            \u001b[0m\u001b[90m Int64\u001b[0m ⋯\n",
       "─────┼──────────────────────────────────────────────────────────────────────────\n",
       "   1 │ 2012-12            -26156               -23126             -3031        ⋯\n",
       "   2 │ 2013-01              3661                -1627              5288\n",
       "   3 │ 2014-04             10842                 1048              9794\n",
       "   4 │ 2014-05             -2203                -8720              6518\n",
       "   5 │ 2014-06              2319                -6546              8865        ⋯\n",
       "\u001b[36m                                                               5 columns omitted\u001b[0m"
      ]
     },
     "metadata": {},
     "output_type": "display_data"
    }
   ],
   "source": [
    "# Combine monthly -> sum the value\n",
    "monthly = deepcopy(df)\n",
    "\n",
    "function to_period(data::Vector{Date})\n",
    "    month_ = string.(month.(data))\n",
    "    for i in 1:length(month_)\n",
    "        if length(month_[i]) == 1\n",
    "            month_[i] = \"0\" * month_[i]\n",
    "        end\n",
    "    end\n",
    "    year_ = year.(data)\n",
    "    return string.(year_) .* \"-\" .* month_\n",
    "end\n",
    "\n",
    "date = to_period(monthly[!, \"Date\"])\n",
    "monthly[!, \"Date\"] = date\n",
    "\n",
    "monthly = combine(\n",
    "    groupby(\n",
    "        monthly, :Date\n",
    "    ), \n",
    "    \"Total Equity\" => sum,\n",
    "    \"Domestic Equity\" => sum,\n",
    "    \"World Equity\" => sum,\n",
    "    \"Hybrid\" => sum,\n",
    "    \"Total Bond\" => sum,\n",
    "    \"Taxable Bond\" => sum,\n",
    "    \"Municipal Bond\" => sum,\n",
    "    \"Total\" => sum\n",
    ")\n",
    "first(monthly, 5)\n"
   ]
  },
  {
   "cell_type": "markdown",
   "metadata": {},
   "source": [
    "### Step 8. You will notice that it filled the dataFrame with months that don't have any data with NaN. Let's drop these rows."
   ]
  },
  {
   "cell_type": "code",
   "execution_count": 10,
   "metadata": {
    "collapsed": false
   },
   "outputs": [
    {
     "data": {
      "text/html": [
       "<div><div style = \"float: left;\"><span>13×9 DataFrame</span></div><div style = \"clear: both;\"></div></div><div class = \"data-frame\" style = \"overflow-x: scroll;\"><table class = \"data-frame\" style = \"margin-bottom: 6px;\"><thead><tr class = \"header\"><th class = \"rowNumber\" style = \"font-weight: bold; text-align: right;\">Row</th><th style = \"text-align: left;\">Date</th><th style = \"text-align: left;\">Total Equity_sum</th><th style = \"text-align: left;\">Domestic Equity_sum</th><th style = \"text-align: left;\">World Equity_sum</th><th style = \"text-align: left;\">Hybrid_sum</th><th style = \"text-align: left;\">Total Bond_sum</th><th style = \"text-align: left;\">Taxable Bond_sum</th><th style = \"text-align: left;\">Municipal Bond_sum</th><th style = \"text-align: left;\">Total_sum</th></tr><tr class = \"subheader headerLastRow\"><th class = \"rowNumber\" style = \"font-weight: bold; text-align: right;\"></th><th title = \"String\" style = \"text-align: left;\">String</th><th title = \"Int64\" style = \"text-align: left;\">Int64</th><th title = \"Int64\" style = \"text-align: left;\">Int64</th><th title = \"Int64\" style = \"text-align: left;\">Int64</th><th title = \"Int64\" style = \"text-align: left;\">Int64</th><th title = \"Int64\" style = \"text-align: left;\">Int64</th><th title = \"Int64\" style = \"text-align: left;\">Int64</th><th title = \"Int64\" style = \"text-align: left;\">Int64</th><th title = \"Int64\" style = \"text-align: left;\">Int64</th></tr></thead><tbody><tr><td class = \"rowNumber\" style = \"font-weight: bold; text-align: right;\">1</td><td style = \"text-align: left;\">2012-12</td><td style = \"text-align: right;\">-26156</td><td style = \"text-align: right;\">-23126</td><td style = \"text-align: right;\">-3031</td><td style = \"text-align: right;\">526</td><td style = \"text-align: right;\">9848</td><td style = \"text-align: right;\">12613</td><td style = \"text-align: right;\">-2765</td><td style = \"text-align: right;\">-15782</td></tr><tr><td class = \"rowNumber\" style = \"font-weight: bold; text-align: right;\">2</td><td style = \"text-align: left;\">2013-01</td><td style = \"text-align: right;\">3661</td><td style = \"text-align: right;\">-1627</td><td style = \"text-align: right;\">5288</td><td style = \"text-align: right;\">2730</td><td style = \"text-align: right;\">12149</td><td style = \"text-align: right;\">9414</td><td style = \"text-align: right;\">2735</td><td style = \"text-align: right;\">18540</td></tr><tr><td class = \"rowNumber\" style = \"font-weight: bold; text-align: right;\">3</td><td style = \"text-align: left;\">2014-04</td><td style = \"text-align: right;\">10842</td><td style = \"text-align: right;\">1048</td><td style = \"text-align: right;\">9794</td><td style = \"text-align: right;\">4931</td><td style = \"text-align: right;\">8493</td><td style = \"text-align: right;\">7193</td><td style = \"text-align: right;\">1300</td><td style = \"text-align: right;\">24267</td></tr><tr><td class = \"rowNumber\" style = \"font-weight: bold; text-align: right;\">4</td><td style = \"text-align: left;\">2014-05</td><td style = \"text-align: right;\">-2203</td><td style = \"text-align: right;\">-8720</td><td style = \"text-align: right;\">6518</td><td style = \"text-align: right;\">3172</td><td style = \"text-align: right;\">13767</td><td style = \"text-align: right;\">10192</td><td style = \"text-align: right;\">3576</td><td style = \"text-align: right;\">14736</td></tr><tr><td class = \"rowNumber\" style = \"font-weight: bold; text-align: right;\">5</td><td style = \"text-align: left;\">2014-06</td><td style = \"text-align: right;\">2319</td><td style = \"text-align: right;\">-6546</td><td style = \"text-align: right;\">8865</td><td style = \"text-align: right;\">4588</td><td style = \"text-align: right;\">9715</td><td style = \"text-align: right;\">7551</td><td style = \"text-align: right;\">2163</td><td style = \"text-align: right;\">16621</td></tr><tr><td class = \"rowNumber\" style = \"font-weight: bold; text-align: right;\">6</td><td style = \"text-align: left;\">2014-07</td><td style = \"text-align: right;\">-7051</td><td style = \"text-align: right;\">-11128</td><td style = \"text-align: right;\">4078</td><td style = \"text-align: right;\">2666</td><td style = \"text-align: right;\">7506</td><td style = \"text-align: right;\">7026</td><td style = \"text-align: right;\">481</td><td style = \"text-align: right;\">3122</td></tr><tr><td class = \"rowNumber\" style = \"font-weight: bold; text-align: right;\">7</td><td style = \"text-align: left;\">2014-08</td><td style = \"text-align: right;\">1943</td><td style = \"text-align: right;\">-5508</td><td style = \"text-align: right;\">7452</td><td style = \"text-align: right;\">1885</td><td style = \"text-align: right;\">1897</td><td style = \"text-align: right;\">-1013</td><td style = \"text-align: right;\">2910</td><td style = \"text-align: right;\">5723</td></tr><tr><td class = \"rowNumber\" style = \"font-weight: bold; text-align: right;\">8</td><td style = \"text-align: left;\">2014-09</td><td style = \"text-align: right;\">-2767</td><td style = \"text-align: right;\">-6596</td><td style = \"text-align: right;\">3829</td><td style = \"text-align: right;\">1599</td><td style = \"text-align: right;\">3984</td><td style = \"text-align: right;\">2479</td><td style = \"text-align: right;\">1504</td><td style = \"text-align: right;\">2816</td></tr><tr><td class = \"rowNumber\" style = \"font-weight: bold; text-align: right;\">9</td><td style = \"text-align: left;\">2014-11</td><td style = \"text-align: right;\">-2753</td><td style = \"text-align: right;\">-7239</td><td style = \"text-align: right;\">4485</td><td style = \"text-align: right;\">729</td><td style = \"text-align: right;\">14528</td><td style = \"text-align: right;\">11566</td><td style = \"text-align: right;\">2962</td><td style = \"text-align: right;\">12502</td></tr><tr><td class = \"rowNumber\" style = \"font-weight: bold; text-align: right;\">10</td><td style = \"text-align: left;\">2015-01</td><td style = \"text-align: right;\">3471</td><td style = \"text-align: right;\">-1164</td><td style = \"text-align: right;\">4635</td><td style = \"text-align: right;\">1729</td><td style = \"text-align: right;\">7368</td><td style = \"text-align: right;\">2762</td><td style = \"text-align: right;\">4606</td><td style = \"text-align: right;\">12569</td></tr><tr><td class = \"rowNumber\" style = \"font-weight: bold; text-align: right;\">11</td><td style = \"text-align: left;\">2015-02</td><td style = \"text-align: right;\">5508</td><td style = \"text-align: right;\">3509</td><td style = \"text-align: right;\">1999</td><td style = \"text-align: right;\">1752</td><td style = \"text-align: right;\">9099</td><td style = \"text-align: right;\">7443</td><td style = \"text-align: right;\">1656</td><td style = \"text-align: right;\">16359</td></tr><tr><td class = \"rowNumber\" style = \"font-weight: bold; text-align: right;\">12</td><td style = \"text-align: left;\">2015-03</td><td style = \"text-align: right;\">5691</td><td style = \"text-align: right;\">-8176</td><td style = \"text-align: right;\">13867</td><td style = \"text-align: right;\">2829</td><td style = \"text-align: right;\">9138</td><td style = \"text-align: right;\">7267</td><td style = \"text-align: right;\">1870</td><td style = \"text-align: right;\">17657</td></tr><tr><td class = \"rowNumber\" style = \"font-weight: bold; text-align: right;\">13</td><td style = \"text-align: left;\">2015-04</td><td style = \"text-align: right;\">379</td><td style = \"text-align: right;\">-4628</td><td style = \"text-align: right;\">5007</td><td style = \"text-align: right;\">970</td><td style = \"text-align: right;\">423</td><td style = \"text-align: right;\">514</td><td style = \"text-align: right;\">-91</td><td style = \"text-align: right;\">1772</td></tr></tbody></table></div>"
      ],
      "text/latex": [
       "\\begin{tabular}{r|ccccccc}\n",
       "\t& Date & Total Equity\\_sum & Domestic Equity\\_sum & World Equity\\_sum & Hybrid\\_sum & Total Bond\\_sum & \\\\\n",
       "\t\\hline\n",
       "\t& String & Int64 & Int64 & Int64 & Int64 & Int64 & \\\\\n",
       "\t\\hline\n",
       "\t1 & 2012-12 & -26156 & -23126 & -3031 & 526 & 9848 & $\\dots$ \\\\\n",
       "\t2 & 2013-01 & 3661 & -1627 & 5288 & 2730 & 12149 & $\\dots$ \\\\\n",
       "\t3 & 2014-04 & 10842 & 1048 & 9794 & 4931 & 8493 & $\\dots$ \\\\\n",
       "\t4 & 2014-05 & -2203 & -8720 & 6518 & 3172 & 13767 & $\\dots$ \\\\\n",
       "\t5 & 2014-06 & 2319 & -6546 & 8865 & 4588 & 9715 & $\\dots$ \\\\\n",
       "\t6 & 2014-07 & -7051 & -11128 & 4078 & 2666 & 7506 & $\\dots$ \\\\\n",
       "\t7 & 2014-08 & 1943 & -5508 & 7452 & 1885 & 1897 & $\\dots$ \\\\\n",
       "\t8 & 2014-09 & -2767 & -6596 & 3829 & 1599 & 3984 & $\\dots$ \\\\\n",
       "\t9 & 2014-11 & -2753 & -7239 & 4485 & 729 & 14528 & $\\dots$ \\\\\n",
       "\t10 & 2015-01 & 3471 & -1164 & 4635 & 1729 & 7368 & $\\dots$ \\\\\n",
       "\t11 & 2015-02 & 5508 & 3509 & 1999 & 1752 & 9099 & $\\dots$ \\\\\n",
       "\t12 & 2015-03 & 5691 & -8176 & 13867 & 2829 & 9138 & $\\dots$ \\\\\n",
       "\t13 & 2015-04 & 379 & -4628 & 5007 & 970 & 423 & $\\dots$ \\\\\n",
       "\\end{tabular}\n"
      ],
      "text/plain": [
       "\u001b[1m13×9 DataFrame\u001b[0m\n",
       "\u001b[1m Row \u001b[0m│\u001b[1m Date    \u001b[0m\u001b[1m Total Equity_sum \u001b[0m\u001b[1m Domestic Equity_sum \u001b[0m\u001b[1m World Equity_sum \u001b[0m\u001b[1m Hybri\u001b[0m ⋯\n",
       "     │\u001b[90m String  \u001b[0m\u001b[90m Int64            \u001b[0m\u001b[90m Int64               \u001b[0m\u001b[90m Int64            \u001b[0m\u001b[90m Int64\u001b[0m ⋯\n",
       "─────┼──────────────────────────────────────────────────────────────────────────\n",
       "   1 │ 2012-12            -26156               -23126             -3031        ⋯\n",
       "   2 │ 2013-01              3661                -1627              5288\n",
       "   3 │ 2014-04             10842                 1048              9794\n",
       "   4 │ 2014-05             -2203                -8720              6518\n",
       "   5 │ 2014-06              2319                -6546              8865        ⋯\n",
       "   6 │ 2014-07             -7051               -11128              4078\n",
       "   7 │ 2014-08              1943                -5508              7452\n",
       "   8 │ 2014-09             -2767                -6596              3829\n",
       "   9 │ 2014-11             -2753                -7239              4485        ⋯\n",
       "  10 │ 2015-01              3471                -1164              4635\n",
       "  11 │ 2015-02              5508                 3509              1999\n",
       "  12 │ 2015-03              5691                -8176             13867\n",
       "  13 │ 2015-04               379                -4628              5007        ⋯\n",
       "\u001b[36m                                                               5 columns omitted\u001b[0m"
      ]
     },
     "metadata": {},
     "output_type": "display_data"
    }
   ],
   "source": [
    "monthly = dropmissing(monthly)"
   ]
  },
  {
   "cell_type": "markdown",
   "metadata": {},
   "source": [
    "### Step 9. Good, now we have the monthly data. Now change the frequency to year."
   ]
  },
  {
   "cell_type": "code",
   "execution_count": 11,
   "metadata": {
    "collapsed": false
   },
   "outputs": [
    {
     "data": {
      "text/html": [
       "<div><div style = \"float: left;\"><span>4×9 DataFrame</span></div><div style = \"clear: both;\"></div></div><div class = \"data-frame\" style = \"overflow-x: scroll;\"><table class = \"data-frame\" style = \"margin-bottom: 6px;\"><thead><tr class = \"header\"><th class = \"rowNumber\" style = \"font-weight: bold; text-align: right;\">Row</th><th style = \"text-align: left;\">Year</th><th style = \"text-align: left;\">Total Equity_sum</th><th style = \"text-align: left;\">Domestic Equity_sum</th><th style = \"text-align: left;\">World Equity_sum</th><th style = \"text-align: left;\">Hybrid_sum</th><th style = \"text-align: left;\">Total Bond_sum</th><th style = \"text-align: left;\">Taxable Bond_sum</th><th style = \"text-align: left;\">Municipal Bond_sum</th><th style = \"text-align: left;\">Total_sum</th></tr><tr class = \"subheader headerLastRow\"><th class = \"rowNumber\" style = \"font-weight: bold; text-align: right;\"></th><th title = \"Int64\" style = \"text-align: left;\">Int64</th><th title = \"Int64\" style = \"text-align: left;\">Int64</th><th title = \"Int64\" style = \"text-align: left;\">Int64</th><th title = \"Int64\" style = \"text-align: left;\">Int64</th><th title = \"Int64\" style = \"text-align: left;\">Int64</th><th title = \"Int64\" style = \"text-align: left;\">Int64</th><th title = \"Int64\" style = \"text-align: left;\">Int64</th><th title = \"Int64\" style = \"text-align: left;\">Int64</th><th title = \"Int64\" style = \"text-align: left;\">Int64</th></tr></thead><tbody><tr><td class = \"rowNumber\" style = \"font-weight: bold; text-align: right;\">1</td><td style = \"text-align: right;\">2012</td><td style = \"text-align: right;\">-26156</td><td style = \"text-align: right;\">-23126</td><td style = \"text-align: right;\">-3031</td><td style = \"text-align: right;\">526</td><td style = \"text-align: right;\">9848</td><td style = \"text-align: right;\">12613</td><td style = \"text-align: right;\">-2765</td><td style = \"text-align: right;\">-15782</td></tr><tr><td class = \"rowNumber\" style = \"font-weight: bold; text-align: right;\">2</td><td style = \"text-align: right;\">2013</td><td style = \"text-align: right;\">3661</td><td style = \"text-align: right;\">-1627</td><td style = \"text-align: right;\">5288</td><td style = \"text-align: right;\">2730</td><td style = \"text-align: right;\">12149</td><td style = \"text-align: right;\">9414</td><td style = \"text-align: right;\">2735</td><td style = \"text-align: right;\">18540</td></tr><tr><td class = \"rowNumber\" style = \"font-weight: bold; text-align: right;\">3</td><td style = \"text-align: right;\">2014</td><td style = \"text-align: right;\">330</td><td style = \"text-align: right;\">-44689</td><td style = \"text-align: right;\">45021</td><td style = \"text-align: right;\">19570</td><td style = \"text-align: right;\">59890</td><td style = \"text-align: right;\">44994</td><td style = \"text-align: right;\">14896</td><td style = \"text-align: right;\">79787</td></tr><tr><td class = \"rowNumber\" style = \"font-weight: bold; text-align: right;\">4</td><td style = \"text-align: right;\">2015</td><td style = \"text-align: right;\">15049</td><td style = \"text-align: right;\">-10459</td><td style = \"text-align: right;\">25508</td><td style = \"text-align: right;\">7280</td><td style = \"text-align: right;\">26028</td><td style = \"text-align: right;\">17986</td><td style = \"text-align: right;\">8041</td><td style = \"text-align: right;\">48357</td></tr></tbody></table></div>"
      ],
      "text/latex": [
       "\\begin{tabular}{r|ccccccc}\n",
       "\t& Year & Total Equity\\_sum & Domestic Equity\\_sum & World Equity\\_sum & Hybrid\\_sum & Total Bond\\_sum & \\\\\n",
       "\t\\hline\n",
       "\t& Int64 & Int64 & Int64 & Int64 & Int64 & Int64 & \\\\\n",
       "\t\\hline\n",
       "\t1 & 2012 & -26156 & -23126 & -3031 & 526 & 9848 & $\\dots$ \\\\\n",
       "\t2 & 2013 & 3661 & -1627 & 5288 & 2730 & 12149 & $\\dots$ \\\\\n",
       "\t3 & 2014 & 330 & -44689 & 45021 & 19570 & 59890 & $\\dots$ \\\\\n",
       "\t4 & 2015 & 15049 & -10459 & 25508 & 7280 & 26028 & $\\dots$ \\\\\n",
       "\\end{tabular}\n"
      ],
      "text/plain": [
       "\u001b[1m4×9 DataFrame\u001b[0m\n",
       "\u001b[1m Row \u001b[0m│\u001b[1m Year  \u001b[0m\u001b[1m Total Equity_sum \u001b[0m\u001b[1m Domestic Equity_sum \u001b[0m\u001b[1m World Equity_sum \u001b[0m\u001b[1m Hybrid_\u001b[0m ⋯\n",
       "     │\u001b[90m Int64 \u001b[0m\u001b[90m Int64            \u001b[0m\u001b[90m Int64               \u001b[0m\u001b[90m Int64            \u001b[0m\u001b[90m Int64  \u001b[0m ⋯\n",
       "─────┼──────────────────────────────────────────────────────────────────────────\n",
       "   1 │  2012            -26156               -23126             -3031          ⋯\n",
       "   2 │  2013              3661                -1627              5288        2\n",
       "   3 │  2014               330               -44689             45021       19\n",
       "   4 │  2015             15049               -10459             25508        7\n",
       "\u001b[36m                                                               5 columns omitted\u001b[0m"
      ]
     },
     "metadata": {},
     "output_type": "display_data"
    }
   ],
   "source": [
    "df[!, \"Year\"] = year.(df[!, \"Date\"])\n",
    "\n",
    "yearly = combine(\n",
    "    groupby(\n",
    "        df, :Year\n",
    "    ),\n",
    "    \"Total Equity\" => sum,\n",
    "    \"Domestic Equity\" => sum,\n",
    "    \"World Equity\" => sum,\n",
    "    \"Hybrid\" => sum,\n",
    "    \"Total Bond\" => sum,\n",
    "    \"Taxable Bond\" => sum,\n",
    "    \"Municipal Bond\" => sum,\n",
    "    \"Total\" => sum\n",
    ")\n",
    "\n",
    "first(yearly, 5)"
   ]
  },
  {
   "cell_type": "markdown",
   "metadata": {},
   "source": [
    "### BONUS: Create your own question and answer it."
   ]
  },
  {
   "cell_type": "code",
   "execution_count": 9,
   "metadata": {
    "collapsed": true
   },
   "outputs": [],
   "source": []
  }
 ],
 "metadata": {
  "kernelspec": {
   "display_name": "Julia 1.10.3",
   "language": "julia",
   "name": "julia-1.10"
  },
  "language_info": {
   "file_extension": ".jl",
   "mimetype": "application/julia",
   "name": "julia",
   "version": "1.10.3"
  }
 },
 "nbformat": 4,
 "nbformat_minor": 0
}
