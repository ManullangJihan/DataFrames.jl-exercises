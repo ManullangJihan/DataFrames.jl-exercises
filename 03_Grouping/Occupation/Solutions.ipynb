{
 "cells": [
  {
   "cell_type": "markdown",
   "metadata": {},
   "source": [
    "# Occupation"
   ]
  },
  {
   "cell_type": "markdown",
   "metadata": {},
   "source": [
    "### Introduction:\n",
    "\n",
    "Special thanks to: https://github.com/justmarkham for sharing the dataset and materials.\n",
    "\n",
    "### Step 1. Import the necessary libraries"
   ]
  },
  {
   "cell_type": "code",
   "execution_count": null,
   "metadata": {},
   "outputs": [],
   "source": []
  },
  {
   "cell_type": "markdown",
   "metadata": {},
   "source": [
    "### Step 2. Import the dataset from this [address](https://raw.githubusercontent.com/justmarkham/DAT8/master/data/u.user). "
   ]
  },
  {
   "cell_type": "markdown",
   "metadata": {},
   "source": [
    "### Step 3. Assign it to a variable called users."
   ]
  },
  {
   "cell_type": "code",
   "execution_count": 2,
   "metadata": {
    "collapsed": false
   },
   "outputs": [
    {
     "data": {
      "text/html": [
       "<div><div style = \"float: left;\"><span>5×5 DataFrame</span></div><div style = \"clear: both;\"></div></div><div class = \"data-frame\" style = \"overflow-x: scroll;\"><table class = \"data-frame\" style = \"margin-bottom: 6px;\"><thead><tr class = \"header\"><th class = \"rowNumber\" style = \"font-weight: bold; text-align: right;\">Row</th><th style = \"text-align: left;\">user_id</th><th style = \"text-align: left;\">age</th><th style = \"text-align: left;\">gender</th><th style = \"text-align: left;\">occupation</th><th style = \"text-align: left;\">zip_code</th></tr><tr class = \"subheader headerLastRow\"><th class = \"rowNumber\" style = \"font-weight: bold; text-align: right;\"></th><th title = \"Int64\" style = \"text-align: left;\">Int64</th><th title = \"Int64\" style = \"text-align: left;\">Int64</th><th title = \"String1\" style = \"text-align: left;\">String1</th><th title = \"String15\" style = \"text-align: left;\">String15</th><th title = \"String7\" style = \"text-align: left;\">String7</th></tr></thead><tbody><tr><td class = \"rowNumber\" style = \"font-weight: bold; text-align: right;\">1</td><td style = \"text-align: right;\">1</td><td style = \"text-align: right;\">24</td><td style = \"text-align: left;\">M</td><td style = \"text-align: left;\">technician</td><td style = \"text-align: left;\">85711</td></tr><tr><td class = \"rowNumber\" style = \"font-weight: bold; text-align: right;\">2</td><td style = \"text-align: right;\">2</td><td style = \"text-align: right;\">53</td><td style = \"text-align: left;\">F</td><td style = \"text-align: left;\">other</td><td style = \"text-align: left;\">94043</td></tr><tr><td class = \"rowNumber\" style = \"font-weight: bold; text-align: right;\">3</td><td style = \"text-align: right;\">3</td><td style = \"text-align: right;\">23</td><td style = \"text-align: left;\">M</td><td style = \"text-align: left;\">writer</td><td style = \"text-align: left;\">32067</td></tr><tr><td class = \"rowNumber\" style = \"font-weight: bold; text-align: right;\">4</td><td style = \"text-align: right;\">4</td><td style = \"text-align: right;\">24</td><td style = \"text-align: left;\">M</td><td style = \"text-align: left;\">technician</td><td style = \"text-align: left;\">43537</td></tr><tr><td class = \"rowNumber\" style = \"font-weight: bold; text-align: right;\">5</td><td style = \"text-align: right;\">5</td><td style = \"text-align: right;\">33</td><td style = \"text-align: left;\">F</td><td style = \"text-align: left;\">other</td><td style = \"text-align: left;\">15213</td></tr></tbody></table></div>"
      ],
      "text/latex": [
       "\\begin{tabular}{r|ccccc}\n",
       "\t& user\\_id & age & gender & occupation & zip\\_code\\\\\n",
       "\t\\hline\n",
       "\t& Int64 & Int64 & String1 & String15 & String7\\\\\n",
       "\t\\hline\n",
       "\t1 & 1 & 24 & M & technician & 85711 \\\\\n",
       "\t2 & 2 & 53 & F & other & 94043 \\\\\n",
       "\t3 & 3 & 23 & M & writer & 32067 \\\\\n",
       "\t4 & 4 & 24 & M & technician & 43537 \\\\\n",
       "\t5 & 5 & 33 & F & other & 15213 \\\\\n",
       "\\end{tabular}\n"
      ],
      "text/plain": [
       "\u001b[1m5×5 DataFrame\u001b[0m\n",
       "\u001b[1m Row \u001b[0m│\u001b[1m user_id \u001b[0m\u001b[1m age   \u001b[0m\u001b[1m gender  \u001b[0m\u001b[1m occupation \u001b[0m\u001b[1m zip_code \u001b[0m\n",
       "     │\u001b[90m Int64   \u001b[0m\u001b[90m Int64 \u001b[0m\u001b[90m String1 \u001b[0m\u001b[90m String15   \u001b[0m\u001b[90m String7  \u001b[0m\n",
       "─────┼───────────────────────────────────────────────\n",
       "   1 │       1     24  M        technician  85711\n",
       "   2 │       2     53  F        other       94043\n",
       "   3 │       3     23  M        writer      32067\n",
       "   4 │       4     24  M        technician  43537\n",
       "   5 │       5     33  F        other       15213"
      ]
     },
     "metadata": {},
     "output_type": "display_data"
    }
   ],
   "source": []
  },
  {
   "cell_type": "markdown",
   "metadata": {},
   "source": [
    "### Step 4. Discover what is the mean age per occupation"
   ]
  },
  {
   "cell_type": "code",
   "execution_count": 3,
   "metadata": {
    "collapsed": false
   },
   "outputs": [
    {
     "data": {
      "text/html": [
       "<div><div style = \"float: left;\"><span>21×2 DataFrame</span></div><div style = \"clear: both;\"></div></div><div class = \"data-frame\" style = \"overflow-x: scroll;\"><table class = \"data-frame\" style = \"margin-bottom: 6px;\"><thead><tr class = \"header\"><th class = \"rowNumber\" style = \"font-weight: bold; text-align: right;\">Row</th><th style = \"text-align: left;\">occupation</th><th style = \"text-align: left;\">age_mean</th></tr><tr class = \"subheader headerLastRow\"><th class = \"rowNumber\" style = \"font-weight: bold; text-align: right;\"></th><th title = \"String15\" style = \"text-align: left;\">String15</th><th title = \"Float64\" style = \"text-align: left;\">Float64</th></tr></thead><tbody><tr><td class = \"rowNumber\" style = \"font-weight: bold; text-align: right;\">1</td><td style = \"text-align: left;\">technician</td><td style = \"text-align: right;\">33.1481</td></tr><tr><td class = \"rowNumber\" style = \"font-weight: bold; text-align: right;\">2</td><td style = \"text-align: left;\">other</td><td style = \"text-align: right;\">34.5238</td></tr><tr><td class = \"rowNumber\" style = \"font-weight: bold; text-align: right;\">3</td><td style = \"text-align: left;\">writer</td><td style = \"text-align: right;\">36.3111</td></tr><tr><td class = \"rowNumber\" style = \"font-weight: bold; text-align: right;\">4</td><td style = \"text-align: left;\">executive</td><td style = \"text-align: right;\">38.7188</td></tr><tr><td class = \"rowNumber\" style = \"font-weight: bold; text-align: right;\">5</td><td style = \"text-align: left;\">administrator</td><td style = \"text-align: right;\">38.7468</td></tr><tr><td class = \"rowNumber\" style = \"font-weight: bold; text-align: right;\">6</td><td style = \"text-align: left;\">student</td><td style = \"text-align: right;\">22.0816</td></tr><tr><td class = \"rowNumber\" style = \"font-weight: bold; text-align: right;\">7</td><td style = \"text-align: left;\">lawyer</td><td style = \"text-align: right;\">36.75</td></tr><tr><td class = \"rowNumber\" style = \"font-weight: bold; text-align: right;\">8</td><td style = \"text-align: left;\">educator</td><td style = \"text-align: right;\">42.0105</td></tr><tr><td class = \"rowNumber\" style = \"font-weight: bold; text-align: right;\">9</td><td style = \"text-align: left;\">scientist</td><td style = \"text-align: right;\">35.5484</td></tr><tr><td class = \"rowNumber\" style = \"font-weight: bold; text-align: right;\">10</td><td style = \"text-align: left;\">entertainment</td><td style = \"text-align: right;\">29.2222</td></tr><tr><td class = \"rowNumber\" style = \"font-weight: bold; text-align: right;\">11</td><td style = \"text-align: left;\">programmer</td><td style = \"text-align: right;\">33.1212</td></tr><tr><td class = \"rowNumber\" style = \"font-weight: bold; text-align: right;\">12</td><td style = \"text-align: left;\">librarian</td><td style = \"text-align: right;\">40.0</td></tr><tr><td class = \"rowNumber\" style = \"font-weight: bold; text-align: right;\">13</td><td style = \"text-align: left;\">homemaker</td><td style = \"text-align: right;\">32.5714</td></tr><tr><td class = \"rowNumber\" style = \"font-weight: bold; text-align: right;\">14</td><td style = \"text-align: left;\">artist</td><td style = \"text-align: right;\">31.3929</td></tr><tr><td class = \"rowNumber\" style = \"font-weight: bold; text-align: right;\">15</td><td style = \"text-align: left;\">engineer</td><td style = \"text-align: right;\">36.3881</td></tr><tr><td class = \"rowNumber\" style = \"font-weight: bold; text-align: right;\">16</td><td style = \"text-align: left;\">marketing</td><td style = \"text-align: right;\">37.6154</td></tr><tr><td class = \"rowNumber\" style = \"font-weight: bold; text-align: right;\">17</td><td style = \"text-align: left;\">none</td><td style = \"text-align: right;\">26.5556</td></tr><tr><td class = \"rowNumber\" style = \"font-weight: bold; text-align: right;\">18</td><td style = \"text-align: left;\">healthcare</td><td style = \"text-align: right;\">41.5625</td></tr><tr><td class = \"rowNumber\" style = \"font-weight: bold; text-align: right;\">19</td><td style = \"text-align: left;\">retired</td><td style = \"text-align: right;\">63.0714</td></tr><tr><td class = \"rowNumber\" style = \"font-weight: bold; text-align: right;\">20</td><td style = \"text-align: left;\">salesman</td><td style = \"text-align: right;\">35.6667</td></tr><tr><td class = \"rowNumber\" style = \"font-weight: bold; text-align: right;\">21</td><td style = \"text-align: left;\">doctor</td><td style = \"text-align: right;\">43.5714</td></tr></tbody></table></div>"
      ],
      "text/latex": [
       "\\begin{tabular}{r|cc}\n",
       "\t& occupation & age\\_mean\\\\\n",
       "\t\\hline\n",
       "\t& String15 & Float64\\\\\n",
       "\t\\hline\n",
       "\t1 & technician & 33.1481 \\\\\n",
       "\t2 & other & 34.5238 \\\\\n",
       "\t3 & writer & 36.3111 \\\\\n",
       "\t4 & executive & 38.7188 \\\\\n",
       "\t5 & administrator & 38.7468 \\\\\n",
       "\t6 & student & 22.0816 \\\\\n",
       "\t7 & lawyer & 36.75 \\\\\n",
       "\t8 & educator & 42.0105 \\\\\n",
       "\t9 & scientist & 35.5484 \\\\\n",
       "\t10 & entertainment & 29.2222 \\\\\n",
       "\t11 & programmer & 33.1212 \\\\\n",
       "\t12 & librarian & 40.0 \\\\\n",
       "\t13 & homemaker & 32.5714 \\\\\n",
       "\t14 & artist & 31.3929 \\\\\n",
       "\t15 & engineer & 36.3881 \\\\\n",
       "\t16 & marketing & 37.6154 \\\\\n",
       "\t17 & none & 26.5556 \\\\\n",
       "\t18 & healthcare & 41.5625 \\\\\n",
       "\t19 & retired & 63.0714 \\\\\n",
       "\t20 & salesman & 35.6667 \\\\\n",
       "\t21 & doctor & 43.5714 \\\\\n",
       "\\end{tabular}\n"
      ],
      "text/plain": [
       "\u001b[1m21×2 DataFrame\u001b[0m\n",
       "\u001b[1m Row \u001b[0m│\u001b[1m occupation    \u001b[0m\u001b[1m age_mean \u001b[0m\n",
       "     │\u001b[90m String15      \u001b[0m\u001b[90m Float64  \u001b[0m\n",
       "─────┼─────────────────────────\n",
       "   1 │ technician      33.1481\n",
       "   2 │ other           34.5238\n",
       "   3 │ writer          36.3111\n",
       "   4 │ executive       38.7188\n",
       "   5 │ administrator   38.7468\n",
       "   6 │ student         22.0816\n",
       "   7 │ lawyer          36.75\n",
       "   8 │ educator        42.0105\n",
       "  ⋮  │       ⋮           ⋮\n",
       "  15 │ engineer        36.3881\n",
       "  16 │ marketing       37.6154\n",
       "  17 │ none            26.5556\n",
       "  18 │ healthcare      41.5625\n",
       "  19 │ retired         63.0714\n",
       "  20 │ salesman        35.6667\n",
       "  21 │ doctor          43.5714\n",
       "\u001b[36m                 6 rows omitted\u001b[0m"
      ]
     },
     "metadata": {},
     "output_type": "display_data"
    }
   ],
   "source": []
  },
  {
   "cell_type": "markdown",
   "metadata": {},
   "source": [
    "### Step 5. Discover the Male ratio per occupation and sort it from the most to the least"
   ]
  },
  {
   "cell_type": "code",
   "execution_count": 7,
   "metadata": {
    "collapsed": false
   },
   "outputs": [
    {
     "data": {
      "text/html": [
       "<div><div style = \"float: left;\"><span>21×2 DataFrame</span></div><div style = \"clear: both;\"></div></div><div class = \"data-frame\" style = \"overflow-x: scroll;\"><table class = \"data-frame\" style = \"margin-bottom: 6px;\"><thead><tr class = \"header\"><th class = \"rowNumber\" style = \"font-weight: bold; text-align: right;\">Row</th><th style = \"text-align: left;\">occupation</th><th style = \"text-align: left;\">male_ratio</th></tr><tr class = \"subheader headerLastRow\"><th class = \"rowNumber\" style = \"font-weight: bold; text-align: right;\"></th><th title = \"String15\" style = \"text-align: left;\">String15</th><th title = \"Float64\" style = \"text-align: left;\">Float64</th></tr></thead><tbody><tr><td class = \"rowNumber\" style = \"font-weight: bold; text-align: right;\">1</td><td style = \"text-align: left;\">doctor</td><td style = \"text-align: right;\">100.0</td></tr><tr><td class = \"rowNumber\" style = \"font-weight: bold; text-align: right;\">2</td><td style = \"text-align: left;\">engineer</td><td style = \"text-align: right;\">97.0149</td></tr><tr><td class = \"rowNumber\" style = \"font-weight: bold; text-align: right;\">3</td><td style = \"text-align: left;\">technician</td><td style = \"text-align: right;\">96.2963</td></tr><tr><td class = \"rowNumber\" style = \"font-weight: bold; text-align: right;\">4</td><td style = \"text-align: left;\">retired</td><td style = \"text-align: right;\">92.8571</td></tr><tr><td class = \"rowNumber\" style = \"font-weight: bold; text-align: right;\">5</td><td style = \"text-align: left;\">programmer</td><td style = \"text-align: right;\">90.9091</td></tr><tr><td class = \"rowNumber\" style = \"font-weight: bold; text-align: right;\">6</td><td style = \"text-align: left;\">executive</td><td style = \"text-align: right;\">90.625</td></tr><tr><td class = \"rowNumber\" style = \"font-weight: bold; text-align: right;\">7</td><td style = \"text-align: left;\">scientist</td><td style = \"text-align: right;\">90.3226</td></tr><tr><td class = \"rowNumber\" style = \"font-weight: bold; text-align: right;\">8</td><td style = \"text-align: left;\">entertainment</td><td style = \"text-align: right;\">88.8889</td></tr><tr><td class = \"rowNumber\" style = \"font-weight: bold; text-align: right;\">9</td><td style = \"text-align: left;\">lawyer</td><td style = \"text-align: right;\">83.3333</td></tr><tr><td class = \"rowNumber\" style = \"font-weight: bold; text-align: right;\">10</td><td style = \"text-align: left;\">salesman</td><td style = \"text-align: right;\">75.0</td></tr><tr><td class = \"rowNumber\" style = \"font-weight: bold; text-align: right;\">11</td><td style = \"text-align: left;\">educator</td><td style = \"text-align: right;\">72.6316</td></tr><tr><td class = \"rowNumber\" style = \"font-weight: bold; text-align: right;\">12</td><td style = \"text-align: left;\">student</td><td style = \"text-align: right;\">69.3878</td></tr><tr><td class = \"rowNumber\" style = \"font-weight: bold; text-align: right;\">13</td><td style = \"text-align: left;\">other</td><td style = \"text-align: right;\">65.7143</td></tr><tr><td class = \"rowNumber\" style = \"font-weight: bold; text-align: right;\">14</td><td style = \"text-align: left;\">marketing</td><td style = \"text-align: right;\">61.5385</td></tr><tr><td class = \"rowNumber\" style = \"font-weight: bold; text-align: right;\">15</td><td style = \"text-align: left;\">writer</td><td style = \"text-align: right;\">57.7778</td></tr><tr><td class = \"rowNumber\" style = \"font-weight: bold; text-align: right;\">16</td><td style = \"text-align: left;\">none</td><td style = \"text-align: right;\">55.5556</td></tr><tr><td class = \"rowNumber\" style = \"font-weight: bold; text-align: right;\">17</td><td style = \"text-align: left;\">administrator</td><td style = \"text-align: right;\">54.4304</td></tr><tr><td class = \"rowNumber\" style = \"font-weight: bold; text-align: right;\">18</td><td style = \"text-align: left;\">artist</td><td style = \"text-align: right;\">53.5714</td></tr><tr><td class = \"rowNumber\" style = \"font-weight: bold; text-align: right;\">19</td><td style = \"text-align: left;\">librarian</td><td style = \"text-align: right;\">43.1373</td></tr><tr><td class = \"rowNumber\" style = \"font-weight: bold; text-align: right;\">20</td><td style = \"text-align: left;\">healthcare</td><td style = \"text-align: right;\">31.25</td></tr><tr><td class = \"rowNumber\" style = \"font-weight: bold; text-align: right;\">21</td><td style = \"text-align: left;\">homemaker</td><td style = \"text-align: right;\">14.2857</td></tr></tbody></table></div>"
      ],
      "text/latex": [
       "\\begin{tabular}{r|cc}\n",
       "\t& occupation & male\\_ratio\\\\\n",
       "\t\\hline\n",
       "\t& String15 & Float64\\\\\n",
       "\t\\hline\n",
       "\t1 & doctor & 100.0 \\\\\n",
       "\t2 & engineer & 97.0149 \\\\\n",
       "\t3 & technician & 96.2963 \\\\\n",
       "\t4 & retired & 92.8571 \\\\\n",
       "\t5 & programmer & 90.9091 \\\\\n",
       "\t6 & executive & 90.625 \\\\\n",
       "\t7 & scientist & 90.3226 \\\\\n",
       "\t8 & entertainment & 88.8889 \\\\\n",
       "\t9 & lawyer & 83.3333 \\\\\n",
       "\t10 & salesman & 75.0 \\\\\n",
       "\t11 & educator & 72.6316 \\\\\n",
       "\t12 & student & 69.3878 \\\\\n",
       "\t13 & other & 65.7143 \\\\\n",
       "\t14 & marketing & 61.5385 \\\\\n",
       "\t15 & writer & 57.7778 \\\\\n",
       "\t16 & none & 55.5556 \\\\\n",
       "\t17 & administrator & 54.4304 \\\\\n",
       "\t18 & artist & 53.5714 \\\\\n",
       "\t19 & librarian & 43.1373 \\\\\n",
       "\t20 & healthcare & 31.25 \\\\\n",
       "\t21 & homemaker & 14.2857 \\\\\n",
       "\\end{tabular}\n"
      ],
      "text/plain": [
       "\u001b[1m21×2 DataFrame\u001b[0m\n",
       "\u001b[1m Row \u001b[0m│\u001b[1m occupation    \u001b[0m\u001b[1m male_ratio \u001b[0m\n",
       "     │\u001b[90m String15      \u001b[0m\u001b[90m Float64    \u001b[0m\n",
       "─────┼───────────────────────────\n",
       "   1 │ doctor           100.0\n",
       "   2 │ engineer          97.0149\n",
       "   3 │ technician        96.2963\n",
       "   4 │ retired           92.8571\n",
       "   5 │ programmer        90.9091\n",
       "   6 │ executive         90.625\n",
       "   7 │ scientist         90.3226\n",
       "   8 │ entertainment     88.8889\n",
       "  ⋮  │       ⋮            ⋮\n",
       "  15 │ writer            57.7778\n",
       "  16 │ none              55.5556\n",
       "  17 │ administrator     54.4304\n",
       "  18 │ artist            53.5714\n",
       "  19 │ librarian         43.1373\n",
       "  20 │ healthcare        31.25\n",
       "  21 │ homemaker         14.2857\n",
       "\u001b[36m                   6 rows omitted\u001b[0m"
      ]
     },
     "metadata": {},
     "output_type": "display_data"
    }
   ],
   "source": []
  },
  {
   "cell_type": "markdown",
   "metadata": {},
   "source": [
    "### Step 6. For each occupation, calculate the minimum and maximum ages"
   ]
  },
  {
   "cell_type": "code",
   "execution_count": 8,
   "metadata": {
    "collapsed": false
   },
   "outputs": [
    {
     "data": {
      "text/html": [
       "<div><div style = \"float: left;\"><span>21×3 DataFrame</span></div><div style = \"clear: both;\"></div></div><div class = \"data-frame\" style = \"overflow-x: scroll;\"><table class = \"data-frame\" style = \"margin-bottom: 6px;\"><thead><tr class = \"header\"><th class = \"rowNumber\" style = \"font-weight: bold; text-align: right;\">Row</th><th style = \"text-align: left;\">occupation</th><th style = \"text-align: left;\">age_minimum</th><th style = \"text-align: left;\">age_maximum</th></tr><tr class = \"subheader headerLastRow\"><th class = \"rowNumber\" style = \"font-weight: bold; text-align: right;\"></th><th title = \"String15\" style = \"text-align: left;\">String15</th><th title = \"Int64\" style = \"text-align: left;\">Int64</th><th title = \"Int64\" style = \"text-align: left;\">Int64</th></tr></thead><tbody><tr><td class = \"rowNumber\" style = \"font-weight: bold; text-align: right;\">1</td><td style = \"text-align: left;\">technician</td><td style = \"text-align: right;\">21</td><td style = \"text-align: right;\">55</td></tr><tr><td class = \"rowNumber\" style = \"font-weight: bold; text-align: right;\">2</td><td style = \"text-align: left;\">other</td><td style = \"text-align: right;\">13</td><td style = \"text-align: right;\">64</td></tr><tr><td class = \"rowNumber\" style = \"font-weight: bold; text-align: right;\">3</td><td style = \"text-align: left;\">writer</td><td style = \"text-align: right;\">18</td><td style = \"text-align: right;\">60</td></tr><tr><td class = \"rowNumber\" style = \"font-weight: bold; text-align: right;\">4</td><td style = \"text-align: left;\">executive</td><td style = \"text-align: right;\">22</td><td style = \"text-align: right;\">69</td></tr><tr><td class = \"rowNumber\" style = \"font-weight: bold; text-align: right;\">5</td><td style = \"text-align: left;\">administrator</td><td style = \"text-align: right;\">21</td><td style = \"text-align: right;\">70</td></tr><tr><td class = \"rowNumber\" style = \"font-weight: bold; text-align: right;\">6</td><td style = \"text-align: left;\">student</td><td style = \"text-align: right;\">7</td><td style = \"text-align: right;\">42</td></tr><tr><td class = \"rowNumber\" style = \"font-weight: bold; text-align: right;\">7</td><td style = \"text-align: left;\">lawyer</td><td style = \"text-align: right;\">21</td><td style = \"text-align: right;\">53</td></tr><tr><td class = \"rowNumber\" style = \"font-weight: bold; text-align: right;\">8</td><td style = \"text-align: left;\">educator</td><td style = \"text-align: right;\">23</td><td style = \"text-align: right;\">63</td></tr><tr><td class = \"rowNumber\" style = \"font-weight: bold; text-align: right;\">9</td><td style = \"text-align: left;\">scientist</td><td style = \"text-align: right;\">23</td><td style = \"text-align: right;\">55</td></tr><tr><td class = \"rowNumber\" style = \"font-weight: bold; text-align: right;\">10</td><td style = \"text-align: left;\">entertainment</td><td style = \"text-align: right;\">15</td><td style = \"text-align: right;\">50</td></tr><tr><td class = \"rowNumber\" style = \"font-weight: bold; text-align: right;\">11</td><td style = \"text-align: left;\">programmer</td><td style = \"text-align: right;\">20</td><td style = \"text-align: right;\">63</td></tr><tr><td class = \"rowNumber\" style = \"font-weight: bold; text-align: right;\">12</td><td style = \"text-align: left;\">librarian</td><td style = \"text-align: right;\">23</td><td style = \"text-align: right;\">69</td></tr><tr><td class = \"rowNumber\" style = \"font-weight: bold; text-align: right;\">13</td><td style = \"text-align: left;\">homemaker</td><td style = \"text-align: right;\">20</td><td style = \"text-align: right;\">50</td></tr><tr><td class = \"rowNumber\" style = \"font-weight: bold; text-align: right;\">14</td><td style = \"text-align: left;\">artist</td><td style = \"text-align: right;\">19</td><td style = \"text-align: right;\">48</td></tr><tr><td class = \"rowNumber\" style = \"font-weight: bold; text-align: right;\">15</td><td style = \"text-align: left;\">engineer</td><td style = \"text-align: right;\">22</td><td style = \"text-align: right;\">70</td></tr><tr><td class = \"rowNumber\" style = \"font-weight: bold; text-align: right;\">16</td><td style = \"text-align: left;\">marketing</td><td style = \"text-align: right;\">24</td><td style = \"text-align: right;\">55</td></tr><tr><td class = \"rowNumber\" style = \"font-weight: bold; text-align: right;\">17</td><td style = \"text-align: left;\">none</td><td style = \"text-align: right;\">11</td><td style = \"text-align: right;\">55</td></tr><tr><td class = \"rowNumber\" style = \"font-weight: bold; text-align: right;\">18</td><td style = \"text-align: left;\">healthcare</td><td style = \"text-align: right;\">22</td><td style = \"text-align: right;\">62</td></tr><tr><td class = \"rowNumber\" style = \"font-weight: bold; text-align: right;\">19</td><td style = \"text-align: left;\">retired</td><td style = \"text-align: right;\">51</td><td style = \"text-align: right;\">73</td></tr><tr><td class = \"rowNumber\" style = \"font-weight: bold; text-align: right;\">20</td><td style = \"text-align: left;\">salesman</td><td style = \"text-align: right;\">18</td><td style = \"text-align: right;\">66</td></tr><tr><td class = \"rowNumber\" style = \"font-weight: bold; text-align: right;\">21</td><td style = \"text-align: left;\">doctor</td><td style = \"text-align: right;\">28</td><td style = \"text-align: right;\">64</td></tr></tbody></table></div>"
      ],
      "text/latex": [
       "\\begin{tabular}{r|ccc}\n",
       "\t& occupation & age\\_minimum & age\\_maximum\\\\\n",
       "\t\\hline\n",
       "\t& String15 & Int64 & Int64\\\\\n",
       "\t\\hline\n",
       "\t1 & technician & 21 & 55 \\\\\n",
       "\t2 & other & 13 & 64 \\\\\n",
       "\t3 & writer & 18 & 60 \\\\\n",
       "\t4 & executive & 22 & 69 \\\\\n",
       "\t5 & administrator & 21 & 70 \\\\\n",
       "\t6 & student & 7 & 42 \\\\\n",
       "\t7 & lawyer & 21 & 53 \\\\\n",
       "\t8 & educator & 23 & 63 \\\\\n",
       "\t9 & scientist & 23 & 55 \\\\\n",
       "\t10 & entertainment & 15 & 50 \\\\\n",
       "\t11 & programmer & 20 & 63 \\\\\n",
       "\t12 & librarian & 23 & 69 \\\\\n",
       "\t13 & homemaker & 20 & 50 \\\\\n",
       "\t14 & artist & 19 & 48 \\\\\n",
       "\t15 & engineer & 22 & 70 \\\\\n",
       "\t16 & marketing & 24 & 55 \\\\\n",
       "\t17 & none & 11 & 55 \\\\\n",
       "\t18 & healthcare & 22 & 62 \\\\\n",
       "\t19 & retired & 51 & 73 \\\\\n",
       "\t20 & salesman & 18 & 66 \\\\\n",
       "\t21 & doctor & 28 & 64 \\\\\n",
       "\\end{tabular}\n"
      ],
      "text/plain": [
       "\u001b[1m21×3 DataFrame\u001b[0m\n",
       "\u001b[1m Row \u001b[0m│\u001b[1m occupation    \u001b[0m\u001b[1m age_minimum \u001b[0m\u001b[1m age_maximum \u001b[0m\n",
       "     │\u001b[90m String15      \u001b[0m\u001b[90m Int64       \u001b[0m\u001b[90m Int64       \u001b[0m\n",
       "─────┼─────────────────────────────────────────\n",
       "   1 │ technician              21           55\n",
       "   2 │ other                   13           64\n",
       "   3 │ writer                  18           60\n",
       "   4 │ executive               22           69\n",
       "   5 │ administrator           21           70\n",
       "   6 │ student                  7           42\n",
       "   7 │ lawyer                  21           53\n",
       "   8 │ educator                23           63\n",
       "  ⋮  │       ⋮             ⋮            ⋮\n",
       "  15 │ engineer                22           70\n",
       "  16 │ marketing               24           55\n",
       "  17 │ none                    11           55\n",
       "  18 │ healthcare              22           62\n",
       "  19 │ retired                 51           73\n",
       "  20 │ salesman                18           66\n",
       "  21 │ doctor                  28           64\n",
       "\u001b[36m                                 6 rows omitted\u001b[0m"
      ]
     },
     "metadata": {},
     "output_type": "display_data"
    }
   ],
   "source": []
  },
  {
   "cell_type": "markdown",
   "metadata": {},
   "source": [
    "### Step 7. For each combination of occupation and gender, calculate the mean age"
   ]
  },
  {
   "cell_type": "code",
   "execution_count": 9,
   "metadata": {
    "collapsed": false
   },
   "outputs": [
    {
     "data": {
      "text/html": [
       "<div><div style = \"float: left;\"><span>41×3 DataFrame</span></div><div style = \"float: right;\"><span style = \"font-style: italic;\">16 rows omitted</span></div><div style = \"clear: both;\"></div></div><div class = \"data-frame\" style = \"overflow-x: scroll;\"><table class = \"data-frame\" style = \"margin-bottom: 6px;\"><thead><tr class = \"header\"><th class = \"rowNumber\" style = \"font-weight: bold; text-align: right;\">Row</th><th style = \"text-align: left;\">occupation</th><th style = \"text-align: left;\">gender</th><th style = \"text-align: left;\">age_mean</th></tr><tr class = \"subheader headerLastRow\"><th class = \"rowNumber\" style = \"font-weight: bold; text-align: right;\"></th><th title = \"String15\" style = \"text-align: left;\">String15</th><th title = \"String1\" style = \"text-align: left;\">String1</th><th title = \"Float64\" style = \"text-align: left;\">Float64</th></tr></thead><tbody><tr><td class = \"rowNumber\" style = \"font-weight: bold; text-align: right;\">1</td><td style = \"text-align: left;\">technician</td><td style = \"text-align: left;\">M</td><td style = \"text-align: right;\">32.9615</td></tr><tr><td class = \"rowNumber\" style = \"font-weight: bold; text-align: right;\">2</td><td style = \"text-align: left;\">technician</td><td style = \"text-align: left;\">F</td><td style = \"text-align: right;\">38.0</td></tr><tr><td class = \"rowNumber\" style = \"font-weight: bold; text-align: right;\">3</td><td style = \"text-align: left;\">other</td><td style = \"text-align: left;\">M</td><td style = \"text-align: right;\">34.029</td></tr><tr><td class = \"rowNumber\" style = \"font-weight: bold; text-align: right;\">4</td><td style = \"text-align: left;\">other</td><td style = \"text-align: left;\">F</td><td style = \"text-align: right;\">35.4722</td></tr><tr><td class = \"rowNumber\" style = \"font-weight: bold; text-align: right;\">5</td><td style = \"text-align: left;\">writer</td><td style = \"text-align: left;\">M</td><td style = \"text-align: right;\">35.3462</td></tr><tr><td class = \"rowNumber\" style = \"font-weight: bold; text-align: right;\">6</td><td style = \"text-align: left;\">writer</td><td style = \"text-align: left;\">F</td><td style = \"text-align: right;\">37.6316</td></tr><tr><td class = \"rowNumber\" style = \"font-weight: bold; text-align: right;\">7</td><td style = \"text-align: left;\">executive</td><td style = \"text-align: left;\">M</td><td style = \"text-align: right;\">38.1724</td></tr><tr><td class = \"rowNumber\" style = \"font-weight: bold; text-align: right;\">8</td><td style = \"text-align: left;\">executive</td><td style = \"text-align: left;\">F</td><td style = \"text-align: right;\">44.0</td></tr><tr><td class = \"rowNumber\" style = \"font-weight: bold; text-align: right;\">9</td><td style = \"text-align: left;\">administrator</td><td style = \"text-align: left;\">M</td><td style = \"text-align: right;\">37.1628</td></tr><tr><td class = \"rowNumber\" style = \"font-weight: bold; text-align: right;\">10</td><td style = \"text-align: left;\">administrator</td><td style = \"text-align: left;\">F</td><td style = \"text-align: right;\">40.6389</td></tr><tr><td class = \"rowNumber\" style = \"font-weight: bold; text-align: right;\">11</td><td style = \"text-align: left;\">student</td><td style = \"text-align: left;\">M</td><td style = \"text-align: right;\">22.6691</td></tr><tr><td class = \"rowNumber\" style = \"font-weight: bold; text-align: right;\">12</td><td style = \"text-align: left;\">student</td><td style = \"text-align: left;\">F</td><td style = \"text-align: right;\">20.75</td></tr><tr><td class = \"rowNumber\" style = \"font-weight: bold; text-align: right;\">13</td><td style = \"text-align: left;\">lawyer</td><td style = \"text-align: left;\">M</td><td style = \"text-align: right;\">36.2</td></tr><tr><td style = \"text-align: right;\">&vellip;</td><td style = \"text-align: right;\">&vellip;</td><td style = \"text-align: right;\">&vellip;</td><td style = \"text-align: right;\">&vellip;</td></tr><tr><td class = \"rowNumber\" style = \"font-weight: bold; text-align: right;\">30</td><td style = \"text-align: left;\">engineer</td><td style = \"text-align: left;\">F</td><td style = \"text-align: right;\">29.5</td></tr><tr><td class = \"rowNumber\" style = \"font-weight: bold; text-align: right;\">31</td><td style = \"text-align: left;\">marketing</td><td style = \"text-align: left;\">M</td><td style = \"text-align: right;\">37.875</td></tr><tr><td class = \"rowNumber\" style = \"font-weight: bold; text-align: right;\">32</td><td style = \"text-align: left;\">marketing</td><td style = \"text-align: left;\">F</td><td style = \"text-align: right;\">37.2</td></tr><tr><td class = \"rowNumber\" style = \"font-weight: bold; text-align: right;\">33</td><td style = \"text-align: left;\">none</td><td style = \"text-align: left;\">M</td><td style = \"text-align: right;\">18.6</td></tr><tr><td class = \"rowNumber\" style = \"font-weight: bold; text-align: right;\">34</td><td style = \"text-align: left;\">none</td><td style = \"text-align: left;\">F</td><td style = \"text-align: right;\">36.5</td></tr><tr><td class = \"rowNumber\" style = \"font-weight: bold; text-align: right;\">35</td><td style = \"text-align: left;\">healthcare</td><td style = \"text-align: left;\">M</td><td style = \"text-align: right;\">45.4</td></tr><tr><td class = \"rowNumber\" style = \"font-weight: bold; text-align: right;\">36</td><td style = \"text-align: left;\">healthcare</td><td style = \"text-align: left;\">F</td><td style = \"text-align: right;\">39.8182</td></tr><tr><td class = \"rowNumber\" style = \"font-weight: bold; text-align: right;\">37</td><td style = \"text-align: left;\">retired</td><td style = \"text-align: left;\">M</td><td style = \"text-align: right;\">62.5385</td></tr><tr><td class = \"rowNumber\" style = \"font-weight: bold; text-align: right;\">38</td><td style = \"text-align: left;\">retired</td><td style = \"text-align: left;\">F</td><td style = \"text-align: right;\">70.0</td></tr><tr><td class = \"rowNumber\" style = \"font-weight: bold; text-align: right;\">39</td><td style = \"text-align: left;\">salesman</td><td style = \"text-align: left;\">M</td><td style = \"text-align: right;\">38.5556</td></tr><tr><td class = \"rowNumber\" style = \"font-weight: bold; text-align: right;\">40</td><td style = \"text-align: left;\">salesman</td><td style = \"text-align: left;\">F</td><td style = \"text-align: right;\">27.0</td></tr><tr><td class = \"rowNumber\" style = \"font-weight: bold; text-align: right;\">41</td><td style = \"text-align: left;\">doctor</td><td style = \"text-align: left;\">M</td><td style = \"text-align: right;\">43.5714</td></tr></tbody></table></div>"
      ],
      "text/latex": [
       "\\begin{tabular}{r|ccc}\n",
       "\t& occupation & gender & age\\_mean\\\\\n",
       "\t\\hline\n",
       "\t& String15 & String1 & Float64\\\\\n",
       "\t\\hline\n",
       "\t1 & technician & M & 32.9615 \\\\\n",
       "\t2 & technician & F & 38.0 \\\\\n",
       "\t3 & other & M & 34.029 \\\\\n",
       "\t4 & other & F & 35.4722 \\\\\n",
       "\t5 & writer & M & 35.3462 \\\\\n",
       "\t6 & writer & F & 37.6316 \\\\\n",
       "\t7 & executive & M & 38.1724 \\\\\n",
       "\t8 & executive & F & 44.0 \\\\\n",
       "\t9 & administrator & M & 37.1628 \\\\\n",
       "\t10 & administrator & F & 40.6389 \\\\\n",
       "\t11 & student & M & 22.6691 \\\\\n",
       "\t12 & student & F & 20.75 \\\\\n",
       "\t13 & lawyer & M & 36.2 \\\\\n",
       "\t14 & lawyer & F & 39.5 \\\\\n",
       "\t15 & educator & M & 43.1014 \\\\\n",
       "\t16 & educator & F & 39.1154 \\\\\n",
       "\t17 & scientist & M & 36.3214 \\\\\n",
       "\t18 & scientist & F & 28.3333 \\\\\n",
       "\t19 & entertainment & M & 29.0 \\\\\n",
       "\t20 & entertainment & F & 31.0 \\\\\n",
       "\t21 & programmer & M & 33.2167 \\\\\n",
       "\t22 & programmer & F & 32.1667 \\\\\n",
       "\t23 & librarian & M & 40.0 \\\\\n",
       "\t24 & librarian & F & 40.0 \\\\\n",
       "\t$\\dots$ & $\\dots$ & $\\dots$ & $\\dots$ \\\\\n",
       "\\end{tabular}\n"
      ],
      "text/plain": [
       "\u001b[1m41×3 DataFrame\u001b[0m\n",
       "\u001b[1m Row \u001b[0m│\u001b[1m occupation    \u001b[0m\u001b[1m gender  \u001b[0m\u001b[1m age_mean \u001b[0m\n",
       "     │\u001b[90m String15      \u001b[0m\u001b[90m String1 \u001b[0m\u001b[90m Float64  \u001b[0m\n",
       "─────┼──────────────────────────────────\n",
       "   1 │ technician     M         32.9615\n",
       "   2 │ technician     F         38.0\n",
       "   3 │ other          M         34.029\n",
       "   4 │ other          F         35.4722\n",
       "   5 │ writer         M         35.3462\n",
       "   6 │ writer         F         37.6316\n",
       "   7 │ executive      M         38.1724\n",
       "   8 │ executive      F         44.0\n",
       "  ⋮  │       ⋮           ⋮        ⋮\n",
       "  35 │ healthcare     M         45.4\n",
       "  36 │ healthcare     F         39.8182\n",
       "  37 │ retired        M         62.5385\n",
       "  38 │ retired        F         70.0\n",
       "  39 │ salesman       M         38.5556\n",
       "  40 │ salesman       F         27.0\n",
       "  41 │ doctor         M         43.5714\n",
       "\u001b[36m                         26 rows omitted\u001b[0m"
      ]
     },
     "metadata": {},
     "output_type": "display_data"
    }
   ],
   "source": []
  },
  {
   "cell_type": "markdown",
   "metadata": {},
   "source": [
    "### Step 8.  For each occupation present the percentage of women and men"
   ]
  },
  {
   "cell_type": "code",
   "execution_count": 10,
   "metadata": {},
   "outputs": [
    {
     "data": {
      "text/html": [
       "<div><div style = \"float: left;\"><span>21×6 DataFrame</span></div><div style = \"clear: both;\"></div></div><div class = \"data-frame\" style = \"overflow-x: scroll;\"><table class = \"data-frame\" style = \"margin-bottom: 6px;\"><thead><tr class = \"header\"><th class = \"rowNumber\" style = \"font-weight: bold; text-align: right;\">Row</th><th style = \"text-align: left;\">occupation</th><th style = \"text-align: left;\">count</th><th style = \"text-align: left;\">male_count</th><th style = \"text-align: left;\">female_count</th><th style = \"text-align: left;\">male_percentage</th><th style = \"text-align: left;\">female_percentage</th></tr><tr class = \"subheader headerLastRow\"><th class = \"rowNumber\" style = \"font-weight: bold; text-align: right;\"></th><th title = \"String15\" style = \"text-align: left;\">String15</th><th title = \"Int64\" style = \"text-align: left;\">Int64</th><th title = \"Int64\" style = \"text-align: left;\">Int64</th><th title = \"Int64\" style = \"text-align: left;\">Int64</th><th title = \"Float64\" style = \"text-align: left;\">Float64</th><th title = \"Float64\" style = \"text-align: left;\">Float64</th></tr></thead><tbody><tr><td class = \"rowNumber\" style = \"font-weight: bold; text-align: right;\">1</td><td style = \"text-align: left;\">technician</td><td style = \"text-align: right;\">27</td><td style = \"text-align: right;\">26</td><td style = \"text-align: right;\">1</td><td style = \"text-align: right;\">96.2963</td><td style = \"text-align: right;\">3.7037</td></tr><tr><td class = \"rowNumber\" style = \"font-weight: bold; text-align: right;\">2</td><td style = \"text-align: left;\">other</td><td style = \"text-align: right;\">105</td><td style = \"text-align: right;\">69</td><td style = \"text-align: right;\">36</td><td style = \"text-align: right;\">65.7143</td><td style = \"text-align: right;\">34.2857</td></tr><tr><td class = \"rowNumber\" style = \"font-weight: bold; text-align: right;\">3</td><td style = \"text-align: left;\">writer</td><td style = \"text-align: right;\">45</td><td style = \"text-align: right;\">26</td><td style = \"text-align: right;\">19</td><td style = \"text-align: right;\">57.7778</td><td style = \"text-align: right;\">42.2222</td></tr><tr><td class = \"rowNumber\" style = \"font-weight: bold; text-align: right;\">4</td><td style = \"text-align: left;\">executive</td><td style = \"text-align: right;\">32</td><td style = \"text-align: right;\">29</td><td style = \"text-align: right;\">3</td><td style = \"text-align: right;\">90.625</td><td style = \"text-align: right;\">9.375</td></tr><tr><td class = \"rowNumber\" style = \"font-weight: bold; text-align: right;\">5</td><td style = \"text-align: left;\">administrator</td><td style = \"text-align: right;\">79</td><td style = \"text-align: right;\">43</td><td style = \"text-align: right;\">36</td><td style = \"text-align: right;\">54.4304</td><td style = \"text-align: right;\">45.5696</td></tr><tr><td class = \"rowNumber\" style = \"font-weight: bold; text-align: right;\">6</td><td style = \"text-align: left;\">student</td><td style = \"text-align: right;\">196</td><td style = \"text-align: right;\">136</td><td style = \"text-align: right;\">60</td><td style = \"text-align: right;\">69.3878</td><td style = \"text-align: right;\">30.6122</td></tr><tr><td class = \"rowNumber\" style = \"font-weight: bold; text-align: right;\">7</td><td style = \"text-align: left;\">lawyer</td><td style = \"text-align: right;\">12</td><td style = \"text-align: right;\">10</td><td style = \"text-align: right;\">2</td><td style = \"text-align: right;\">83.3333</td><td style = \"text-align: right;\">16.6667</td></tr><tr><td class = \"rowNumber\" style = \"font-weight: bold; text-align: right;\">8</td><td style = \"text-align: left;\">educator</td><td style = \"text-align: right;\">95</td><td style = \"text-align: right;\">69</td><td style = \"text-align: right;\">26</td><td style = \"text-align: right;\">72.6316</td><td style = \"text-align: right;\">27.3684</td></tr><tr><td class = \"rowNumber\" style = \"font-weight: bold; text-align: right;\">9</td><td style = \"text-align: left;\">scientist</td><td style = \"text-align: right;\">31</td><td style = \"text-align: right;\">28</td><td style = \"text-align: right;\">3</td><td style = \"text-align: right;\">90.3226</td><td style = \"text-align: right;\">9.67742</td></tr><tr><td class = \"rowNumber\" style = \"font-weight: bold; text-align: right;\">10</td><td style = \"text-align: left;\">entertainment</td><td style = \"text-align: right;\">18</td><td style = \"text-align: right;\">16</td><td style = \"text-align: right;\">2</td><td style = \"text-align: right;\">88.8889</td><td style = \"text-align: right;\">11.1111</td></tr><tr><td class = \"rowNumber\" style = \"font-weight: bold; text-align: right;\">11</td><td style = \"text-align: left;\">programmer</td><td style = \"text-align: right;\">66</td><td style = \"text-align: right;\">60</td><td style = \"text-align: right;\">6</td><td style = \"text-align: right;\">90.9091</td><td style = \"text-align: right;\">9.09091</td></tr><tr><td class = \"rowNumber\" style = \"font-weight: bold; text-align: right;\">12</td><td style = \"text-align: left;\">librarian</td><td style = \"text-align: right;\">51</td><td style = \"text-align: right;\">22</td><td style = \"text-align: right;\">29</td><td style = \"text-align: right;\">43.1373</td><td style = \"text-align: right;\">56.8627</td></tr><tr><td class = \"rowNumber\" style = \"font-weight: bold; text-align: right;\">13</td><td style = \"text-align: left;\">homemaker</td><td style = \"text-align: right;\">7</td><td style = \"text-align: right;\">1</td><td style = \"text-align: right;\">6</td><td style = \"text-align: right;\">14.2857</td><td style = \"text-align: right;\">85.7143</td></tr><tr><td class = \"rowNumber\" style = \"font-weight: bold; text-align: right;\">14</td><td style = \"text-align: left;\">artist</td><td style = \"text-align: right;\">28</td><td style = \"text-align: right;\">15</td><td style = \"text-align: right;\">13</td><td style = \"text-align: right;\">53.5714</td><td style = \"text-align: right;\">46.4286</td></tr><tr><td class = \"rowNumber\" style = \"font-weight: bold; text-align: right;\">15</td><td style = \"text-align: left;\">engineer</td><td style = \"text-align: right;\">67</td><td style = \"text-align: right;\">65</td><td style = \"text-align: right;\">2</td><td style = \"text-align: right;\">97.0149</td><td style = \"text-align: right;\">2.98507</td></tr><tr><td class = \"rowNumber\" style = \"font-weight: bold; text-align: right;\">16</td><td style = \"text-align: left;\">marketing</td><td style = \"text-align: right;\">26</td><td style = \"text-align: right;\">16</td><td style = \"text-align: right;\">10</td><td style = \"text-align: right;\">61.5385</td><td style = \"text-align: right;\">38.4615</td></tr><tr><td class = \"rowNumber\" style = \"font-weight: bold; text-align: right;\">17</td><td style = \"text-align: left;\">none</td><td style = \"text-align: right;\">9</td><td style = \"text-align: right;\">5</td><td style = \"text-align: right;\">4</td><td style = \"text-align: right;\">55.5556</td><td style = \"text-align: right;\">44.4444</td></tr><tr><td class = \"rowNumber\" style = \"font-weight: bold; text-align: right;\">18</td><td style = \"text-align: left;\">healthcare</td><td style = \"text-align: right;\">16</td><td style = \"text-align: right;\">5</td><td style = \"text-align: right;\">11</td><td style = \"text-align: right;\">31.25</td><td style = \"text-align: right;\">68.75</td></tr><tr><td class = \"rowNumber\" style = \"font-weight: bold; text-align: right;\">19</td><td style = \"text-align: left;\">retired</td><td style = \"text-align: right;\">14</td><td style = \"text-align: right;\">13</td><td style = \"text-align: right;\">1</td><td style = \"text-align: right;\">92.8571</td><td style = \"text-align: right;\">7.14286</td></tr><tr><td class = \"rowNumber\" style = \"font-weight: bold; text-align: right;\">20</td><td style = \"text-align: left;\">salesman</td><td style = \"text-align: right;\">12</td><td style = \"text-align: right;\">9</td><td style = \"text-align: right;\">3</td><td style = \"text-align: right;\">75.0</td><td style = \"text-align: right;\">25.0</td></tr><tr><td class = \"rowNumber\" style = \"font-weight: bold; text-align: right;\">21</td><td style = \"text-align: left;\">doctor</td><td style = \"text-align: right;\">7</td><td style = \"text-align: right;\">7</td><td style = \"text-align: right;\">0</td><td style = \"text-align: right;\">100.0</td><td style = \"text-align: right;\">0.0</td></tr></tbody></table></div>"
      ],
      "text/latex": [
       "\\begin{tabular}{r|cccccc}\n",
       "\t& occupation & count & male\\_count & female\\_count & male\\_percentage & female\\_percentage\\\\\n",
       "\t\\hline\n",
       "\t& String15 & Int64 & Int64 & Int64 & Float64 & Float64\\\\\n",
       "\t\\hline\n",
       "\t1 & technician & 27 & 26 & 1 & 96.2963 & 3.7037 \\\\\n",
       "\t2 & other & 105 & 69 & 36 & 65.7143 & 34.2857 \\\\\n",
       "\t3 & writer & 45 & 26 & 19 & 57.7778 & 42.2222 \\\\\n",
       "\t4 & executive & 32 & 29 & 3 & 90.625 & 9.375 \\\\\n",
       "\t5 & administrator & 79 & 43 & 36 & 54.4304 & 45.5696 \\\\\n",
       "\t6 & student & 196 & 136 & 60 & 69.3878 & 30.6122 \\\\\n",
       "\t7 & lawyer & 12 & 10 & 2 & 83.3333 & 16.6667 \\\\\n",
       "\t8 & educator & 95 & 69 & 26 & 72.6316 & 27.3684 \\\\\n",
       "\t9 & scientist & 31 & 28 & 3 & 90.3226 & 9.67742 \\\\\n",
       "\t10 & entertainment & 18 & 16 & 2 & 88.8889 & 11.1111 \\\\\n",
       "\t11 & programmer & 66 & 60 & 6 & 90.9091 & 9.09091 \\\\\n",
       "\t12 & librarian & 51 & 22 & 29 & 43.1373 & 56.8627 \\\\\n",
       "\t13 & homemaker & 7 & 1 & 6 & 14.2857 & 85.7143 \\\\\n",
       "\t14 & artist & 28 & 15 & 13 & 53.5714 & 46.4286 \\\\\n",
       "\t15 & engineer & 67 & 65 & 2 & 97.0149 & 2.98507 \\\\\n",
       "\t16 & marketing & 26 & 16 & 10 & 61.5385 & 38.4615 \\\\\n",
       "\t17 & none & 9 & 5 & 4 & 55.5556 & 44.4444 \\\\\n",
       "\t18 & healthcare & 16 & 5 & 11 & 31.25 & 68.75 \\\\\n",
       "\t19 & retired & 14 & 13 & 1 & 92.8571 & 7.14286 \\\\\n",
       "\t20 & salesman & 12 & 9 & 3 & 75.0 & 25.0 \\\\\n",
       "\t21 & doctor & 7 & 7 & 0 & 100.0 & 0.0 \\\\\n",
       "\\end{tabular}\n"
      ],
      "text/plain": [
       "\u001b[1m21×6 DataFrame\u001b[0m\n",
       "\u001b[1m Row \u001b[0m│\u001b[1m occupation    \u001b[0m\u001b[1m count \u001b[0m\u001b[1m male_count \u001b[0m\u001b[1m female_count \u001b[0m\u001b[1m male_percentage \u001b[0m\u001b[1m female\u001b[0m ⋯\n",
       "     │\u001b[90m String15      \u001b[0m\u001b[90m Int64 \u001b[0m\u001b[90m Int64      \u001b[0m\u001b[90m Int64        \u001b[0m\u001b[90m Float64         \u001b[0m\u001b[90m Float6\u001b[0m ⋯\n",
       "─────┼──────────────────────────────────────────────────────────────────────────\n",
       "   1 │ technician        27          26             1          96.2963         ⋯\n",
       "   2 │ other            105          69            36          65.7143\n",
       "   3 │ writer            45          26            19          57.7778\n",
       "   4 │ executive         32          29             3          90.625\n",
       "   5 │ administrator     79          43            36          54.4304         ⋯\n",
       "   6 │ student          196         136            60          69.3878\n",
       "   7 │ lawyer            12          10             2          83.3333\n",
       "   8 │ educator          95          69            26          72.6316\n",
       "  ⋮  │       ⋮          ⋮        ⋮            ⋮               ⋮                ⋱\n",
       "  15 │ engineer          67          65             2          97.0149         ⋯\n",
       "  16 │ marketing         26          16            10          61.5385\n",
       "  17 │ none               9           5             4          55.5556\n",
       "  18 │ healthcare        16           5            11          31.25\n",
       "  19 │ retired           14          13             1          92.8571         ⋯\n",
       "  20 │ salesman          12           9             3          75.0\n",
       "  21 │ doctor             7           7             0         100.0\n",
       "\u001b[36m                                                     1 column and 6 rows omitted\u001b[0m"
      ]
     },
     "metadata": {},
     "output_type": "display_data"
    }
   ],
   "source": []
  },
  {
   "cell_type": "markdown",
   "metadata": {},
   "source": [
    "### Overall Percentage"
   ]
  },
  {
   "cell_type": "code",
   "execution_count": 9,
   "metadata": {
    "collapsed": false
   },
   "outputs": [
    {
     "data": {
      "text/html": [
       "<div><div style = \"float: left;\"><span>41×3 DataFrame</span></div><div style = \"float: right;\"><span style = \"font-style: italic;\">16 rows omitted</span></div><div style = \"clear: both;\"></div></div><div class = \"data-frame\" style = \"overflow-x: scroll;\"><table class = \"data-frame\" style = \"margin-bottom: 6px;\"><thead><tr class = \"header\"><th class = \"rowNumber\" style = \"font-weight: bold; text-align: right;\">Row</th><th style = \"text-align: left;\">occupation</th><th style = \"text-align: left;\">gender</th><th style = \"text-align: left;\">proportion</th></tr><tr class = \"subheader headerLastRow\"><th class = \"rowNumber\" style = \"font-weight: bold; text-align: right;\"></th><th title = \"String15\" style = \"text-align: left;\">String15</th><th title = \"String1\" style = \"text-align: left;\">String1</th><th title = \"Float64\" style = \"text-align: left;\">Float64</th></tr></thead><tbody><tr><td class = \"rowNumber\" style = \"font-weight: bold; text-align: right;\">1</td><td style = \"text-align: left;\">technician</td><td style = \"text-align: left;\">M</td><td style = \"text-align: right;\">2.75716</td></tr><tr><td class = \"rowNumber\" style = \"font-weight: bold; text-align: right;\">2</td><td style = \"text-align: left;\">technician</td><td style = \"text-align: left;\">F</td><td style = \"text-align: right;\">0.106045</td></tr><tr><td class = \"rowNumber\" style = \"font-weight: bold; text-align: right;\">3</td><td style = \"text-align: left;\">other</td><td style = \"text-align: left;\">M</td><td style = \"text-align: right;\">7.31707</td></tr><tr><td class = \"rowNumber\" style = \"font-weight: bold; text-align: right;\">4</td><td style = \"text-align: left;\">other</td><td style = \"text-align: left;\">F</td><td style = \"text-align: right;\">3.8176</td></tr><tr><td class = \"rowNumber\" style = \"font-weight: bold; text-align: right;\">5</td><td style = \"text-align: left;\">writer</td><td style = \"text-align: left;\">M</td><td style = \"text-align: right;\">2.75716</td></tr><tr><td class = \"rowNumber\" style = \"font-weight: bold; text-align: right;\">6</td><td style = \"text-align: left;\">writer</td><td style = \"text-align: left;\">F</td><td style = \"text-align: right;\">2.01485</td></tr><tr><td class = \"rowNumber\" style = \"font-weight: bold; text-align: right;\">7</td><td style = \"text-align: left;\">executive</td><td style = \"text-align: left;\">M</td><td style = \"text-align: right;\">3.07529</td></tr><tr><td class = \"rowNumber\" style = \"font-weight: bold; text-align: right;\">8</td><td style = \"text-align: left;\">executive</td><td style = \"text-align: left;\">F</td><td style = \"text-align: right;\">0.318134</td></tr><tr><td class = \"rowNumber\" style = \"font-weight: bold; text-align: right;\">9</td><td style = \"text-align: left;\">administrator</td><td style = \"text-align: left;\">M</td><td style = \"text-align: right;\">4.55992</td></tr><tr><td class = \"rowNumber\" style = \"font-weight: bold; text-align: right;\">10</td><td style = \"text-align: left;\">administrator</td><td style = \"text-align: left;\">F</td><td style = \"text-align: right;\">3.8176</td></tr><tr><td class = \"rowNumber\" style = \"font-weight: bold; text-align: right;\">11</td><td style = \"text-align: left;\">student</td><td style = \"text-align: left;\">M</td><td style = \"text-align: right;\">14.4221</td></tr><tr><td class = \"rowNumber\" style = \"font-weight: bold; text-align: right;\">12</td><td style = \"text-align: left;\">student</td><td style = \"text-align: left;\">F</td><td style = \"text-align: right;\">6.36267</td></tr><tr><td class = \"rowNumber\" style = \"font-weight: bold; text-align: right;\">13</td><td style = \"text-align: left;\">lawyer</td><td style = \"text-align: left;\">M</td><td style = \"text-align: right;\">1.06045</td></tr><tr><td style = \"text-align: right;\">&vellip;</td><td style = \"text-align: right;\">&vellip;</td><td style = \"text-align: right;\">&vellip;</td><td style = \"text-align: right;\">&vellip;</td></tr><tr><td class = \"rowNumber\" style = \"font-weight: bold; text-align: right;\">30</td><td style = \"text-align: left;\">engineer</td><td style = \"text-align: left;\">F</td><td style = \"text-align: right;\">0.212089</td></tr><tr><td class = \"rowNumber\" style = \"font-weight: bold; text-align: right;\">31</td><td style = \"text-align: left;\">marketing</td><td style = \"text-align: left;\">M</td><td style = \"text-align: right;\">1.69671</td></tr><tr><td class = \"rowNumber\" style = \"font-weight: bold; text-align: right;\">32</td><td style = \"text-align: left;\">marketing</td><td style = \"text-align: left;\">F</td><td style = \"text-align: right;\">1.06045</td></tr><tr><td class = \"rowNumber\" style = \"font-weight: bold; text-align: right;\">33</td><td style = \"text-align: left;\">none</td><td style = \"text-align: left;\">M</td><td style = \"text-align: right;\">0.530223</td></tr><tr><td class = \"rowNumber\" style = \"font-weight: bold; text-align: right;\">34</td><td style = \"text-align: left;\">none</td><td style = \"text-align: left;\">F</td><td style = \"text-align: right;\">0.424178</td></tr><tr><td class = \"rowNumber\" style = \"font-weight: bold; text-align: right;\">35</td><td style = \"text-align: left;\">healthcare</td><td style = \"text-align: left;\">M</td><td style = \"text-align: right;\">0.530223</td></tr><tr><td class = \"rowNumber\" style = \"font-weight: bold; text-align: right;\">36</td><td style = \"text-align: left;\">healthcare</td><td style = \"text-align: left;\">F</td><td style = \"text-align: right;\">1.16649</td></tr><tr><td class = \"rowNumber\" style = \"font-weight: bold; text-align: right;\">37</td><td style = \"text-align: left;\">retired</td><td style = \"text-align: left;\">M</td><td style = \"text-align: right;\">1.37858</td></tr><tr><td class = \"rowNumber\" style = \"font-weight: bold; text-align: right;\">38</td><td style = \"text-align: left;\">retired</td><td style = \"text-align: left;\">F</td><td style = \"text-align: right;\">0.106045</td></tr><tr><td class = \"rowNumber\" style = \"font-weight: bold; text-align: right;\">39</td><td style = \"text-align: left;\">salesman</td><td style = \"text-align: left;\">M</td><td style = \"text-align: right;\">0.954401</td></tr><tr><td class = \"rowNumber\" style = \"font-weight: bold; text-align: right;\">40</td><td style = \"text-align: left;\">salesman</td><td style = \"text-align: left;\">F</td><td style = \"text-align: right;\">0.318134</td></tr><tr><td class = \"rowNumber\" style = \"font-weight: bold; text-align: right;\">41</td><td style = \"text-align: left;\">doctor</td><td style = \"text-align: left;\">M</td><td style = \"text-align: right;\">0.742312</td></tr></tbody></table></div>"
      ],
      "text/latex": [
       "\\begin{tabular}{r|ccc}\n",
       "\t& occupation & gender & proportion\\\\\n",
       "\t\\hline\n",
       "\t& String15 & String1 & Float64\\\\\n",
       "\t\\hline\n",
       "\t1 & technician & M & 2.75716 \\\\\n",
       "\t2 & technician & F & 0.106045 \\\\\n",
       "\t3 & other & M & 7.31707 \\\\\n",
       "\t4 & other & F & 3.8176 \\\\\n",
       "\t5 & writer & M & 2.75716 \\\\\n",
       "\t6 & writer & F & 2.01485 \\\\\n",
       "\t7 & executive & M & 3.07529 \\\\\n",
       "\t8 & executive & F & 0.318134 \\\\\n",
       "\t9 & administrator & M & 4.55992 \\\\\n",
       "\t10 & administrator & F & 3.8176 \\\\\n",
       "\t11 & student & M & 14.4221 \\\\\n",
       "\t12 & student & F & 6.36267 \\\\\n",
       "\t13 & lawyer & M & 1.06045 \\\\\n",
       "\t14 & lawyer & F & 0.212089 \\\\\n",
       "\t15 & educator & M & 7.31707 \\\\\n",
       "\t16 & educator & F & 2.75716 \\\\\n",
       "\t17 & scientist & M & 2.96925 \\\\\n",
       "\t18 & scientist & F & 0.318134 \\\\\n",
       "\t19 & entertainment & M & 1.69671 \\\\\n",
       "\t20 & entertainment & F & 0.212089 \\\\\n",
       "\t21 & programmer & M & 6.36267 \\\\\n",
       "\t22 & programmer & F & 0.636267 \\\\\n",
       "\t23 & librarian & M & 2.33298 \\\\\n",
       "\t24 & librarian & F & 3.07529 \\\\\n",
       "\t$\\dots$ & $\\dots$ & $\\dots$ & $\\dots$ \\\\\n",
       "\\end{tabular}\n"
      ],
      "text/plain": [
       "\u001b[1m41×3 DataFrame\u001b[0m\n",
       "\u001b[1m Row \u001b[0m│\u001b[1m occupation    \u001b[0m\u001b[1m gender  \u001b[0m\u001b[1m proportion \u001b[0m\n",
       "     │\u001b[90m String15      \u001b[0m\u001b[90m String1 \u001b[0m\u001b[90m Float64    \u001b[0m\n",
       "─────┼────────────────────────────────────\n",
       "   1 │ technician     M          2.75716\n",
       "   2 │ technician     F          0.106045\n",
       "   3 │ other          M          7.31707\n",
       "   4 │ other          F          3.8176\n",
       "   5 │ writer         M          2.75716\n",
       "   6 │ writer         F          2.01485\n",
       "   7 │ executive      M          3.07529\n",
       "   8 │ executive      F          0.318134\n",
       "  ⋮  │       ⋮           ⋮         ⋮\n",
       "  35 │ healthcare     M          0.530223\n",
       "  36 │ healthcare     F          1.16649\n",
       "  37 │ retired        M          1.37858\n",
       "  38 │ retired        F          0.106045\n",
       "  39 │ salesman       M          0.954401\n",
       "  40 │ salesman       F          0.318134\n",
       "  41 │ doctor         M          0.742312\n",
       "\u001b[36m                           26 rows omitted\u001b[0m"
      ]
     },
     "metadata": {},
     "output_type": "display_data"
    }
   ],
   "source": []
  }
 ],
 "metadata": {
  "kernelspec": {
   "display_name": "Julia 1.10.3",
   "language": "julia",
   "name": "julia-1.10"
  },
  "language_info": {
   "file_extension": ".jl",
   "mimetype": "application/julia",
   "name": "julia",
   "version": "1.10.3"
  }
 },
 "nbformat": 4,
 "nbformat_minor": 0
}
