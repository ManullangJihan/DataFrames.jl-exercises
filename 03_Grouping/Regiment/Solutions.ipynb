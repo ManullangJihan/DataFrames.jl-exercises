{
 "cells": [
  {
   "cell_type": "markdown",
   "metadata": {},
   "source": [
    "# Regiment"
   ]
  },
  {
   "cell_type": "markdown",
   "metadata": {},
   "source": [
    "### Introduction:\n",
    "\n",
    "Special thanks to: http://chrisalbon.com/ for sharing the dataset and materials.\n",
    "\n",
    "### Step 1. Import the necessary libraries"
   ]
  },
  {
   "cell_type": "code",
   "execution_count": null,
   "metadata": {},
   "outputs": [],
   "source": []
  },
  {
   "cell_type": "markdown",
   "metadata": {},
   "source": [
    "### Step 2. Create the DataFrame with the following values:"
   ]
  },
  {
   "cell_type": "code",
   "execution_count": 2,
   "metadata": {
    "collapsed": true
   },
   "outputs": [
    {
     "data": {
      "text/plain": [
       "Dict{String, Vector} with 5 entries:\n",
       "  \"preTestScore\"  => [4, 24, 31, 2, 3, 4, 24, 31, 2, 3, 2, 3]\n",
       "  \"name\"          => [\"Miller\", \"Jacobson\", \"Ali\", \"Milner\", \"Cooze\", \"Jacon\", …\n",
       "  \"postTestScore\" => [25, 94, 57, 62, 70, 25, 94, 57, 62, 70, 62, 70]\n",
       "  \"company\"       => [\"1st\", \"1st\", \"2nd\", \"2nd\", \"1st\", \"1st\", \"2nd\", \"2nd\", \"…\n",
       "  \"regiment\"      => [\"Nighthawks\", \"Nighthawks\", \"Nighthawks\", \"Nighthawks\", \"…"
      ]
     },
     "metadata": {},
     "output_type": "display_data"
    }
   ],
   "source": [
    "raw_data = Dict(\n",
    "        \"regiment\"=> [\"Nighthawks\", \"Nighthawks\", \"Nighthawks\", \"Nighthawks\", \"Dragoons\", \"Dragoons\", \"Dragoons\", \"Dragoons\", \"Scouts\", \"Scouts\", \"Scouts\", \"Scouts\"], \n",
    "        \"company\"=> [\"1st\", \"1st\", \"2nd\", \"2nd\", \"1st\", \"1st\", \"2nd\", \"2nd\",\"1st\", \"1st\", \"2nd\", \"2nd\"], \n",
    "        \"name\"=> [\"Miller\", \"Jacobson\", \"Ali\", \"Milner\", \"Cooze\", \"Jacon\", \"Ryaner\", \"Sone\", \"Sloan\", \"Piger\", \"Riani\", \"Ali\"], \n",
    "        \"preTestScore\"=> [4, 24, 31, 2, 3, 4, 24, 31, 2, 3, 2, 3],\n",
    "        \"postTestScore\"=> [25, 94, 57, 62, 70, 25, 94, 57, 62, 70, 62, 70])"
   ]
  },
  {
   "cell_type": "markdown",
   "metadata": {},
   "source": [
    "### Step 3. Assign it to a variable called regiment."
   ]
  },
  {
   "cell_type": "code",
   "execution_count": 3,
   "metadata": {
    "collapsed": false
   },
   "outputs": [
    {
     "data": {
      "text/plain": [
       "5-element Vector{String}:\n",
       " \"company\"\n",
       " \"name\"\n",
       " \"postTestScore\"\n",
       " \"preTestScore\"\n",
       " \"regiment\""
      ]
     },
     "metadata": {},
     "output_type": "display_data"
    }
   ],
   "source": []
  },
  {
   "cell_type": "markdown",
   "metadata": {},
   "source": [
    "### Step 4. What is the mean preTestScore from the regiment Nighthawks?  "
   ]
  },
  {
   "cell_type": "code",
   "execution_count": 4,
   "metadata": {
    "collapsed": false
   },
   "outputs": [
    {
     "data": {
      "text/html": [
       "<div><div style = \"float: left;\"><span>3×2 DataFrame</span></div><div style = \"clear: both;\"></div></div><div class = \"data-frame\" style = \"overflow-x: scroll;\"><table class = \"data-frame\" style = \"margin-bottom: 6px;\"><thead><tr class = \"header\"><th class = \"rowNumber\" style = \"font-weight: bold; text-align: right;\">Row</th><th style = \"text-align: left;\">regiment</th><th style = \"text-align: left;\">preTestScore_mean</th></tr><tr class = \"subheader headerLastRow\"><th class = \"rowNumber\" style = \"font-weight: bold; text-align: right;\"></th><th title = \"String\" style = \"text-align: left;\">String</th><th title = \"Float64\" style = \"text-align: left;\">Float64</th></tr></thead><tbody><tr><td class = \"rowNumber\" style = \"font-weight: bold; text-align: right;\">1</td><td style = \"text-align: left;\">Nighthawks</td><td style = \"text-align: right;\">15.25</td></tr><tr><td class = \"rowNumber\" style = \"font-weight: bold; text-align: right;\">2</td><td style = \"text-align: left;\">Dragoons</td><td style = \"text-align: right;\">15.5</td></tr><tr><td class = \"rowNumber\" style = \"font-weight: bold; text-align: right;\">3</td><td style = \"text-align: left;\">Scouts</td><td style = \"text-align: right;\">2.5</td></tr></tbody></table></div>"
      ],
      "text/latex": [
       "\\begin{tabular}{r|cc}\n",
       "\t& regiment & preTestScore\\_mean\\\\\n",
       "\t\\hline\n",
       "\t& String & Float64\\\\\n",
       "\t\\hline\n",
       "\t1 & Nighthawks & 15.25 \\\\\n",
       "\t2 & Dragoons & 15.5 \\\\\n",
       "\t3 & Scouts & 2.5 \\\\\n",
       "\\end{tabular}\n"
      ],
      "text/plain": [
       "\u001b[1m3×2 DataFrame\u001b[0m\n",
       "\u001b[1m Row \u001b[0m│\u001b[1m regiment   \u001b[0m\u001b[1m preTestScore_mean \u001b[0m\n",
       "     │\u001b[90m String     \u001b[0m\u001b[90m Float64           \u001b[0m\n",
       "─────┼───────────────────────────────\n",
       "   1 │ Nighthawks              15.25\n",
       "   2 │ Dragoons                15.5\n",
       "   3 │ Scouts                   2.5"
      ]
     },
     "metadata": {},
     "output_type": "display_data"
    }
   ],
   "source": []
  },
  {
   "cell_type": "markdown",
   "metadata": {},
   "source": [
    "### Step 5. Present general statistics by company"
   ]
  },
  {
   "cell_type": "code",
   "execution_count": 5,
   "metadata": {
    "collapsed": false
   },
   "outputs": [
    {
     "data": {
      "text/html": [
       "<div><div style = \"float: left;\"><span>1×7 DataFrame</span></div><div style = \"clear: both;\"></div></div><div class = \"data-frame\" style = \"overflow-x: scroll;\"><table class = \"data-frame\" style = \"margin-bottom: 6px;\"><thead><tr class = \"header\"><th class = \"rowNumber\" style = \"font-weight: bold; text-align: right;\">Row</th><th style = \"text-align: left;\">variable</th><th style = \"text-align: left;\">mean</th><th style = \"text-align: left;\">min</th><th style = \"text-align: left;\">median</th><th style = \"text-align: left;\">max</th><th style = \"text-align: left;\">nmissing</th><th style = \"text-align: left;\">eltype</th></tr><tr class = \"subheader headerLastRow\"><th class = \"rowNumber\" style = \"font-weight: bold; text-align: right;\"></th><th title = \"Symbol\" style = \"text-align: left;\">Symbol</th><th title = \"Nothing\" style = \"text-align: left;\">Nothing</th><th title = \"String\" style = \"text-align: left;\">String</th><th title = \"Nothing\" style = \"text-align: left;\">Nothing</th><th title = \"String\" style = \"text-align: left;\">String</th><th title = \"Int64\" style = \"text-align: left;\">Int64</th><th title = \"DataType\" style = \"text-align: left;\">DataType</th></tr></thead><tbody><tr><td class = \"rowNumber\" style = \"font-weight: bold; text-align: right;\">1</td><td style = \"text-align: left;\">company</td><td style = \"font-style: italic; text-align: left;\"></td><td style = \"text-align: left;\">1st</td><td style = \"font-style: italic; text-align: left;\"></td><td style = \"text-align: left;\">2nd</td><td style = \"text-align: right;\">0</td><td style = \"text-align: left;\">String</td></tr></tbody></table></div>"
      ],
      "text/latex": [
       "\\begin{tabular}{r|ccccccc}\n",
       "\t& variable & mean & min & median & max & nmissing & eltype\\\\\n",
       "\t\\hline\n",
       "\t& Symbol & Nothing & String & Nothing & String & Int64 & DataType\\\\\n",
       "\t\\hline\n",
       "\t1 & company &  & 1st &  & 2nd & 0 & String \\\\\n",
       "\\end{tabular}\n"
      ],
      "text/plain": [
       "\u001b[1m1×7 DataFrame\u001b[0m\n",
       "\u001b[1m Row \u001b[0m│\u001b[1m variable \u001b[0m\u001b[1m mean    \u001b[0m\u001b[1m min    \u001b[0m\u001b[1m median  \u001b[0m\u001b[1m max    \u001b[0m\u001b[1m nmissing \u001b[0m\u001b[1m eltype   \u001b[0m\n",
       "     │\u001b[90m Symbol   \u001b[0m\u001b[90m Nothing \u001b[0m\u001b[90m String \u001b[0m\u001b[90m Nothing \u001b[0m\u001b[90m String \u001b[0m\u001b[90m Int64    \u001b[0m\u001b[90m DataType \u001b[0m\n",
       "─────┼────────────────────────────────────────────────────────────────\n",
       "   1 │ company  \u001b[90m         \u001b[0m 1st    \u001b[90m         \u001b[0m 2nd            0  String"
      ]
     },
     "metadata": {},
     "output_type": "display_data"
    }
   ],
   "source": []
  },
  {
   "cell_type": "markdown",
   "metadata": {},
   "source": [
    "### Step 6. What is the mean of each company's preTestScore?"
   ]
  },
  {
   "cell_type": "code",
   "execution_count": 6,
   "metadata": {
    "collapsed": false
   },
   "outputs": [
    {
     "data": {
      "text/html": [
       "<div><div style = \"float: left;\"><span>2×2 DataFrame</span></div><div style = \"clear: both;\"></div></div><div class = \"data-frame\" style = \"overflow-x: scroll;\"><table class = \"data-frame\" style = \"margin-bottom: 6px;\"><thead><tr class = \"header\"><th class = \"rowNumber\" style = \"font-weight: bold; text-align: right;\">Row</th><th style = \"text-align: left;\">company</th><th style = \"text-align: left;\">preTestScore_mean</th></tr><tr class = \"subheader headerLastRow\"><th class = \"rowNumber\" style = \"font-weight: bold; text-align: right;\"></th><th title = \"String\" style = \"text-align: left;\">String</th><th title = \"Float64\" style = \"text-align: left;\">Float64</th></tr></thead><tbody><tr><td class = \"rowNumber\" style = \"font-weight: bold; text-align: right;\">1</td><td style = \"text-align: left;\">1st</td><td style = \"text-align: right;\">6.66667</td></tr><tr><td class = \"rowNumber\" style = \"font-weight: bold; text-align: right;\">2</td><td style = \"text-align: left;\">2nd</td><td style = \"text-align: right;\">15.5</td></tr></tbody></table></div>"
      ],
      "text/latex": [
       "\\begin{tabular}{r|cc}\n",
       "\t& company & preTestScore\\_mean\\\\\n",
       "\t\\hline\n",
       "\t& String & Float64\\\\\n",
       "\t\\hline\n",
       "\t1 & 1st & 6.66667 \\\\\n",
       "\t2 & 2nd & 15.5 \\\\\n",
       "\\end{tabular}\n"
      ],
      "text/plain": [
       "\u001b[1m2×2 DataFrame\u001b[0m\n",
       "\u001b[1m Row \u001b[0m│\u001b[1m company \u001b[0m\u001b[1m preTestScore_mean \u001b[0m\n",
       "     │\u001b[90m String  \u001b[0m\u001b[90m Float64           \u001b[0m\n",
       "─────┼────────────────────────────\n",
       "   1 │ 1st                6.66667\n",
       "   2 │ 2nd               15.5"
      ]
     },
     "metadata": {},
     "output_type": "display_data"
    }
   ],
   "source": []
  },
  {
   "cell_type": "markdown",
   "metadata": {},
   "source": [
    "### Step 7. Present the mean preTestScores grouped by regiment and company"
   ]
  },
  {
   "cell_type": "code",
   "execution_count": 7,
   "metadata": {
    "collapsed": false
   },
   "outputs": [
    {
     "data": {
      "text/html": [
       "<div><div style = \"float: left;\"><span>6×3 DataFrame</span></div><div style = \"clear: both;\"></div></div><div class = \"data-frame\" style = \"overflow-x: scroll;\"><table class = \"data-frame\" style = \"margin-bottom: 6px;\"><thead><tr class = \"header\"><th class = \"rowNumber\" style = \"font-weight: bold; text-align: right;\">Row</th><th style = \"text-align: left;\">regiment</th><th style = \"text-align: left;\">company</th><th style = \"text-align: left;\">preTestScore_mean</th></tr><tr class = \"subheader headerLastRow\"><th class = \"rowNumber\" style = \"font-weight: bold; text-align: right;\"></th><th title = \"String\" style = \"text-align: left;\">String</th><th title = \"String\" style = \"text-align: left;\">String</th><th title = \"Float64\" style = \"text-align: left;\">Float64</th></tr></thead><tbody><tr><td class = \"rowNumber\" style = \"font-weight: bold; text-align: right;\">1</td><td style = \"text-align: left;\">Nighthawks</td><td style = \"text-align: left;\">1st</td><td style = \"text-align: right;\">14.0</td></tr><tr><td class = \"rowNumber\" style = \"font-weight: bold; text-align: right;\">2</td><td style = \"text-align: left;\">Nighthawks</td><td style = \"text-align: left;\">2nd</td><td style = \"text-align: right;\">16.5</td></tr><tr><td class = \"rowNumber\" style = \"font-weight: bold; text-align: right;\">3</td><td style = \"text-align: left;\">Dragoons</td><td style = \"text-align: left;\">1st</td><td style = \"text-align: right;\">3.5</td></tr><tr><td class = \"rowNumber\" style = \"font-weight: bold; text-align: right;\">4</td><td style = \"text-align: left;\">Dragoons</td><td style = \"text-align: left;\">2nd</td><td style = \"text-align: right;\">27.5</td></tr><tr><td class = \"rowNumber\" style = \"font-weight: bold; text-align: right;\">5</td><td style = \"text-align: left;\">Scouts</td><td style = \"text-align: left;\">1st</td><td style = \"text-align: right;\">2.5</td></tr><tr><td class = \"rowNumber\" style = \"font-weight: bold; text-align: right;\">6</td><td style = \"text-align: left;\">Scouts</td><td style = \"text-align: left;\">2nd</td><td style = \"text-align: right;\">2.5</td></tr></tbody></table></div>"
      ],
      "text/latex": [
       "\\begin{tabular}{r|ccc}\n",
       "\t& regiment & company & preTestScore\\_mean\\\\\n",
       "\t\\hline\n",
       "\t& String & String & Float64\\\\\n",
       "\t\\hline\n",
       "\t1 & Nighthawks & 1st & 14.0 \\\\\n",
       "\t2 & Nighthawks & 2nd & 16.5 \\\\\n",
       "\t3 & Dragoons & 1st & 3.5 \\\\\n",
       "\t4 & Dragoons & 2nd & 27.5 \\\\\n",
       "\t5 & Scouts & 1st & 2.5 \\\\\n",
       "\t6 & Scouts & 2nd & 2.5 \\\\\n",
       "\\end{tabular}\n"
      ],
      "text/plain": [
       "\u001b[1m6×3 DataFrame\u001b[0m\n",
       "\u001b[1m Row \u001b[0m│\u001b[1m regiment   \u001b[0m\u001b[1m company \u001b[0m\u001b[1m preTestScore_mean \u001b[0m\n",
       "     │\u001b[90m String     \u001b[0m\u001b[90m String  \u001b[0m\u001b[90m Float64           \u001b[0m\n",
       "─────┼────────────────────────────────────────\n",
       "   1 │ Nighthawks  1st                   14.0\n",
       "   2 │ Nighthawks  2nd                   16.5\n",
       "   3 │ Dragoons    1st                    3.5\n",
       "   4 │ Dragoons    2nd                   27.5\n",
       "   5 │ Scouts      1st                    2.5\n",
       "   6 │ Scouts      2nd                    2.5"
      ]
     },
     "metadata": {},
     "output_type": "display_data"
    }
   ],
   "source": []
  },
  {
   "cell_type": "markdown",
   "metadata": {},
   "source": [
    "### Step 8. Present the mean preTestScores grouped by regiment and company"
   ]
  },
  {
   "cell_type": "code",
   "execution_count": 9,
   "metadata": {
    "collapsed": false
   },
   "outputs": [
    {
     "data": {
      "text/html": [
       "<div><div style = \"float: left;\"><span>6×3 DataFrame</span></div><div style = \"clear: both;\"></div></div><div class = \"data-frame\" style = \"overflow-x: scroll;\"><table class = \"data-frame\" style = \"margin-bottom: 6px;\"><thead><tr class = \"header\"><th class = \"rowNumber\" style = \"font-weight: bold; text-align: right;\">Row</th><th style = \"text-align: left;\">regiment</th><th style = \"text-align: left;\">company</th><th style = \"text-align: left;\">preTestScore_mean</th></tr><tr class = \"subheader headerLastRow\"><th class = \"rowNumber\" style = \"font-weight: bold; text-align: right;\"></th><th title = \"String\" style = \"text-align: left;\">String</th><th title = \"String\" style = \"text-align: left;\">String</th><th title = \"Float64\" style = \"text-align: left;\">Float64</th></tr></thead><tbody><tr><td class = \"rowNumber\" style = \"font-weight: bold; text-align: right;\">1</td><td style = \"text-align: left;\">Nighthawks</td><td style = \"text-align: left;\">1st</td><td style = \"text-align: right;\">14.0</td></tr><tr><td class = \"rowNumber\" style = \"font-weight: bold; text-align: right;\">2</td><td style = \"text-align: left;\">Nighthawks</td><td style = \"text-align: left;\">2nd</td><td style = \"text-align: right;\">16.5</td></tr><tr><td class = \"rowNumber\" style = \"font-weight: bold; text-align: right;\">3</td><td style = \"text-align: left;\">Dragoons</td><td style = \"text-align: left;\">1st</td><td style = \"text-align: right;\">3.5</td></tr><tr><td class = \"rowNumber\" style = \"font-weight: bold; text-align: right;\">4</td><td style = \"text-align: left;\">Dragoons</td><td style = \"text-align: left;\">2nd</td><td style = \"text-align: right;\">27.5</td></tr><tr><td class = \"rowNumber\" style = \"font-weight: bold; text-align: right;\">5</td><td style = \"text-align: left;\">Scouts</td><td style = \"text-align: left;\">1st</td><td style = \"text-align: right;\">2.5</td></tr><tr><td class = \"rowNumber\" style = \"font-weight: bold; text-align: right;\">6</td><td style = \"text-align: left;\">Scouts</td><td style = \"text-align: left;\">2nd</td><td style = \"text-align: right;\">2.5</td></tr></tbody></table></div>"
      ],
      "text/latex": [
       "\\begin{tabular}{r|ccc}\n",
       "\t& regiment & company & preTestScore\\_mean\\\\\n",
       "\t\\hline\n",
       "\t& String & String & Float64\\\\\n",
       "\t\\hline\n",
       "\t1 & Nighthawks & 1st & 14.0 \\\\\n",
       "\t2 & Nighthawks & 2nd & 16.5 \\\\\n",
       "\t3 & Dragoons & 1st & 3.5 \\\\\n",
       "\t4 & Dragoons & 2nd & 27.5 \\\\\n",
       "\t5 & Scouts & 1st & 2.5 \\\\\n",
       "\t6 & Scouts & 2nd & 2.5 \\\\\n",
       "\\end{tabular}\n"
      ],
      "text/plain": [
       "\u001b[1m6×3 DataFrame\u001b[0m\n",
       "\u001b[1m Row \u001b[0m│\u001b[1m regiment   \u001b[0m\u001b[1m company \u001b[0m\u001b[1m preTestScore_mean \u001b[0m\n",
       "     │\u001b[90m String     \u001b[0m\u001b[90m String  \u001b[0m\u001b[90m Float64           \u001b[0m\n",
       "─────┼────────────────────────────────────────\n",
       "   1 │ Nighthawks  1st                   14.0\n",
       "   2 │ Nighthawks  2nd                   16.5\n",
       "   3 │ Dragoons    1st                    3.5\n",
       "   4 │ Dragoons    2nd                   27.5\n",
       "   5 │ Scouts      1st                    2.5\n",
       "   6 │ Scouts      2nd                    2.5"
      ]
     },
     "metadata": {},
     "output_type": "display_data"
    }
   ],
   "source": []
  },
  {
   "cell_type": "markdown",
   "metadata": {},
   "source": [
    "### Step 9. Group the entire dataframe by regiment and company"
   ]
  },
  {
   "cell_type": "code",
   "execution_count": 10,
   "metadata": {
    "collapsed": false
   },
   "outputs": [
    {
     "data": {
      "text/html": [
       "<div><div style = \"float: left;\"><span>6×4 DataFrame</span></div><div style = \"clear: both;\"></div></div><div class = \"data-frame\" style = \"overflow-x: scroll;\"><table class = \"data-frame\" style = \"margin-bottom: 6px;\"><thead><tr class = \"header\"><th class = \"rowNumber\" style = \"font-weight: bold; text-align: right;\">Row</th><th style = \"text-align: left;\">regiment</th><th style = \"text-align: left;\">company</th><th style = \"text-align: left;\">postTestScore_mean</th><th style = \"text-align: left;\">preTestScore_mean</th></tr><tr class = \"subheader headerLastRow\"><th class = \"rowNumber\" style = \"font-weight: bold; text-align: right;\"></th><th title = \"String\" style = \"text-align: left;\">String</th><th title = \"String\" style = \"text-align: left;\">String</th><th title = \"Float64\" style = \"text-align: left;\">Float64</th><th title = \"Float64\" style = \"text-align: left;\">Float64</th></tr></thead><tbody><tr><td class = \"rowNumber\" style = \"font-weight: bold; text-align: right;\">1</td><td style = \"text-align: left;\">Nighthawks</td><td style = \"text-align: left;\">1st</td><td style = \"text-align: right;\">59.5</td><td style = \"text-align: right;\">14.0</td></tr><tr><td class = \"rowNumber\" style = \"font-weight: bold; text-align: right;\">2</td><td style = \"text-align: left;\">Nighthawks</td><td style = \"text-align: left;\">2nd</td><td style = \"text-align: right;\">59.5</td><td style = \"text-align: right;\">16.5</td></tr><tr><td class = \"rowNumber\" style = \"font-weight: bold; text-align: right;\">3</td><td style = \"text-align: left;\">Dragoons</td><td style = \"text-align: left;\">1st</td><td style = \"text-align: right;\">47.5</td><td style = \"text-align: right;\">3.5</td></tr><tr><td class = \"rowNumber\" style = \"font-weight: bold; text-align: right;\">4</td><td style = \"text-align: left;\">Dragoons</td><td style = \"text-align: left;\">2nd</td><td style = \"text-align: right;\">75.5</td><td style = \"text-align: right;\">27.5</td></tr><tr><td class = \"rowNumber\" style = \"font-weight: bold; text-align: right;\">5</td><td style = \"text-align: left;\">Scouts</td><td style = \"text-align: left;\">1st</td><td style = \"text-align: right;\">66.0</td><td style = \"text-align: right;\">2.5</td></tr><tr><td class = \"rowNumber\" style = \"font-weight: bold; text-align: right;\">6</td><td style = \"text-align: left;\">Scouts</td><td style = \"text-align: left;\">2nd</td><td style = \"text-align: right;\">66.0</td><td style = \"text-align: right;\">2.5</td></tr></tbody></table></div>"
      ],
      "text/latex": [
       "\\begin{tabular}{r|cccc}\n",
       "\t& regiment & company & postTestScore\\_mean & preTestScore\\_mean\\\\\n",
       "\t\\hline\n",
       "\t& String & String & Float64 & Float64\\\\\n",
       "\t\\hline\n",
       "\t1 & Nighthawks & 1st & 59.5 & 14.0 \\\\\n",
       "\t2 & Nighthawks & 2nd & 59.5 & 16.5 \\\\\n",
       "\t3 & Dragoons & 1st & 47.5 & 3.5 \\\\\n",
       "\t4 & Dragoons & 2nd & 75.5 & 27.5 \\\\\n",
       "\t5 & Scouts & 1st & 66.0 & 2.5 \\\\\n",
       "\t6 & Scouts & 2nd & 66.0 & 2.5 \\\\\n",
       "\\end{tabular}\n"
      ],
      "text/plain": [
       "\u001b[1m6×4 DataFrame\u001b[0m\n",
       "\u001b[1m Row \u001b[0m│\u001b[1m regiment   \u001b[0m\u001b[1m company \u001b[0m\u001b[1m postTestScore_mean \u001b[0m\u001b[1m preTestScore_mean \u001b[0m\n",
       "     │\u001b[90m String     \u001b[0m\u001b[90m String  \u001b[0m\u001b[90m Float64            \u001b[0m\u001b[90m Float64           \u001b[0m\n",
       "─────┼────────────────────────────────────────────────────────────\n",
       "   1 │ Nighthawks  1st                    59.5               14.0\n",
       "   2 │ Nighthawks  2nd                    59.5               16.5\n",
       "   3 │ Dragoons    1st                    47.5                3.5\n",
       "   4 │ Dragoons    2nd                    75.5               27.5\n",
       "   5 │ Scouts      1st                    66.0                2.5\n",
       "   6 │ Scouts      2nd                    66.0                2.5"
      ]
     },
     "metadata": {},
     "output_type": "display_data"
    }
   ],
   "source": []
  },
  {
   "cell_type": "markdown",
   "metadata": {},
   "source": [
    "### Step 10. What is the number of observations in each regiment and company"
   ]
  },
  {
   "cell_type": "code",
   "execution_count": 9,
   "metadata": {
    "collapsed": false
   },
   "outputs": [
    {
     "data": {
      "text/html": [
       "<div><div style = \"float: left;\"><span>6×3 DataFrame</span></div><div style = \"clear: both;\"></div></div><div class = \"data-frame\" style = \"overflow-x: scroll;\"><table class = \"data-frame\" style = \"margin-bottom: 6px;\"><thead><tr class = \"header\"><th class = \"rowNumber\" style = \"font-weight: bold; text-align: right;\">Row</th><th style = \"text-align: left;\">regiment</th><th style = \"text-align: left;\">company</th><th style = \"text-align: left;\">n_observations</th></tr><tr class = \"subheader headerLastRow\"><th class = \"rowNumber\" style = \"font-weight: bold; text-align: right;\"></th><th title = \"String\" style = \"text-align: left;\">String</th><th title = \"String\" style = \"text-align: left;\">String</th><th title = \"Int64\" style = \"text-align: left;\">Int64</th></tr></thead><tbody><tr><td class = \"rowNumber\" style = \"font-weight: bold; text-align: right;\">1</td><td style = \"text-align: left;\">Nighthawks</td><td style = \"text-align: left;\">1st</td><td style = \"text-align: right;\">2</td></tr><tr><td class = \"rowNumber\" style = \"font-weight: bold; text-align: right;\">2</td><td style = \"text-align: left;\">Nighthawks</td><td style = \"text-align: left;\">2nd</td><td style = \"text-align: right;\">2</td></tr><tr><td class = \"rowNumber\" style = \"font-weight: bold; text-align: right;\">3</td><td style = \"text-align: left;\">Dragoons</td><td style = \"text-align: left;\">1st</td><td style = \"text-align: right;\">2</td></tr><tr><td class = \"rowNumber\" style = \"font-weight: bold; text-align: right;\">4</td><td style = \"text-align: left;\">Dragoons</td><td style = \"text-align: left;\">2nd</td><td style = \"text-align: right;\">2</td></tr><tr><td class = \"rowNumber\" style = \"font-weight: bold; text-align: right;\">5</td><td style = \"text-align: left;\">Scouts</td><td style = \"text-align: left;\">1st</td><td style = \"text-align: right;\">2</td></tr><tr><td class = \"rowNumber\" style = \"font-weight: bold; text-align: right;\">6</td><td style = \"text-align: left;\">Scouts</td><td style = \"text-align: left;\">2nd</td><td style = \"text-align: right;\">2</td></tr></tbody></table></div>"
      ],
      "text/latex": [
       "\\begin{tabular}{r|ccc}\n",
       "\t& regiment & company & n\\_observations\\\\\n",
       "\t\\hline\n",
       "\t& String & String & Int64\\\\\n",
       "\t\\hline\n",
       "\t1 & Nighthawks & 1st & 2 \\\\\n",
       "\t2 & Nighthawks & 2nd & 2 \\\\\n",
       "\t3 & Dragoons & 1st & 2 \\\\\n",
       "\t4 & Dragoons & 2nd & 2 \\\\\n",
       "\t5 & Scouts & 1st & 2 \\\\\n",
       "\t6 & Scouts & 2nd & 2 \\\\\n",
       "\\end{tabular}\n"
      ],
      "text/plain": [
       "\u001b[1m6×3 DataFrame\u001b[0m\n",
       "\u001b[1m Row \u001b[0m│\u001b[1m regiment   \u001b[0m\u001b[1m company \u001b[0m\u001b[1m n_observations \u001b[0m\n",
       "     │\u001b[90m String     \u001b[0m\u001b[90m String  \u001b[0m\u001b[90m Int64          \u001b[0m\n",
       "─────┼─────────────────────────────────────\n",
       "   1 │ Nighthawks  1st                   2\n",
       "   2 │ Nighthawks  2nd                   2\n",
       "   3 │ Dragoons    1st                   2\n",
       "   4 │ Dragoons    2nd                   2\n",
       "   5 │ Scouts      1st                   2\n",
       "   6 │ Scouts      2nd                   2"
      ]
     },
     "metadata": {},
     "output_type": "display_data"
    }
   ],
   "source": []
  },
  {
   "cell_type": "markdown",
   "metadata": {},
   "source": [
    "### Step 11. Iterate over a group and print the name and the whole data from the regiment"
   ]
  },
  {
   "cell_type": "code",
   "execution_count": 11,
   "metadata": {
    "collapsed": false
   },
   "outputs": [
    {
     "name": "stdout",
     "output_type": "stream",
     "text": [
      "Regiment: Nighthawks, Name: Miller\n",
      "Regiment: Nighthawks, Name: Jacobson\n",
      "Regiment: Nighthawks, Name: Ali\n",
      "Regiment: Nighthawks, Name: Milner\n",
      "Regiment: Dragoons, Name: Cooze\n",
      "Regiment: Scouts, Name: Sloan\n",
      "Regiment: Dragoons, Name: Jacon\n",
      "Regiment: Dragoons, Name: Ryaner\n",
      "Regiment: Dragoons, Name: Sone\n",
      "Regiment: Scouts, Name: Piger\n",
      "Regiment: Scouts, Name: Riani\n",
      "Regiment: Scouts, Name: Ali\n"
     ]
    }
   ],
   "source": []
  }
 ],
 "metadata": {
  "kernelspec": {
   "display_name": "Julia 1.10.3",
   "language": "julia",
   "name": "julia-1.10"
  },
  "language_info": {
   "file_extension": ".jl",
   "mimetype": "application/julia",
   "name": "julia",
   "version": "1.10.3"
  }
 },
 "nbformat": 4,
 "nbformat_minor": 0
}
