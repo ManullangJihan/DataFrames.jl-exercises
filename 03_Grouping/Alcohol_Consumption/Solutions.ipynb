{
 "cells": [
  {
   "cell_type": "markdown",
   "metadata": {},
   "source": [
    "# Ex - GroupBy"
   ]
  },
  {
   "cell_type": "markdown",
   "metadata": {},
   "source": [
    "### Introduction:\n",
    "\n",
    "GroupBy can be summarized as Split-Apply-Combine.\n",
    "\n",
    "Special thanks to: https://github.com/justmarkham for sharing the dataset and materials.\n",
    "\n",
    "Check out this [Diagram](http://i.imgur.com/yjNkiwL.png)  \n",
    "### Step 1. Import the necessary libraries"
   ]
  },
  {
   "cell_type": "code",
   "execution_count": null,
   "metadata": {},
   "outputs": [],
   "source": []
  },
  {
   "cell_type": "markdown",
   "metadata": {},
   "source": [
    "### Step 2. Import the dataset from this [address](https://raw.githubusercontent.com/justmarkham/DAT8/master/data/drinks.csv). "
   ]
  },
  {
   "cell_type": "markdown",
   "metadata": {},
   "source": [
    "### Step 3. Assign it to a variable called drinks."
   ]
  },
  {
   "cell_type": "code",
   "execution_count": 2,
   "metadata": {},
   "outputs": [
    {
     "data": {
      "text/html": [
       "<div><div style = \"float: left;\"><span>5×6 DataFrame</span></div><div style = \"clear: both;\"></div></div><div class = \"data-frame\" style = \"overflow-x: scroll;\"><table class = \"data-frame\" style = \"margin-bottom: 6px;\"><thead><tr class = \"header\"><th class = \"rowNumber\" style = \"font-weight: bold; text-align: right;\">Row</th><th style = \"text-align: left;\">country</th><th style = \"text-align: left;\">beer_servings</th><th style = \"text-align: left;\">spirit_servings</th><th style = \"text-align: left;\">wine_servings</th><th style = \"text-align: left;\">total_litres_of_pure_alcohol</th><th style = \"text-align: left;\">continent</th></tr><tr class = \"subheader headerLastRow\"><th class = \"rowNumber\" style = \"font-weight: bold; text-align: right;\"></th><th title = \"String31\" style = \"text-align: left;\">String31</th><th title = \"Int64\" style = \"text-align: left;\">Int64</th><th title = \"Int64\" style = \"text-align: left;\">Int64</th><th title = \"Int64\" style = \"text-align: left;\">Int64</th><th title = \"Float64\" style = \"text-align: left;\">Float64</th><th title = \"String3\" style = \"text-align: left;\">String3</th></tr></thead><tbody><tr><td class = \"rowNumber\" style = \"font-weight: bold; text-align: right;\">1</td><td style = \"text-align: left;\">Afghanistan</td><td style = \"text-align: right;\">0</td><td style = \"text-align: right;\">0</td><td style = \"text-align: right;\">0</td><td style = \"text-align: right;\">0.0</td><td style = \"text-align: left;\">AS</td></tr><tr><td class = \"rowNumber\" style = \"font-weight: bold; text-align: right;\">2</td><td style = \"text-align: left;\">Albania</td><td style = \"text-align: right;\">89</td><td style = \"text-align: right;\">132</td><td style = \"text-align: right;\">54</td><td style = \"text-align: right;\">4.9</td><td style = \"text-align: left;\">EU</td></tr><tr><td class = \"rowNumber\" style = \"font-weight: bold; text-align: right;\">3</td><td style = \"text-align: left;\">Algeria</td><td style = \"text-align: right;\">25</td><td style = \"text-align: right;\">0</td><td style = \"text-align: right;\">14</td><td style = \"text-align: right;\">0.7</td><td style = \"text-align: left;\">AF</td></tr><tr><td class = \"rowNumber\" style = \"font-weight: bold; text-align: right;\">4</td><td style = \"text-align: left;\">Andorra</td><td style = \"text-align: right;\">245</td><td style = \"text-align: right;\">138</td><td style = \"text-align: right;\">312</td><td style = \"text-align: right;\">12.4</td><td style = \"text-align: left;\">EU</td></tr><tr><td class = \"rowNumber\" style = \"font-weight: bold; text-align: right;\">5</td><td style = \"text-align: left;\">Angola</td><td style = \"text-align: right;\">217</td><td style = \"text-align: right;\">57</td><td style = \"text-align: right;\">45</td><td style = \"text-align: right;\">5.9</td><td style = \"text-align: left;\">AF</td></tr></tbody></table></div>"
      ],
      "text/latex": [
       "\\begin{tabular}{r|cccccc}\n",
       "\t& country & beer\\_servings & spirit\\_servings & wine\\_servings & total\\_litres\\_of\\_pure\\_alcohol & \\\\\n",
       "\t\\hline\n",
       "\t& String31 & Int64 & Int64 & Int64 & Float64 & \\\\\n",
       "\t\\hline\n",
       "\t1 & Afghanistan & 0 & 0 & 0 & 0.0 & $\\dots$ \\\\\n",
       "\t2 & Albania & 89 & 132 & 54 & 4.9 & $\\dots$ \\\\\n",
       "\t3 & Algeria & 25 & 0 & 14 & 0.7 & $\\dots$ \\\\\n",
       "\t4 & Andorra & 245 & 138 & 312 & 12.4 & $\\dots$ \\\\\n",
       "\t5 & Angola & 217 & 57 & 45 & 5.9 & $\\dots$ \\\\\n",
       "\\end{tabular}\n"
      ],
      "text/plain": [
       "\u001b[1m5×6 DataFrame\u001b[0m\n",
       "\u001b[1m Row \u001b[0m│\u001b[1m country     \u001b[0m\u001b[1m beer_servings \u001b[0m\u001b[1m spirit_servings \u001b[0m\u001b[1m wine_servings \u001b[0m\u001b[1m total_litre\u001b[0m ⋯\n",
       "     │\u001b[90m String31    \u001b[0m\u001b[90m Int64         \u001b[0m\u001b[90m Int64           \u001b[0m\u001b[90m Int64         \u001b[0m\u001b[90m Float64    \u001b[0m ⋯\n",
       "─────┼──────────────────────────────────────────────────────────────────────────\n",
       "   1 │ Afghanistan              0                0              0              ⋯\n",
       "   2 │ Albania                 89              132             54\n",
       "   3 │ Algeria                 25                0             14\n",
       "   4 │ Andorra                245              138            312\n",
       "   5 │ Angola                 217               57             45              ⋯\n",
       "\u001b[36m                                                               2 columns omitted\u001b[0m"
      ]
     },
     "metadata": {},
     "output_type": "display_data"
    }
   ],
   "source": []
  },
  {
   "cell_type": "markdown",
   "metadata": {},
   "source": [
    "### Step 4. Which continent drinks more beer on average?"
   ]
  },
  {
   "cell_type": "code",
   "execution_count": 3,
   "metadata": {},
   "outputs": [
    {
     "data": {
      "text/html": [
       "<div><div style = \"float: left;\"><span>6×2 DataFrame</span></div><div style = \"clear: both;\"></div></div><div class = \"data-frame\" style = \"overflow-x: scroll;\"><table class = \"data-frame\" style = \"margin-bottom: 6px;\"><thead><tr class = \"header\"><th class = \"rowNumber\" style = \"font-weight: bold; text-align: right;\">Row</th><th style = \"text-align: left;\">continent</th><th style = \"text-align: left;\">beer_servings_mean</th></tr><tr class = \"subheader headerLastRow\"><th class = \"rowNumber\" style = \"font-weight: bold; text-align: right;\"></th><th title = \"String3\" style = \"text-align: left;\">String3</th><th title = \"Float64\" style = \"text-align: left;\">Float64</th></tr></thead><tbody><tr><td class = \"rowNumber\" style = \"font-weight: bold; text-align: right;\">1</td><td style = \"text-align: left;\">AS</td><td style = \"text-align: right;\">37.0455</td></tr><tr><td class = \"rowNumber\" style = \"font-weight: bold; text-align: right;\">2</td><td style = \"text-align: left;\">EU</td><td style = \"text-align: right;\">193.778</td></tr><tr><td class = \"rowNumber\" style = \"font-weight: bold; text-align: right;\">3</td><td style = \"text-align: left;\">AF</td><td style = \"text-align: right;\">61.4717</td></tr><tr><td class = \"rowNumber\" style = \"font-weight: bold; text-align: right;\">4</td><td style = \"text-align: left;\">NA</td><td style = \"text-align: right;\">145.435</td></tr><tr><td class = \"rowNumber\" style = \"font-weight: bold; text-align: right;\">5</td><td style = \"text-align: left;\">SA</td><td style = \"text-align: right;\">175.083</td></tr><tr><td class = \"rowNumber\" style = \"font-weight: bold; text-align: right;\">6</td><td style = \"text-align: left;\">OC</td><td style = \"text-align: right;\">89.6875</td></tr></tbody></table></div>"
      ],
      "text/latex": [
       "\\begin{tabular}{r|cc}\n",
       "\t& continent & beer\\_servings\\_mean\\\\\n",
       "\t\\hline\n",
       "\t& String3 & Float64\\\\\n",
       "\t\\hline\n",
       "\t1 & AS & 37.0455 \\\\\n",
       "\t2 & EU & 193.778 \\\\\n",
       "\t3 & AF & 61.4717 \\\\\n",
       "\t4 & NA & 145.435 \\\\\n",
       "\t5 & SA & 175.083 \\\\\n",
       "\t6 & OC & 89.6875 \\\\\n",
       "\\end{tabular}\n"
      ],
      "text/plain": [
       "\u001b[1m6×2 DataFrame\u001b[0m\n",
       "\u001b[1m Row \u001b[0m│\u001b[1m continent \u001b[0m\u001b[1m beer_servings_mean \u001b[0m\n",
       "     │\u001b[90m String3   \u001b[0m\u001b[90m Float64            \u001b[0m\n",
       "─────┼───────────────────────────────\n",
       "   1 │ AS                    37.0455\n",
       "   2 │ EU                   193.778\n",
       "   3 │ AF                    61.4717\n",
       "   4 │ NA                   145.435\n",
       "   5 │ SA                   175.083\n",
       "   6 │ OC                    89.6875"
      ]
     },
     "metadata": {},
     "output_type": "display_data"
    }
   ],
   "source": []
  },
  {
   "cell_type": "markdown",
   "metadata": {},
   "source": [
    "### Step 5. For each continent print the statistics for wine consumption."
   ]
  },
  {
   "cell_type": "code",
   "execution_count": 10,
   "metadata": {},
   "outputs": [
    {
     "data": {
      "text/html": [
       "<p><b>GroupedDataFrame with 6 groups based on key: continent</b></p><div><div style = \"float: left;\"><span>First Group (44 rows): continent = &quot;AS&quot;</span></div><div style = \"float: right;\"><span style = \"font-style: italic;\">19 rows omitted</span></div><div style = \"clear: both;\"></div></div><div class = \"data-frame\" style = \"overflow-x: scroll;\"><table class = \"data-frame\" style = \"margin-bottom: 6px;\"><thead><tr class = \"header\"><th class = \"rowNumber\" style = \"font-weight: bold; text-align: right;\">Row</th><th style = \"text-align: left;\">country</th><th style = \"text-align: left;\">beer_servings</th><th style = \"text-align: left;\">spirit_servings</th><th style = \"text-align: left;\">wine_servings</th><th style = \"text-align: left;\">total_litres_of_pure_alcohol</th><th style = \"text-align: left;\">continent</th></tr><tr class = \"subheader headerLastRow\"><th class = \"rowNumber\" style = \"font-weight: bold; text-align: right;\"></th><th title = \"String31\" style = \"text-align: left;\">String31</th><th title = \"Int64\" style = \"text-align: left;\">Int64</th><th title = \"Int64\" style = \"text-align: left;\">Int64</th><th title = \"Int64\" style = \"text-align: left;\">Int64</th><th title = \"Float64\" style = \"text-align: left;\">Float64</th><th title = \"String3\" style = \"text-align: left;\">String3</th></tr></thead><tbody><tr><td class = \"rowNumber\" style = \"font-weight: bold; text-align: right;\">1</td><td style = \"text-align: left;\">Afghanistan</td><td style = \"text-align: right;\">0</td><td style = \"text-align: right;\">0</td><td style = \"text-align: right;\">0</td><td style = \"text-align: right;\">0.0</td><td style = \"text-align: left;\">AS</td></tr><tr><td class = \"rowNumber\" style = \"font-weight: bold; text-align: right;\">2</td><td style = \"text-align: left;\">Bahrain</td><td style = \"text-align: right;\">42</td><td style = \"text-align: right;\">63</td><td style = \"text-align: right;\">7</td><td style = \"text-align: right;\">2.0</td><td style = \"text-align: left;\">AS</td></tr><tr><td class = \"rowNumber\" style = \"font-weight: bold; text-align: right;\">3</td><td style = \"text-align: left;\">Bangladesh</td><td style = \"text-align: right;\">0</td><td style = \"text-align: right;\">0</td><td style = \"text-align: right;\">0</td><td style = \"text-align: right;\">0.0</td><td style = \"text-align: left;\">AS</td></tr><tr><td class = \"rowNumber\" style = \"font-weight: bold; text-align: right;\">4</td><td style = \"text-align: left;\">Bhutan</td><td style = \"text-align: right;\">23</td><td style = \"text-align: right;\">0</td><td style = \"text-align: right;\">0</td><td style = \"text-align: right;\">0.4</td><td style = \"text-align: left;\">AS</td></tr><tr><td class = \"rowNumber\" style = \"font-weight: bold; text-align: right;\">5</td><td style = \"text-align: left;\">Brunei</td><td style = \"text-align: right;\">31</td><td style = \"text-align: right;\">2</td><td style = \"text-align: right;\">1</td><td style = \"text-align: right;\">0.6</td><td style = \"text-align: left;\">AS</td></tr><tr><td class = \"rowNumber\" style = \"font-weight: bold; text-align: right;\">6</td><td style = \"text-align: left;\">Cambodia</td><td style = \"text-align: right;\">57</td><td style = \"text-align: right;\">65</td><td style = \"text-align: right;\">1</td><td style = \"text-align: right;\">2.2</td><td style = \"text-align: left;\">AS</td></tr><tr><td class = \"rowNumber\" style = \"font-weight: bold; text-align: right;\">7</td><td style = \"text-align: left;\">China</td><td style = \"text-align: right;\">79</td><td style = \"text-align: right;\">192</td><td style = \"text-align: right;\">8</td><td style = \"text-align: right;\">5.0</td><td style = \"text-align: left;\">AS</td></tr><tr><td class = \"rowNumber\" style = \"font-weight: bold; text-align: right;\">8</td><td style = \"text-align: left;\">North Korea</td><td style = \"text-align: right;\">0</td><td style = \"text-align: right;\">0</td><td style = \"text-align: right;\">0</td><td style = \"text-align: right;\">0.0</td><td style = \"text-align: left;\">AS</td></tr><tr><td class = \"rowNumber\" style = \"font-weight: bold; text-align: right;\">9</td><td style = \"text-align: left;\">India</td><td style = \"text-align: right;\">9</td><td style = \"text-align: right;\">114</td><td style = \"text-align: right;\">0</td><td style = \"text-align: right;\">2.2</td><td style = \"text-align: left;\">AS</td></tr><tr><td class = \"rowNumber\" style = \"font-weight: bold; text-align: right;\">10</td><td style = \"text-align: left;\">Indonesia</td><td style = \"text-align: right;\">5</td><td style = \"text-align: right;\">1</td><td style = \"text-align: right;\">0</td><td style = \"text-align: right;\">0.1</td><td style = \"text-align: left;\">AS</td></tr><tr><td class = \"rowNumber\" style = \"font-weight: bold; text-align: right;\">11</td><td style = \"text-align: left;\">Iran</td><td style = \"text-align: right;\">0</td><td style = \"text-align: right;\">0</td><td style = \"text-align: right;\">0</td><td style = \"text-align: right;\">0.0</td><td style = \"text-align: left;\">AS</td></tr><tr><td class = \"rowNumber\" style = \"font-weight: bold; text-align: right;\">12</td><td style = \"text-align: left;\">Iraq</td><td style = \"text-align: right;\">9</td><td style = \"text-align: right;\">3</td><td style = \"text-align: right;\">0</td><td style = \"text-align: right;\">0.2</td><td style = \"text-align: left;\">AS</td></tr><tr><td class = \"rowNumber\" style = \"font-weight: bold; text-align: right;\">13</td><td style = \"text-align: left;\">Israel</td><td style = \"text-align: right;\">63</td><td style = \"text-align: right;\">69</td><td style = \"text-align: right;\">9</td><td style = \"text-align: right;\">2.5</td><td style = \"text-align: left;\">AS</td></tr><tr><td style = \"text-align: right;\">&vellip;</td><td style = \"text-align: right;\">&vellip;</td><td style = \"text-align: right;\">&vellip;</td><td style = \"text-align: right;\">&vellip;</td><td style = \"text-align: right;\">&vellip;</td><td style = \"text-align: right;\">&vellip;</td><td style = \"text-align: right;\">&vellip;</td></tr><tr><td class = \"rowNumber\" style = \"font-weight: bold; text-align: right;\">33</td><td style = \"text-align: left;\">Singapore</td><td style = \"text-align: right;\">60</td><td style = \"text-align: right;\">12</td><td style = \"text-align: right;\">11</td><td style = \"text-align: right;\">1.5</td><td style = \"text-align: left;\">AS</td></tr><tr><td class = \"rowNumber\" style = \"font-weight: bold; text-align: right;\">34</td><td style = \"text-align: left;\">Sri Lanka</td><td style = \"text-align: right;\">16</td><td style = \"text-align: right;\">104</td><td style = \"text-align: right;\">0</td><td style = \"text-align: right;\">2.2</td><td style = \"text-align: left;\">AS</td></tr><tr><td class = \"rowNumber\" style = \"font-weight: bold; text-align: right;\">35</td><td style = \"text-align: left;\">Syria</td><td style = \"text-align: right;\">5</td><td style = \"text-align: right;\">35</td><td style = \"text-align: right;\">16</td><td style = \"text-align: right;\">1.0</td><td style = \"text-align: left;\">AS</td></tr><tr><td class = \"rowNumber\" style = \"font-weight: bold; text-align: right;\">36</td><td style = \"text-align: left;\">Tajikistan</td><td style = \"text-align: right;\">2</td><td style = \"text-align: right;\">15</td><td style = \"text-align: right;\">0</td><td style = \"text-align: right;\">0.3</td><td style = \"text-align: left;\">AS</td></tr><tr><td class = \"rowNumber\" style = \"font-weight: bold; text-align: right;\">37</td><td style = \"text-align: left;\">Thailand</td><td style = \"text-align: right;\">99</td><td style = \"text-align: right;\">258</td><td style = \"text-align: right;\">1</td><td style = \"text-align: right;\">6.4</td><td style = \"text-align: left;\">AS</td></tr><tr><td class = \"rowNumber\" style = \"font-weight: bold; text-align: right;\">38</td><td style = \"text-align: left;\">Timor-Leste</td><td style = \"text-align: right;\">1</td><td style = \"text-align: right;\">1</td><td style = \"text-align: right;\">4</td><td style = \"text-align: right;\">0.1</td><td style = \"text-align: left;\">AS</td></tr><tr><td class = \"rowNumber\" style = \"font-weight: bold; text-align: right;\">39</td><td style = \"text-align: left;\">Turkey</td><td style = \"text-align: right;\">51</td><td style = \"text-align: right;\">22</td><td style = \"text-align: right;\">7</td><td style = \"text-align: right;\">1.4</td><td style = \"text-align: left;\">AS</td></tr><tr><td class = \"rowNumber\" style = \"font-weight: bold; text-align: right;\">40</td><td style = \"text-align: left;\">Turkmenistan</td><td style = \"text-align: right;\">19</td><td style = \"text-align: right;\">71</td><td style = \"text-align: right;\">32</td><td style = \"text-align: right;\">2.2</td><td style = \"text-align: left;\">AS</td></tr><tr><td class = \"rowNumber\" style = \"font-weight: bold; text-align: right;\">41</td><td style = \"text-align: left;\">United Arab Emirates</td><td style = \"text-align: right;\">16</td><td style = \"text-align: right;\">135</td><td style = \"text-align: right;\">5</td><td style = \"text-align: right;\">2.8</td><td style = \"text-align: left;\">AS</td></tr><tr><td class = \"rowNumber\" style = \"font-weight: bold; text-align: right;\">42</td><td style = \"text-align: left;\">Uzbekistan</td><td style = \"text-align: right;\">25</td><td style = \"text-align: right;\">101</td><td style = \"text-align: right;\">8</td><td style = \"text-align: right;\">2.4</td><td style = \"text-align: left;\">AS</td></tr><tr><td class = \"rowNumber\" style = \"font-weight: bold; text-align: right;\">43</td><td style = \"text-align: left;\">Vietnam</td><td style = \"text-align: right;\">111</td><td style = \"text-align: right;\">2</td><td style = \"text-align: right;\">1</td><td style = \"text-align: right;\">2.0</td><td style = \"text-align: left;\">AS</td></tr><tr><td class = \"rowNumber\" style = \"font-weight: bold; text-align: right;\">44</td><td style = \"text-align: left;\">Yemen</td><td style = \"text-align: right;\">6</td><td style = \"text-align: right;\">0</td><td style = \"text-align: right;\">0</td><td style = \"text-align: right;\">0.1</td><td style = \"text-align: left;\">AS</td></tr></tbody></table></div><p>&vellip;</p><div><div style = \"float: left;\"><span>Last Group (16 rows): continent = &quot;OC&quot;</span></div><div style = \"clear: both;\"></div></div><div class = \"data-frame\" style = \"overflow-x: scroll;\"><table class = \"data-frame\" style = \"margin-bottom: 6px;\"><thead><tr class = \"header\"><th class = \"rowNumber\" style = \"font-weight: bold; text-align: right;\">Row</th><th style = \"text-align: left;\">country</th><th style = \"text-align: left;\">beer_servings</th><th style = \"text-align: left;\">spirit_servings</th><th style = \"text-align: left;\">wine_servings</th><th style = \"text-align: left;\">total_litres_of_pure_alcohol</th><th style = \"text-align: left;\">continent</th></tr><tr class = \"subheader headerLastRow\"><th class = \"rowNumber\" style = \"font-weight: bold; text-align: right;\"></th><th title = \"String31\" style = \"text-align: left;\">String31</th><th title = \"Int64\" style = \"text-align: left;\">Int64</th><th title = \"Int64\" style = \"text-align: left;\">Int64</th><th title = \"Int64\" style = \"text-align: left;\">Int64</th><th title = \"Float64\" style = \"text-align: left;\">Float64</th><th title = \"String3\" style = \"text-align: left;\">String3</th></tr></thead><tbody><tr><td class = \"rowNumber\" style = \"font-weight: bold; text-align: right;\">1</td><td style = \"text-align: left;\">Australia</td><td style = \"text-align: right;\">261</td><td style = \"text-align: right;\">72</td><td style = \"text-align: right;\">212</td><td style = \"text-align: right;\">10.4</td><td style = \"text-align: left;\">OC</td></tr><tr><td class = \"rowNumber\" style = \"font-weight: bold; text-align: right;\">2</td><td style = \"text-align: left;\">Cook Islands</td><td style = \"text-align: right;\">0</td><td style = \"text-align: right;\">254</td><td style = \"text-align: right;\">74</td><td style = \"text-align: right;\">5.9</td><td style = \"text-align: left;\">OC</td></tr><tr><td class = \"rowNumber\" style = \"font-weight: bold; text-align: right;\">3</td><td style = \"text-align: left;\">Fiji</td><td style = \"text-align: right;\">77</td><td style = \"text-align: right;\">35</td><td style = \"text-align: right;\">1</td><td style = \"text-align: right;\">2.0</td><td style = \"text-align: left;\">OC</td></tr><tr><td class = \"rowNumber\" style = \"font-weight: bold; text-align: right;\">4</td><td style = \"text-align: left;\">Kiribati</td><td style = \"text-align: right;\">21</td><td style = \"text-align: right;\">34</td><td style = \"text-align: right;\">1</td><td style = \"text-align: right;\">1.0</td><td style = \"text-align: left;\">OC</td></tr><tr><td class = \"rowNumber\" style = \"font-weight: bold; text-align: right;\">5</td><td style = \"text-align: left;\">Marshall Islands</td><td style = \"text-align: right;\">0</td><td style = \"text-align: right;\">0</td><td style = \"text-align: right;\">0</td><td style = \"text-align: right;\">0.0</td><td style = \"text-align: left;\">OC</td></tr><tr><td class = \"rowNumber\" style = \"font-weight: bold; text-align: right;\">6</td><td style = \"text-align: left;\">Micronesia</td><td style = \"text-align: right;\">62</td><td style = \"text-align: right;\">50</td><td style = \"text-align: right;\">18</td><td style = \"text-align: right;\">2.3</td><td style = \"text-align: left;\">OC</td></tr><tr><td class = \"rowNumber\" style = \"font-weight: bold; text-align: right;\">7</td><td style = \"text-align: left;\">Nauru</td><td style = \"text-align: right;\">49</td><td style = \"text-align: right;\">0</td><td style = \"text-align: right;\">8</td><td style = \"text-align: right;\">1.0</td><td style = \"text-align: left;\">OC</td></tr><tr><td class = \"rowNumber\" style = \"font-weight: bold; text-align: right;\">8</td><td style = \"text-align: left;\">New Zealand</td><td style = \"text-align: right;\">203</td><td style = \"text-align: right;\">79</td><td style = \"text-align: right;\">175</td><td style = \"text-align: right;\">9.3</td><td style = \"text-align: left;\">OC</td></tr><tr><td class = \"rowNumber\" style = \"font-weight: bold; text-align: right;\">9</td><td style = \"text-align: left;\">Niue</td><td style = \"text-align: right;\">188</td><td style = \"text-align: right;\">200</td><td style = \"text-align: right;\">7</td><td style = \"text-align: right;\">7.0</td><td style = \"text-align: left;\">OC</td></tr><tr><td class = \"rowNumber\" style = \"font-weight: bold; text-align: right;\">10</td><td style = \"text-align: left;\">Palau</td><td style = \"text-align: right;\">306</td><td style = \"text-align: right;\">63</td><td style = \"text-align: right;\">23</td><td style = \"text-align: right;\">6.9</td><td style = \"text-align: left;\">OC</td></tr><tr><td class = \"rowNumber\" style = \"font-weight: bold; text-align: right;\">11</td><td style = \"text-align: left;\">Papua New Guinea</td><td style = \"text-align: right;\">44</td><td style = \"text-align: right;\">39</td><td style = \"text-align: right;\">1</td><td style = \"text-align: right;\">1.5</td><td style = \"text-align: left;\">OC</td></tr><tr><td class = \"rowNumber\" style = \"font-weight: bold; text-align: right;\">12</td><td style = \"text-align: left;\">Samoa</td><td style = \"text-align: right;\">105</td><td style = \"text-align: right;\">18</td><td style = \"text-align: right;\">24</td><td style = \"text-align: right;\">2.6</td><td style = \"text-align: left;\">OC</td></tr><tr><td class = \"rowNumber\" style = \"font-weight: bold; text-align: right;\">13</td><td style = \"text-align: left;\">Solomon Islands</td><td style = \"text-align: right;\">56</td><td style = \"text-align: right;\">11</td><td style = \"text-align: right;\">1</td><td style = \"text-align: right;\">1.2</td><td style = \"text-align: left;\">OC</td></tr><tr><td class = \"rowNumber\" style = \"font-weight: bold; text-align: right;\">14</td><td style = \"text-align: left;\">Tonga</td><td style = \"text-align: right;\">36</td><td style = \"text-align: right;\">21</td><td style = \"text-align: right;\">5</td><td style = \"text-align: right;\">1.1</td><td style = \"text-align: left;\">OC</td></tr><tr><td class = \"rowNumber\" style = \"font-weight: bold; text-align: right;\">15</td><td style = \"text-align: left;\">Tuvalu</td><td style = \"text-align: right;\">6</td><td style = \"text-align: right;\">41</td><td style = \"text-align: right;\">9</td><td style = \"text-align: right;\">1.0</td><td style = \"text-align: left;\">OC</td></tr><tr><td class = \"rowNumber\" style = \"font-weight: bold; text-align: right;\">16</td><td style = \"text-align: left;\">Vanuatu</td><td style = \"text-align: right;\">21</td><td style = \"text-align: right;\">18</td><td style = \"text-align: right;\">11</td><td style = \"text-align: right;\">0.9</td><td style = \"text-align: left;\">OC</td></tr></tbody></table></div>"
      ],
      "text/latex": [
       "GroupedDataFrame with 6 groups based on key: continent\n",
       "\n",
       "First Group (44 rows): continent = \"AS\"\n",
       "\n",
       "\\begin{tabular}{r|cccccc}\n",
       "\t& country & beer\\_servings & spirit\\_servings & wine\\_servings & total\\_litres\\_of\\_pure\\_alcohol & \\\\\n",
       "\t\\hline\n",
       "\t& String31 & Int64 & Int64 & Int64 & Float64 & \\\\\n",
       "\t\\hline\n",
       "\t1 & Afghanistan & 0 & 0 & 0 & 0.0 & $\\dots$ \\\\\n",
       "\t2 & Bahrain & 42 & 63 & 7 & 2.0 & $\\dots$ \\\\\n",
       "\t3 & Bangladesh & 0 & 0 & 0 & 0.0 & $\\dots$ \\\\\n",
       "\t4 & Bhutan & 23 & 0 & 0 & 0.4 & $\\dots$ \\\\\n",
       "\t5 & Brunei & 31 & 2 & 1 & 0.6 & $\\dots$ \\\\\n",
       "\t6 & Cambodia & 57 & 65 & 1 & 2.2 & $\\dots$ \\\\\n",
       "\t7 & China & 79 & 192 & 8 & 5.0 & $\\dots$ \\\\\n",
       "\t8 & North Korea & 0 & 0 & 0 & 0.0 & $\\dots$ \\\\\n",
       "\t9 & India & 9 & 114 & 0 & 2.2 & $\\dots$ \\\\\n",
       "\t10 & Indonesia & 5 & 1 & 0 & 0.1 & $\\dots$ \\\\\n",
       "\t11 & Iran & 0 & 0 & 0 & 0.0 & $\\dots$ \\\\\n",
       "\t12 & Iraq & 9 & 3 & 0 & 0.2 & $\\dots$ \\\\\n",
       "\t13 & Israel & 63 & 69 & 9 & 2.5 & $\\dots$ \\\\\n",
       "\t14 & Japan & 77 & 202 & 16 & 7.0 & $\\dots$ \\\\\n",
       "\t15 & Jordan & 6 & 21 & 1 & 0.5 & $\\dots$ \\\\\n",
       "\t16 & Kazakhstan & 124 & 246 & 12 & 6.8 & $\\dots$ \\\\\n",
       "\t17 & Kuwait & 0 & 0 & 0 & 0.0 & $\\dots$ \\\\\n",
       "\t18 & Kyrgyzstan & 31 & 97 & 6 & 2.4 & $\\dots$ \\\\\n",
       "\t19 & Laos & 62 & 0 & 123 & 6.2 & $\\dots$ \\\\\n",
       "\t20 & Lebanon & 20 & 55 & 31 & 1.9 & $\\dots$ \\\\\n",
       "\t21 & Malaysia & 13 & 4 & 0 & 0.3 & $\\dots$ \\\\\n",
       "\t22 & Maldives & 0 & 0 & 0 & 0.0 & $\\dots$ \\\\\n",
       "\t23 & Mongolia & 77 & 189 & 8 & 4.9 & $\\dots$ \\\\\n",
       "\t24 & Myanmar & 5 & 1 & 0 & 0.1 & $\\dots$ \\\\\n",
       "\t$\\dots$ & $\\dots$ & $\\dots$ & $\\dots$ & $\\dots$ & $\\dots$ &  \\\\\n",
       "\\end{tabular}\n",
       "\n",
       "$\\dots$\n",
       "\n",
       "Last Group (16 rows): continent = \"OC\"\n",
       "\n",
       "\\begin{tabular}{r|cccccc}\n",
       "\t& country & beer\\_servings & spirit\\_servings & wine\\_servings & total\\_litres\\_of\\_pure\\_alcohol & \\\\\n",
       "\t\\hline\n",
       "\t& String31 & Int64 & Int64 & Int64 & Float64 & \\\\\n",
       "\t\\hline\n",
       "\t1 & Australia & 261 & 72 & 212 & 10.4 & $\\dots$ \\\\\n",
       "\t2 & Cook Islands & 0 & 254 & 74 & 5.9 & $\\dots$ \\\\\n",
       "\t3 & Fiji & 77 & 35 & 1 & 2.0 & $\\dots$ \\\\\n",
       "\t4 & Kiribati & 21 & 34 & 1 & 1.0 & $\\dots$ \\\\\n",
       "\t5 & Marshall Islands & 0 & 0 & 0 & 0.0 & $\\dots$ \\\\\n",
       "\t6 & Micronesia & 62 & 50 & 18 & 2.3 & $\\dots$ \\\\\n",
       "\t7 & Nauru & 49 & 0 & 8 & 1.0 & $\\dots$ \\\\\n",
       "\t8 & New Zealand & 203 & 79 & 175 & 9.3 & $\\dots$ \\\\\n",
       "\t9 & Niue & 188 & 200 & 7 & 7.0 & $\\dots$ \\\\\n",
       "\t10 & Palau & 306 & 63 & 23 & 6.9 & $\\dots$ \\\\\n",
       "\t11 & Papua New Guinea & 44 & 39 & 1 & 1.5 & $\\dots$ \\\\\n",
       "\t12 & Samoa & 105 & 18 & 24 & 2.6 & $\\dots$ \\\\\n",
       "\t13 & Solomon Islands & 56 & 11 & 1 & 1.2 & $\\dots$ \\\\\n",
       "\t14 & Tonga & 36 & 21 & 5 & 1.1 & $\\dots$ \\\\\n",
       "\t15 & Tuvalu & 6 & 41 & 9 & 1.0 & $\\dots$ \\\\\n",
       "\t16 & Vanuatu & 21 & 18 & 11 & 0.9 & $\\dots$ \\\\\n",
       "\\end{tabular}\n"
      ],
      "text/plain": [
       "GroupedDataFrame with 6 groups based on key: continent\n",
       "First Group (44 rows): continent = \"AS\"\n",
       "\u001b[1m Row \u001b[0m│\u001b[1m country              \u001b[0m\u001b[1m beer_servings \u001b[0m\u001b[1m spirit_servings \u001b[0m\u001b[1m wine_servings \u001b[0m\u001b[1m to\u001b[0m ⋯\n",
       "     │\u001b[90m String31             \u001b[0m\u001b[90m Int64         \u001b[0m\u001b[90m Int64           \u001b[0m\u001b[90m Int64         \u001b[0m\u001b[90m Fl\u001b[0m ⋯\n",
       "─────┼──────────────────────────────────────────────────────────────────────────\n",
       "   1 │ Afghanistan                       0                0              0     ⋯\n",
       "   2 │ Bahrain                          42               63              7\n",
       "  ⋮  │          ⋮                  ⋮               ⋮               ⋮           ⋱\n",
       "  43 │ Vietnam                         111                2              1\n",
       "  44 │ Yemen                             6                0              0\n",
       "\u001b[36m                                                   2 columns and 40 rows omitted\u001b[0m\n",
       "⋮\n",
       "Last Group (16 rows): continent = \"OC\"\n",
       "\u001b[1m Row \u001b[0m│\u001b[1m country          \u001b[0m\u001b[1m beer_servings \u001b[0m\u001b[1m spirit_servings \u001b[0m\u001b[1m wine_servings \u001b[0m\u001b[1m total_\u001b[0m ⋯\n",
       "     │\u001b[90m String31         \u001b[0m\u001b[90m Int64         \u001b[0m\u001b[90m Int64           \u001b[0m\u001b[90m Int64         \u001b[0m\u001b[90m Float6\u001b[0m ⋯\n",
       "─────┼──────────────────────────────────────────────────────────────────────────\n",
       "   1 │ Australia                   261               72            212         ⋯\n",
       "   2 │ Cook Islands                  0              254             74\n",
       "  ⋮  │        ⋮                ⋮               ⋮               ⋮               ⋱\n",
       "  16 │ Vanuatu                      21               18             11\n",
       "\u001b[36m                                                   2 columns and 13 rows omitted\u001b[0m"
      ]
     },
     "metadata": {},
     "output_type": "display_data"
    }
   ],
   "source": []
  },
  {
   "cell_type": "code",
   "execution_count": 21,
   "metadata": {},
   "outputs": [
    {
     "data": {
      "text/html": [
       "<div><div style = \"float: left;\"><span>6×9 DataFrame</span></div><div style = \"clear: both;\"></div></div><div class = \"data-frame\" style = \"overflow-x: scroll;\"><table class = \"data-frame\" style = \"margin-bottom: 6px;\"><thead><tr class = \"header\"><th class = \"rowNumber\" style = \"font-weight: bold; text-align: right;\">Row</th><th style = \"text-align: left;\">continent</th><th style = \"text-align: left;\">count_wine_servings</th><th style = \"text-align: left;\">mean_wine_servings</th><th style = \"text-align: left;\">std_wine_servings</th><th style = \"text-align: left;\">max_wine_servings</th><th style = \"text-align: left;\">min_wine_servings</th><th style = \"text-align: left;\">quantile_25th_wine_servings</th><th style = \"text-align: left;\">quantile_50th_wine_servings</th><th style = \"text-align: left;\">quantile_75th_wine_servings</th></tr><tr class = \"subheader headerLastRow\"><th class = \"rowNumber\" style = \"font-weight: bold; text-align: right;\"></th><th title = \"String3\" style = \"text-align: left;\">String3</th><th title = \"Int64\" style = \"text-align: left;\">Int64</th><th title = \"Float64\" style = \"text-align: left;\">Float64</th><th title = \"Float64\" style = \"text-align: left;\">Float64</th><th title = \"Int64\" style = \"text-align: left;\">Int64</th><th title = \"Int64\" style = \"text-align: left;\">Int64</th><th title = \"Float64\" style = \"text-align: left;\">Float64</th><th title = \"Float64\" style = \"text-align: left;\">Float64</th><th title = \"Float64\" style = \"text-align: left;\">Float64</th></tr></thead><tbody><tr><td class = \"rowNumber\" style = \"font-weight: bold; text-align: right;\">1</td><td style = \"text-align: left;\">AS</td><td style = \"text-align: right;\">44</td><td style = \"text-align: right;\">9.06818</td><td style = \"text-align: right;\">21.667</td><td style = \"text-align: right;\">123</td><td style = \"text-align: right;\">0</td><td style = \"text-align: right;\">0.0</td><td style = \"text-align: right;\">1.0</td><td style = \"text-align: right;\">8.0</td></tr><tr><td class = \"rowNumber\" style = \"font-weight: bold; text-align: right;\">2</td><td style = \"text-align: left;\">EU</td><td style = \"text-align: right;\">45</td><td style = \"text-align: right;\">142.222</td><td style = \"text-align: right;\">97.4217</td><td style = \"text-align: right;\">370</td><td style = \"text-align: right;\">0</td><td style = \"text-align: right;\">59.0</td><td style = \"text-align: right;\">128.0</td><td style = \"text-align: right;\">195.0</td></tr><tr><td class = \"rowNumber\" style = \"font-weight: bold; text-align: right;\">3</td><td style = \"text-align: left;\">AF</td><td style = \"text-align: right;\">53</td><td style = \"text-align: right;\">16.2642</td><td style = \"text-align: right;\">38.8464</td><td style = \"text-align: right;\">233</td><td style = \"text-align: right;\">0</td><td style = \"text-align: right;\">1.0</td><td style = \"text-align: right;\">2.0</td><td style = \"text-align: right;\">13.0</td></tr><tr><td class = \"rowNumber\" style = \"font-weight: bold; text-align: right;\">4</td><td style = \"text-align: left;\">NA</td><td style = \"text-align: right;\">23</td><td style = \"text-align: right;\">24.5217</td><td style = \"text-align: right;\">28.2664</td><td style = \"text-align: right;\">100</td><td style = \"text-align: right;\">1</td><td style = \"text-align: right;\">5.0</td><td style = \"text-align: right;\">11.0</td><td style = \"text-align: right;\">34.0</td></tr><tr><td class = \"rowNumber\" style = \"font-weight: bold; text-align: right;\">5</td><td style = \"text-align: left;\">SA</td><td style = \"text-align: right;\">12</td><td style = \"text-align: right;\">62.4167</td><td style = \"text-align: right;\">88.6202</td><td style = \"text-align: right;\">221</td><td style = \"text-align: right;\">1</td><td style = \"text-align: right;\">3.0</td><td style = \"text-align: right;\">12.0</td><td style = \"text-align: right;\">98.5</td></tr><tr><td class = \"rowNumber\" style = \"font-weight: bold; text-align: right;\">6</td><td style = \"text-align: left;\">OC</td><td style = \"text-align: right;\">16</td><td style = \"text-align: right;\">35.625</td><td style = \"text-align: right;\">64.5558</td><td style = \"text-align: right;\">212</td><td style = \"text-align: right;\">0</td><td style = \"text-align: right;\">1.0</td><td style = \"text-align: right;\">8.5</td><td style = \"text-align: right;\">23.25</td></tr></tbody></table></div>"
      ],
      "text/latex": [
       "\\begin{tabular}{r|cccccc}\n",
       "\t& continent & count\\_wine\\_servings & mean\\_wine\\_servings & std\\_wine\\_servings & max\\_wine\\_servings & \\\\\n",
       "\t\\hline\n",
       "\t& String3 & Int64 & Float64 & Float64 & Int64 & \\\\\n",
       "\t\\hline\n",
       "\t1 & AS & 44 & 9.06818 & 21.667 & 123 & $\\dots$ \\\\\n",
       "\t2 & EU & 45 & 142.222 & 97.4217 & 370 & $\\dots$ \\\\\n",
       "\t3 & AF & 53 & 16.2642 & 38.8464 & 233 & $\\dots$ \\\\\n",
       "\t4 & NA & 23 & 24.5217 & 28.2664 & 100 & $\\dots$ \\\\\n",
       "\t5 & SA & 12 & 62.4167 & 88.6202 & 221 & $\\dots$ \\\\\n",
       "\t6 & OC & 16 & 35.625 & 64.5558 & 212 & $\\dots$ \\\\\n",
       "\\end{tabular}\n"
      ],
      "text/plain": [
       "\u001b[1m6×9 DataFrame\u001b[0m\n",
       "\u001b[1m Row \u001b[0m│\u001b[1m continent \u001b[0m\u001b[1m count_wine_servings \u001b[0m\u001b[1m mean_wine_servings \u001b[0m\u001b[1m std_wine_servings \u001b[0m\u001b[1m \u001b[0m ⋯\n",
       "     │\u001b[90m String3   \u001b[0m\u001b[90m Int64               \u001b[0m\u001b[90m Float64            \u001b[0m\u001b[90m Float64           \u001b[0m\u001b[90m \u001b[0m ⋯\n",
       "─────┼──────────────────────────────────────────────────────────────────────────\n",
       "   1 │ AS                          44             9.06818            21.667    ⋯\n",
       "   2 │ EU                          45           142.222              97.4217\n",
       "   3 │ AF                          53            16.2642             38.8464\n",
       "   4 │ NA                          23            24.5217             28.2664\n",
       "   5 │ SA                          12            62.4167             88.6202   ⋯\n",
       "   6 │ OC                          16            35.625              64.5558\n",
       "\u001b[36m                                                               5 columns omitted\u001b[0m"
      ]
     },
     "metadata": {},
     "output_type": "display_data"
    }
   ],
   "source": []
  },
  {
   "cell_type": "markdown",
   "metadata": {},
   "source": [
    "### Step 6. Print the mean alcohol consumption per continent for every column"
   ]
  },
  {
   "cell_type": "code",
   "execution_count": 22,
   "metadata": {},
   "outputs": [
    {
     "data": {
      "text/html": [
       "<div><div style = \"float: left;\"><span>6×5 DataFrame</span></div><div style = \"clear: both;\"></div></div><div class = \"data-frame\" style = \"overflow-x: scroll;\"><table class = \"data-frame\" style = \"margin-bottom: 6px;\"><thead><tr class = \"header\"><th class = \"rowNumber\" style = \"font-weight: bold; text-align: right;\">Row</th><th style = \"text-align: left;\">continent</th><th style = \"text-align: left;\">beer_servings_mean</th><th style = \"text-align: left;\">spirit_servings_mean</th><th style = \"text-align: left;\">wine_servings_mean</th><th style = \"text-align: left;\">total_litres_of_pure_alcohol_mean</th></tr><tr class = \"subheader headerLastRow\"><th class = \"rowNumber\" style = \"font-weight: bold; text-align: right;\"></th><th title = \"String3\" style = \"text-align: left;\">String3</th><th title = \"Float64\" style = \"text-align: left;\">Float64</th><th title = \"Float64\" style = \"text-align: left;\">Float64</th><th title = \"Float64\" style = \"text-align: left;\">Float64</th><th title = \"Float64\" style = \"text-align: left;\">Float64</th></tr></thead><tbody><tr><td class = \"rowNumber\" style = \"font-weight: bold; text-align: right;\">1</td><td style = \"text-align: left;\">AS</td><td style = \"text-align: right;\">37.0455</td><td style = \"text-align: right;\">60.8409</td><td style = \"text-align: right;\">9.06818</td><td style = \"text-align: right;\">2.17045</td></tr><tr><td class = \"rowNumber\" style = \"font-weight: bold; text-align: right;\">2</td><td style = \"text-align: left;\">EU</td><td style = \"text-align: right;\">193.778</td><td style = \"text-align: right;\">132.556</td><td style = \"text-align: right;\">142.222</td><td style = \"text-align: right;\">8.61778</td></tr><tr><td class = \"rowNumber\" style = \"font-weight: bold; text-align: right;\">3</td><td style = \"text-align: left;\">AF</td><td style = \"text-align: right;\">61.4717</td><td style = \"text-align: right;\">16.3396</td><td style = \"text-align: right;\">16.2642</td><td style = \"text-align: right;\">3.00755</td></tr><tr><td class = \"rowNumber\" style = \"font-weight: bold; text-align: right;\">4</td><td style = \"text-align: left;\">NA</td><td style = \"text-align: right;\">145.435</td><td style = \"text-align: right;\">165.739</td><td style = \"text-align: right;\">24.5217</td><td style = \"text-align: right;\">5.99565</td></tr><tr><td class = \"rowNumber\" style = \"font-weight: bold; text-align: right;\">5</td><td style = \"text-align: left;\">SA</td><td style = \"text-align: right;\">175.083</td><td style = \"text-align: right;\">114.75</td><td style = \"text-align: right;\">62.4167</td><td style = \"text-align: right;\">6.30833</td></tr><tr><td class = \"rowNumber\" style = \"font-weight: bold; text-align: right;\">6</td><td style = \"text-align: left;\">OC</td><td style = \"text-align: right;\">89.6875</td><td style = \"text-align: right;\">58.4375</td><td style = \"text-align: right;\">35.625</td><td style = \"text-align: right;\">3.38125</td></tr></tbody></table></div>"
      ],
      "text/latex": [
       "\\begin{tabular}{r|ccccc}\n",
       "\t& continent & beer\\_servings\\_mean & spirit\\_servings\\_mean & wine\\_servings\\_mean & total\\_litres\\_of\\_pure\\_alcohol\\_mean\\\\\n",
       "\t\\hline\n",
       "\t& String3 & Float64 & Float64 & Float64 & Float64\\\\\n",
       "\t\\hline\n",
       "\t1 & AS & 37.0455 & 60.8409 & 9.06818 & 2.17045 \\\\\n",
       "\t2 & EU & 193.778 & 132.556 & 142.222 & 8.61778 \\\\\n",
       "\t3 & AF & 61.4717 & 16.3396 & 16.2642 & 3.00755 \\\\\n",
       "\t4 & NA & 145.435 & 165.739 & 24.5217 & 5.99565 \\\\\n",
       "\t5 & SA & 175.083 & 114.75 & 62.4167 & 6.30833 \\\\\n",
       "\t6 & OC & 89.6875 & 58.4375 & 35.625 & 3.38125 \\\\\n",
       "\\end{tabular}\n"
      ],
      "text/plain": [
       "\u001b[1m6×5 DataFrame\u001b[0m\n",
       "\u001b[1m Row \u001b[0m│\u001b[1m continent \u001b[0m\u001b[1m beer_servings_mean \u001b[0m\u001b[1m spirit_servings_mean \u001b[0m\u001b[1m wine_servings_mean\u001b[0m ⋯\n",
       "     │\u001b[90m String3   \u001b[0m\u001b[90m Float64            \u001b[0m\u001b[90m Float64              \u001b[0m\u001b[90m Float64           \u001b[0m ⋯\n",
       "─────┼──────────────────────────────────────────────────────────────────────────\n",
       "   1 │ AS                    37.0455               60.8409             9.06818 ⋯\n",
       "   2 │ EU                   193.778               132.556            142.222\n",
       "   3 │ AF                    61.4717               16.3396            16.2642\n",
       "   4 │ NA                   145.435               165.739             24.5217\n",
       "   5 │ SA                   175.083               114.75              62.4167  ⋯\n",
       "   6 │ OC                    89.6875               58.4375            35.625\n",
       "\u001b[36m                                                                1 column omitted\u001b[0m"
      ]
     },
     "metadata": {},
     "output_type": "display_data"
    }
   ],
   "source": []
  },
  {
   "cell_type": "markdown",
   "metadata": {},
   "source": [
    "### Step 7. Print the median alcohol consumption per continent for every column"
   ]
  },
  {
   "cell_type": "code",
   "execution_count": 23,
   "metadata": {},
   "outputs": [
    {
     "data": {
      "text/html": [
       "<div><div style = \"float: left;\"><span>6×5 DataFrame</span></div><div style = \"clear: both;\"></div></div><div class = \"data-frame\" style = \"overflow-x: scroll;\"><table class = \"data-frame\" style = \"margin-bottom: 6px;\"><thead><tr class = \"header\"><th class = \"rowNumber\" style = \"font-weight: bold; text-align: right;\">Row</th><th style = \"text-align: left;\">continent</th><th style = \"text-align: left;\">beer_servings_median</th><th style = \"text-align: left;\">spirit_servings_median</th><th style = \"text-align: left;\">wine_servings_median</th><th style = \"text-align: left;\">total_litres_of_pure_alcohol_median</th></tr><tr class = \"subheader headerLastRow\"><th class = \"rowNumber\" style = \"font-weight: bold; text-align: right;\"></th><th title = \"String3\" style = \"text-align: left;\">String3</th><th title = \"Float64\" style = \"text-align: left;\">Float64</th><th title = \"Float64\" style = \"text-align: left;\">Float64</th><th title = \"Float64\" style = \"text-align: left;\">Float64</th><th title = \"Float64\" style = \"text-align: left;\">Float64</th></tr></thead><tbody><tr><td class = \"rowNumber\" style = \"font-weight: bold; text-align: right;\">1</td><td style = \"text-align: left;\">AS</td><td style = \"text-align: right;\">17.5</td><td style = \"text-align: right;\">16.0</td><td style = \"text-align: right;\">1.0</td><td style = \"text-align: right;\">1.2</td></tr><tr><td class = \"rowNumber\" style = \"font-weight: bold; text-align: right;\">2</td><td style = \"text-align: left;\">EU</td><td style = \"text-align: right;\">219.0</td><td style = \"text-align: right;\">122.0</td><td style = \"text-align: right;\">128.0</td><td style = \"text-align: right;\">10.0</td></tr><tr><td class = \"rowNumber\" style = \"font-weight: bold; text-align: right;\">3</td><td style = \"text-align: left;\">AF</td><td style = \"text-align: right;\">32.0</td><td style = \"text-align: right;\">3.0</td><td style = \"text-align: right;\">2.0</td><td style = \"text-align: right;\">2.3</td></tr><tr><td class = \"rowNumber\" style = \"font-weight: bold; text-align: right;\">4</td><td style = \"text-align: left;\">NA</td><td style = \"text-align: right;\">143.0</td><td style = \"text-align: right;\">137.0</td><td style = \"text-align: right;\">11.0</td><td style = \"text-align: right;\">6.3</td></tr><tr><td class = \"rowNumber\" style = \"font-weight: bold; text-align: right;\">5</td><td style = \"text-align: left;\">SA</td><td style = \"text-align: right;\">162.5</td><td style = \"text-align: right;\">108.5</td><td style = \"text-align: right;\">12.0</td><td style = \"text-align: right;\">6.85</td></tr><tr><td class = \"rowNumber\" style = \"font-weight: bold; text-align: right;\">6</td><td style = \"text-align: left;\">OC</td><td style = \"text-align: right;\">52.5</td><td style = \"text-align: right;\">37.0</td><td style = \"text-align: right;\">8.5</td><td style = \"text-align: right;\">1.75</td></tr></tbody></table></div>"
      ],
      "text/latex": [
       "\\begin{tabular}{r|ccccc}\n",
       "\t& continent & beer\\_servings\\_median & spirit\\_servings\\_median & wine\\_servings\\_median & total\\_litres\\_of\\_pure\\_alcohol\\_median\\\\\n",
       "\t\\hline\n",
       "\t& String3 & Float64 & Float64 & Float64 & Float64\\\\\n",
       "\t\\hline\n",
       "\t1 & AS & 17.5 & 16.0 & 1.0 & 1.2 \\\\\n",
       "\t2 & EU & 219.0 & 122.0 & 128.0 & 10.0 \\\\\n",
       "\t3 & AF & 32.0 & 3.0 & 2.0 & 2.3 \\\\\n",
       "\t4 & NA & 143.0 & 137.0 & 11.0 & 6.3 \\\\\n",
       "\t5 & SA & 162.5 & 108.5 & 12.0 & 6.85 \\\\\n",
       "\t6 & OC & 52.5 & 37.0 & 8.5 & 1.75 \\\\\n",
       "\\end{tabular}\n"
      ],
      "text/plain": [
       "\u001b[1m6×5 DataFrame\u001b[0m\n",
       "\u001b[1m Row \u001b[0m│\u001b[1m continent \u001b[0m\u001b[1m beer_servings_median \u001b[0m\u001b[1m spirit_servings_median \u001b[0m\u001b[1m wine_servings_\u001b[0m ⋯\n",
       "     │\u001b[90m String3   \u001b[0m\u001b[90m Float64              \u001b[0m\u001b[90m Float64                \u001b[0m\u001b[90m Float64       \u001b[0m ⋯\n",
       "─────┼──────────────────────────────────────────────────────────────────────────\n",
       "   1 │ AS                         17.5                    16.0                 ⋯\n",
       "   2 │ EU                        219.0                   122.0\n",
       "   3 │ AF                         32.0                     3.0\n",
       "   4 │ NA                        143.0                   137.0\n",
       "   5 │ SA                        162.5                   108.5                 ⋯\n",
       "   6 │ OC                         52.5                    37.0\n",
       "\u001b[36m                                                               2 columns omitted\u001b[0m"
      ]
     },
     "metadata": {},
     "output_type": "display_data"
    }
   ],
   "source": []
  },
  {
   "cell_type": "markdown",
   "metadata": {},
   "source": [
    "### Step 8. Print the mean, min and max values for spirit consumption.\n",
    "#### This time output a DataFrame"
   ]
  },
  {
   "cell_type": "code",
   "execution_count": 24,
   "metadata": {},
   "outputs": [
    {
     "data": {
      "text/html": [
       "<div><div style = \"float: left;\"><span>6×4 DataFrame</span></div><div style = \"clear: both;\"></div></div><div class = \"data-frame\" style = \"overflow-x: scroll;\"><table class = \"data-frame\" style = \"margin-bottom: 6px;\"><thead><tr class = \"header\"><th class = \"rowNumber\" style = \"font-weight: bold; text-align: right;\">Row</th><th style = \"text-align: left;\">continent</th><th style = \"text-align: left;\">spirit_servings_mean</th><th style = \"text-align: left;\">spirit_servings_minimum</th><th style = \"text-align: left;\">spirit_servings_maximum</th></tr><tr class = \"subheader headerLastRow\"><th class = \"rowNumber\" style = \"font-weight: bold; text-align: right;\"></th><th title = \"String3\" style = \"text-align: left;\">String3</th><th title = \"Float64\" style = \"text-align: left;\">Float64</th><th title = \"Int64\" style = \"text-align: left;\">Int64</th><th title = \"Int64\" style = \"text-align: left;\">Int64</th></tr></thead><tbody><tr><td class = \"rowNumber\" style = \"font-weight: bold; text-align: right;\">1</td><td style = \"text-align: left;\">AS</td><td style = \"text-align: right;\">60.8409</td><td style = \"text-align: right;\">0</td><td style = \"text-align: right;\">326</td></tr><tr><td class = \"rowNumber\" style = \"font-weight: bold; text-align: right;\">2</td><td style = \"text-align: left;\">EU</td><td style = \"text-align: right;\">132.556</td><td style = \"text-align: right;\">0</td><td style = \"text-align: right;\">373</td></tr><tr><td class = \"rowNumber\" style = \"font-weight: bold; text-align: right;\">3</td><td style = \"text-align: left;\">AF</td><td style = \"text-align: right;\">16.3396</td><td style = \"text-align: right;\">0</td><td style = \"text-align: right;\">152</td></tr><tr><td class = \"rowNumber\" style = \"font-weight: bold; text-align: right;\">4</td><td style = \"text-align: left;\">NA</td><td style = \"text-align: right;\">165.739</td><td style = \"text-align: right;\">68</td><td style = \"text-align: right;\">438</td></tr><tr><td class = \"rowNumber\" style = \"font-weight: bold; text-align: right;\">5</td><td style = \"text-align: left;\">SA</td><td style = \"text-align: right;\">114.75</td><td style = \"text-align: right;\">25</td><td style = \"text-align: right;\">302</td></tr><tr><td class = \"rowNumber\" style = \"font-weight: bold; text-align: right;\">6</td><td style = \"text-align: left;\">OC</td><td style = \"text-align: right;\">58.4375</td><td style = \"text-align: right;\">0</td><td style = \"text-align: right;\">254</td></tr></tbody></table></div>"
      ],
      "text/latex": [
       "\\begin{tabular}{r|cccc}\n",
       "\t& continent & spirit\\_servings\\_mean & spirit\\_servings\\_minimum & spirit\\_servings\\_maximum\\\\\n",
       "\t\\hline\n",
       "\t& String3 & Float64 & Int64 & Int64\\\\\n",
       "\t\\hline\n",
       "\t1 & AS & 60.8409 & 0 & 326 \\\\\n",
       "\t2 & EU & 132.556 & 0 & 373 \\\\\n",
       "\t3 & AF & 16.3396 & 0 & 152 \\\\\n",
       "\t4 & NA & 165.739 & 68 & 438 \\\\\n",
       "\t5 & SA & 114.75 & 25 & 302 \\\\\n",
       "\t6 & OC & 58.4375 & 0 & 254 \\\\\n",
       "\\end{tabular}\n"
      ],
      "text/plain": [
       "\u001b[1m6×4 DataFrame\u001b[0m\n",
       "\u001b[1m Row \u001b[0m│\u001b[1m continent \u001b[0m\u001b[1m spirit_servings_mean \u001b[0m\u001b[1m spirit_servings_minimum \u001b[0m\u001b[1m spirit_servin\u001b[0m ⋯\n",
       "     │\u001b[90m String3   \u001b[0m\u001b[90m Float64              \u001b[0m\u001b[90m Int64                   \u001b[0m\u001b[90m Int64        \u001b[0m ⋯\n",
       "─────┼──────────────────────────────────────────────────────────────────────────\n",
       "   1 │ AS                      60.8409                        0                ⋯\n",
       "   2 │ EU                     132.556                         0\n",
       "   3 │ AF                      16.3396                        0\n",
       "   4 │ NA                     165.739                        68\n",
       "   5 │ SA                     114.75                         25                ⋯\n",
       "   6 │ OC                      58.4375                        0\n",
       "\u001b[36m                                                                1 column omitted\u001b[0m"
      ]
     },
     "metadata": {},
     "output_type": "display_data"
    }
   ],
   "source": []
  }
 ],
 "metadata": {
  "kernelspec": {
   "display_name": "Julia 1.10.3",
   "language": "julia",
   "name": "julia-1.10"
  },
  "language_info": {
   "file_extension": ".jl",
   "mimetype": "application/julia",
   "name": "julia",
   "version": "1.10.3"
  }
 },
 "nbformat": 4,
 "nbformat_minor": 0
}
