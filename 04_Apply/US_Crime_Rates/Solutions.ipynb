{
 "cells": [
  {
   "cell_type": "markdown",
   "metadata": {},
   "source": [
    "# United States - Crime Rates - 1960 - 2014"
   ]
  },
  {
   "cell_type": "markdown",
   "metadata": {},
   "source": [
    "### Introduction:\n",
    "\n",
    "This time you will create a data \n",
    "\n",
    "Special thanks to: https://github.com/justmarkham for sharing the dataset and materials.\n",
    "\n",
    "### Step 1. Import the necessary libraries"
   ]
  },
  {
   "cell_type": "code",
   "execution_count": null,
   "metadata": {
    "collapsed": false
   },
   "outputs": [],
   "source": []
  },
  {
   "cell_type": "markdown",
   "metadata": {},
   "source": [
    "### Step 2. Import the dataset from this [address](https://raw.githubusercontent.com/guipsamora/pandas_exercises/master/04_Apply/US_Crime_Rates/US_Crime_Rates_1960_2014.csv). "
   ]
  },
  {
   "cell_type": "markdown",
   "metadata": {},
   "source": [
    "### Step 3. Assign it to a variable called crime."
   ]
  },
  {
   "cell_type": "code",
   "execution_count": 2,
   "metadata": {
    "collapsed": false
   },
   "outputs": [
    {
     "data": {
      "text/html": [
       "<div><div style = \"float: left;\"><span>5×12 DataFrame</span></div><div style = \"clear: both;\"></div></div><div class = \"data-frame\" style = \"overflow-x: scroll;\"><table class = \"data-frame\" style = \"margin-bottom: 6px;\"><thead><tr class = \"header\"><th class = \"rowNumber\" style = \"font-weight: bold; text-align: right;\">Row</th><th style = \"text-align: left;\">Year</th><th style = \"text-align: left;\">Population</th><th style = \"text-align: left;\">Total</th><th style = \"text-align: left;\">Violent</th><th style = \"text-align: left;\">Property</th><th style = \"text-align: left;\">Murder</th><th style = \"text-align: left;\">Forcible_Rape</th><th style = \"text-align: left;\">Robbery</th><th style = \"text-align: left;\">Aggravated_assault</th><th style = \"text-align: left;\">Burglary</th><th style = \"text-align: left;\">Larceny_Theft</th><th style = \"text-align: left;\">Vehicle_Theft</th></tr><tr class = \"subheader headerLastRow\"><th class = \"rowNumber\" style = \"font-weight: bold; text-align: right;\"></th><th title = \"Int64\" style = \"text-align: left;\">Int64</th><th title = \"Int64\" style = \"text-align: left;\">Int64</th><th title = \"Int64\" style = \"text-align: left;\">Int64</th><th title = \"Int64\" style = \"text-align: left;\">Int64</th><th title = \"Int64\" style = \"text-align: left;\">Int64</th><th title = \"Int64\" style = \"text-align: left;\">Int64</th><th title = \"Int64\" style = \"text-align: left;\">Int64</th><th title = \"Int64\" style = \"text-align: left;\">Int64</th><th title = \"Int64\" style = \"text-align: left;\">Int64</th><th title = \"Int64\" style = \"text-align: left;\">Int64</th><th title = \"Int64\" style = \"text-align: left;\">Int64</th><th title = \"Int64\" style = \"text-align: left;\">Int64</th></tr></thead><tbody><tr><td class = \"rowNumber\" style = \"font-weight: bold; text-align: right;\">1</td><td style = \"text-align: right;\">1960</td><td style = \"text-align: right;\">179323175</td><td style = \"text-align: right;\">3384200</td><td style = \"text-align: right;\">288460</td><td style = \"text-align: right;\">3095700</td><td style = \"text-align: right;\">9110</td><td style = \"text-align: right;\">17190</td><td style = \"text-align: right;\">107840</td><td style = \"text-align: right;\">154320</td><td style = \"text-align: right;\">912100</td><td style = \"text-align: right;\">1855400</td><td style = \"text-align: right;\">328200</td></tr><tr><td class = \"rowNumber\" style = \"font-weight: bold; text-align: right;\">2</td><td style = \"text-align: right;\">1961</td><td style = \"text-align: right;\">182992000</td><td style = \"text-align: right;\">3488000</td><td style = \"text-align: right;\">289390</td><td style = \"text-align: right;\">3198600</td><td style = \"text-align: right;\">8740</td><td style = \"text-align: right;\">17220</td><td style = \"text-align: right;\">106670</td><td style = \"text-align: right;\">156760</td><td style = \"text-align: right;\">949600</td><td style = \"text-align: right;\">1913000</td><td style = \"text-align: right;\">336000</td></tr><tr><td class = \"rowNumber\" style = \"font-weight: bold; text-align: right;\">3</td><td style = \"text-align: right;\">1962</td><td style = \"text-align: right;\">185771000</td><td style = \"text-align: right;\">3752200</td><td style = \"text-align: right;\">301510</td><td style = \"text-align: right;\">3450700</td><td style = \"text-align: right;\">8530</td><td style = \"text-align: right;\">17550</td><td style = \"text-align: right;\">110860</td><td style = \"text-align: right;\">164570</td><td style = \"text-align: right;\">994300</td><td style = \"text-align: right;\">2089600</td><td style = \"text-align: right;\">366800</td></tr><tr><td class = \"rowNumber\" style = \"font-weight: bold; text-align: right;\">4</td><td style = \"text-align: right;\">1963</td><td style = \"text-align: right;\">188483000</td><td style = \"text-align: right;\">4109500</td><td style = \"text-align: right;\">316970</td><td style = \"text-align: right;\">3792500</td><td style = \"text-align: right;\">8640</td><td style = \"text-align: right;\">17650</td><td style = \"text-align: right;\">116470</td><td style = \"text-align: right;\">174210</td><td style = \"text-align: right;\">1086400</td><td style = \"text-align: right;\">2297800</td><td style = \"text-align: right;\">408300</td></tr><tr><td class = \"rowNumber\" style = \"font-weight: bold; text-align: right;\">5</td><td style = \"text-align: right;\">1964</td><td style = \"text-align: right;\">191141000</td><td style = \"text-align: right;\">4564600</td><td style = \"text-align: right;\">364220</td><td style = \"text-align: right;\">4200400</td><td style = \"text-align: right;\">9360</td><td style = \"text-align: right;\">21420</td><td style = \"text-align: right;\">130390</td><td style = \"text-align: right;\">203050</td><td style = \"text-align: right;\">1213200</td><td style = \"text-align: right;\">2514400</td><td style = \"text-align: right;\">472800</td></tr></tbody></table></div>"
      ],
      "text/latex": [
       "\\begin{tabular}{r|cccccccccc}\n",
       "\t& Year & Population & Total & Violent & Property & Murder & Forcible\\_Rape & Robbery & Aggravated\\_assault & \\\\\n",
       "\t\\hline\n",
       "\t& Int64 & Int64 & Int64 & Int64 & Int64 & Int64 & Int64 & Int64 & Int64 & \\\\\n",
       "\t\\hline\n",
       "\t1 & 1960 & 179323175 & 3384200 & 288460 & 3095700 & 9110 & 17190 & 107840 & 154320 & $\\dots$ \\\\\n",
       "\t2 & 1961 & 182992000 & 3488000 & 289390 & 3198600 & 8740 & 17220 & 106670 & 156760 & $\\dots$ \\\\\n",
       "\t3 & 1962 & 185771000 & 3752200 & 301510 & 3450700 & 8530 & 17550 & 110860 & 164570 & $\\dots$ \\\\\n",
       "\t4 & 1963 & 188483000 & 4109500 & 316970 & 3792500 & 8640 & 17650 & 116470 & 174210 & $\\dots$ \\\\\n",
       "\t5 & 1964 & 191141000 & 4564600 & 364220 & 4200400 & 9360 & 21420 & 130390 & 203050 & $\\dots$ \\\\\n",
       "\\end{tabular}\n"
      ],
      "text/plain": [
       "\u001b[1m5×12 DataFrame\u001b[0m\n",
       "\u001b[1m Row \u001b[0m│\u001b[1m Year  \u001b[0m\u001b[1m Population \u001b[0m\u001b[1m Total   \u001b[0m\u001b[1m Violent \u001b[0m\u001b[1m Property \u001b[0m\u001b[1m Murder \u001b[0m\u001b[1m Forcible_Rape \u001b[0m\u001b[1m R\u001b[0m ⋯\n",
       "     │\u001b[90m Int64 \u001b[0m\u001b[90m Int64      \u001b[0m\u001b[90m Int64   \u001b[0m\u001b[90m Int64   \u001b[0m\u001b[90m Int64    \u001b[0m\u001b[90m Int64  \u001b[0m\u001b[90m Int64         \u001b[0m\u001b[90m I\u001b[0m ⋯\n",
       "─────┼──────────────────────────────────────────────────────────────────────────\n",
       "   1 │  1960   179323175  3384200   288460   3095700    9110          17190    ⋯\n",
       "   2 │  1961   182992000  3488000   289390   3198600    8740          17220\n",
       "   3 │  1962   185771000  3752200   301510   3450700    8530          17550\n",
       "   4 │  1963   188483000  4109500   316970   3792500    8640          17650\n",
       "   5 │  1964   191141000  4564600   364220   4200400    9360          21420    ⋯\n",
       "\u001b[36m                                                               5 columns omitted\u001b[0m"
      ]
     },
     "metadata": {},
     "output_type": "display_data"
    }
   ],
   "source": []
  },
  {
   "cell_type": "markdown",
   "metadata": {},
   "source": [
    "### Step 4. What is the type of the columns?"
   ]
  },
  {
   "cell_type": "code",
   "execution_count": 3,
   "metadata": {},
   "outputs": [
    {
     "name": "stdout",
     "output_type": "stream",
     "text": [
      "Column: Year, Type: Int64\n",
      "Column: Population, Type: Int64\n",
      "Column: Total, Type: Int64\n",
      "Column: Violent, Type: Int64\n",
      "Column: Property, Type: Int64\n",
      "Column: Murder, Type: Int64\n",
      "Column: Forcible_Rape, Type: Int64\n",
      "Column: Robbery, Type: Int64\n",
      "Column: Aggravated_assault, Type: Int64\n",
      "Column: Burglary, Type: Int64\n",
      "Column: Larceny_Theft, Type: Int64\n",
      "Column: Vehicle_Theft, Type: Int64\n"
     ]
    }
   ],
   "source": []
  },
  {
   "cell_type": "markdown",
   "metadata": {},
   "source": [
    "### Step 5. Delete the Total column"
   ]
  },
  {
   "cell_type": "code",
   "execution_count": 4,
   "metadata": {
    "collapsed": false
   },
   "outputs": [
    {
     "data": {
      "text/html": [
       "<div><div style = \"float: left;\"><span>55×11 DataFrame</span></div><div style = \"float: right;\"><span style = \"font-style: italic;\">30 rows omitted</span></div><div style = \"clear: both;\"></div></div><div class = \"data-frame\" style = \"overflow-x: scroll;\"><table class = \"data-frame\" style = \"margin-bottom: 6px;\"><thead><tr class = \"header\"><th class = \"rowNumber\" style = \"font-weight: bold; text-align: right;\">Row</th><th style = \"text-align: left;\">Year</th><th style = \"text-align: left;\">Population</th><th style = \"text-align: left;\">Violent</th><th style = \"text-align: left;\">Property</th><th style = \"text-align: left;\">Murder</th><th style = \"text-align: left;\">Forcible_Rape</th><th style = \"text-align: left;\">Robbery</th><th style = \"text-align: left;\">Aggravated_assault</th><th style = \"text-align: left;\">Burglary</th><th style = \"text-align: left;\">Larceny_Theft</th><th style = \"text-align: left;\">Vehicle_Theft</th></tr><tr class = \"subheader headerLastRow\"><th class = \"rowNumber\" style = \"font-weight: bold; text-align: right;\"></th><th title = \"Int64\" style = \"text-align: left;\">Int64</th><th title = \"Int64\" style = \"text-align: left;\">Int64</th><th title = \"Int64\" style = \"text-align: left;\">Int64</th><th title = \"Int64\" style = \"text-align: left;\">Int64</th><th title = \"Int64\" style = \"text-align: left;\">Int64</th><th title = \"Int64\" style = \"text-align: left;\">Int64</th><th title = \"Int64\" style = \"text-align: left;\">Int64</th><th title = \"Int64\" style = \"text-align: left;\">Int64</th><th title = \"Int64\" style = \"text-align: left;\">Int64</th><th title = \"Int64\" style = \"text-align: left;\">Int64</th><th title = \"Int64\" style = \"text-align: left;\">Int64</th></tr></thead><tbody><tr><td class = \"rowNumber\" style = \"font-weight: bold; text-align: right;\">1</td><td style = \"text-align: right;\">1960</td><td style = \"text-align: right;\">179323175</td><td style = \"text-align: right;\">288460</td><td style = \"text-align: right;\">3095700</td><td style = \"text-align: right;\">9110</td><td style = \"text-align: right;\">17190</td><td style = \"text-align: right;\">107840</td><td style = \"text-align: right;\">154320</td><td style = \"text-align: right;\">912100</td><td style = \"text-align: right;\">1855400</td><td style = \"text-align: right;\">328200</td></tr><tr><td class = \"rowNumber\" style = \"font-weight: bold; text-align: right;\">2</td><td style = \"text-align: right;\">1961</td><td style = \"text-align: right;\">182992000</td><td style = \"text-align: right;\">289390</td><td style = \"text-align: right;\">3198600</td><td style = \"text-align: right;\">8740</td><td style = \"text-align: right;\">17220</td><td style = \"text-align: right;\">106670</td><td style = \"text-align: right;\">156760</td><td style = \"text-align: right;\">949600</td><td style = \"text-align: right;\">1913000</td><td style = \"text-align: right;\">336000</td></tr><tr><td class = \"rowNumber\" style = \"font-weight: bold; text-align: right;\">3</td><td style = \"text-align: right;\">1962</td><td style = \"text-align: right;\">185771000</td><td style = \"text-align: right;\">301510</td><td style = \"text-align: right;\">3450700</td><td style = \"text-align: right;\">8530</td><td style = \"text-align: right;\">17550</td><td style = \"text-align: right;\">110860</td><td style = \"text-align: right;\">164570</td><td style = \"text-align: right;\">994300</td><td style = \"text-align: right;\">2089600</td><td style = \"text-align: right;\">366800</td></tr><tr><td class = \"rowNumber\" style = \"font-weight: bold; text-align: right;\">4</td><td style = \"text-align: right;\">1963</td><td style = \"text-align: right;\">188483000</td><td style = \"text-align: right;\">316970</td><td style = \"text-align: right;\">3792500</td><td style = \"text-align: right;\">8640</td><td style = \"text-align: right;\">17650</td><td style = \"text-align: right;\">116470</td><td style = \"text-align: right;\">174210</td><td style = \"text-align: right;\">1086400</td><td style = \"text-align: right;\">2297800</td><td style = \"text-align: right;\">408300</td></tr><tr><td class = \"rowNumber\" style = \"font-weight: bold; text-align: right;\">5</td><td style = \"text-align: right;\">1964</td><td style = \"text-align: right;\">191141000</td><td style = \"text-align: right;\">364220</td><td style = \"text-align: right;\">4200400</td><td style = \"text-align: right;\">9360</td><td style = \"text-align: right;\">21420</td><td style = \"text-align: right;\">130390</td><td style = \"text-align: right;\">203050</td><td style = \"text-align: right;\">1213200</td><td style = \"text-align: right;\">2514400</td><td style = \"text-align: right;\">472800</td></tr><tr><td class = \"rowNumber\" style = \"font-weight: bold; text-align: right;\">6</td><td style = \"text-align: right;\">1965</td><td style = \"text-align: right;\">193526000</td><td style = \"text-align: right;\">387390</td><td style = \"text-align: right;\">4352000</td><td style = \"text-align: right;\">9960</td><td style = \"text-align: right;\">23410</td><td style = \"text-align: right;\">138690</td><td style = \"text-align: right;\">215330</td><td style = \"text-align: right;\">1282500</td><td style = \"text-align: right;\">2572600</td><td style = \"text-align: right;\">496900</td></tr><tr><td class = \"rowNumber\" style = \"font-weight: bold; text-align: right;\">7</td><td style = \"text-align: right;\">1966</td><td style = \"text-align: right;\">195576000</td><td style = \"text-align: right;\">430180</td><td style = \"text-align: right;\">4793300</td><td style = \"text-align: right;\">11040</td><td style = \"text-align: right;\">25820</td><td style = \"text-align: right;\">157990</td><td style = \"text-align: right;\">235330</td><td style = \"text-align: right;\">1410100</td><td style = \"text-align: right;\">2822000</td><td style = \"text-align: right;\">561200</td></tr><tr><td class = \"rowNumber\" style = \"font-weight: bold; text-align: right;\">8</td><td style = \"text-align: right;\">1967</td><td style = \"text-align: right;\">197457000</td><td style = \"text-align: right;\">499930</td><td style = \"text-align: right;\">5403500</td><td style = \"text-align: right;\">12240</td><td style = \"text-align: right;\">27620</td><td style = \"text-align: right;\">202910</td><td style = \"text-align: right;\">257160</td><td style = \"text-align: right;\">1632100</td><td style = \"text-align: right;\">3111600</td><td style = \"text-align: right;\">659800</td></tr><tr><td class = \"rowNumber\" style = \"font-weight: bold; text-align: right;\">9</td><td style = \"text-align: right;\">1968</td><td style = \"text-align: right;\">199399000</td><td style = \"text-align: right;\">595010</td><td style = \"text-align: right;\">6125200</td><td style = \"text-align: right;\">13800</td><td style = \"text-align: right;\">31670</td><td style = \"text-align: right;\">262840</td><td style = \"text-align: right;\">286700</td><td style = \"text-align: right;\">1858900</td><td style = \"text-align: right;\">3482700</td><td style = \"text-align: right;\">783600</td></tr><tr><td class = \"rowNumber\" style = \"font-weight: bold; text-align: right;\">10</td><td style = \"text-align: right;\">1969</td><td style = \"text-align: right;\">201385000</td><td style = \"text-align: right;\">661870</td><td style = \"text-align: right;\">6749000</td><td style = \"text-align: right;\">14760</td><td style = \"text-align: right;\">37170</td><td style = \"text-align: right;\">298850</td><td style = \"text-align: right;\">311090</td><td style = \"text-align: right;\">1981900</td><td style = \"text-align: right;\">3888600</td><td style = \"text-align: right;\">878500</td></tr><tr><td class = \"rowNumber\" style = \"font-weight: bold; text-align: right;\">11</td><td style = \"text-align: right;\">1970</td><td style = \"text-align: right;\">203235298</td><td style = \"text-align: right;\">738820</td><td style = \"text-align: right;\">7359200</td><td style = \"text-align: right;\">16000</td><td style = \"text-align: right;\">37990</td><td style = \"text-align: right;\">349860</td><td style = \"text-align: right;\">334970</td><td style = \"text-align: right;\">2205000</td><td style = \"text-align: right;\">4225800</td><td style = \"text-align: right;\">928400</td></tr><tr><td class = \"rowNumber\" style = \"font-weight: bold; text-align: right;\">12</td><td style = \"text-align: right;\">1971</td><td style = \"text-align: right;\">206212000</td><td style = \"text-align: right;\">816500</td><td style = \"text-align: right;\">7771700</td><td style = \"text-align: right;\">17780</td><td style = \"text-align: right;\">42260</td><td style = \"text-align: right;\">387700</td><td style = \"text-align: right;\">368760</td><td style = \"text-align: right;\">2399300</td><td style = \"text-align: right;\">4424200</td><td style = \"text-align: right;\">948200</td></tr><tr><td class = \"rowNumber\" style = \"font-weight: bold; text-align: right;\">13</td><td style = \"text-align: right;\">1972</td><td style = \"text-align: right;\">208230000</td><td style = \"text-align: right;\">834900</td><td style = \"text-align: right;\">7413900</td><td style = \"text-align: right;\">18670</td><td style = \"text-align: right;\">46850</td><td style = \"text-align: right;\">376290</td><td style = \"text-align: right;\">393090</td><td style = \"text-align: right;\">2375500</td><td style = \"text-align: right;\">4151200</td><td style = \"text-align: right;\">887200</td></tr><tr><td style = \"text-align: right;\">&vellip;</td><td style = \"text-align: right;\">&vellip;</td><td style = \"text-align: right;\">&vellip;</td><td style = \"text-align: right;\">&vellip;</td><td style = \"text-align: right;\">&vellip;</td><td style = \"text-align: right;\">&vellip;</td><td style = \"text-align: right;\">&vellip;</td><td style = \"text-align: right;\">&vellip;</td><td style = \"text-align: right;\">&vellip;</td><td style = \"text-align: right;\">&vellip;</td><td style = \"text-align: right;\">&vellip;</td><td style = \"text-align: right;\">&vellip;</td></tr><tr><td class = \"rowNumber\" style = \"font-weight: bold; text-align: right;\">44</td><td style = \"text-align: right;\">2003</td><td style = \"text-align: right;\">290690788</td><td style = \"text-align: right;\">1383676</td><td style = \"text-align: right;\">10442862</td><td style = \"text-align: right;\">16528</td><td style = \"text-align: right;\">93883</td><td style = \"text-align: right;\">414235</td><td style = \"text-align: right;\">859030</td><td style = \"text-align: right;\">2154834</td><td style = \"text-align: right;\">7026802</td><td style = \"text-align: right;\">1261226</td></tr><tr><td class = \"rowNumber\" style = \"font-weight: bold; text-align: right;\">45</td><td style = \"text-align: right;\">2004</td><td style = \"text-align: right;\">293656842</td><td style = \"text-align: right;\">1360088</td><td style = \"text-align: right;\">10319386</td><td style = \"text-align: right;\">16148</td><td style = \"text-align: right;\">95089</td><td style = \"text-align: right;\">401470</td><td style = \"text-align: right;\">847381</td><td style = \"text-align: right;\">2144446</td><td style = \"text-align: right;\">6937089</td><td style = \"text-align: right;\">1237851</td></tr><tr><td class = \"rowNumber\" style = \"font-weight: bold; text-align: right;\">46</td><td style = \"text-align: right;\">2005</td><td style = \"text-align: right;\">296507061</td><td style = \"text-align: right;\">1390745</td><td style = \"text-align: right;\">10174754</td><td style = \"text-align: right;\">16740</td><td style = \"text-align: right;\">94347</td><td style = \"text-align: right;\">417438</td><td style = \"text-align: right;\">862220</td><td style = \"text-align: right;\">2155448</td><td style = \"text-align: right;\">6783447</td><td style = \"text-align: right;\">1235859</td></tr><tr><td class = \"rowNumber\" style = \"font-weight: bold; text-align: right;\">47</td><td style = \"text-align: right;\">2006</td><td style = \"text-align: right;\">299398484</td><td style = \"text-align: right;\">1418043</td><td style = \"text-align: right;\">9983568</td><td style = \"text-align: right;\">17030</td><td style = \"text-align: right;\">92757</td><td style = \"text-align: right;\">447403</td><td style = \"text-align: right;\">860853</td><td style = \"text-align: right;\">2183746</td><td style = \"text-align: right;\">6607013</td><td style = \"text-align: right;\">1192809</td></tr><tr><td class = \"rowNumber\" style = \"font-weight: bold; text-align: right;\">48</td><td style = \"text-align: right;\">2007</td><td style = \"text-align: right;\">301621157</td><td style = \"text-align: right;\">1408337</td><td style = \"text-align: right;\">9843481</td><td style = \"text-align: right;\">16929</td><td style = \"text-align: right;\">90427</td><td style = \"text-align: right;\">445125</td><td style = \"text-align: right;\">855856</td><td style = \"text-align: right;\">2176140</td><td style = \"text-align: right;\">6568572</td><td style = \"text-align: right;\">1095769</td></tr><tr><td class = \"rowNumber\" style = \"font-weight: bold; text-align: right;\">49</td><td style = \"text-align: right;\">2008</td><td style = \"text-align: right;\">304374846</td><td style = \"text-align: right;\">1392628</td><td style = \"text-align: right;\">9767915</td><td style = \"text-align: right;\">16442</td><td style = \"text-align: right;\">90479</td><td style = \"text-align: right;\">443574</td><td style = \"text-align: right;\">842134</td><td style = \"text-align: right;\">2228474</td><td style = \"text-align: right;\">6588046</td><td style = \"text-align: right;\">958629</td></tr><tr><td class = \"rowNumber\" style = \"font-weight: bold; text-align: right;\">50</td><td style = \"text-align: right;\">2009</td><td style = \"text-align: right;\">307006550</td><td style = \"text-align: right;\">1325896</td><td style = \"text-align: right;\">9337060</td><td style = \"text-align: right;\">15399</td><td style = \"text-align: right;\">89241</td><td style = \"text-align: right;\">408742</td><td style = \"text-align: right;\">812514</td><td style = \"text-align: right;\">2203313</td><td style = \"text-align: right;\">6338095</td><td style = \"text-align: right;\">795652</td></tr><tr><td class = \"rowNumber\" style = \"font-weight: bold; text-align: right;\">51</td><td style = \"text-align: right;\">2010</td><td style = \"text-align: right;\">309330219</td><td style = \"text-align: right;\">1251248</td><td style = \"text-align: right;\">9112625</td><td style = \"text-align: right;\">14772</td><td style = \"text-align: right;\">85593</td><td style = \"text-align: right;\">369089</td><td style = \"text-align: right;\">781844</td><td style = \"text-align: right;\">2168457</td><td style = \"text-align: right;\">6204601</td><td style = \"text-align: right;\">739565</td></tr><tr><td class = \"rowNumber\" style = \"font-weight: bold; text-align: right;\">52</td><td style = \"text-align: right;\">2011</td><td style = \"text-align: right;\">311587816</td><td style = \"text-align: right;\">1206031</td><td style = \"text-align: right;\">9052743</td><td style = \"text-align: right;\">14661</td><td style = \"text-align: right;\">84175</td><td style = \"text-align: right;\">354772</td><td style = \"text-align: right;\">752423</td><td style = \"text-align: right;\">2185140</td><td style = \"text-align: right;\">6151095</td><td style = \"text-align: right;\">716508</td></tr><tr><td class = \"rowNumber\" style = \"font-weight: bold; text-align: right;\">53</td><td style = \"text-align: right;\">2012</td><td style = \"text-align: right;\">313873685</td><td style = \"text-align: right;\">1217067</td><td style = \"text-align: right;\">9001992</td><td style = \"text-align: right;\">14866</td><td style = \"text-align: right;\">85141</td><td style = \"text-align: right;\">355051</td><td style = \"text-align: right;\">762009</td><td style = \"text-align: right;\">2109932</td><td style = \"text-align: right;\">6168874</td><td style = \"text-align: right;\">723186</td></tr><tr><td class = \"rowNumber\" style = \"font-weight: bold; text-align: right;\">54</td><td style = \"text-align: right;\">2013</td><td style = \"text-align: right;\">316497531</td><td style = \"text-align: right;\">1199684</td><td style = \"text-align: right;\">8650761</td><td style = \"text-align: right;\">14319</td><td style = \"text-align: right;\">82109</td><td style = \"text-align: right;\">345095</td><td style = \"text-align: right;\">726575</td><td style = \"text-align: right;\">1931835</td><td style = \"text-align: right;\">6018632</td><td style = \"text-align: right;\">700294</td></tr><tr><td class = \"rowNumber\" style = \"font-weight: bold; text-align: right;\">55</td><td style = \"text-align: right;\">2014</td><td style = \"text-align: right;\">318857056</td><td style = \"text-align: right;\">1197987</td><td style = \"text-align: right;\">8277829</td><td style = \"text-align: right;\">14249</td><td style = \"text-align: right;\">84041</td><td style = \"text-align: right;\">325802</td><td style = \"text-align: right;\">741291</td><td style = \"text-align: right;\">1729806</td><td style = \"text-align: right;\">5858496</td><td style = \"text-align: right;\">689527</td></tr></tbody></table></div>"
      ],
      "text/latex": [
       "\\begin{tabular}{r|ccccccccc}\n",
       "\t& Year & Population & Violent & Property & Murder & Forcible\\_Rape & Robbery & Aggravated\\_assault & \\\\\n",
       "\t\\hline\n",
       "\t& Int64 & Int64 & Int64 & Int64 & Int64 & Int64 & Int64 & Int64 & \\\\\n",
       "\t\\hline\n",
       "\t1 & 1960 & 179323175 & 288460 & 3095700 & 9110 & 17190 & 107840 & 154320 & $\\dots$ \\\\\n",
       "\t2 & 1961 & 182992000 & 289390 & 3198600 & 8740 & 17220 & 106670 & 156760 & $\\dots$ \\\\\n",
       "\t3 & 1962 & 185771000 & 301510 & 3450700 & 8530 & 17550 & 110860 & 164570 & $\\dots$ \\\\\n",
       "\t4 & 1963 & 188483000 & 316970 & 3792500 & 8640 & 17650 & 116470 & 174210 & $\\dots$ \\\\\n",
       "\t5 & 1964 & 191141000 & 364220 & 4200400 & 9360 & 21420 & 130390 & 203050 & $\\dots$ \\\\\n",
       "\t6 & 1965 & 193526000 & 387390 & 4352000 & 9960 & 23410 & 138690 & 215330 & $\\dots$ \\\\\n",
       "\t7 & 1966 & 195576000 & 430180 & 4793300 & 11040 & 25820 & 157990 & 235330 & $\\dots$ \\\\\n",
       "\t8 & 1967 & 197457000 & 499930 & 5403500 & 12240 & 27620 & 202910 & 257160 & $\\dots$ \\\\\n",
       "\t9 & 1968 & 199399000 & 595010 & 6125200 & 13800 & 31670 & 262840 & 286700 & $\\dots$ \\\\\n",
       "\t10 & 1969 & 201385000 & 661870 & 6749000 & 14760 & 37170 & 298850 & 311090 & $\\dots$ \\\\\n",
       "\t11 & 1970 & 203235298 & 738820 & 7359200 & 16000 & 37990 & 349860 & 334970 & $\\dots$ \\\\\n",
       "\t12 & 1971 & 206212000 & 816500 & 7771700 & 17780 & 42260 & 387700 & 368760 & $\\dots$ \\\\\n",
       "\t13 & 1972 & 208230000 & 834900 & 7413900 & 18670 & 46850 & 376290 & 393090 & $\\dots$ \\\\\n",
       "\t14 & 1973 & 209851000 & 875910 & 7842200 & 19640 & 51400 & 384220 & 420650 & $\\dots$ \\\\\n",
       "\t15 & 1974 & 211392000 & 974720 & 9278700 & 20710 & 55400 & 442400 & 456210 & $\\dots$ \\\\\n",
       "\t16 & 1975 & 213124000 & 1039710 & 10252700 & 20510 & 56090 & 470500 & 492620 & $\\dots$ \\\\\n",
       "\t17 & 1976 & 214659000 & 1004210 & 10345500 & 18780 & 57080 & 427810 & 500530 & $\\dots$ \\\\\n",
       "\t18 & 1977 & 216332000 & 1029580 & 9955000 & 19120 & 63500 & 412610 & 534350 & $\\dots$ \\\\\n",
       "\t19 & 1978 & 218059000 & 1085550 & 10123400 & 19560 & 67610 & 426930 & 571460 & $\\dots$ \\\\\n",
       "\t20 & 1979 & 220099000 & 1208030 & 11041500 & 21460 & 76390 & 480700 & 629480 & $\\dots$ \\\\\n",
       "\t21 & 1980 & 225349264 & 1344520 & 12063700 & 23040 & 82990 & 565840 & 672650 & $\\dots$ \\\\\n",
       "\t22 & 1981 & 229146000 & 1361820 & 12061900 & 22520 & 82500 & 592910 & 663900 & $\\dots$ \\\\\n",
       "\t23 & 1982 & 231534000 & 1322390 & 11652000 & 21010 & 78770 & 553130 & 669480 & $\\dots$ \\\\\n",
       "\t24 & 1983 & 233981000 & 1258090 & 10850500 & 19310 & 78920 & 506570 & 653290 & $\\dots$ \\\\\n",
       "\t$\\dots$ & $\\dots$ & $\\dots$ & $\\dots$ & $\\dots$ & $\\dots$ & $\\dots$ & $\\dots$ & $\\dots$ &  \\\\\n",
       "\\end{tabular}\n"
      ],
      "text/plain": [
       "\u001b[1m55×11 DataFrame\u001b[0m\n",
       "\u001b[1m Row \u001b[0m│\u001b[1m Year  \u001b[0m\u001b[1m Population \u001b[0m\u001b[1m Violent \u001b[0m\u001b[1m Property \u001b[0m\u001b[1m Murder \u001b[0m\u001b[1m Forcible_Rape \u001b[0m\u001b[1m Robbery \u001b[0m\u001b[1m A\u001b[0m ⋯\n",
       "     │\u001b[90m Int64 \u001b[0m\u001b[90m Int64      \u001b[0m\u001b[90m Int64   \u001b[0m\u001b[90m Int64    \u001b[0m\u001b[90m Int64  \u001b[0m\u001b[90m Int64         \u001b[0m\u001b[90m Int64   \u001b[0m\u001b[90m I\u001b[0m ⋯\n",
       "─────┼──────────────────────────────────────────────────────────────────────────\n",
       "   1 │  1960   179323175   288460   3095700    9110          17190   107840    ⋯\n",
       "   2 │  1961   182992000   289390   3198600    8740          17220   106670\n",
       "   3 │  1962   185771000   301510   3450700    8530          17550   110860\n",
       "   4 │  1963   188483000   316970   3792500    8640          17650   116470\n",
       "   5 │  1964   191141000   364220   4200400    9360          21420   130390    ⋯\n",
       "   6 │  1965   193526000   387390   4352000    9960          23410   138690\n",
       "   7 │  1966   195576000   430180   4793300   11040          25820   157990\n",
       "   8 │  1967   197457000   499930   5403500   12240          27620   202910\n",
       "  ⋮  │   ⋮        ⋮          ⋮        ⋮        ⋮           ⋮           ⋮       ⋱\n",
       "  49 │  2008   304374846  1392628   9767915   16442          90479   443574    ⋯\n",
       "  50 │  2009   307006550  1325896   9337060   15399          89241   408742\n",
       "  51 │  2010   309330219  1251248   9112625   14772          85593   369089\n",
       "  52 │  2011   311587816  1206031   9052743   14661          84175   354772\n",
       "  53 │  2012   313873685  1217067   9001992   14866          85141   355051    ⋯\n",
       "  54 │  2013   316497531  1199684   8650761   14319          82109   345095\n",
       "  55 │  2014   318857056  1197987   8277829   14249          84041   325802\n",
       "\u001b[36m                                                   4 columns and 40 rows omitted\u001b[0m"
      ]
     },
     "metadata": {},
     "output_type": "display_data"
    }
   ],
   "source": []
  },
  {
   "cell_type": "markdown",
   "metadata": {},
   "source": [
    "### Step 7. Group the year by decades and sum the values\n",
    "\n",
    "#### Pay attention to the Population column number, summing this column is a mistake"
   ]
  },
  {
   "cell_type": "code",
   "execution_count": 5,
   "metadata": {},
   "outputs": [
    {
     "data": {
      "text/html": [
       "<div><div style = \"float: left;\"><span>6×10 DataFrame</span></div><div style = \"clear: both;\"></div></div><div class = \"data-frame\" style = \"overflow-x: scroll;\"><table class = \"data-frame\" style = \"margin-bottom: 6px;\"><thead><tr class = \"header\"><th class = \"rowNumber\" style = \"font-weight: bold; text-align: right;\">Row</th><th style = \"text-align: left;\">Decade</th><th style = \"text-align: left;\">Violent_sum</th><th style = \"text-align: left;\">Property_sum</th><th style = \"text-align: left;\">Murder_sum</th><th style = \"text-align: left;\">Forcible_Rape_sum</th><th style = \"text-align: left;\">Robbery_sum</th><th style = \"text-align: left;\">Aggravated_assault_sum</th><th style = \"text-align: left;\">Burglary_sum</th><th style = \"text-align: left;\">Larceny_Theft_sum</th><th style = \"text-align: left;\">Vehicle_Theft_sum</th></tr><tr class = \"subheader headerLastRow\"><th class = \"rowNumber\" style = \"font-weight: bold; text-align: right;\"></th><th title = \"Int64\" style = \"text-align: left;\">Int64</th><th title = \"Int64\" style = \"text-align: left;\">Int64</th><th title = \"Int64\" style = \"text-align: left;\">Int64</th><th title = \"Int64\" style = \"text-align: left;\">Int64</th><th title = \"Int64\" style = \"text-align: left;\">Int64</th><th title = \"Int64\" style = \"text-align: left;\">Int64</th><th title = \"Int64\" style = \"text-align: left;\">Int64</th><th title = \"Int64\" style = \"text-align: left;\">Int64</th><th title = \"Int64\" style = \"text-align: left;\">Int64</th><th title = \"Int64\" style = \"text-align: left;\">Int64</th></tr></thead><tbody><tr><td class = \"rowNumber\" style = \"font-weight: bold; text-align: right;\">1</td><td style = \"text-align: right;\">1960</td><td style = \"text-align: right;\">4134930</td><td style = \"text-align: right;\">45160900</td><td style = \"text-align: right;\">106180</td><td style = \"text-align: right;\">236720</td><td style = \"text-align: right;\">1633510</td><td style = \"text-align: right;\">2158520</td><td style = \"text-align: right;\">13321100</td><td style = \"text-align: right;\">26547700</td><td style = \"text-align: right;\">5292100</td></tr><tr><td class = \"rowNumber\" style = \"font-weight: bold; text-align: right;\">2</td><td style = \"text-align: right;\">1970</td><td style = \"text-align: right;\">9607930</td><td style = \"text-align: right;\">91383800</td><td style = \"text-align: right;\">192230</td><td style = \"text-align: right;\">554570</td><td style = \"text-align: right;\">4159020</td><td style = \"text-align: right;\">4702120</td><td style = \"text-align: right;\">28486000</td><td style = \"text-align: right;\">53157800</td><td style = \"text-align: right;\">9739900</td></tr><tr><td class = \"rowNumber\" style = \"font-weight: bold; text-align: right;\">3</td><td style = \"text-align: right;\">1980</td><td style = \"text-align: right;\">14074328</td><td style = \"text-align: right;\">117048900</td><td style = \"text-align: right;\">206439</td><td style = \"text-align: right;\">865639</td><td style = \"text-align: right;\">5383109</td><td style = \"text-align: right;\">7619130</td><td style = \"text-align: right;\">33073494</td><td style = \"text-align: right;\">72040253</td><td style = \"text-align: right;\">11935411</td></tr><tr><td class = \"rowNumber\" style = \"font-weight: bold; text-align: right;\">4</td><td style = \"text-align: right;\">1990</td><td style = \"text-align: right;\">17527048</td><td style = \"text-align: right;\">119053499</td><td style = \"text-align: right;\">211664</td><td style = \"text-align: right;\">998827</td><td style = \"text-align: right;\">5748930</td><td style = \"text-align: right;\">10568963</td><td style = \"text-align: right;\">26750015</td><td style = \"text-align: right;\">77679366</td><td style = \"text-align: right;\">14624418</td></tr><tr><td class = \"rowNumber\" style = \"font-weight: bold; text-align: right;\">5</td><td style = \"text-align: right;\">2000</td><td style = \"text-align: right;\">13968056</td><td style = \"text-align: right;\">100944369</td><td style = \"text-align: right;\">163068</td><td style = \"text-align: right;\">922499</td><td style = \"text-align: right;\">4230366</td><td style = \"text-align: right;\">8652124</td><td style = \"text-align: right;\">21565176</td><td style = \"text-align: right;\">67970291</td><td style = \"text-align: right;\">11412834</td></tr><tr><td class = \"rowNumber\" style = \"font-weight: bold; text-align: right;\">6</td><td style = \"text-align: right;\">2010</td><td style = \"text-align: right;\">6072017</td><td style = \"text-align: right;\">44095950</td><td style = \"text-align: right;\">72867</td><td style = \"text-align: right;\">421059</td><td style = \"text-align: right;\">1749809</td><td style = \"text-align: right;\">3764142</td><td style = \"text-align: right;\">10125170</td><td style = \"text-align: right;\">30401698</td><td style = \"text-align: right;\">3569080</td></tr></tbody></table></div>"
      ],
      "text/latex": [
       "\\begin{tabular}{r|cccccccc}\n",
       "\t& Decade & Violent\\_sum & Property\\_sum & Murder\\_sum & Forcible\\_Rape\\_sum & Robbery\\_sum & Aggravated\\_assault\\_sum & \\\\\n",
       "\t\\hline\n",
       "\t& Int64 & Int64 & Int64 & Int64 & Int64 & Int64 & Int64 & \\\\\n",
       "\t\\hline\n",
       "\t1 & 1960 & 4134930 & 45160900 & 106180 & 236720 & 1633510 & 2158520 & $\\dots$ \\\\\n",
       "\t2 & 1970 & 9607930 & 91383800 & 192230 & 554570 & 4159020 & 4702120 & $\\dots$ \\\\\n",
       "\t3 & 1980 & 14074328 & 117048900 & 206439 & 865639 & 5383109 & 7619130 & $\\dots$ \\\\\n",
       "\t4 & 1990 & 17527048 & 119053499 & 211664 & 998827 & 5748930 & 10568963 & $\\dots$ \\\\\n",
       "\t5 & 2000 & 13968056 & 100944369 & 163068 & 922499 & 4230366 & 8652124 & $\\dots$ \\\\\n",
       "\t6 & 2010 & 6072017 & 44095950 & 72867 & 421059 & 1749809 & 3764142 & $\\dots$ \\\\\n",
       "\\end{tabular}\n"
      ],
      "text/plain": [
       "\u001b[1m6×10 DataFrame\u001b[0m\n",
       "\u001b[1m Row \u001b[0m│\u001b[1m Decade \u001b[0m\u001b[1m Violent_sum \u001b[0m\u001b[1m Property_sum \u001b[0m\u001b[1m Murder_sum \u001b[0m\u001b[1m Forcible_Rape_sum \u001b[0m\u001b[1m Robbe\u001b[0m ⋯\n",
       "     │\u001b[90m Int64  \u001b[0m\u001b[90m Int64       \u001b[0m\u001b[90m Int64        \u001b[0m\u001b[90m Int64      \u001b[0m\u001b[90m Int64             \u001b[0m\u001b[90m Int64\u001b[0m ⋯\n",
       "─────┼──────────────────────────────────────────────────────────────────────────\n",
       "   1 │   1960      4134930      45160900      106180             236720      1 ⋯\n",
       "   2 │   1970      9607930      91383800      192230             554570      4\n",
       "   3 │   1980     14074328     117048900      206439             865639      5\n",
       "   4 │   1990     17527048     119053499      211664             998827      5\n",
       "   5 │   2000     13968056     100944369      163068             922499      4 ⋯\n",
       "   6 │   2010      6072017      44095950       72867             421059      1\n",
       "\u001b[36m                                                               5 columns omitted\u001b[0m"
      ]
     },
     "metadata": {},
     "output_type": "display_data"
    }
   ],
   "source": []
  },
  {
   "cell_type": "markdown",
   "metadata": {},
   "source": [
    "### Step 8. What is the most dangerous decade to live in the US per Crime?"
   ]
  },
  {
   "cell_type": "code",
   "execution_count": 19,
   "metadata": {},
   "outputs": [
    {
     "name": "stdout",
     "output_type": "stream",
     "text": [
      "Violent: 1990\n",
      "Property: 1990\n",
      "Murder: 1990\n",
      "Forcible_Rape: 1990\n",
      "Robbery: 1990\n",
      "Aggravated_assault: 1990\n",
      "Burglary: 1980\n",
      "Larceny_Theft: 1990\n",
      "Vehicle_Theft: 1990\n"
     ]
    }
   ],
   "source": []
  },
  {
   "cell_type": "markdown",
   "metadata": {},
   "source": [
    "### Step 9. What is the most dangerous decade to live in the US?"
   ]
  },
  {
   "cell_type": "code",
   "execution_count": 45,
   "metadata": {
    "collapsed": false
   },
   "outputs": [
    {
     "data": {
      "text/html": [
       "<div><div style = \"float: left;\"><span>6×11 DataFrame</span></div><div style = \"clear: both;\"></div></div><div class = \"data-frame\" style = \"overflow-x: scroll;\"><table class = \"data-frame\" style = \"margin-bottom: 6px;\"><thead><tr class = \"header\"><th class = \"rowNumber\" style = \"font-weight: bold; text-align: right;\">Row</th><th style = \"text-align: left;\">Decade</th><th style = \"text-align: left;\">Violent_sum</th><th style = \"text-align: left;\">Property_sum</th><th style = \"text-align: left;\">Murder_sum</th><th style = \"text-align: left;\">Forcible_Rape_sum</th><th style = \"text-align: left;\">Robbery_sum</th><th style = \"text-align: left;\">Aggravated_assault_sum</th><th style = \"text-align: left;\">Burglary_sum</th><th style = \"text-align: left;\">Larceny_Theft_sum</th><th style = \"text-align: left;\">Vehicle_Theft_sum</th><th style = \"text-align: left;\">total_crime</th></tr><tr class = \"subheader headerLastRow\"><th class = \"rowNumber\" style = \"font-weight: bold; text-align: right;\"></th><th title = \"Int64\" style = \"text-align: left;\">Int64</th><th title = \"Int64\" style = \"text-align: left;\">Int64</th><th title = \"Int64\" style = \"text-align: left;\">Int64</th><th title = \"Int64\" style = \"text-align: left;\">Int64</th><th title = \"Int64\" style = \"text-align: left;\">Int64</th><th title = \"Int64\" style = \"text-align: left;\">Int64</th><th title = \"Int64\" style = \"text-align: left;\">Int64</th><th title = \"Int64\" style = \"text-align: left;\">Int64</th><th title = \"Int64\" style = \"text-align: left;\">Int64</th><th title = \"Int64\" style = \"text-align: left;\">Int64</th><th title = \"Int64\" style = \"text-align: left;\">Int64</th></tr></thead><tbody><tr><td class = \"rowNumber\" style = \"font-weight: bold; text-align: right;\">1</td><td style = \"text-align: right;\">1990</td><td style = \"text-align: right;\">17527048</td><td style = \"text-align: right;\">119053499</td><td style = \"text-align: right;\">211664</td><td style = \"text-align: right;\">998827</td><td style = \"text-align: right;\">5748930</td><td style = \"text-align: right;\">10568963</td><td style = \"text-align: right;\">26750015</td><td style = \"text-align: right;\">77679366</td><td style = \"text-align: right;\">14624418</td><td style = \"text-align: right;\">273162730</td></tr><tr><td class = \"rowNumber\" style = \"font-weight: bold; text-align: right;\">2</td><td style = \"text-align: right;\">1980</td><td style = \"text-align: right;\">14074328</td><td style = \"text-align: right;\">117048900</td><td style = \"text-align: right;\">206439</td><td style = \"text-align: right;\">865639</td><td style = \"text-align: right;\">5383109</td><td style = \"text-align: right;\">7619130</td><td style = \"text-align: right;\">33073494</td><td style = \"text-align: right;\">72040253</td><td style = \"text-align: right;\">11935411</td><td style = \"text-align: right;\">262246703</td></tr><tr><td class = \"rowNumber\" style = \"font-weight: bold; text-align: right;\">3</td><td style = \"text-align: right;\">2000</td><td style = \"text-align: right;\">13968056</td><td style = \"text-align: right;\">100944369</td><td style = \"text-align: right;\">163068</td><td style = \"text-align: right;\">922499</td><td style = \"text-align: right;\">4230366</td><td style = \"text-align: right;\">8652124</td><td style = \"text-align: right;\">21565176</td><td style = \"text-align: right;\">67970291</td><td style = \"text-align: right;\">11412834</td><td style = \"text-align: right;\">229828783</td></tr><tr><td class = \"rowNumber\" style = \"font-weight: bold; text-align: right;\">4</td><td style = \"text-align: right;\">1970</td><td style = \"text-align: right;\">9607930</td><td style = \"text-align: right;\">91383800</td><td style = \"text-align: right;\">192230</td><td style = \"text-align: right;\">554570</td><td style = \"text-align: right;\">4159020</td><td style = \"text-align: right;\">4702120</td><td style = \"text-align: right;\">28486000</td><td style = \"text-align: right;\">53157800</td><td style = \"text-align: right;\">9739900</td><td style = \"text-align: right;\">201983370</td></tr><tr><td class = \"rowNumber\" style = \"font-weight: bold; text-align: right;\">5</td><td style = \"text-align: right;\">2010</td><td style = \"text-align: right;\">6072017</td><td style = \"text-align: right;\">44095950</td><td style = \"text-align: right;\">72867</td><td style = \"text-align: right;\">421059</td><td style = \"text-align: right;\">1749809</td><td style = \"text-align: right;\">3764142</td><td style = \"text-align: right;\">10125170</td><td style = \"text-align: right;\">30401698</td><td style = \"text-align: right;\">3569080</td><td style = \"text-align: right;\">100271792</td></tr><tr><td class = \"rowNumber\" style = \"font-weight: bold; text-align: right;\">6</td><td style = \"text-align: right;\">1960</td><td style = \"text-align: right;\">4134930</td><td style = \"text-align: right;\">45160900</td><td style = \"text-align: right;\">106180</td><td style = \"text-align: right;\">236720</td><td style = \"text-align: right;\">1633510</td><td style = \"text-align: right;\">2158520</td><td style = \"text-align: right;\">13321100</td><td style = \"text-align: right;\">26547700</td><td style = \"text-align: right;\">5292100</td><td style = \"text-align: right;\">98591660</td></tr></tbody></table></div>"
      ],
      "text/latex": [
       "\\begin{tabular}{r|cccccccc}\n",
       "\t& Decade & Violent\\_sum & Property\\_sum & Murder\\_sum & Forcible\\_Rape\\_sum & Robbery\\_sum & Aggravated\\_assault\\_sum & \\\\\n",
       "\t\\hline\n",
       "\t& Int64 & Int64 & Int64 & Int64 & Int64 & Int64 & Int64 & \\\\\n",
       "\t\\hline\n",
       "\t1 & 1990 & 17527048 & 119053499 & 211664 & 998827 & 5748930 & 10568963 & $\\dots$ \\\\\n",
       "\t2 & 1980 & 14074328 & 117048900 & 206439 & 865639 & 5383109 & 7619130 & $\\dots$ \\\\\n",
       "\t3 & 2000 & 13968056 & 100944369 & 163068 & 922499 & 4230366 & 8652124 & $\\dots$ \\\\\n",
       "\t4 & 1970 & 9607930 & 91383800 & 192230 & 554570 & 4159020 & 4702120 & $\\dots$ \\\\\n",
       "\t5 & 2010 & 6072017 & 44095950 & 72867 & 421059 & 1749809 & 3764142 & $\\dots$ \\\\\n",
       "\t6 & 1960 & 4134930 & 45160900 & 106180 & 236720 & 1633510 & 2158520 & $\\dots$ \\\\\n",
       "\\end{tabular}\n"
      ],
      "text/plain": [
       "\u001b[1m6×11 DataFrame\u001b[0m\n",
       "\u001b[1m Row \u001b[0m│\u001b[1m Decade \u001b[0m\u001b[1m Violent_sum \u001b[0m\u001b[1m Property_sum \u001b[0m\u001b[1m Murder_sum \u001b[0m\u001b[1m Forcible_Rape_sum \u001b[0m\u001b[1m Robbe\u001b[0m ⋯\n",
       "     │\u001b[90m Int64  \u001b[0m\u001b[90m Int64       \u001b[0m\u001b[90m Int64        \u001b[0m\u001b[90m Int64      \u001b[0m\u001b[90m Int64             \u001b[0m\u001b[90m Int64\u001b[0m ⋯\n",
       "─────┼──────────────────────────────────────────────────────────────────────────\n",
       "   1 │   1990     17527048     119053499      211664             998827      5 ⋯\n",
       "   2 │   1980     14074328     117048900      206439             865639      5\n",
       "   3 │   2000     13968056     100944369      163068             922499      4\n",
       "   4 │   1970      9607930      91383800      192230             554570      4\n",
       "   5 │   2010      6072017      44095950       72867             421059      1 ⋯\n",
       "   6 │   1960      4134930      45160900      106180             236720      1\n",
       "\u001b[36m                                                               6 columns omitted\u001b[0m"
      ]
     },
     "metadata": {},
     "output_type": "display_data"
    }
   ],
   "source": []
  }
 ],
 "metadata": {
  "anaconda-cloud": {},
  "kernelspec": {
   "display_name": "Julia 1.10.3",
   "language": "julia",
   "name": "julia-1.10"
  },
  "language_info": {
   "file_extension": ".jl",
   "mimetype": "application/julia",
   "name": "julia",
   "version": "1.10.3"
  }
 },
 "nbformat": 4,
 "nbformat_minor": 0
}
