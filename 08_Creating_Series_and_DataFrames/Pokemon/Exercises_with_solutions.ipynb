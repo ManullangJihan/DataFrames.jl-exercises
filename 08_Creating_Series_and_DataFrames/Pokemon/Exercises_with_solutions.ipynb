{
 "cells": [
  {
   "cell_type": "markdown",
   "metadata": {},
   "source": [
    "# Pokemon"
   ]
  },
  {
   "cell_type": "markdown",
   "metadata": {},
   "source": [
    "### Introduction:\n",
    "\n",
    "This time you will create the data.\n",
    "\n",
    "\n",
    "\n",
    "### Step 1. Import the necessary libraries"
   ]
  },
  {
   "cell_type": "code",
   "execution_count": null,
   "metadata": {
    "collapsed": false
   },
   "outputs": [],
   "source": [
    "using DotEnv\n",
    "using Pkg\n",
    "\n",
    "DotEnv.load!()\n",
    "path = ENV[\"ENV_PATH\"]\n",
    "Pkg.activate(path)\n",
    "\n",
    "using CSV\n",
    "using DataFrames\n",
    "using Plots\n",
    "using Statistics\n",
    "using Dates"
   ]
  },
  {
   "cell_type": "markdown",
   "metadata": {},
   "source": [
    "### Step 2. Create a data dictionary that looks like the DataFrame below"
   ]
  },
  {
   "cell_type": "code",
   "execution_count": 2,
   "metadata": {
    "collapsed": true
   },
   "outputs": [],
   "source": [
    "raw_data = Dict(\n",
    "    \"evolution\" => [\"Ivysaur\", \"Charmeleon\", \"Wartortle\", \"Metapod\"],\n",
    "    \"hp\" => [45, 39, 44, 45],\n",
    "    \"name\" => [\"Bulbasaur\", \"Charmander\", \"Squirtle\", \"Caterpie\"],\n",
    "    \"pokedex\" => [\"yes\", \"no\", \"yes\", \"no\"],\n",
    "    \"type\" => [\"grass\", \"fire\", \"water\", \"bug\"]\n",
    ");"
   ]
  },
  {
   "cell_type": "markdown",
   "metadata": {},
   "source": [
    "### Step 3. Assign it to a variable called pokemon"
   ]
  },
  {
   "cell_type": "code",
   "execution_count": 3,
   "metadata": {
    "collapsed": false
   },
   "outputs": [
    {
     "data": {
      "text/html": [
       "<div><div style = \"float: left;\"><span>4×5 DataFrame</span></div><div style = \"clear: both;\"></div></div><div class = \"data-frame\" style = \"overflow-x: scroll;\"><table class = \"data-frame\" style = \"margin-bottom: 6px;\"><thead><tr class = \"header\"><th class = \"rowNumber\" style = \"font-weight: bold; text-align: right;\">Row</th><th style = \"text-align: left;\">evolution</th><th style = \"text-align: left;\">hp</th><th style = \"text-align: left;\">name</th><th style = \"text-align: left;\">pokedex</th><th style = \"text-align: left;\">type</th></tr><tr class = \"subheader headerLastRow\"><th class = \"rowNumber\" style = \"font-weight: bold; text-align: right;\"></th><th title = \"String\" style = \"text-align: left;\">String</th><th title = \"Int64\" style = \"text-align: left;\">Int64</th><th title = \"String\" style = \"text-align: left;\">String</th><th title = \"String\" style = \"text-align: left;\">String</th><th title = \"String\" style = \"text-align: left;\">String</th></tr></thead><tbody><tr><td class = \"rowNumber\" style = \"font-weight: bold; text-align: right;\">1</td><td style = \"text-align: left;\">Ivysaur</td><td style = \"text-align: right;\">45</td><td style = \"text-align: left;\">Bulbasaur</td><td style = \"text-align: left;\">yes</td><td style = \"text-align: left;\">grass</td></tr><tr><td class = \"rowNumber\" style = \"font-weight: bold; text-align: right;\">2</td><td style = \"text-align: left;\">Charmeleon</td><td style = \"text-align: right;\">39</td><td style = \"text-align: left;\">Charmander</td><td style = \"text-align: left;\">no</td><td style = \"text-align: left;\">fire</td></tr><tr><td class = \"rowNumber\" style = \"font-weight: bold; text-align: right;\">3</td><td style = \"text-align: left;\">Wartortle</td><td style = \"text-align: right;\">44</td><td style = \"text-align: left;\">Squirtle</td><td style = \"text-align: left;\">yes</td><td style = \"text-align: left;\">water</td></tr><tr><td class = \"rowNumber\" style = \"font-weight: bold; text-align: right;\">4</td><td style = \"text-align: left;\">Metapod</td><td style = \"text-align: right;\">45</td><td style = \"text-align: left;\">Caterpie</td><td style = \"text-align: left;\">no</td><td style = \"text-align: left;\">bug</td></tr></tbody></table></div>"
      ],
      "text/latex": [
       "\\begin{tabular}{r|ccccc}\n",
       "\t& evolution & hp & name & pokedex & type\\\\\n",
       "\t\\hline\n",
       "\t& String & Int64 & String & String & String\\\\\n",
       "\t\\hline\n",
       "\t1 & Ivysaur & 45 & Bulbasaur & yes & grass \\\\\n",
       "\t2 & Charmeleon & 39 & Charmander & no & fire \\\\\n",
       "\t3 & Wartortle & 44 & Squirtle & yes & water \\\\\n",
       "\t4 & Metapod & 45 & Caterpie & no & bug \\\\\n",
       "\\end{tabular}\n"
      ],
      "text/plain": [
       "\u001b[1m4×5 DataFrame\u001b[0m\n",
       "\u001b[1m Row \u001b[0m│\u001b[1m evolution  \u001b[0m\u001b[1m hp    \u001b[0m\u001b[1m name       \u001b[0m\u001b[1m pokedex \u001b[0m\u001b[1m type   \u001b[0m\n",
       "     │\u001b[90m String     \u001b[0m\u001b[90m Int64 \u001b[0m\u001b[90m String     \u001b[0m\u001b[90m String  \u001b[0m\u001b[90m String \u001b[0m\n",
       "─────┼────────────────────────────────────────────────\n",
       "   1 │ Ivysaur        45  Bulbasaur   yes      grass\n",
       "   2 │ Charmeleon     39  Charmander  no       fire\n",
       "   3 │ Wartortle      44  Squirtle    yes      water\n",
       "   4 │ Metapod        45  Caterpie    no       bug"
      ]
     },
     "metadata": {},
     "output_type": "display_data"
    }
   ],
   "source": [
    "pokemon = DataFrame(raw_data)"
   ]
  },
  {
   "cell_type": "markdown",
   "metadata": {},
   "source": [
    "### Step 4. Ops...it seems the DataFrame columns are in alphabetical order. Place  the order of the columns as name, type, hp, evolution, pokedex"
   ]
  },
  {
   "cell_type": "code",
   "execution_count": 4,
   "metadata": {
    "collapsed": false
   },
   "outputs": [],
   "source": [
    "pokemon = pokemon[!, [\"name\", \"type\", \"hp\", \"evolution\", \"pokedex\"]];"
   ]
  },
  {
   "cell_type": "markdown",
   "metadata": {},
   "source": [
    "### Step 5. Add another column called place, and insert what you have in mind."
   ]
  },
  {
   "cell_type": "code",
   "execution_count": 5,
   "metadata": {
    "collapsed": false
   },
   "outputs": [],
   "source": [
    "pokemon[!, \"place\"] = [\"Medan\", \"Tembung\", \"Batam\", \"Daejon\"];"
   ]
  },
  {
   "cell_type": "markdown",
   "metadata": {},
   "source": [
    "### Step 6. Present the type of each column"
   ]
  },
  {
   "cell_type": "code",
   "execution_count": 6,
   "metadata": {
    "collapsed": false
   },
   "outputs": [
    {
     "data": {
      "text/plain": [
       "6-element Vector{DataType}:\n",
       " String\n",
       " String\n",
       " Int64\n",
       " String\n",
       " String\n",
       " String"
      ]
     },
     "metadata": {},
     "output_type": "display_data"
    }
   ],
   "source": [
    "eltype.(eachcol(pokemon))"
   ]
  },
  {
   "cell_type": "markdown",
   "metadata": {},
   "source": [
    "### BONUS: Create your own question and answer it."
   ]
  },
  {
   "cell_type": "code",
   "execution_count": 14,
   "metadata": {
    "collapsed": true
   },
   "outputs": [],
   "source": []
  }
 ],
 "metadata": {
  "kernelspec": {
   "display_name": "Julia 1.10.3",
   "language": "julia",
   "name": "julia-1.10"
  },
  "language_info": {
   "file_extension": ".jl",
   "mimetype": "application/julia",
   "name": "julia",
   "version": "1.10.3"
  }
 },
 "nbformat": 4,
 "nbformat_minor": 0
}
