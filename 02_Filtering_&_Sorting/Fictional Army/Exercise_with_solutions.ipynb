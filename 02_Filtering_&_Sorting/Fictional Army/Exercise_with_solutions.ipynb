{
 "cells": [
  {
   "cell_type": "markdown",
   "metadata": {},
   "source": [
    "# Fictional Army - Filtering and Sorting"
   ]
  },
  {
   "cell_type": "markdown",
   "metadata": {},
   "source": [
    "### Introduction:\n",
    "\n",
    "This exercise was inspired by this [page](http://chrisalbon.com/python/)\n",
    "\n",
    "Special thanks to: https://github.com/chrisalbon for sharing the dataset and materials.\n",
    "\n",
    "### Step 1. Import the necessary libraries"
   ]
  },
  {
   "cell_type": "code",
   "execution_count": null,
   "metadata": {},
   "outputs": [],
   "source": [
    "using DotEnv\n",
    "using Pkg\n",
    "\n",
    "DotEnv.load!()\n",
    "path = ENV[\"ENV_PATH\"]\n",
    "Pkg.activate(path)\n",
    "\n",
    "using CSV\n",
    "using DataFrames\n",
    "using Downloads\n",
    "using Statistics # mean, std"
   ]
  },
  {
   "cell_type": "markdown",
   "metadata": {},
   "source": [
    "### Step 2. This is the data given as a dictionary"
   ]
  },
  {
   "cell_type": "code",
   "execution_count": 2,
   "metadata": {
    "collapsed": true
   },
   "outputs": [
    {
     "data": {
      "text/plain": [
       "Dict{String, Vector} with 10 entries:\n",
       "  \"deaths\"    => [523, 52, 25, 616, 43, 234, 523, 62, 62, 73, 37, 35]\n",
       "  \"battles\"   => [5, 42, 2, 2, 4, 7, 8, 3, 4, 7, 8, 9]\n",
       "  \"veterans\"  => [1, 5, 62, 26, 73, 37, 949, 48, 48, 435, 63, 345]\n",
       "  \"company\"   => [\"1st\", \"1st\", \"2nd\", \"2nd\", \"1st\", \"1st\", \"2nd\", \"2nd\", \"1st\"…\n",
       "  \"armored\"   => [1, 0, 1, 1, 0, 1, 0, 1, 0, 0, 1, 1]\n",
       "  \"regiment\"  => [\"Nighthawks\", \"Nighthawks\", \"Nighthawks\", \"Nighthawks\", \"Drag…\n",
       "  \"size\"      => [1045, 957, 1099, 1400, 1592, 1006, 987, 849, 973, 1005, 1099,…\n",
       "  \"readiness\" => [1, 2, 3, 3, 2, 1, 2, 3, 2, 1, 2, 3]\n",
       "  \"deserters\" => [4, 24, 31, 2, 3, 4, 24, 31, 2, 3, 2, 3]\n",
       "  \"origin\"    => [\"Arizona\", \"California\", \"Texas\", \"Florida\", \"Maine\", \"Iowa\",…"
      ]
     },
     "metadata": {},
     "output_type": "display_data"
    }
   ],
   "source": [
    "# Create an example dataframe about a fictional army\n",
    "raw_data = Dict(\"regiment\" => String[\"Nighthawks\", \"Nighthawks\", \"Nighthawks\", \"Nighthawks\", \"Dragoons\", \"Dragoons\", \"Dragoons\", \"Dragoons\", \"Scouts\", \"Scouts\", \"Scouts\", \"Scouts\"],\n",
    "            \"company\" => String[\"1st\", \"1st\", \"2nd\", \"2nd\", \"1st\", \"1st\", \"2nd\", \"2nd\",\"1st\", \"1st\", \"2nd\", \"2nd\"],\n",
    "            \"deaths\"=> Int[523, 52, 25, 616, 43, 234, 523, 62, 62, 73, 37, 35],\n",
    "            \"battles\"=> Int[5, 42, 2, 2, 4, 7, 8, 3, 4, 7, 8, 9],\n",
    "            \"size\"=> Int[1045, 957, 1099, 1400, 1592, 1006, 987, 849, 973, 1005, 1099, 1523],\n",
    "            \"veterans\"=> Int[1, 5, 62, 26, 73, 37, 949, 48, 48, 435, 63, 345],\n",
    "            \"readiness\"=> Int[1, 2, 3, 3, 2, 1, 2, 3, 2, 1, 2, 3],\n",
    "            \"armored\"=> Int[1, 0, 1, 1, 0, 1, 0, 1, 0, 0, 1, 1],\n",
    "            \"deserters\"=> Int[4, 24, 31, 2, 3, 4, 24, 31, 2, 3, 2, 3],\n",
    "            \"origin\"=> String[\"Arizona\", \"California\", \"Texas\", \"Florida\", \"Maine\", \"Iowa\", \"Alaska\", \"Washington\", \"Oregon\", \"Wyoming\", \"Louisana\", \"Georgia\"])"
   ]
  },
  {
   "cell_type": "markdown",
   "metadata": {},
   "source": [
    "### Step 3. Create a dataframe and assign it to a variable called army."
   ]
  },
  {
   "cell_type": "code",
   "execution_count": 3,
   "metadata": {},
   "outputs": [
    {
     "data": {
      "text/html": [
       "<div><div style = \"float: left;\"><span>12×10 DataFrame</span></div><div style = \"clear: both;\"></div></div><div class = \"data-frame\" style = \"overflow-x: scroll;\"><table class = \"data-frame\" style = \"margin-bottom: 6px;\"><thead><tr class = \"header\"><th class = \"rowNumber\" style = \"font-weight: bold; text-align: right;\">Row</th><th style = \"text-align: left;\">armored</th><th style = \"text-align: left;\">battles</th><th style = \"text-align: left;\">company</th><th style = \"text-align: left;\">deaths</th><th style = \"text-align: left;\">deserters</th><th style = \"text-align: left;\">origin</th><th style = \"text-align: left;\">readiness</th><th style = \"text-align: left;\">regiment</th><th style = \"text-align: left;\">size</th><th style = \"text-align: left;\">veterans</th></tr><tr class = \"subheader headerLastRow\"><th class = \"rowNumber\" style = \"font-weight: bold; text-align: right;\"></th><th title = \"Int64\" style = \"text-align: left;\">Int64</th><th title = \"Int64\" style = \"text-align: left;\">Int64</th><th title = \"String\" style = \"text-align: left;\">String</th><th title = \"Int64\" style = \"text-align: left;\">Int64</th><th title = \"Int64\" style = \"text-align: left;\">Int64</th><th title = \"String\" style = \"text-align: left;\">String</th><th title = \"Int64\" style = \"text-align: left;\">Int64</th><th title = \"String\" style = \"text-align: left;\">String</th><th title = \"Int64\" style = \"text-align: left;\">Int64</th><th title = \"Int64\" style = \"text-align: left;\">Int64</th></tr></thead><tbody><tr><td class = \"rowNumber\" style = \"font-weight: bold; text-align: right;\">1</td><td style = \"text-align: right;\">1</td><td style = \"text-align: right;\">5</td><td style = \"text-align: left;\">1st</td><td style = \"text-align: right;\">523</td><td style = \"text-align: right;\">4</td><td style = \"text-align: left;\">Arizona</td><td style = \"text-align: right;\">1</td><td style = \"text-align: left;\">Nighthawks</td><td style = \"text-align: right;\">1045</td><td style = \"text-align: right;\">1</td></tr><tr><td class = \"rowNumber\" style = \"font-weight: bold; text-align: right;\">2</td><td style = \"text-align: right;\">0</td><td style = \"text-align: right;\">42</td><td style = \"text-align: left;\">1st</td><td style = \"text-align: right;\">52</td><td style = \"text-align: right;\">24</td><td style = \"text-align: left;\">California</td><td style = \"text-align: right;\">2</td><td style = \"text-align: left;\">Nighthawks</td><td style = \"text-align: right;\">957</td><td style = \"text-align: right;\">5</td></tr><tr><td class = \"rowNumber\" style = \"font-weight: bold; text-align: right;\">3</td><td style = \"text-align: right;\">1</td><td style = \"text-align: right;\">2</td><td style = \"text-align: left;\">2nd</td><td style = \"text-align: right;\">25</td><td style = \"text-align: right;\">31</td><td style = \"text-align: left;\">Texas</td><td style = \"text-align: right;\">3</td><td style = \"text-align: left;\">Nighthawks</td><td style = \"text-align: right;\">1099</td><td style = \"text-align: right;\">62</td></tr><tr><td class = \"rowNumber\" style = \"font-weight: bold; text-align: right;\">4</td><td style = \"text-align: right;\">1</td><td style = \"text-align: right;\">2</td><td style = \"text-align: left;\">2nd</td><td style = \"text-align: right;\">616</td><td style = \"text-align: right;\">2</td><td style = \"text-align: left;\">Florida</td><td style = \"text-align: right;\">3</td><td style = \"text-align: left;\">Nighthawks</td><td style = \"text-align: right;\">1400</td><td style = \"text-align: right;\">26</td></tr><tr><td class = \"rowNumber\" style = \"font-weight: bold; text-align: right;\">5</td><td style = \"text-align: right;\">0</td><td style = \"text-align: right;\">4</td><td style = \"text-align: left;\">1st</td><td style = \"text-align: right;\">43</td><td style = \"text-align: right;\">3</td><td style = \"text-align: left;\">Maine</td><td style = \"text-align: right;\">2</td><td style = \"text-align: left;\">Dragoons</td><td style = \"text-align: right;\">1592</td><td style = \"text-align: right;\">73</td></tr><tr><td class = \"rowNumber\" style = \"font-weight: bold; text-align: right;\">6</td><td style = \"text-align: right;\">1</td><td style = \"text-align: right;\">7</td><td style = \"text-align: left;\">1st</td><td style = \"text-align: right;\">234</td><td style = \"text-align: right;\">4</td><td style = \"text-align: left;\">Iowa</td><td style = \"text-align: right;\">1</td><td style = \"text-align: left;\">Dragoons</td><td style = \"text-align: right;\">1006</td><td style = \"text-align: right;\">37</td></tr><tr><td class = \"rowNumber\" style = \"font-weight: bold; text-align: right;\">7</td><td style = \"text-align: right;\">0</td><td style = \"text-align: right;\">8</td><td style = \"text-align: left;\">2nd</td><td style = \"text-align: right;\">523</td><td style = \"text-align: right;\">24</td><td style = \"text-align: left;\">Alaska</td><td style = \"text-align: right;\">2</td><td style = \"text-align: left;\">Dragoons</td><td style = \"text-align: right;\">987</td><td style = \"text-align: right;\">949</td></tr><tr><td class = \"rowNumber\" style = \"font-weight: bold; text-align: right;\">8</td><td style = \"text-align: right;\">1</td><td style = \"text-align: right;\">3</td><td style = \"text-align: left;\">2nd</td><td style = \"text-align: right;\">62</td><td style = \"text-align: right;\">31</td><td style = \"text-align: left;\">Washington</td><td style = \"text-align: right;\">3</td><td style = \"text-align: left;\">Dragoons</td><td style = \"text-align: right;\">849</td><td style = \"text-align: right;\">48</td></tr><tr><td class = \"rowNumber\" style = \"font-weight: bold; text-align: right;\">9</td><td style = \"text-align: right;\">0</td><td style = \"text-align: right;\">4</td><td style = \"text-align: left;\">1st</td><td style = \"text-align: right;\">62</td><td style = \"text-align: right;\">2</td><td style = \"text-align: left;\">Oregon</td><td style = \"text-align: right;\">2</td><td style = \"text-align: left;\">Scouts</td><td style = \"text-align: right;\">973</td><td style = \"text-align: right;\">48</td></tr><tr><td class = \"rowNumber\" style = \"font-weight: bold; text-align: right;\">10</td><td style = \"text-align: right;\">0</td><td style = \"text-align: right;\">7</td><td style = \"text-align: left;\">1st</td><td style = \"text-align: right;\">73</td><td style = \"text-align: right;\">3</td><td style = \"text-align: left;\">Wyoming</td><td style = \"text-align: right;\">1</td><td style = \"text-align: left;\">Scouts</td><td style = \"text-align: right;\">1005</td><td style = \"text-align: right;\">435</td></tr><tr><td class = \"rowNumber\" style = \"font-weight: bold; text-align: right;\">11</td><td style = \"text-align: right;\">1</td><td style = \"text-align: right;\">8</td><td style = \"text-align: left;\">2nd</td><td style = \"text-align: right;\">37</td><td style = \"text-align: right;\">2</td><td style = \"text-align: left;\">Louisana</td><td style = \"text-align: right;\">2</td><td style = \"text-align: left;\">Scouts</td><td style = \"text-align: right;\">1099</td><td style = \"text-align: right;\">63</td></tr><tr><td class = \"rowNumber\" style = \"font-weight: bold; text-align: right;\">12</td><td style = \"text-align: right;\">1</td><td style = \"text-align: right;\">9</td><td style = \"text-align: left;\">2nd</td><td style = \"text-align: right;\">35</td><td style = \"text-align: right;\">3</td><td style = \"text-align: left;\">Georgia</td><td style = \"text-align: right;\">3</td><td style = \"text-align: left;\">Scouts</td><td style = \"text-align: right;\">1523</td><td style = \"text-align: right;\">345</td></tr></tbody></table></div>"
      ],
      "text/latex": [
       "\\begin{tabular}{r|ccccccccc}\n",
       "\t& armored & battles & company & deaths & deserters & origin & readiness & regiment & \\\\\n",
       "\t\\hline\n",
       "\t& Int64 & Int64 & String & Int64 & Int64 & String & Int64 & String & \\\\\n",
       "\t\\hline\n",
       "\t1 & 1 & 5 & 1st & 523 & 4 & Arizona & 1 & Nighthawks & $\\dots$ \\\\\n",
       "\t2 & 0 & 42 & 1st & 52 & 24 & California & 2 & Nighthawks & $\\dots$ \\\\\n",
       "\t3 & 1 & 2 & 2nd & 25 & 31 & Texas & 3 & Nighthawks & $\\dots$ \\\\\n",
       "\t4 & 1 & 2 & 2nd & 616 & 2 & Florida & 3 & Nighthawks & $\\dots$ \\\\\n",
       "\t5 & 0 & 4 & 1st & 43 & 3 & Maine & 2 & Dragoons & $\\dots$ \\\\\n",
       "\t6 & 1 & 7 & 1st & 234 & 4 & Iowa & 1 & Dragoons & $\\dots$ \\\\\n",
       "\t7 & 0 & 8 & 2nd & 523 & 24 & Alaska & 2 & Dragoons & $\\dots$ \\\\\n",
       "\t8 & 1 & 3 & 2nd & 62 & 31 & Washington & 3 & Dragoons & $\\dots$ \\\\\n",
       "\t9 & 0 & 4 & 1st & 62 & 2 & Oregon & 2 & Scouts & $\\dots$ \\\\\n",
       "\t10 & 0 & 7 & 1st & 73 & 3 & Wyoming & 1 & Scouts & $\\dots$ \\\\\n",
       "\t11 & 1 & 8 & 2nd & 37 & 2 & Louisana & 2 & Scouts & $\\dots$ \\\\\n",
       "\t12 & 1 & 9 & 2nd & 35 & 3 & Georgia & 3 & Scouts & $\\dots$ \\\\\n",
       "\\end{tabular}\n"
      ],
      "text/plain": [
       "\u001b[1m12×10 DataFrame\u001b[0m\n",
       "\u001b[1m Row \u001b[0m│\u001b[1m armored \u001b[0m\u001b[1m battles \u001b[0m\u001b[1m company \u001b[0m\u001b[1m deaths \u001b[0m\u001b[1m deserters \u001b[0m\u001b[1m origin     \u001b[0m\u001b[1m readiness \u001b[0m\u001b[1m re\u001b[0m ⋯\n",
       "     │\u001b[90m Int64   \u001b[0m\u001b[90m Int64   \u001b[0m\u001b[90m String  \u001b[0m\u001b[90m Int64  \u001b[0m\u001b[90m Int64     \u001b[0m\u001b[90m String     \u001b[0m\u001b[90m Int64     \u001b[0m\u001b[90m St\u001b[0m ⋯\n",
       "─────┼──────────────────────────────────────────────────────────────────────────\n",
       "   1 │       1        5  1st         523          4  Arizona             1  Ni ⋯\n",
       "   2 │       0       42  1st          52         24  California          2  Ni\n",
       "   3 │       1        2  2nd          25         31  Texas               3  Ni\n",
       "   4 │       1        2  2nd         616          2  Florida             3  Ni\n",
       "   5 │       0        4  1st          43          3  Maine               2  Dr ⋯\n",
       "   6 │       1        7  1st         234          4  Iowa                1  Dr\n",
       "   7 │       0        8  2nd         523         24  Alaska              2  Dr\n",
       "   8 │       1        3  2nd          62         31  Washington          3  Dr\n",
       "   9 │       0        4  1st          62          2  Oregon              2  Sc ⋯\n",
       "  10 │       0        7  1st          73          3  Wyoming             1  Sc\n",
       "  11 │       1        8  2nd          37          2  Louisana            2  Sc\n",
       "  12 │       1        9  2nd          35          3  Georgia             3  Sc\n",
       "\u001b[36m                                                               3 columns omitted\u001b[0m"
      ]
     },
     "metadata": {},
     "output_type": "display_data"
    }
   ],
   "source": [
    "army = DataFrame(raw_data)"
   ]
  },
  {
   "cell_type": "markdown",
   "metadata": {},
   "source": [
    "### Step 4. Print only the column veterans"
   ]
  },
  {
   "cell_type": "code",
   "execution_count": 4,
   "metadata": {},
   "outputs": [
    {
     "data": {
      "text/plain": [
       "12-element Vector{Int64}:\n",
       "   1\n",
       "   5\n",
       "  62\n",
       "  26\n",
       "  73\n",
       "  37\n",
       " 949\n",
       "  48\n",
       "  48\n",
       " 435\n",
       "  63\n",
       " 345"
      ]
     },
     "metadata": {},
     "output_type": "display_data"
    }
   ],
   "source": [
    "army[!, :veterans]"
   ]
  },
  {
   "cell_type": "markdown",
   "metadata": {},
   "source": [
    "### Step 5. Print the columns 'veterans' and 'deaths'"
   ]
  },
  {
   "cell_type": "code",
   "execution_count": 5,
   "metadata": {},
   "outputs": [
    {
     "data": {
      "text/html": [
       "<div><div style = \"float: left;\"><span>12×2 DataFrame</span></div><div style = \"clear: both;\"></div></div><div class = \"data-frame\" style = \"overflow-x: scroll;\"><table class = \"data-frame\" style = \"margin-bottom: 6px;\"><thead><tr class = \"header\"><th class = \"rowNumber\" style = \"font-weight: bold; text-align: right;\">Row</th><th style = \"text-align: left;\">veterans</th><th style = \"text-align: left;\">deaths</th></tr><tr class = \"subheader headerLastRow\"><th class = \"rowNumber\" style = \"font-weight: bold; text-align: right;\"></th><th title = \"Int64\" style = \"text-align: left;\">Int64</th><th title = \"Int64\" style = \"text-align: left;\">Int64</th></tr></thead><tbody><tr><td class = \"rowNumber\" style = \"font-weight: bold; text-align: right;\">1</td><td style = \"text-align: right;\">1</td><td style = \"text-align: right;\">523</td></tr><tr><td class = \"rowNumber\" style = \"font-weight: bold; text-align: right;\">2</td><td style = \"text-align: right;\">5</td><td style = \"text-align: right;\">52</td></tr><tr><td class = \"rowNumber\" style = \"font-weight: bold; text-align: right;\">3</td><td style = \"text-align: right;\">62</td><td style = \"text-align: right;\">25</td></tr><tr><td class = \"rowNumber\" style = \"font-weight: bold; text-align: right;\">4</td><td style = \"text-align: right;\">26</td><td style = \"text-align: right;\">616</td></tr><tr><td class = \"rowNumber\" style = \"font-weight: bold; text-align: right;\">5</td><td style = \"text-align: right;\">73</td><td style = \"text-align: right;\">43</td></tr><tr><td class = \"rowNumber\" style = \"font-weight: bold; text-align: right;\">6</td><td style = \"text-align: right;\">37</td><td style = \"text-align: right;\">234</td></tr><tr><td class = \"rowNumber\" style = \"font-weight: bold; text-align: right;\">7</td><td style = \"text-align: right;\">949</td><td style = \"text-align: right;\">523</td></tr><tr><td class = \"rowNumber\" style = \"font-weight: bold; text-align: right;\">8</td><td style = \"text-align: right;\">48</td><td style = \"text-align: right;\">62</td></tr><tr><td class = \"rowNumber\" style = \"font-weight: bold; text-align: right;\">9</td><td style = \"text-align: right;\">48</td><td style = \"text-align: right;\">62</td></tr><tr><td class = \"rowNumber\" style = \"font-weight: bold; text-align: right;\">10</td><td style = \"text-align: right;\">435</td><td style = \"text-align: right;\">73</td></tr><tr><td class = \"rowNumber\" style = \"font-weight: bold; text-align: right;\">11</td><td style = \"text-align: right;\">63</td><td style = \"text-align: right;\">37</td></tr><tr><td class = \"rowNumber\" style = \"font-weight: bold; text-align: right;\">12</td><td style = \"text-align: right;\">345</td><td style = \"text-align: right;\">35</td></tr></tbody></table></div>"
      ],
      "text/latex": [
       "\\begin{tabular}{r|cc}\n",
       "\t& veterans & deaths\\\\\n",
       "\t\\hline\n",
       "\t& Int64 & Int64\\\\\n",
       "\t\\hline\n",
       "\t1 & 1 & 523 \\\\\n",
       "\t2 & 5 & 52 \\\\\n",
       "\t3 & 62 & 25 \\\\\n",
       "\t4 & 26 & 616 \\\\\n",
       "\t5 & 73 & 43 \\\\\n",
       "\t6 & 37 & 234 \\\\\n",
       "\t7 & 949 & 523 \\\\\n",
       "\t8 & 48 & 62 \\\\\n",
       "\t9 & 48 & 62 \\\\\n",
       "\t10 & 435 & 73 \\\\\n",
       "\t11 & 63 & 37 \\\\\n",
       "\t12 & 345 & 35 \\\\\n",
       "\\end{tabular}\n"
      ],
      "text/plain": [
       "\u001b[1m12×2 DataFrame\u001b[0m\n",
       "\u001b[1m Row \u001b[0m│\u001b[1m veterans \u001b[0m\u001b[1m deaths \u001b[0m\n",
       "     │\u001b[90m Int64    \u001b[0m\u001b[90m Int64  \u001b[0m\n",
       "─────┼──────────────────\n",
       "   1 │        1     523\n",
       "   2 │        5      52\n",
       "   3 │       62      25\n",
       "   4 │       26     616\n",
       "   5 │       73      43\n",
       "   6 │       37     234\n",
       "   7 │      949     523\n",
       "   8 │       48      62\n",
       "   9 │       48      62\n",
       "  10 │      435      73\n",
       "  11 │       63      37\n",
       "  12 │      345      35"
      ]
     },
     "metadata": {},
     "output_type": "display_data"
    }
   ],
   "source": [
    "army[!, [:veterans, :deaths]]"
   ]
  },
  {
   "cell_type": "markdown",
   "metadata": {},
   "source": [
    "### Step 6. Print the name of all the columns."
   ]
  },
  {
   "cell_type": "code",
   "execution_count": 6,
   "metadata": {},
   "outputs": [
    {
     "data": {
      "text/plain": [
       "10-element Vector{String}:\n",
       " \"armored\"\n",
       " \"battles\"\n",
       " \"company\"\n",
       " \"deaths\"\n",
       " \"deserters\"\n",
       " \"origin\"\n",
       " \"readiness\"\n",
       " \"regiment\"\n",
       " \"size\"\n",
       " \"veterans\""
      ]
     },
     "metadata": {},
     "output_type": "display_data"
    }
   ],
   "source": [
    "names(army)"
   ]
  },
  {
   "cell_type": "markdown",
   "metadata": {},
   "source": [
    "### Step 7. Select the 'deaths', 'size' and 'deserters' columns from Maine and Alaska"
   ]
  },
  {
   "cell_type": "code",
   "execution_count": 7,
   "metadata": {},
   "outputs": [
    {
     "data": {
      "text/html": [
       "<div><div style = \"float: left;\"><span>2×4 DataFrame</span></div><div style = \"clear: both;\"></div></div><div class = \"data-frame\" style = \"overflow-x: scroll;\"><table class = \"data-frame\" style = \"margin-bottom: 6px;\"><thead><tr class = \"header\"><th class = \"rowNumber\" style = \"font-weight: bold; text-align: right;\">Row</th><th style = \"text-align: left;\">origin</th><th style = \"text-align: left;\">deaths</th><th style = \"text-align: left;\">size</th><th style = \"text-align: left;\">deserters</th></tr><tr class = \"subheader headerLastRow\"><th class = \"rowNumber\" style = \"font-weight: bold; text-align: right;\"></th><th title = \"String\" style = \"text-align: left;\">String</th><th title = \"Int64\" style = \"text-align: left;\">Int64</th><th title = \"Int64\" style = \"text-align: left;\">Int64</th><th title = \"Int64\" style = \"text-align: left;\">Int64</th></tr></thead><tbody><tr><td class = \"rowNumber\" style = \"font-weight: bold; text-align: right;\">1</td><td style = \"text-align: left;\">Maine</td><td style = \"text-align: right;\">43</td><td style = \"text-align: right;\">1592</td><td style = \"text-align: right;\">3</td></tr><tr><td class = \"rowNumber\" style = \"font-weight: bold; text-align: right;\">2</td><td style = \"text-align: left;\">Alaska</td><td style = \"text-align: right;\">523</td><td style = \"text-align: right;\">987</td><td style = \"text-align: right;\">24</td></tr></tbody></table></div>"
      ],
      "text/latex": [
       "\\begin{tabular}{r|cccc}\n",
       "\t& origin & deaths & size & deserters\\\\\n",
       "\t\\hline\n",
       "\t& String & Int64 & Int64 & Int64\\\\\n",
       "\t\\hline\n",
       "\t1 & Maine & 43 & 1592 & 3 \\\\\n",
       "\t2 & Alaska & 523 & 987 & 24 \\\\\n",
       "\\end{tabular}\n"
      ],
      "text/plain": [
       "\u001b[1m2×4 DataFrame\u001b[0m\n",
       "\u001b[1m Row \u001b[0m│\u001b[1m origin \u001b[0m\u001b[1m deaths \u001b[0m\u001b[1m size  \u001b[0m\u001b[1m deserters \u001b[0m\n",
       "     │\u001b[90m String \u001b[0m\u001b[90m Int64  \u001b[0m\u001b[90m Int64 \u001b[0m\u001b[90m Int64     \u001b[0m\n",
       "─────┼──────────────────────────────────\n",
       "   1 │ Maine       43   1592          3\n",
       "   2 │ Alaska     523    987         24"
      ]
     },
     "metadata": {},
     "output_type": "display_data"
    }
   ],
   "source": [
    "army[in.(army[!, \"origin\"], Ref([\"Maine\", \"Alaska\"])), [:origin,:deaths, :size, :deserters]]"
   ]
  },
  {
   "cell_type": "markdown",
   "metadata": {},
   "source": [
    "### Step 8. Select the rows 3 to 7 and the columns 3 to 6"
   ]
  },
  {
   "cell_type": "code",
   "execution_count": 6,
   "metadata": {},
   "outputs": [
    {
     "data": {
      "text/html": [
       "<div><div style = \"float: left;\"><span>5×4 DataFrame</span></div><div style = \"clear: both;\"></div></div><div class = \"data-frame\" style = \"overflow-x: scroll;\"><table class = \"data-frame\" style = \"margin-bottom: 6px;\"><thead><tr class = \"header\"><th class = \"rowNumber\" style = \"font-weight: bold; text-align: right;\">Row</th><th style = \"text-align: left;\">company</th><th style = \"text-align: left;\">deaths</th><th style = \"text-align: left;\">deserters</th><th style = \"text-align: left;\">origin</th></tr><tr class = \"subheader headerLastRow\"><th class = \"rowNumber\" style = \"font-weight: bold; text-align: right;\"></th><th title = \"String\" style = \"text-align: left;\">String</th><th title = \"Int64\" style = \"text-align: left;\">Int64</th><th title = \"Int64\" style = \"text-align: left;\">Int64</th><th title = \"String\" style = \"text-align: left;\">String</th></tr></thead><tbody><tr><td class = \"rowNumber\" style = \"font-weight: bold; text-align: right;\">1</td><td style = \"text-align: left;\">2nd</td><td style = \"text-align: right;\">25</td><td style = \"text-align: right;\">31</td><td style = \"text-align: left;\">Texas</td></tr><tr><td class = \"rowNumber\" style = \"font-weight: bold; text-align: right;\">2</td><td style = \"text-align: left;\">2nd</td><td style = \"text-align: right;\">616</td><td style = \"text-align: right;\">2</td><td style = \"text-align: left;\">Florida</td></tr><tr><td class = \"rowNumber\" style = \"font-weight: bold; text-align: right;\">3</td><td style = \"text-align: left;\">1st</td><td style = \"text-align: right;\">43</td><td style = \"text-align: right;\">3</td><td style = \"text-align: left;\">Maine</td></tr><tr><td class = \"rowNumber\" style = \"font-weight: bold; text-align: right;\">4</td><td style = \"text-align: left;\">1st</td><td style = \"text-align: right;\">234</td><td style = \"text-align: right;\">4</td><td style = \"text-align: left;\">Iowa</td></tr><tr><td class = \"rowNumber\" style = \"font-weight: bold; text-align: right;\">5</td><td style = \"text-align: left;\">2nd</td><td style = \"text-align: right;\">523</td><td style = \"text-align: right;\">24</td><td style = \"text-align: left;\">Alaska</td></tr></tbody></table></div>"
      ],
      "text/latex": [
       "\\begin{tabular}{r|cccc}\n",
       "\t& company & deaths & deserters & origin\\\\\n",
       "\t\\hline\n",
       "\t& String & Int64 & Int64 & String\\\\\n",
       "\t\\hline\n",
       "\t1 & 2nd & 25 & 31 & Texas \\\\\n",
       "\t2 & 2nd & 616 & 2 & Florida \\\\\n",
       "\t3 & 1st & 43 & 3 & Maine \\\\\n",
       "\t4 & 1st & 234 & 4 & Iowa \\\\\n",
       "\t5 & 2nd & 523 & 24 & Alaska \\\\\n",
       "\\end{tabular}\n"
      ],
      "text/plain": [
       "\u001b[1m5×4 DataFrame\u001b[0m\n",
       "\u001b[1m Row \u001b[0m│\u001b[1m company \u001b[0m\u001b[1m deaths \u001b[0m\u001b[1m deserters \u001b[0m\u001b[1m origin  \u001b[0m\n",
       "     │\u001b[90m String  \u001b[0m\u001b[90m Int64  \u001b[0m\u001b[90m Int64     \u001b[0m\u001b[90m String  \u001b[0m\n",
       "─────┼─────────────────────────────────────\n",
       "   1 │ 2nd          25         31  Texas\n",
       "   2 │ 2nd         616          2  Florida\n",
       "   3 │ 1st          43          3  Maine\n",
       "   4 │ 1st         234          4  Iowa\n",
       "   5 │ 2nd         523         24  Alaska"
      ]
     },
     "metadata": {},
     "output_type": "display_data"
    }
   ],
   "source": [
    "army[3:7, 3:6]"
   ]
  },
  {
   "cell_type": "markdown",
   "metadata": {},
   "source": [
    "### Step 9. Select every row after the fourth row and all columns"
   ]
  },
  {
   "cell_type": "code",
   "execution_count": 7,
   "metadata": {},
   "outputs": [
    {
     "data": {
      "text/html": [
       "<div><div style = \"float: left;\"><span>8×10 DataFrame</span></div><div style = \"clear: both;\"></div></div><div class = \"data-frame\" style = \"overflow-x: scroll;\"><table class = \"data-frame\" style = \"margin-bottom: 6px;\"><thead><tr class = \"header\"><th class = \"rowNumber\" style = \"font-weight: bold; text-align: right;\">Row</th><th style = \"text-align: left;\">armored</th><th style = \"text-align: left;\">battles</th><th style = \"text-align: left;\">company</th><th style = \"text-align: left;\">deaths</th><th style = \"text-align: left;\">deserters</th><th style = \"text-align: left;\">origin</th><th style = \"text-align: left;\">readiness</th><th style = \"text-align: left;\">regiment</th><th style = \"text-align: left;\">size</th><th style = \"text-align: left;\">veterans</th></tr><tr class = \"subheader headerLastRow\"><th class = \"rowNumber\" style = \"font-weight: bold; text-align: right;\"></th><th title = \"Int64\" style = \"text-align: left;\">Int64</th><th title = \"Int64\" style = \"text-align: left;\">Int64</th><th title = \"String\" style = \"text-align: left;\">String</th><th title = \"Int64\" style = \"text-align: left;\">Int64</th><th title = \"Int64\" style = \"text-align: left;\">Int64</th><th title = \"String\" style = \"text-align: left;\">String</th><th title = \"Int64\" style = \"text-align: left;\">Int64</th><th title = \"String\" style = \"text-align: left;\">String</th><th title = \"Int64\" style = \"text-align: left;\">Int64</th><th title = \"Int64\" style = \"text-align: left;\">Int64</th></tr></thead><tbody><tr><td class = \"rowNumber\" style = \"font-weight: bold; text-align: right;\">1</td><td style = \"text-align: right;\">0</td><td style = \"text-align: right;\">4</td><td style = \"text-align: left;\">1st</td><td style = \"text-align: right;\">43</td><td style = \"text-align: right;\">3</td><td style = \"text-align: left;\">Maine</td><td style = \"text-align: right;\">2</td><td style = \"text-align: left;\">Dragoons</td><td style = \"text-align: right;\">1592</td><td style = \"text-align: right;\">73</td></tr><tr><td class = \"rowNumber\" style = \"font-weight: bold; text-align: right;\">2</td><td style = \"text-align: right;\">1</td><td style = \"text-align: right;\">7</td><td style = \"text-align: left;\">1st</td><td style = \"text-align: right;\">234</td><td style = \"text-align: right;\">4</td><td style = \"text-align: left;\">Iowa</td><td style = \"text-align: right;\">1</td><td style = \"text-align: left;\">Dragoons</td><td style = \"text-align: right;\">1006</td><td style = \"text-align: right;\">37</td></tr><tr><td class = \"rowNumber\" style = \"font-weight: bold; text-align: right;\">3</td><td style = \"text-align: right;\">0</td><td style = \"text-align: right;\">8</td><td style = \"text-align: left;\">2nd</td><td style = \"text-align: right;\">523</td><td style = \"text-align: right;\">24</td><td style = \"text-align: left;\">Alaska</td><td style = \"text-align: right;\">2</td><td style = \"text-align: left;\">Dragoons</td><td style = \"text-align: right;\">987</td><td style = \"text-align: right;\">949</td></tr><tr><td class = \"rowNumber\" style = \"font-weight: bold; text-align: right;\">4</td><td style = \"text-align: right;\">1</td><td style = \"text-align: right;\">3</td><td style = \"text-align: left;\">2nd</td><td style = \"text-align: right;\">62</td><td style = \"text-align: right;\">31</td><td style = \"text-align: left;\">Washington</td><td style = \"text-align: right;\">3</td><td style = \"text-align: left;\">Dragoons</td><td style = \"text-align: right;\">849</td><td style = \"text-align: right;\">48</td></tr><tr><td class = \"rowNumber\" style = \"font-weight: bold; text-align: right;\">5</td><td style = \"text-align: right;\">0</td><td style = \"text-align: right;\">4</td><td style = \"text-align: left;\">1st</td><td style = \"text-align: right;\">62</td><td style = \"text-align: right;\">2</td><td style = \"text-align: left;\">Oregon</td><td style = \"text-align: right;\">2</td><td style = \"text-align: left;\">Scouts</td><td style = \"text-align: right;\">973</td><td style = \"text-align: right;\">48</td></tr><tr><td class = \"rowNumber\" style = \"font-weight: bold; text-align: right;\">6</td><td style = \"text-align: right;\">0</td><td style = \"text-align: right;\">7</td><td style = \"text-align: left;\">1st</td><td style = \"text-align: right;\">73</td><td style = \"text-align: right;\">3</td><td style = \"text-align: left;\">Wyoming</td><td style = \"text-align: right;\">1</td><td style = \"text-align: left;\">Scouts</td><td style = \"text-align: right;\">1005</td><td style = \"text-align: right;\">435</td></tr><tr><td class = \"rowNumber\" style = \"font-weight: bold; text-align: right;\">7</td><td style = \"text-align: right;\">1</td><td style = \"text-align: right;\">8</td><td style = \"text-align: left;\">2nd</td><td style = \"text-align: right;\">37</td><td style = \"text-align: right;\">2</td><td style = \"text-align: left;\">Louisana</td><td style = \"text-align: right;\">2</td><td style = \"text-align: left;\">Scouts</td><td style = \"text-align: right;\">1099</td><td style = \"text-align: right;\">63</td></tr><tr><td class = \"rowNumber\" style = \"font-weight: bold; text-align: right;\">8</td><td style = \"text-align: right;\">1</td><td style = \"text-align: right;\">9</td><td style = \"text-align: left;\">2nd</td><td style = \"text-align: right;\">35</td><td style = \"text-align: right;\">3</td><td style = \"text-align: left;\">Georgia</td><td style = \"text-align: right;\">3</td><td style = \"text-align: left;\">Scouts</td><td style = \"text-align: right;\">1523</td><td style = \"text-align: right;\">345</td></tr></tbody></table></div>"
      ],
      "text/latex": [
       "\\begin{tabular}{r|cccccccccc}\n",
       "\t& armored & battles & company & deaths & deserters & origin & readiness & regiment & size & \\\\\n",
       "\t\\hline\n",
       "\t& Int64 & Int64 & String & Int64 & Int64 & String & Int64 & String & Int64 & \\\\\n",
       "\t\\hline\n",
       "\t1 & 0 & 4 & 1st & 43 & 3 & Maine & 2 & Dragoons & 1592 & $\\dots$ \\\\\n",
       "\t2 & 1 & 7 & 1st & 234 & 4 & Iowa & 1 & Dragoons & 1006 & $\\dots$ \\\\\n",
       "\t3 & 0 & 8 & 2nd & 523 & 24 & Alaska & 2 & Dragoons & 987 & $\\dots$ \\\\\n",
       "\t4 & 1 & 3 & 2nd & 62 & 31 & Washington & 3 & Dragoons & 849 & $\\dots$ \\\\\n",
       "\t5 & 0 & 4 & 1st & 62 & 2 & Oregon & 2 & Scouts & 973 & $\\dots$ \\\\\n",
       "\t6 & 0 & 7 & 1st & 73 & 3 & Wyoming & 1 & Scouts & 1005 & $\\dots$ \\\\\n",
       "\t7 & 1 & 8 & 2nd & 37 & 2 & Louisana & 2 & Scouts & 1099 & $\\dots$ \\\\\n",
       "\t8 & 1 & 9 & 2nd & 35 & 3 & Georgia & 3 & Scouts & 1523 & $\\dots$ \\\\\n",
       "\\end{tabular}\n"
      ],
      "text/plain": [
       "\u001b[1m8×10 DataFrame\u001b[0m\n",
       "\u001b[1m Row \u001b[0m│\u001b[1m armored \u001b[0m\u001b[1m battles \u001b[0m\u001b[1m company \u001b[0m\u001b[1m deaths \u001b[0m\u001b[1m deserters \u001b[0m\u001b[1m origin     \u001b[0m\u001b[1m readiness \u001b[0m\u001b[1m re\u001b[0m ⋯\n",
       "     │\u001b[90m Int64   \u001b[0m\u001b[90m Int64   \u001b[0m\u001b[90m String  \u001b[0m\u001b[90m Int64  \u001b[0m\u001b[90m Int64     \u001b[0m\u001b[90m String     \u001b[0m\u001b[90m Int64     \u001b[0m\u001b[90m St\u001b[0m ⋯\n",
       "─────┼──────────────────────────────────────────────────────────────────────────\n",
       "   1 │       0        4  1st          43          3  Maine               2  Dr ⋯\n",
       "   2 │       1        7  1st         234          4  Iowa                1  Dr\n",
       "   3 │       0        8  2nd         523         24  Alaska              2  Dr\n",
       "   4 │       1        3  2nd          62         31  Washington          3  Dr\n",
       "   5 │       0        4  1st          62          2  Oregon              2  Sc ⋯\n",
       "   6 │       0        7  1st          73          3  Wyoming             1  Sc\n",
       "   7 │       1        8  2nd          37          2  Louisana            2  Sc\n",
       "   8 │       1        9  2nd          35          3  Georgia             3  Sc\n",
       "\u001b[36m                                                               3 columns omitted\u001b[0m"
      ]
     },
     "metadata": {},
     "output_type": "display_data"
    }
   ],
   "source": [
    "army[5:end, :]"
   ]
  },
  {
   "cell_type": "markdown",
   "metadata": {},
   "source": [
    "### Step 10. Select every row up to the 4th row and all columns"
   ]
  },
  {
   "cell_type": "code",
   "execution_count": 10,
   "metadata": {},
   "outputs": [
    {
     "data": {
      "text/html": [
       "<div><div style = \"float: left;\"><span>4×10 DataFrame</span></div><div style = \"clear: both;\"></div></div><div class = \"data-frame\" style = \"overflow-x: scroll;\"><table class = \"data-frame\" style = \"margin-bottom: 6px;\"><thead><tr class = \"header\"><th class = \"rowNumber\" style = \"font-weight: bold; text-align: right;\">Row</th><th style = \"text-align: left;\">armored</th><th style = \"text-align: left;\">battles</th><th style = \"text-align: left;\">company</th><th style = \"text-align: left;\">deaths</th><th style = \"text-align: left;\">deserters</th><th style = \"text-align: left;\">origin</th><th style = \"text-align: left;\">readiness</th><th style = \"text-align: left;\">regiment</th><th style = \"text-align: left;\">size</th><th style = \"text-align: left;\">veterans</th></tr><tr class = \"subheader headerLastRow\"><th class = \"rowNumber\" style = \"font-weight: bold; text-align: right;\"></th><th title = \"Int64\" style = \"text-align: left;\">Int64</th><th title = \"Int64\" style = \"text-align: left;\">Int64</th><th title = \"String\" style = \"text-align: left;\">String</th><th title = \"Int64\" style = \"text-align: left;\">Int64</th><th title = \"Int64\" style = \"text-align: left;\">Int64</th><th title = \"String\" style = \"text-align: left;\">String</th><th title = \"Int64\" style = \"text-align: left;\">Int64</th><th title = \"String\" style = \"text-align: left;\">String</th><th title = \"Int64\" style = \"text-align: left;\">Int64</th><th title = \"Int64\" style = \"text-align: left;\">Int64</th></tr></thead><tbody><tr><td class = \"rowNumber\" style = \"font-weight: bold; text-align: right;\">1</td><td style = \"text-align: right;\">1</td><td style = \"text-align: right;\">5</td><td style = \"text-align: left;\">1st</td><td style = \"text-align: right;\">523</td><td style = \"text-align: right;\">4</td><td style = \"text-align: left;\">Arizona</td><td style = \"text-align: right;\">1</td><td style = \"text-align: left;\">Nighthawks</td><td style = \"text-align: right;\">1045</td><td style = \"text-align: right;\">1</td></tr><tr><td class = \"rowNumber\" style = \"font-weight: bold; text-align: right;\">2</td><td style = \"text-align: right;\">0</td><td style = \"text-align: right;\">42</td><td style = \"text-align: left;\">1st</td><td style = \"text-align: right;\">52</td><td style = \"text-align: right;\">24</td><td style = \"text-align: left;\">California</td><td style = \"text-align: right;\">2</td><td style = \"text-align: left;\">Nighthawks</td><td style = \"text-align: right;\">957</td><td style = \"text-align: right;\">5</td></tr><tr><td class = \"rowNumber\" style = \"font-weight: bold; text-align: right;\">3</td><td style = \"text-align: right;\">1</td><td style = \"text-align: right;\">2</td><td style = \"text-align: left;\">2nd</td><td style = \"text-align: right;\">25</td><td style = \"text-align: right;\">31</td><td style = \"text-align: left;\">Texas</td><td style = \"text-align: right;\">3</td><td style = \"text-align: left;\">Nighthawks</td><td style = \"text-align: right;\">1099</td><td style = \"text-align: right;\">62</td></tr><tr><td class = \"rowNumber\" style = \"font-weight: bold; text-align: right;\">4</td><td style = \"text-align: right;\">1</td><td style = \"text-align: right;\">2</td><td style = \"text-align: left;\">2nd</td><td style = \"text-align: right;\">616</td><td style = \"text-align: right;\">2</td><td style = \"text-align: left;\">Florida</td><td style = \"text-align: right;\">3</td><td style = \"text-align: left;\">Nighthawks</td><td style = \"text-align: right;\">1400</td><td style = \"text-align: right;\">26</td></tr></tbody></table></div>"
      ],
      "text/latex": [
       "\\begin{tabular}{r|ccccccccc}\n",
       "\t& armored & battles & company & deaths & deserters & origin & readiness & regiment & \\\\\n",
       "\t\\hline\n",
       "\t& Int64 & Int64 & String & Int64 & Int64 & String & Int64 & String & \\\\\n",
       "\t\\hline\n",
       "\t1 & 1 & 5 & 1st & 523 & 4 & Arizona & 1 & Nighthawks & $\\dots$ \\\\\n",
       "\t2 & 0 & 42 & 1st & 52 & 24 & California & 2 & Nighthawks & $\\dots$ \\\\\n",
       "\t3 & 1 & 2 & 2nd & 25 & 31 & Texas & 3 & Nighthawks & $\\dots$ \\\\\n",
       "\t4 & 1 & 2 & 2nd & 616 & 2 & Florida & 3 & Nighthawks & $\\dots$ \\\\\n",
       "\\end{tabular}\n"
      ],
      "text/plain": [
       "\u001b[1m4×10 DataFrame\u001b[0m\n",
       "\u001b[1m Row \u001b[0m│\u001b[1m armored \u001b[0m\u001b[1m battles \u001b[0m\u001b[1m company \u001b[0m\u001b[1m deaths \u001b[0m\u001b[1m deserters \u001b[0m\u001b[1m origin     \u001b[0m\u001b[1m readiness \u001b[0m\u001b[1m re\u001b[0m ⋯\n",
       "     │\u001b[90m Int64   \u001b[0m\u001b[90m Int64   \u001b[0m\u001b[90m String  \u001b[0m\u001b[90m Int64  \u001b[0m\u001b[90m Int64     \u001b[0m\u001b[90m String     \u001b[0m\u001b[90m Int64     \u001b[0m\u001b[90m St\u001b[0m ⋯\n",
       "─────┼──────────────────────────────────────────────────────────────────────────\n",
       "   1 │       1        5  1st         523          4  Arizona             1  Ni ⋯\n",
       "   2 │       0       42  1st          52         24  California          2  Ni\n",
       "   3 │       1        2  2nd          25         31  Texas               3  Ni\n",
       "   4 │       1        2  2nd         616          2  Florida             3  Ni\n",
       "\u001b[36m                                                               3 columns omitted\u001b[0m"
      ]
     },
     "metadata": {},
     "output_type": "display_data"
    }
   ],
   "source": [
    "army[1:4, :]"
   ]
  },
  {
   "cell_type": "markdown",
   "metadata": {},
   "source": [
    "### Step 11. Select the 3rd column up to the 7th column"
   ]
  },
  {
   "cell_type": "code",
   "execution_count": 11,
   "metadata": {},
   "outputs": [
    {
     "data": {
      "text/html": [
       "<div><div style = \"float: left;\"><span>12×5 DataFrame</span></div><div style = \"clear: both;\"></div></div><div class = \"data-frame\" style = \"overflow-x: scroll;\"><table class = \"data-frame\" style = \"margin-bottom: 6px;\"><thead><tr class = \"header\"><th class = \"rowNumber\" style = \"font-weight: bold; text-align: right;\">Row</th><th style = \"text-align: left;\">company</th><th style = \"text-align: left;\">deaths</th><th style = \"text-align: left;\">deserters</th><th style = \"text-align: left;\">origin</th><th style = \"text-align: left;\">readiness</th></tr><tr class = \"subheader headerLastRow\"><th class = \"rowNumber\" style = \"font-weight: bold; text-align: right;\"></th><th title = \"String\" style = \"text-align: left;\">String</th><th title = \"Int64\" style = \"text-align: left;\">Int64</th><th title = \"Int64\" style = \"text-align: left;\">Int64</th><th title = \"String\" style = \"text-align: left;\">String</th><th title = \"Int64\" style = \"text-align: left;\">Int64</th></tr></thead><tbody><tr><td class = \"rowNumber\" style = \"font-weight: bold; text-align: right;\">1</td><td style = \"text-align: left;\">1st</td><td style = \"text-align: right;\">523</td><td style = \"text-align: right;\">4</td><td style = \"text-align: left;\">Arizona</td><td style = \"text-align: right;\">1</td></tr><tr><td class = \"rowNumber\" style = \"font-weight: bold; text-align: right;\">2</td><td style = \"text-align: left;\">1st</td><td style = \"text-align: right;\">52</td><td style = \"text-align: right;\">24</td><td style = \"text-align: left;\">California</td><td style = \"text-align: right;\">2</td></tr><tr><td class = \"rowNumber\" style = \"font-weight: bold; text-align: right;\">3</td><td style = \"text-align: left;\">2nd</td><td style = \"text-align: right;\">25</td><td style = \"text-align: right;\">31</td><td style = \"text-align: left;\">Texas</td><td style = \"text-align: right;\">3</td></tr><tr><td class = \"rowNumber\" style = \"font-weight: bold; text-align: right;\">4</td><td style = \"text-align: left;\">2nd</td><td style = \"text-align: right;\">616</td><td style = \"text-align: right;\">2</td><td style = \"text-align: left;\">Florida</td><td style = \"text-align: right;\">3</td></tr><tr><td class = \"rowNumber\" style = \"font-weight: bold; text-align: right;\">5</td><td style = \"text-align: left;\">1st</td><td style = \"text-align: right;\">43</td><td style = \"text-align: right;\">3</td><td style = \"text-align: left;\">Maine</td><td style = \"text-align: right;\">2</td></tr><tr><td class = \"rowNumber\" style = \"font-weight: bold; text-align: right;\">6</td><td style = \"text-align: left;\">1st</td><td style = \"text-align: right;\">234</td><td style = \"text-align: right;\">4</td><td style = \"text-align: left;\">Iowa</td><td style = \"text-align: right;\">1</td></tr><tr><td class = \"rowNumber\" style = \"font-weight: bold; text-align: right;\">7</td><td style = \"text-align: left;\">2nd</td><td style = \"text-align: right;\">523</td><td style = \"text-align: right;\">24</td><td style = \"text-align: left;\">Alaska</td><td style = \"text-align: right;\">2</td></tr><tr><td class = \"rowNumber\" style = \"font-weight: bold; text-align: right;\">8</td><td style = \"text-align: left;\">2nd</td><td style = \"text-align: right;\">62</td><td style = \"text-align: right;\">31</td><td style = \"text-align: left;\">Washington</td><td style = \"text-align: right;\">3</td></tr><tr><td class = \"rowNumber\" style = \"font-weight: bold; text-align: right;\">9</td><td style = \"text-align: left;\">1st</td><td style = \"text-align: right;\">62</td><td style = \"text-align: right;\">2</td><td style = \"text-align: left;\">Oregon</td><td style = \"text-align: right;\">2</td></tr><tr><td class = \"rowNumber\" style = \"font-weight: bold; text-align: right;\">10</td><td style = \"text-align: left;\">1st</td><td style = \"text-align: right;\">73</td><td style = \"text-align: right;\">3</td><td style = \"text-align: left;\">Wyoming</td><td style = \"text-align: right;\">1</td></tr><tr><td class = \"rowNumber\" style = \"font-weight: bold; text-align: right;\">11</td><td style = \"text-align: left;\">2nd</td><td style = \"text-align: right;\">37</td><td style = \"text-align: right;\">2</td><td style = \"text-align: left;\">Louisana</td><td style = \"text-align: right;\">2</td></tr><tr><td class = \"rowNumber\" style = \"font-weight: bold; text-align: right;\">12</td><td style = \"text-align: left;\">2nd</td><td style = \"text-align: right;\">35</td><td style = \"text-align: right;\">3</td><td style = \"text-align: left;\">Georgia</td><td style = \"text-align: right;\">3</td></tr></tbody></table></div>"
      ],
      "text/latex": [
       "\\begin{tabular}{r|ccccc}\n",
       "\t& company & deaths & deserters & origin & readiness\\\\\n",
       "\t\\hline\n",
       "\t& String & Int64 & Int64 & String & Int64\\\\\n",
       "\t\\hline\n",
       "\t1 & 1st & 523 & 4 & Arizona & 1 \\\\\n",
       "\t2 & 1st & 52 & 24 & California & 2 \\\\\n",
       "\t3 & 2nd & 25 & 31 & Texas & 3 \\\\\n",
       "\t4 & 2nd & 616 & 2 & Florida & 3 \\\\\n",
       "\t5 & 1st & 43 & 3 & Maine & 2 \\\\\n",
       "\t6 & 1st & 234 & 4 & Iowa & 1 \\\\\n",
       "\t7 & 2nd & 523 & 24 & Alaska & 2 \\\\\n",
       "\t8 & 2nd & 62 & 31 & Washington & 3 \\\\\n",
       "\t9 & 1st & 62 & 2 & Oregon & 2 \\\\\n",
       "\t10 & 1st & 73 & 3 & Wyoming & 1 \\\\\n",
       "\t11 & 2nd & 37 & 2 & Louisana & 2 \\\\\n",
       "\t12 & 2nd & 35 & 3 & Georgia & 3 \\\\\n",
       "\\end{tabular}\n"
      ],
      "text/plain": [
       "\u001b[1m12×5 DataFrame\u001b[0m\n",
       "\u001b[1m Row \u001b[0m│\u001b[1m company \u001b[0m\u001b[1m deaths \u001b[0m\u001b[1m deserters \u001b[0m\u001b[1m origin     \u001b[0m\u001b[1m readiness \u001b[0m\n",
       "     │\u001b[90m String  \u001b[0m\u001b[90m Int64  \u001b[0m\u001b[90m Int64     \u001b[0m\u001b[90m String     \u001b[0m\u001b[90m Int64     \u001b[0m\n",
       "─────┼───────────────────────────────────────────────────\n",
       "   1 │ 1st         523          4  Arizona             1\n",
       "   2 │ 1st          52         24  California          2\n",
       "   3 │ 2nd          25         31  Texas               3\n",
       "   4 │ 2nd         616          2  Florida             3\n",
       "   5 │ 1st          43          3  Maine               2\n",
       "   6 │ 1st         234          4  Iowa                1\n",
       "   7 │ 2nd         523         24  Alaska              2\n",
       "   8 │ 2nd          62         31  Washington          3\n",
       "   9 │ 1st          62          2  Oregon              2\n",
       "  10 │ 1st          73          3  Wyoming             1\n",
       "  11 │ 2nd          37          2  Louisana            2\n",
       "  12 │ 2nd          35          3  Georgia             3"
      ]
     },
     "metadata": {},
     "output_type": "display_data"
    }
   ],
   "source": [
    "army[:, 3:7]"
   ]
  },
  {
   "cell_type": "markdown",
   "metadata": {},
   "source": [
    "### Step 12. Select rows where deaths is greater than 50"
   ]
  },
  {
   "cell_type": "code",
   "execution_count": 12,
   "metadata": {},
   "outputs": [
    {
     "data": {
      "text/html": [
       "<div><div style = \"float: left;\"><span>8×10 DataFrame</span></div><div style = \"clear: both;\"></div></div><div class = \"data-frame\" style = \"overflow-x: scroll;\"><table class = \"data-frame\" style = \"margin-bottom: 6px;\"><thead><tr class = \"header\"><th class = \"rowNumber\" style = \"font-weight: bold; text-align: right;\">Row</th><th style = \"text-align: left;\">armored</th><th style = \"text-align: left;\">battles</th><th style = \"text-align: left;\">company</th><th style = \"text-align: left;\">deaths</th><th style = \"text-align: left;\">deserters</th><th style = \"text-align: left;\">origin</th><th style = \"text-align: left;\">readiness</th><th style = \"text-align: left;\">regiment</th><th style = \"text-align: left;\">size</th><th style = \"text-align: left;\">veterans</th></tr><tr class = \"subheader headerLastRow\"><th class = \"rowNumber\" style = \"font-weight: bold; text-align: right;\"></th><th title = \"Int64\" style = \"text-align: left;\">Int64</th><th title = \"Int64\" style = \"text-align: left;\">Int64</th><th title = \"String\" style = \"text-align: left;\">String</th><th title = \"Int64\" style = \"text-align: left;\">Int64</th><th title = \"Int64\" style = \"text-align: left;\">Int64</th><th title = \"String\" style = \"text-align: left;\">String</th><th title = \"Int64\" style = \"text-align: left;\">Int64</th><th title = \"String\" style = \"text-align: left;\">String</th><th title = \"Int64\" style = \"text-align: left;\">Int64</th><th title = \"Int64\" style = \"text-align: left;\">Int64</th></tr></thead><tbody><tr><td class = \"rowNumber\" style = \"font-weight: bold; text-align: right;\">1</td><td style = \"text-align: right;\">1</td><td style = \"text-align: right;\">5</td><td style = \"text-align: left;\">1st</td><td style = \"text-align: right;\">523</td><td style = \"text-align: right;\">4</td><td style = \"text-align: left;\">Arizona</td><td style = \"text-align: right;\">1</td><td style = \"text-align: left;\">Nighthawks</td><td style = \"text-align: right;\">1045</td><td style = \"text-align: right;\">1</td></tr><tr><td class = \"rowNumber\" style = \"font-weight: bold; text-align: right;\">2</td><td style = \"text-align: right;\">0</td><td style = \"text-align: right;\">42</td><td style = \"text-align: left;\">1st</td><td style = \"text-align: right;\">52</td><td style = \"text-align: right;\">24</td><td style = \"text-align: left;\">California</td><td style = \"text-align: right;\">2</td><td style = \"text-align: left;\">Nighthawks</td><td style = \"text-align: right;\">957</td><td style = \"text-align: right;\">5</td></tr><tr><td class = \"rowNumber\" style = \"font-weight: bold; text-align: right;\">3</td><td style = \"text-align: right;\">1</td><td style = \"text-align: right;\">2</td><td style = \"text-align: left;\">2nd</td><td style = \"text-align: right;\">616</td><td style = \"text-align: right;\">2</td><td style = \"text-align: left;\">Florida</td><td style = \"text-align: right;\">3</td><td style = \"text-align: left;\">Nighthawks</td><td style = \"text-align: right;\">1400</td><td style = \"text-align: right;\">26</td></tr><tr><td class = \"rowNumber\" style = \"font-weight: bold; text-align: right;\">4</td><td style = \"text-align: right;\">1</td><td style = \"text-align: right;\">7</td><td style = \"text-align: left;\">1st</td><td style = \"text-align: right;\">234</td><td style = \"text-align: right;\">4</td><td style = \"text-align: left;\">Iowa</td><td style = \"text-align: right;\">1</td><td style = \"text-align: left;\">Dragoons</td><td style = \"text-align: right;\">1006</td><td style = \"text-align: right;\">37</td></tr><tr><td class = \"rowNumber\" style = \"font-weight: bold; text-align: right;\">5</td><td style = \"text-align: right;\">0</td><td style = \"text-align: right;\">8</td><td style = \"text-align: left;\">2nd</td><td style = \"text-align: right;\">523</td><td style = \"text-align: right;\">24</td><td style = \"text-align: left;\">Alaska</td><td style = \"text-align: right;\">2</td><td style = \"text-align: left;\">Dragoons</td><td style = \"text-align: right;\">987</td><td style = \"text-align: right;\">949</td></tr><tr><td class = \"rowNumber\" style = \"font-weight: bold; text-align: right;\">6</td><td style = \"text-align: right;\">1</td><td style = \"text-align: right;\">3</td><td style = \"text-align: left;\">2nd</td><td style = \"text-align: right;\">62</td><td style = \"text-align: right;\">31</td><td style = \"text-align: left;\">Washington</td><td style = \"text-align: right;\">3</td><td style = \"text-align: left;\">Dragoons</td><td style = \"text-align: right;\">849</td><td style = \"text-align: right;\">48</td></tr><tr><td class = \"rowNumber\" style = \"font-weight: bold; text-align: right;\">7</td><td style = \"text-align: right;\">0</td><td style = \"text-align: right;\">4</td><td style = \"text-align: left;\">1st</td><td style = \"text-align: right;\">62</td><td style = \"text-align: right;\">2</td><td style = \"text-align: left;\">Oregon</td><td style = \"text-align: right;\">2</td><td style = \"text-align: left;\">Scouts</td><td style = \"text-align: right;\">973</td><td style = \"text-align: right;\">48</td></tr><tr><td class = \"rowNumber\" style = \"font-weight: bold; text-align: right;\">8</td><td style = \"text-align: right;\">0</td><td style = \"text-align: right;\">7</td><td style = \"text-align: left;\">1st</td><td style = \"text-align: right;\">73</td><td style = \"text-align: right;\">3</td><td style = \"text-align: left;\">Wyoming</td><td style = \"text-align: right;\">1</td><td style = \"text-align: left;\">Scouts</td><td style = \"text-align: right;\">1005</td><td style = \"text-align: right;\">435</td></tr></tbody></table></div>"
      ],
      "text/latex": [
       "\\begin{tabular}{r|ccccccccc}\n",
       "\t& armored & battles & company & deaths & deserters & origin & readiness & regiment & \\\\\n",
       "\t\\hline\n",
       "\t& Int64 & Int64 & String & Int64 & Int64 & String & Int64 & String & \\\\\n",
       "\t\\hline\n",
       "\t1 & 1 & 5 & 1st & 523 & 4 & Arizona & 1 & Nighthawks & $\\dots$ \\\\\n",
       "\t2 & 0 & 42 & 1st & 52 & 24 & California & 2 & Nighthawks & $\\dots$ \\\\\n",
       "\t3 & 1 & 2 & 2nd & 616 & 2 & Florida & 3 & Nighthawks & $\\dots$ \\\\\n",
       "\t4 & 1 & 7 & 1st & 234 & 4 & Iowa & 1 & Dragoons & $\\dots$ \\\\\n",
       "\t5 & 0 & 8 & 2nd & 523 & 24 & Alaska & 2 & Dragoons & $\\dots$ \\\\\n",
       "\t6 & 1 & 3 & 2nd & 62 & 31 & Washington & 3 & Dragoons & $\\dots$ \\\\\n",
       "\t7 & 0 & 4 & 1st & 62 & 2 & Oregon & 2 & Scouts & $\\dots$ \\\\\n",
       "\t8 & 0 & 7 & 1st & 73 & 3 & Wyoming & 1 & Scouts & $\\dots$ \\\\\n",
       "\\end{tabular}\n"
      ],
      "text/plain": [
       "\u001b[1m8×10 DataFrame\u001b[0m\n",
       "\u001b[1m Row \u001b[0m│\u001b[1m armored \u001b[0m\u001b[1m battles \u001b[0m\u001b[1m company \u001b[0m\u001b[1m deaths \u001b[0m\u001b[1m deserters \u001b[0m\u001b[1m origin     \u001b[0m\u001b[1m readiness \u001b[0m\u001b[1m re\u001b[0m ⋯\n",
       "     │\u001b[90m Int64   \u001b[0m\u001b[90m Int64   \u001b[0m\u001b[90m String  \u001b[0m\u001b[90m Int64  \u001b[0m\u001b[90m Int64     \u001b[0m\u001b[90m String     \u001b[0m\u001b[90m Int64     \u001b[0m\u001b[90m St\u001b[0m ⋯\n",
       "─────┼──────────────────────────────────────────────────────────────────────────\n",
       "   1 │       1        5  1st         523          4  Arizona             1  Ni ⋯\n",
       "   2 │       0       42  1st          52         24  California          2  Ni\n",
       "   3 │       1        2  2nd         616          2  Florida             3  Ni\n",
       "   4 │       1        7  1st         234          4  Iowa                1  Dr\n",
       "   5 │       0        8  2nd         523         24  Alaska              2  Dr ⋯\n",
       "   6 │       1        3  2nd          62         31  Washington          3  Dr\n",
       "   7 │       0        4  1st          62          2  Oregon              2  Sc\n",
       "   8 │       0        7  1st          73          3  Wyoming             1  Sc\n",
       "\u001b[36m                                                               3 columns omitted\u001b[0m"
      ]
     },
     "metadata": {},
     "output_type": "display_data"
    }
   ],
   "source": [
    "army[army[!, :deaths] .>= 50, :]"
   ]
  },
  {
   "cell_type": "markdown",
   "metadata": {},
   "source": [
    "### Step 13. Select rows where deaths is greater than 500 or less than 50"
   ]
  },
  {
   "cell_type": "code",
   "execution_count": 13,
   "metadata": {},
   "outputs": [
    {
     "data": {
      "text/html": [
       "<div><div style = \"float: left;\"><span>7×10 DataFrame</span></div><div style = \"clear: both;\"></div></div><div class = \"data-frame\" style = \"overflow-x: scroll;\"><table class = \"data-frame\" style = \"margin-bottom: 6px;\"><thead><tr class = \"header\"><th class = \"rowNumber\" style = \"font-weight: bold; text-align: right;\">Row</th><th style = \"text-align: left;\">armored</th><th style = \"text-align: left;\">battles</th><th style = \"text-align: left;\">company</th><th style = \"text-align: left;\">deaths</th><th style = \"text-align: left;\">deserters</th><th style = \"text-align: left;\">origin</th><th style = \"text-align: left;\">readiness</th><th style = \"text-align: left;\">regiment</th><th style = \"text-align: left;\">size</th><th style = \"text-align: left;\">veterans</th></tr><tr class = \"subheader headerLastRow\"><th class = \"rowNumber\" style = \"font-weight: bold; text-align: right;\"></th><th title = \"Int64\" style = \"text-align: left;\">Int64</th><th title = \"Int64\" style = \"text-align: left;\">Int64</th><th title = \"String\" style = \"text-align: left;\">String</th><th title = \"Int64\" style = \"text-align: left;\">Int64</th><th title = \"Int64\" style = \"text-align: left;\">Int64</th><th title = \"String\" style = \"text-align: left;\">String</th><th title = \"Int64\" style = \"text-align: left;\">Int64</th><th title = \"String\" style = \"text-align: left;\">String</th><th title = \"Int64\" style = \"text-align: left;\">Int64</th><th title = \"Int64\" style = \"text-align: left;\">Int64</th></tr></thead><tbody><tr><td class = \"rowNumber\" style = \"font-weight: bold; text-align: right;\">1</td><td style = \"text-align: right;\">1</td><td style = \"text-align: right;\">5</td><td style = \"text-align: left;\">1st</td><td style = \"text-align: right;\">523</td><td style = \"text-align: right;\">4</td><td style = \"text-align: left;\">Arizona</td><td style = \"text-align: right;\">1</td><td style = \"text-align: left;\">Nighthawks</td><td style = \"text-align: right;\">1045</td><td style = \"text-align: right;\">1</td></tr><tr><td class = \"rowNumber\" style = \"font-weight: bold; text-align: right;\">2</td><td style = \"text-align: right;\">1</td><td style = \"text-align: right;\">2</td><td style = \"text-align: left;\">2nd</td><td style = \"text-align: right;\">25</td><td style = \"text-align: right;\">31</td><td style = \"text-align: left;\">Texas</td><td style = \"text-align: right;\">3</td><td style = \"text-align: left;\">Nighthawks</td><td style = \"text-align: right;\">1099</td><td style = \"text-align: right;\">62</td></tr><tr><td class = \"rowNumber\" style = \"font-weight: bold; text-align: right;\">3</td><td style = \"text-align: right;\">1</td><td style = \"text-align: right;\">2</td><td style = \"text-align: left;\">2nd</td><td style = \"text-align: right;\">616</td><td style = \"text-align: right;\">2</td><td style = \"text-align: left;\">Florida</td><td style = \"text-align: right;\">3</td><td style = \"text-align: left;\">Nighthawks</td><td style = \"text-align: right;\">1400</td><td style = \"text-align: right;\">26</td></tr><tr><td class = \"rowNumber\" style = \"font-weight: bold; text-align: right;\">4</td><td style = \"text-align: right;\">0</td><td style = \"text-align: right;\">4</td><td style = \"text-align: left;\">1st</td><td style = \"text-align: right;\">43</td><td style = \"text-align: right;\">3</td><td style = \"text-align: left;\">Maine</td><td style = \"text-align: right;\">2</td><td style = \"text-align: left;\">Dragoons</td><td style = \"text-align: right;\">1592</td><td style = \"text-align: right;\">73</td></tr><tr><td class = \"rowNumber\" style = \"font-weight: bold; text-align: right;\">5</td><td style = \"text-align: right;\">0</td><td style = \"text-align: right;\">8</td><td style = \"text-align: left;\">2nd</td><td style = \"text-align: right;\">523</td><td style = \"text-align: right;\">24</td><td style = \"text-align: left;\">Alaska</td><td style = \"text-align: right;\">2</td><td style = \"text-align: left;\">Dragoons</td><td style = \"text-align: right;\">987</td><td style = \"text-align: right;\">949</td></tr><tr><td class = \"rowNumber\" style = \"font-weight: bold; text-align: right;\">6</td><td style = \"text-align: right;\">1</td><td style = \"text-align: right;\">8</td><td style = \"text-align: left;\">2nd</td><td style = \"text-align: right;\">37</td><td style = \"text-align: right;\">2</td><td style = \"text-align: left;\">Louisana</td><td style = \"text-align: right;\">2</td><td style = \"text-align: left;\">Scouts</td><td style = \"text-align: right;\">1099</td><td style = \"text-align: right;\">63</td></tr><tr><td class = \"rowNumber\" style = \"font-weight: bold; text-align: right;\">7</td><td style = \"text-align: right;\">1</td><td style = \"text-align: right;\">9</td><td style = \"text-align: left;\">2nd</td><td style = \"text-align: right;\">35</td><td style = \"text-align: right;\">3</td><td style = \"text-align: left;\">Georgia</td><td style = \"text-align: right;\">3</td><td style = \"text-align: left;\">Scouts</td><td style = \"text-align: right;\">1523</td><td style = \"text-align: right;\">345</td></tr></tbody></table></div>"
      ],
      "text/latex": [
       "\\begin{tabular}{r|cccccccccc}\n",
       "\t& armored & battles & company & deaths & deserters & origin & readiness & regiment & size & \\\\\n",
       "\t\\hline\n",
       "\t& Int64 & Int64 & String & Int64 & Int64 & String & Int64 & String & Int64 & \\\\\n",
       "\t\\hline\n",
       "\t1 & 1 & 5 & 1st & 523 & 4 & Arizona & 1 & Nighthawks & 1045 & $\\dots$ \\\\\n",
       "\t2 & 1 & 2 & 2nd & 25 & 31 & Texas & 3 & Nighthawks & 1099 & $\\dots$ \\\\\n",
       "\t3 & 1 & 2 & 2nd & 616 & 2 & Florida & 3 & Nighthawks & 1400 & $\\dots$ \\\\\n",
       "\t4 & 0 & 4 & 1st & 43 & 3 & Maine & 2 & Dragoons & 1592 & $\\dots$ \\\\\n",
       "\t5 & 0 & 8 & 2nd & 523 & 24 & Alaska & 2 & Dragoons & 987 & $\\dots$ \\\\\n",
       "\t6 & 1 & 8 & 2nd & 37 & 2 & Louisana & 2 & Scouts & 1099 & $\\dots$ \\\\\n",
       "\t7 & 1 & 9 & 2nd & 35 & 3 & Georgia & 3 & Scouts & 1523 & $\\dots$ \\\\\n",
       "\\end{tabular}\n"
      ],
      "text/plain": [
       "\u001b[1m7×10 DataFrame\u001b[0m\n",
       "\u001b[1m Row \u001b[0m│\u001b[1m armored \u001b[0m\u001b[1m battles \u001b[0m\u001b[1m company \u001b[0m\u001b[1m deaths \u001b[0m\u001b[1m deserters \u001b[0m\u001b[1m origin   \u001b[0m\u001b[1m readiness \u001b[0m\u001b[1m regi\u001b[0m ⋯\n",
       "     │\u001b[90m Int64   \u001b[0m\u001b[90m Int64   \u001b[0m\u001b[90m String  \u001b[0m\u001b[90m Int64  \u001b[0m\u001b[90m Int64     \u001b[0m\u001b[90m String   \u001b[0m\u001b[90m Int64     \u001b[0m\u001b[90m Stri\u001b[0m ⋯\n",
       "─────┼──────────────────────────────────────────────────────────────────────────\n",
       "   1 │       1        5  1st         523          4  Arizona           1  Nigh ⋯\n",
       "   2 │       1        2  2nd          25         31  Texas             3  Nigh\n",
       "   3 │       1        2  2nd         616          2  Florida           3  Nigh\n",
       "   4 │       0        4  1st          43          3  Maine             2  Drag\n",
       "   5 │       0        8  2nd         523         24  Alaska            2  Drag ⋯\n",
       "   6 │       1        8  2nd          37          2  Louisana          2  Scou\n",
       "   7 │       1        9  2nd          35          3  Georgia           3  Scou\n",
       "\u001b[36m                                                               3 columns omitted\u001b[0m"
      ]
     },
     "metadata": {},
     "output_type": "display_data"
    }
   ],
   "source": [
    "army[(army[!, :deaths] .<= 50) .| (army[!, :deaths] .>= 500), :]"
   ]
  },
  {
   "cell_type": "markdown",
   "metadata": {},
   "source": [
    "### Step 14. Select all the regiments not named \"Dragoons\""
   ]
  },
  {
   "cell_type": "code",
   "execution_count": 9,
   "metadata": {},
   "outputs": [
    {
     "data": {
      "text/html": [
       "<div><div style = \"float: left;\"><span>8×10 DataFrame</span></div><div style = \"clear: both;\"></div></div><div class = \"data-frame\" style = \"overflow-x: scroll;\"><table class = \"data-frame\" style = \"margin-bottom: 6px;\"><thead><tr class = \"header\"><th class = \"rowNumber\" style = \"font-weight: bold; text-align: right;\">Row</th><th style = \"text-align: left;\">armored</th><th style = \"text-align: left;\">battles</th><th style = \"text-align: left;\">company</th><th style = \"text-align: left;\">deaths</th><th style = \"text-align: left;\">deserters</th><th style = \"text-align: left;\">origin</th><th style = \"text-align: left;\">readiness</th><th style = \"text-align: left;\">regiment</th><th style = \"text-align: left;\">size</th><th style = \"text-align: left;\">veterans</th></tr><tr class = \"subheader headerLastRow\"><th class = \"rowNumber\" style = \"font-weight: bold; text-align: right;\"></th><th title = \"Int64\" style = \"text-align: left;\">Int64</th><th title = \"Int64\" style = \"text-align: left;\">Int64</th><th title = \"String\" style = \"text-align: left;\">String</th><th title = \"Int64\" style = \"text-align: left;\">Int64</th><th title = \"Int64\" style = \"text-align: left;\">Int64</th><th title = \"String\" style = \"text-align: left;\">String</th><th title = \"Int64\" style = \"text-align: left;\">Int64</th><th title = \"String\" style = \"text-align: left;\">String</th><th title = \"Int64\" style = \"text-align: left;\">Int64</th><th title = \"Int64\" style = \"text-align: left;\">Int64</th></tr></thead><tbody><tr><td class = \"rowNumber\" style = \"font-weight: bold; text-align: right;\">1</td><td style = \"text-align: right;\">1</td><td style = \"text-align: right;\">5</td><td style = \"text-align: left;\">1st</td><td style = \"text-align: right;\">523</td><td style = \"text-align: right;\">4</td><td style = \"text-align: left;\">Arizona</td><td style = \"text-align: right;\">1</td><td style = \"text-align: left;\">Nighthawks</td><td style = \"text-align: right;\">1045</td><td style = \"text-align: right;\">1</td></tr><tr><td class = \"rowNumber\" style = \"font-weight: bold; text-align: right;\">2</td><td style = \"text-align: right;\">0</td><td style = \"text-align: right;\">42</td><td style = \"text-align: left;\">1st</td><td style = \"text-align: right;\">52</td><td style = \"text-align: right;\">24</td><td style = \"text-align: left;\">California</td><td style = \"text-align: right;\">2</td><td style = \"text-align: left;\">Nighthawks</td><td style = \"text-align: right;\">957</td><td style = \"text-align: right;\">5</td></tr><tr><td class = \"rowNumber\" style = \"font-weight: bold; text-align: right;\">3</td><td style = \"text-align: right;\">1</td><td style = \"text-align: right;\">2</td><td style = \"text-align: left;\">2nd</td><td style = \"text-align: right;\">25</td><td style = \"text-align: right;\">31</td><td style = \"text-align: left;\">Texas</td><td style = \"text-align: right;\">3</td><td style = \"text-align: left;\">Nighthawks</td><td style = \"text-align: right;\">1099</td><td style = \"text-align: right;\">62</td></tr><tr><td class = \"rowNumber\" style = \"font-weight: bold; text-align: right;\">4</td><td style = \"text-align: right;\">1</td><td style = \"text-align: right;\">2</td><td style = \"text-align: left;\">2nd</td><td style = \"text-align: right;\">616</td><td style = \"text-align: right;\">2</td><td style = \"text-align: left;\">Florida</td><td style = \"text-align: right;\">3</td><td style = \"text-align: left;\">Nighthawks</td><td style = \"text-align: right;\">1400</td><td style = \"text-align: right;\">26</td></tr><tr><td class = \"rowNumber\" style = \"font-weight: bold; text-align: right;\">5</td><td style = \"text-align: right;\">0</td><td style = \"text-align: right;\">4</td><td style = \"text-align: left;\">1st</td><td style = \"text-align: right;\">62</td><td style = \"text-align: right;\">2</td><td style = \"text-align: left;\">Oregon</td><td style = \"text-align: right;\">2</td><td style = \"text-align: left;\">Scouts</td><td style = \"text-align: right;\">973</td><td style = \"text-align: right;\">48</td></tr><tr><td class = \"rowNumber\" style = \"font-weight: bold; text-align: right;\">6</td><td style = \"text-align: right;\">0</td><td style = \"text-align: right;\">7</td><td style = \"text-align: left;\">1st</td><td style = \"text-align: right;\">73</td><td style = \"text-align: right;\">3</td><td style = \"text-align: left;\">Wyoming</td><td style = \"text-align: right;\">1</td><td style = \"text-align: left;\">Scouts</td><td style = \"text-align: right;\">1005</td><td style = \"text-align: right;\">435</td></tr><tr><td class = \"rowNumber\" style = \"font-weight: bold; text-align: right;\">7</td><td style = \"text-align: right;\">1</td><td style = \"text-align: right;\">8</td><td style = \"text-align: left;\">2nd</td><td style = \"text-align: right;\">37</td><td style = \"text-align: right;\">2</td><td style = \"text-align: left;\">Louisana</td><td style = \"text-align: right;\">2</td><td style = \"text-align: left;\">Scouts</td><td style = \"text-align: right;\">1099</td><td style = \"text-align: right;\">63</td></tr><tr><td class = \"rowNumber\" style = \"font-weight: bold; text-align: right;\">8</td><td style = \"text-align: right;\">1</td><td style = \"text-align: right;\">9</td><td style = \"text-align: left;\">2nd</td><td style = \"text-align: right;\">35</td><td style = \"text-align: right;\">3</td><td style = \"text-align: left;\">Georgia</td><td style = \"text-align: right;\">3</td><td style = \"text-align: left;\">Scouts</td><td style = \"text-align: right;\">1523</td><td style = \"text-align: right;\">345</td></tr></tbody></table></div>"
      ],
      "text/latex": [
       "\\begin{tabular}{r|ccccccccc}\n",
       "\t& armored & battles & company & deaths & deserters & origin & readiness & regiment & \\\\\n",
       "\t\\hline\n",
       "\t& Int64 & Int64 & String & Int64 & Int64 & String & Int64 & String & \\\\\n",
       "\t\\hline\n",
       "\t1 & 1 & 5 & 1st & 523 & 4 & Arizona & 1 & Nighthawks & $\\dots$ \\\\\n",
       "\t2 & 0 & 42 & 1st & 52 & 24 & California & 2 & Nighthawks & $\\dots$ \\\\\n",
       "\t3 & 1 & 2 & 2nd & 25 & 31 & Texas & 3 & Nighthawks & $\\dots$ \\\\\n",
       "\t4 & 1 & 2 & 2nd & 616 & 2 & Florida & 3 & Nighthawks & $\\dots$ \\\\\n",
       "\t5 & 0 & 4 & 1st & 62 & 2 & Oregon & 2 & Scouts & $\\dots$ \\\\\n",
       "\t6 & 0 & 7 & 1st & 73 & 3 & Wyoming & 1 & Scouts & $\\dots$ \\\\\n",
       "\t7 & 1 & 8 & 2nd & 37 & 2 & Louisana & 2 & Scouts & $\\dots$ \\\\\n",
       "\t8 & 1 & 9 & 2nd & 35 & 3 & Georgia & 3 & Scouts & $\\dots$ \\\\\n",
       "\\end{tabular}\n"
      ],
      "text/plain": [
       "\u001b[1m8×10 DataFrame\u001b[0m\n",
       "\u001b[1m Row \u001b[0m│\u001b[1m armored \u001b[0m\u001b[1m battles \u001b[0m\u001b[1m company \u001b[0m\u001b[1m deaths \u001b[0m\u001b[1m deserters \u001b[0m\u001b[1m origin     \u001b[0m\u001b[1m readiness \u001b[0m\u001b[1m re\u001b[0m ⋯\n",
       "     │\u001b[90m Int64   \u001b[0m\u001b[90m Int64   \u001b[0m\u001b[90m String  \u001b[0m\u001b[90m Int64  \u001b[0m\u001b[90m Int64     \u001b[0m\u001b[90m String     \u001b[0m\u001b[90m Int64     \u001b[0m\u001b[90m St\u001b[0m ⋯\n",
       "─────┼──────────────────────────────────────────────────────────────────────────\n",
       "   1 │       1        5  1st         523          4  Arizona             1  Ni ⋯\n",
       "   2 │       0       42  1st          52         24  California          2  Ni\n",
       "   3 │       1        2  2nd          25         31  Texas               3  Ni\n",
       "   4 │       1        2  2nd         616          2  Florida             3  Ni\n",
       "   5 │       0        4  1st          62          2  Oregon              2  Sc ⋯\n",
       "   6 │       0        7  1st          73          3  Wyoming             1  Sc\n",
       "   7 │       1        8  2nd          37          2  Louisana            2  Sc\n",
       "   8 │       1        9  2nd          35          3  Georgia             3  Sc\n",
       "\u001b[36m                                                               3 columns omitted\u001b[0m"
      ]
     },
     "metadata": {},
     "output_type": "display_data"
    }
   ],
   "source": [
    "army[army[!, :regiment] .!= \"Dragoons\", :]"
   ]
  },
  {
   "cell_type": "markdown",
   "metadata": {},
   "source": [
    "### Step 15. Select the rows called Texas and Arizona"
   ]
  },
  {
   "cell_type": "code",
   "execution_count": 15,
   "metadata": {},
   "outputs": [
    {
     "data": {
      "text/html": [
       "<div><div style = \"float: left;\"><span>2×10 DataFrame</span></div><div style = \"clear: both;\"></div></div><div class = \"data-frame\" style = \"overflow-x: scroll;\"><table class = \"data-frame\" style = \"margin-bottom: 6px;\"><thead><tr class = \"header\"><th class = \"rowNumber\" style = \"font-weight: bold; text-align: right;\">Row</th><th style = \"text-align: left;\">armored</th><th style = \"text-align: left;\">battles</th><th style = \"text-align: left;\">company</th><th style = \"text-align: left;\">deaths</th><th style = \"text-align: left;\">deserters</th><th style = \"text-align: left;\">origin</th><th style = \"text-align: left;\">readiness</th><th style = \"text-align: left;\">regiment</th><th style = \"text-align: left;\">size</th><th style = \"text-align: left;\">veterans</th></tr><tr class = \"subheader headerLastRow\"><th class = \"rowNumber\" style = \"font-weight: bold; text-align: right;\"></th><th title = \"Int64\" style = \"text-align: left;\">Int64</th><th title = \"Int64\" style = \"text-align: left;\">Int64</th><th title = \"String\" style = \"text-align: left;\">String</th><th title = \"Int64\" style = \"text-align: left;\">Int64</th><th title = \"Int64\" style = \"text-align: left;\">Int64</th><th title = \"String\" style = \"text-align: left;\">String</th><th title = \"Int64\" style = \"text-align: left;\">Int64</th><th title = \"String\" style = \"text-align: left;\">String</th><th title = \"Int64\" style = \"text-align: left;\">Int64</th><th title = \"Int64\" style = \"text-align: left;\">Int64</th></tr></thead><tbody><tr><td class = \"rowNumber\" style = \"font-weight: bold; text-align: right;\">1</td><td style = \"text-align: right;\">1</td><td style = \"text-align: right;\">5</td><td style = \"text-align: left;\">1st</td><td style = \"text-align: right;\">523</td><td style = \"text-align: right;\">4</td><td style = \"text-align: left;\">Arizona</td><td style = \"text-align: right;\">1</td><td style = \"text-align: left;\">Nighthawks</td><td style = \"text-align: right;\">1045</td><td style = \"text-align: right;\">1</td></tr><tr><td class = \"rowNumber\" style = \"font-weight: bold; text-align: right;\">2</td><td style = \"text-align: right;\">1</td><td style = \"text-align: right;\">2</td><td style = \"text-align: left;\">2nd</td><td style = \"text-align: right;\">25</td><td style = \"text-align: right;\">31</td><td style = \"text-align: left;\">Texas</td><td style = \"text-align: right;\">3</td><td style = \"text-align: left;\">Nighthawks</td><td style = \"text-align: right;\">1099</td><td style = \"text-align: right;\">62</td></tr></tbody></table></div>"
      ],
      "text/latex": [
       "\\begin{tabular}{r|cccccccccc}\n",
       "\t& armored & battles & company & deaths & deserters & origin & readiness & regiment & size & \\\\\n",
       "\t\\hline\n",
       "\t& Int64 & Int64 & String & Int64 & Int64 & String & Int64 & String & Int64 & \\\\\n",
       "\t\\hline\n",
       "\t1 & 1 & 5 & 1st & 523 & 4 & Arizona & 1 & Nighthawks & 1045 & $\\dots$ \\\\\n",
       "\t2 & 1 & 2 & 2nd & 25 & 31 & Texas & 3 & Nighthawks & 1099 & $\\dots$ \\\\\n",
       "\\end{tabular}\n"
      ],
      "text/plain": [
       "\u001b[1m2×10 DataFrame\u001b[0m\n",
       "\u001b[1m Row \u001b[0m│\u001b[1m armored \u001b[0m\u001b[1m battles \u001b[0m\u001b[1m company \u001b[0m\u001b[1m deaths \u001b[0m\u001b[1m deserters \u001b[0m\u001b[1m origin  \u001b[0m\u001b[1m readiness \u001b[0m\u001b[1m regim\u001b[0m ⋯\n",
       "     │\u001b[90m Int64   \u001b[0m\u001b[90m Int64   \u001b[0m\u001b[90m String  \u001b[0m\u001b[90m Int64  \u001b[0m\u001b[90m Int64     \u001b[0m\u001b[90m String  \u001b[0m\u001b[90m Int64     \u001b[0m\u001b[90m Strin\u001b[0m ⋯\n",
       "─────┼──────────────────────────────────────────────────────────────────────────\n",
       "   1 │       1        5  1st         523          4  Arizona          1  Night ⋯\n",
       "   2 │       1        2  2nd          25         31  Texas            3  Night\n",
       "\u001b[36m                                                               3 columns omitted\u001b[0m"
      ]
     },
     "metadata": {},
     "output_type": "display_data"
    }
   ],
   "source": [
    "army[in.(army[!, :origin], Ref([\"Arizona\", \"Texas\"])), :]"
   ]
  },
  {
   "cell_type": "markdown",
   "metadata": {},
   "source": [
    "### Step 16. Select the third cell in the row named Arizona"
   ]
  },
  {
   "cell_type": "code",
   "execution_count": 16,
   "metadata": {},
   "outputs": [
    {
     "data": {
      "text/plain": [
       "1-element Vector{Int64}:\n",
       " 523"
      ]
     },
     "metadata": {},
     "output_type": "display_data"
    }
   ],
   "source": [
    "army[army[!, :origin] .== \"Arizona\", 4]"
   ]
  },
  {
   "cell_type": "markdown",
   "metadata": {},
   "source": [
    "### Step 17. Select the third cell down in the column named deaths"
   ]
  },
  {
   "cell_type": "code",
   "execution_count": 17,
   "metadata": {},
   "outputs": [
    {
     "data": {
      "text/plain": [
       "25"
      ]
     },
     "metadata": {},
     "output_type": "display_data"
    }
   ],
   "source": [
    "army[3, :deaths]"
   ]
  }
 ],
 "metadata": {
  "kernelspec": {
   "display_name": "Julia 1.10.3",
   "language": "julia",
   "name": "julia-1.10"
  },
  "language_info": {
   "file_extension": ".jl",
   "mimetype": "application/julia",
   "name": "julia",
   "version": "1.10.3"
  }
 },
 "nbformat": 4,
 "nbformat_minor": 1
}
