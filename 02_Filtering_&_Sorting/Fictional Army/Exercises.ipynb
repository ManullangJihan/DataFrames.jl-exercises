{
 "cells": [
  {
   "cell_type": "markdown",
   "metadata": {},
   "source": [
    "# Fictional Army - Filtering and Sorting"
   ]
  },
  {
   "cell_type": "markdown",
   "metadata": {},
   "source": [
    "### Introduction:\n",
    "\n",
    "This exercise was inspired by this [page](http://chrisalbon.com/python/)\n",
    "\n",
    "Special thanks to: https://github.com/chrisalbon for sharing the dataset and materials.\n",
    "\n",
    "### Step 1. Import the necessary libraries"
   ]
  },
  {
   "cell_type": "code",
   "execution_count": null,
   "metadata": {},
   "outputs": [],
   "source": []
  },
  {
   "cell_type": "markdown",
   "metadata": {},
   "source": [
    "### Step 2. This is the data given as a dictionary"
   ]
  },
  {
   "cell_type": "code",
   "execution_count": 2,
   "metadata": {
    "collapsed": true
   },
   "outputs": [
    {
     "data": {
      "text/plain": [
       "Dict{String, Vector} with 10 entries:\n",
       "  \"deaths\"    => [523, 52, 25, 616, 43, 234, 523, 62, 62, 73, 37, 35]\n",
       "  \"battles\"   => [5, 42, 2, 2, 4, 7, 8, 3, 4, 7, 8, 9]\n",
       "  \"veterans\"  => [1, 5, 62, 26, 73, 37, 949, 48, 48, 435, 63, 345]\n",
       "  \"company\"   => [\"1st\", \"1st\", \"2nd\", \"2nd\", \"1st\", \"1st\", \"2nd\", \"2nd\", \"1st\"…\n",
       "  \"armored\"   => [1, 0, 1, 1, 0, 1, 0, 1, 0, 0, 1, 1]\n",
       "  \"regiment\"  => [\"Nighthawks\", \"Nighthawks\", \"Nighthawks\", \"Nighthawks\", \"Drag…\n",
       "  \"size\"      => [1045, 957, 1099, 1400, 1592, 1006, 987, 849, 973, 1005, 1099,…\n",
       "  \"readiness\" => [1, 2, 3, 3, 2, 1, 2, 3, 2, 1, 2, 3]\n",
       "  \"deserters\" => [4, 24, 31, 2, 3, 4, 24, 31, 2, 3, 2, 3]\n",
       "  \"origin\"    => [\"Arizona\", \"California\", \"Texas\", \"Florida\", \"Maine\", \"Iowa\",…"
      ]
     },
     "metadata": {},
     "output_type": "display_data"
    }
   ],
   "source": [
    "# Create an example dataframe about a fictional army\n",
    "raw_data = Dict(\"regiment\" => String[\"Nighthawks\", \"Nighthawks\", \"Nighthawks\", \"Nighthawks\", \"Dragoons\", \"Dragoons\", \"Dragoons\", \"Dragoons\", \"Scouts\", \"Scouts\", \"Scouts\", \"Scouts\"],\n",
    "            \"company\" => String[\"1st\", \"1st\", \"2nd\", \"2nd\", \"1st\", \"1st\", \"2nd\", \"2nd\",\"1st\", \"1st\", \"2nd\", \"2nd\"],\n",
    "            \"deaths\"=> Int[523, 52, 25, 616, 43, 234, 523, 62, 62, 73, 37, 35],\n",
    "            \"battles\"=> Int[5, 42, 2, 2, 4, 7, 8, 3, 4, 7, 8, 9],\n",
    "            \"size\"=> Int[1045, 957, 1099, 1400, 1592, 1006, 987, 849, 973, 1005, 1099, 1523],\n",
    "            \"veterans\"=> Int[1, 5, 62, 26, 73, 37, 949, 48, 48, 435, 63, 345],\n",
    "            \"readiness\"=> Int[1, 2, 3, 3, 2, 1, 2, 3, 2, 1, 2, 3],\n",
    "            \"armored\"=> Int[1, 0, 1, 1, 0, 1, 0, 1, 0, 0, 1, 1],\n",
    "            \"deserters\"=> Int[4, 24, 31, 2, 3, 4, 24, 31, 2, 3, 2, 3],\n",
    "            \"origin\"=> String[\"Arizona\", \"California\", \"Texas\", \"Florida\", \"Maine\", \"Iowa\", \"Alaska\", \"Washington\", \"Oregon\", \"Wyoming\", \"Louisana\", \"Georgia\"])"
   ]
  },
  {
   "cell_type": "markdown",
   "metadata": {},
   "source": [
    "### Step 3. Create a dataframe and assign it to a variable called army."
   ]
  },
  {
   "cell_type": "code",
   "execution_count": null,
   "metadata": {},
   "outputs": [],
   "source": []
  },
  {
   "cell_type": "markdown",
   "metadata": {},
   "source": [
    "### Step 4. Print only the column veterans"
   ]
  },
  {
   "cell_type": "code",
   "execution_count": null,
   "metadata": {},
   "outputs": [],
   "source": []
  },
  {
   "cell_type": "markdown",
   "metadata": {},
   "source": [
    "### Step 5. Print the columns 'veterans' and 'deaths'"
   ]
  },
  {
   "cell_type": "code",
   "execution_count": null,
   "metadata": {},
   "outputs": [],
   "source": []
  },
  {
   "cell_type": "markdown",
   "metadata": {},
   "source": [
    "### Step 6. Print the name of all the columns."
   ]
  },
  {
   "cell_type": "code",
   "execution_count": null,
   "metadata": {},
   "outputs": [],
   "source": []
  },
  {
   "cell_type": "markdown",
   "metadata": {},
   "source": [
    "### Step 7. Select the 'deaths', 'size' and 'deserters' columns from Maine and Alaska"
   ]
  },
  {
   "cell_type": "code",
   "execution_count": null,
   "metadata": {},
   "outputs": [],
   "source": []
  },
  {
   "cell_type": "markdown",
   "metadata": {},
   "source": [
    "### Step 8. Select the rows 3 to 7 and the columns 3 to 6"
   ]
  },
  {
   "cell_type": "code",
   "execution_count": null,
   "metadata": {},
   "outputs": [],
   "source": []
  },
  {
   "cell_type": "markdown",
   "metadata": {},
   "source": [
    "### Step 9. Select every row after the fourth row and all columns"
   ]
  },
  {
   "cell_type": "code",
   "execution_count": null,
   "metadata": {},
   "outputs": [],
   "source": []
  },
  {
   "cell_type": "markdown",
   "metadata": {},
   "source": [
    "### Step 10. Select every row up to the 4th row and all columns"
   ]
  },
  {
   "cell_type": "code",
   "execution_count": null,
   "metadata": {},
   "outputs": [],
   "source": []
  },
  {
   "cell_type": "markdown",
   "metadata": {},
   "source": [
    "### Step 11. Select the 3rd column up to the 7th column"
   ]
  },
  {
   "cell_type": "code",
   "execution_count": null,
   "metadata": {},
   "outputs": [],
   "source": []
  },
  {
   "cell_type": "markdown",
   "metadata": {},
   "source": [
    "### Step 12. Select rows where deaths is greater than 50"
   ]
  },
  {
   "cell_type": "code",
   "execution_count": null,
   "metadata": {},
   "outputs": [],
   "source": []
  },
  {
   "cell_type": "markdown",
   "metadata": {},
   "source": [
    "### Step 13. Select rows where deaths is greater than 500 or less than 50"
   ]
  },
  {
   "cell_type": "code",
   "execution_count": null,
   "metadata": {},
   "outputs": [],
   "source": []
  },
  {
   "cell_type": "markdown",
   "metadata": {},
   "source": [
    "### Step 14. Select all the regiments not named \"Dragoons\""
   ]
  },
  {
   "cell_type": "code",
   "execution_count": null,
   "metadata": {},
   "outputs": [],
   "source": []
  },
  {
   "cell_type": "markdown",
   "metadata": {},
   "source": [
    "### Step 15. Select the rows called Texas and Arizona"
   ]
  },
  {
   "cell_type": "code",
   "execution_count": null,
   "metadata": {},
   "outputs": [],
   "source": []
  },
  {
   "cell_type": "markdown",
   "metadata": {},
   "source": [
    "### Step 16. Select the third cell in the row named Arizona"
   ]
  },
  {
   "cell_type": "code",
   "execution_count": null,
   "metadata": {},
   "outputs": [],
   "source": []
  },
  {
   "cell_type": "markdown",
   "metadata": {},
   "source": [
    "### Step 17. Select the third cell down in the column named deaths"
   ]
  },
  {
   "cell_type": "code",
   "execution_count": null,
   "metadata": {},
   "outputs": [],
   "source": []
  }
 ],
 "metadata": {
  "kernelspec": {
   "display_name": "Julia 1.10.3",
   "language": "julia",
   "name": "julia-1.10"
  },
  "language_info": {
   "file_extension": ".jl",
   "mimetype": "application/julia",
   "name": "julia",
   "version": "1.10.3"
  }
 },
 "nbformat": 4,
 "nbformat_minor": 1
}
