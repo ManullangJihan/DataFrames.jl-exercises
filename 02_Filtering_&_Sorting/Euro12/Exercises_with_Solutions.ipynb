{
 "cells": [
  {
   "cell_type": "markdown",
   "metadata": {},
   "source": [
    "# Ex2 - Filtering and Sorting Data"
   ]
  },
  {
   "cell_type": "markdown",
   "metadata": {},
   "source": [
    "This time we are going to pull data directly from the internet.\n",
    "\n",
    "### Step 1. Import the necessary libraries"
   ]
  },
  {
   "cell_type": "code",
   "execution_count": null,
   "metadata": {},
   "outputs": [],
   "source": [
    "using DotEnv\n",
    "using Pkg\n",
    "\n",
    "DotEnv.load!()\n",
    "path = ENV[\"ENV_PATH\"]\n",
    "Pkg.activate(path)\n",
    "\n",
    "using CSV\n",
    "using DataFrames\n",
    "using Downloads\n",
    "using Statistics # mean, std"
   ]
  },
  {
   "cell_type": "markdown",
   "metadata": {},
   "source": [
    "### Step 2. Import the dataset from this [address](https://raw.githubusercontent.com/guipsamora/pandas_exercises/master/02_Filtering_%26_Sorting/Euro12/Euro_2012_stats_TEAM.csv). "
   ]
  },
  {
   "cell_type": "markdown",
   "metadata": {},
   "source": [
    "### Step 3. Assign it to a variable called euro12."
   ]
  },
  {
   "cell_type": "code",
   "execution_count": 3,
   "metadata": {
    "collapsed": false
   },
   "outputs": [],
   "source": [
    "url = \"https://raw.githubusercontent.com/guipsamora/pandas_exercises/master/02_Filtering_%26_Sorting/Euro12/Euro_2012_stats_TEAM.csv\"\n",
    "file = Downloads.download(url)\n",
    "euro12 = CSV.read(file, DataFrame);"
   ]
  },
  {
   "cell_type": "markdown",
   "metadata": {},
   "source": [
    "### Step 4. Select only the Goal column."
   ]
  },
  {
   "cell_type": "code",
   "execution_count": 3,
   "metadata": {
    "collapsed": false
   },
   "outputs": [
    {
     "data": {
      "text/plain": [
       "16-element Vector{Int64}:\n",
       "  4\n",
       "  4\n",
       "  4\n",
       "  5\n",
       "  3\n",
       " 10\n",
       "  5\n",
       "  6\n",
       "  2\n",
       "  2\n",
       "  6\n",
       "  1\n",
       "  5\n",
       " 12\n",
       "  5\n",
       "  2"
      ]
     },
     "metadata": {},
     "output_type": "display_data"
    }
   ],
   "source": [
    "euro12[!, :Goals]"
   ]
  },
  {
   "cell_type": "markdown",
   "metadata": {},
   "source": [
    "### Step 5. How many team participated in the Euro2012?"
   ]
  },
  {
   "cell_type": "code",
   "execution_count": 4,
   "metadata": {
    "collapsed": false
   },
   "outputs": [
    {
     "name": "stdout",
     "output_type": "stream",
     "text": [
      "n_team = 16\n"
     ]
    }
   ],
   "source": [
    "n_team = length(unique(euro12[!, :Team]))\n",
    "@show n_team;"
   ]
  },
  {
   "cell_type": "markdown",
   "metadata": {},
   "source": [
    "### Step 6. What is the number of columns in the dataset?"
   ]
  },
  {
   "cell_type": "code",
   "execution_count": 6,
   "metadata": {
    "collapsed": false
   },
   "outputs": [
    {
     "name": "stdout",
     "output_type": "stream",
     "text": [
      "n_columns = 35\n"
     ]
    }
   ],
   "source": [
    "n_columns = size(euro12, 2)\n",
    "@show n_columns;"
   ]
  },
  {
   "cell_type": "markdown",
   "metadata": {},
   "source": [
    "### Step 7. View only the columns Team, Yellow Cards and Red Cards and assign them to a dataframe called discipline"
   ]
  },
  {
   "cell_type": "code",
   "execution_count": 4,
   "metadata": {
    "collapsed": false
   },
   "outputs": [
    {
     "data": {
      "text/html": [
       "<div><div style = \"float: left;\"><span>16×3 DataFrame</span></div><div style = \"clear: both;\"></div></div><div class = \"data-frame\" style = \"overflow-x: scroll;\"><table class = \"data-frame\" style = \"margin-bottom: 6px;\"><thead><tr class = \"header\"><th class = \"rowNumber\" style = \"font-weight: bold; text-align: right;\">Row</th><th style = \"text-align: left;\">Team</th><th style = \"text-align: left;\">Yellow Cards</th><th style = \"text-align: left;\">Red Cards</th></tr><tr class = \"subheader headerLastRow\"><th class = \"rowNumber\" style = \"font-weight: bold; text-align: right;\"></th><th title = \"String31\" style = \"text-align: left;\">String31</th><th title = \"Int64\" style = \"text-align: left;\">Int64</th><th title = \"Int64\" style = \"text-align: left;\">Int64</th></tr></thead><tbody><tr><td class = \"rowNumber\" style = \"font-weight: bold; text-align: right;\">1</td><td style = \"text-align: left;\">Croatia</td><td style = \"text-align: right;\">9</td><td style = \"text-align: right;\">0</td></tr><tr><td class = \"rowNumber\" style = \"font-weight: bold; text-align: right;\">2</td><td style = \"text-align: left;\">Czech Republic</td><td style = \"text-align: right;\">7</td><td style = \"text-align: right;\">0</td></tr><tr><td class = \"rowNumber\" style = \"font-weight: bold; text-align: right;\">3</td><td style = \"text-align: left;\">Denmark</td><td style = \"text-align: right;\">4</td><td style = \"text-align: right;\">0</td></tr><tr><td class = \"rowNumber\" style = \"font-weight: bold; text-align: right;\">4</td><td style = \"text-align: left;\">England</td><td style = \"text-align: right;\">5</td><td style = \"text-align: right;\">0</td></tr><tr><td class = \"rowNumber\" style = \"font-weight: bold; text-align: right;\">5</td><td style = \"text-align: left;\">France</td><td style = \"text-align: right;\">6</td><td style = \"text-align: right;\">0</td></tr><tr><td class = \"rowNumber\" style = \"font-weight: bold; text-align: right;\">6</td><td style = \"text-align: left;\">Germany</td><td style = \"text-align: right;\">4</td><td style = \"text-align: right;\">0</td></tr><tr><td class = \"rowNumber\" style = \"font-weight: bold; text-align: right;\">7</td><td style = \"text-align: left;\">Greece</td><td style = \"text-align: right;\">9</td><td style = \"text-align: right;\">1</td></tr><tr><td class = \"rowNumber\" style = \"font-weight: bold; text-align: right;\">8</td><td style = \"text-align: left;\">Italy</td><td style = \"text-align: right;\">16</td><td style = \"text-align: right;\">0</td></tr><tr><td class = \"rowNumber\" style = \"font-weight: bold; text-align: right;\">9</td><td style = \"text-align: left;\">Netherlands</td><td style = \"text-align: right;\">5</td><td style = \"text-align: right;\">0</td></tr><tr><td class = \"rowNumber\" style = \"font-weight: bold; text-align: right;\">10</td><td style = \"text-align: left;\">Poland</td><td style = \"text-align: right;\">7</td><td style = \"text-align: right;\">1</td></tr><tr><td class = \"rowNumber\" style = \"font-weight: bold; text-align: right;\">11</td><td style = \"text-align: left;\">Portugal</td><td style = \"text-align: right;\">12</td><td style = \"text-align: right;\">0</td></tr><tr><td class = \"rowNumber\" style = \"font-weight: bold; text-align: right;\">12</td><td style = \"text-align: left;\">Republic of Ireland</td><td style = \"text-align: right;\">6</td><td style = \"text-align: right;\">1</td></tr><tr><td class = \"rowNumber\" style = \"font-weight: bold; text-align: right;\">13</td><td style = \"text-align: left;\">Russia</td><td style = \"text-align: right;\">6</td><td style = \"text-align: right;\">0</td></tr><tr><td class = \"rowNumber\" style = \"font-weight: bold; text-align: right;\">14</td><td style = \"text-align: left;\">Spain</td><td style = \"text-align: right;\">11</td><td style = \"text-align: right;\">0</td></tr><tr><td class = \"rowNumber\" style = \"font-weight: bold; text-align: right;\">15</td><td style = \"text-align: left;\">Sweden</td><td style = \"text-align: right;\">7</td><td style = \"text-align: right;\">0</td></tr><tr><td class = \"rowNumber\" style = \"font-weight: bold; text-align: right;\">16</td><td style = \"text-align: left;\">Ukraine</td><td style = \"text-align: right;\">5</td><td style = \"text-align: right;\">0</td></tr></tbody></table></div>"
      ],
      "text/latex": [
       "\\begin{tabular}{r|ccc}\n",
       "\t& Team & Yellow Cards & Red Cards\\\\\n",
       "\t\\hline\n",
       "\t& String31 & Int64 & Int64\\\\\n",
       "\t\\hline\n",
       "\t1 & Croatia & 9 & 0 \\\\\n",
       "\t2 & Czech Republic & 7 & 0 \\\\\n",
       "\t3 & Denmark & 4 & 0 \\\\\n",
       "\t4 & England & 5 & 0 \\\\\n",
       "\t5 & France & 6 & 0 \\\\\n",
       "\t6 & Germany & 4 & 0 \\\\\n",
       "\t7 & Greece & 9 & 1 \\\\\n",
       "\t8 & Italy & 16 & 0 \\\\\n",
       "\t9 & Netherlands & 5 & 0 \\\\\n",
       "\t10 & Poland & 7 & 1 \\\\\n",
       "\t11 & Portugal & 12 & 0 \\\\\n",
       "\t12 & Republic of Ireland & 6 & 1 \\\\\n",
       "\t13 & Russia & 6 & 0 \\\\\n",
       "\t14 & Spain & 11 & 0 \\\\\n",
       "\t15 & Sweden & 7 & 0 \\\\\n",
       "\t16 & Ukraine & 5 & 0 \\\\\n",
       "\\end{tabular}\n"
      ],
      "text/plain": [
       "\u001b[1m16×3 DataFrame\u001b[0m\n",
       "\u001b[1m Row \u001b[0m│\u001b[1m Team                \u001b[0m\u001b[1m Yellow Cards \u001b[0m\u001b[1m Red Cards \u001b[0m\n",
       "     │\u001b[90m String31            \u001b[0m\u001b[90m Int64        \u001b[0m\u001b[90m Int64     \u001b[0m\n",
       "─────┼──────────────────────────────────────────────\n",
       "   1 │ Croatia                         9          0\n",
       "   2 │ Czech Republic                  7          0\n",
       "   3 │ Denmark                         4          0\n",
       "   4 │ England                         5          0\n",
       "   5 │ France                          6          0\n",
       "   6 │ Germany                         4          0\n",
       "   7 │ Greece                          9          1\n",
       "   8 │ Italy                          16          0\n",
       "   9 │ Netherlands                     5          0\n",
       "  10 │ Poland                          7          1\n",
       "  11 │ Portugal                       12          0\n",
       "  12 │ Republic of Ireland             6          1\n",
       "  13 │ Russia                          6          0\n",
       "  14 │ Spain                          11          0\n",
       "  15 │ Sweden                          7          0\n",
       "  16 │ Ukraine                         5          0"
      ]
     },
     "metadata": {},
     "output_type": "display_data"
    }
   ],
   "source": [
    "discipline = euro12[!, [\"Team\", \"Yellow Cards\", \"Red Cards\"]]\n",
    "discipline"
   ]
  },
  {
   "cell_type": "markdown",
   "metadata": {},
   "source": [
    "### Step 8. Sort the teams by Red Cards, then to Yellow Cards"
   ]
  },
  {
   "cell_type": "code",
   "execution_count": 5,
   "metadata": {
    "collapsed": false,
    "scrolled": true
   },
   "outputs": [
    {
     "data": {
      "text/html": [
       "<div><div style = \"float: left;\"><span>16×3 DataFrame</span></div><div style = \"clear: both;\"></div></div><div class = \"data-frame\" style = \"overflow-x: scroll;\"><table class = \"data-frame\" style = \"margin-bottom: 6px;\"><thead><tr class = \"header\"><th class = \"rowNumber\" style = \"font-weight: bold; text-align: right;\">Row</th><th style = \"text-align: left;\">Team</th><th style = \"text-align: left;\">Yellow Cards</th><th style = \"text-align: left;\">Red Cards</th></tr><tr class = \"subheader headerLastRow\"><th class = \"rowNumber\" style = \"font-weight: bold; text-align: right;\"></th><th title = \"String31\" style = \"text-align: left;\">String31</th><th title = \"Int64\" style = \"text-align: left;\">Int64</th><th title = \"Int64\" style = \"text-align: left;\">Int64</th></tr></thead><tbody><tr><td class = \"rowNumber\" style = \"font-weight: bold; text-align: right;\">1</td><td style = \"text-align: left;\">Greece</td><td style = \"text-align: right;\">9</td><td style = \"text-align: right;\">1</td></tr><tr><td class = \"rowNumber\" style = \"font-weight: bold; text-align: right;\">2</td><td style = \"text-align: left;\">Poland</td><td style = \"text-align: right;\">7</td><td style = \"text-align: right;\">1</td></tr><tr><td class = \"rowNumber\" style = \"font-weight: bold; text-align: right;\">3</td><td style = \"text-align: left;\">Republic of Ireland</td><td style = \"text-align: right;\">6</td><td style = \"text-align: right;\">1</td></tr><tr><td class = \"rowNumber\" style = \"font-weight: bold; text-align: right;\">4</td><td style = \"text-align: left;\">Italy</td><td style = \"text-align: right;\">16</td><td style = \"text-align: right;\">0</td></tr><tr><td class = \"rowNumber\" style = \"font-weight: bold; text-align: right;\">5</td><td style = \"text-align: left;\">Portugal</td><td style = \"text-align: right;\">12</td><td style = \"text-align: right;\">0</td></tr><tr><td class = \"rowNumber\" style = \"font-weight: bold; text-align: right;\">6</td><td style = \"text-align: left;\">Spain</td><td style = \"text-align: right;\">11</td><td style = \"text-align: right;\">0</td></tr><tr><td class = \"rowNumber\" style = \"font-weight: bold; text-align: right;\">7</td><td style = \"text-align: left;\">Croatia</td><td style = \"text-align: right;\">9</td><td style = \"text-align: right;\">0</td></tr><tr><td class = \"rowNumber\" style = \"font-weight: bold; text-align: right;\">8</td><td style = \"text-align: left;\">Czech Republic</td><td style = \"text-align: right;\">7</td><td style = \"text-align: right;\">0</td></tr><tr><td class = \"rowNumber\" style = \"font-weight: bold; text-align: right;\">9</td><td style = \"text-align: left;\">Sweden</td><td style = \"text-align: right;\">7</td><td style = \"text-align: right;\">0</td></tr><tr><td class = \"rowNumber\" style = \"font-weight: bold; text-align: right;\">10</td><td style = \"text-align: left;\">France</td><td style = \"text-align: right;\">6</td><td style = \"text-align: right;\">0</td></tr><tr><td class = \"rowNumber\" style = \"font-weight: bold; text-align: right;\">11</td><td style = \"text-align: left;\">Russia</td><td style = \"text-align: right;\">6</td><td style = \"text-align: right;\">0</td></tr><tr><td class = \"rowNumber\" style = \"font-weight: bold; text-align: right;\">12</td><td style = \"text-align: left;\">England</td><td style = \"text-align: right;\">5</td><td style = \"text-align: right;\">0</td></tr><tr><td class = \"rowNumber\" style = \"font-weight: bold; text-align: right;\">13</td><td style = \"text-align: left;\">Netherlands</td><td style = \"text-align: right;\">5</td><td style = \"text-align: right;\">0</td></tr><tr><td class = \"rowNumber\" style = \"font-weight: bold; text-align: right;\">14</td><td style = \"text-align: left;\">Ukraine</td><td style = \"text-align: right;\">5</td><td style = \"text-align: right;\">0</td></tr><tr><td class = \"rowNumber\" style = \"font-weight: bold; text-align: right;\">15</td><td style = \"text-align: left;\">Denmark</td><td style = \"text-align: right;\">4</td><td style = \"text-align: right;\">0</td></tr><tr><td class = \"rowNumber\" style = \"font-weight: bold; text-align: right;\">16</td><td style = \"text-align: left;\">Germany</td><td style = \"text-align: right;\">4</td><td style = \"text-align: right;\">0</td></tr></tbody></table></div>"
      ],
      "text/latex": [
       "\\begin{tabular}{r|ccc}\n",
       "\t& Team & Yellow Cards & Red Cards\\\\\n",
       "\t\\hline\n",
       "\t& String31 & Int64 & Int64\\\\\n",
       "\t\\hline\n",
       "\t1 & Greece & 9 & 1 \\\\\n",
       "\t2 & Poland & 7 & 1 \\\\\n",
       "\t3 & Republic of Ireland & 6 & 1 \\\\\n",
       "\t4 & Italy & 16 & 0 \\\\\n",
       "\t5 & Portugal & 12 & 0 \\\\\n",
       "\t6 & Spain & 11 & 0 \\\\\n",
       "\t7 & Croatia & 9 & 0 \\\\\n",
       "\t8 & Czech Republic & 7 & 0 \\\\\n",
       "\t9 & Sweden & 7 & 0 \\\\\n",
       "\t10 & France & 6 & 0 \\\\\n",
       "\t11 & Russia & 6 & 0 \\\\\n",
       "\t12 & England & 5 & 0 \\\\\n",
       "\t13 & Netherlands & 5 & 0 \\\\\n",
       "\t14 & Ukraine & 5 & 0 \\\\\n",
       "\t15 & Denmark & 4 & 0 \\\\\n",
       "\t16 & Germany & 4 & 0 \\\\\n",
       "\\end{tabular}\n"
      ],
      "text/plain": [
       "\u001b[1m16×3 DataFrame\u001b[0m\n",
       "\u001b[1m Row \u001b[0m│\u001b[1m Team                \u001b[0m\u001b[1m Yellow Cards \u001b[0m\u001b[1m Red Cards \u001b[0m\n",
       "     │\u001b[90m String31            \u001b[0m\u001b[90m Int64        \u001b[0m\u001b[90m Int64     \u001b[0m\n",
       "─────┼──────────────────────────────────────────────\n",
       "   1 │ Greece                          9          1\n",
       "   2 │ Poland                          7          1\n",
       "   3 │ Republic of Ireland             6          1\n",
       "   4 │ Italy                          16          0\n",
       "   5 │ Portugal                       12          0\n",
       "   6 │ Spain                          11          0\n",
       "   7 │ Croatia                         9          0\n",
       "   8 │ Czech Republic                  7          0\n",
       "   9 │ Sweden                          7          0\n",
       "  10 │ France                          6          0\n",
       "  11 │ Russia                          6          0\n",
       "  12 │ England                         5          0\n",
       "  13 │ Netherlands                     5          0\n",
       "  14 │ Ukraine                         5          0\n",
       "  15 │ Denmark                         4          0\n",
       "  16 │ Germany                         4          0"
      ]
     },
     "metadata": {},
     "output_type": "display_data"
    }
   ],
   "source": [
    "sort(discipline, [\"Red Cards\", \"Yellow Cards\"], rev=true)"
   ]
  },
  {
   "cell_type": "markdown",
   "metadata": {},
   "source": [
    "### Step 9. Calculate the mean Yellow Cards given per Team"
   ]
  },
  {
   "cell_type": "code",
   "execution_count": 9,
   "metadata": {},
   "outputs": [
    {
     "data": {
      "text/plain": [
       "7.0"
      ]
     },
     "metadata": {},
     "output_type": "display_data"
    }
   ],
   "source": [
    "round(mean(discipline[!, \"Yellow Cards\"]), digits=0)"
   ]
  },
  {
   "cell_type": "markdown",
   "metadata": {},
   "source": [
    "### Step 10. Filter teams that scored more than 6 goals"
   ]
  },
  {
   "cell_type": "code",
   "execution_count": 11,
   "metadata": {
    "collapsed": false
   },
   "outputs": [
    {
     "data": {
      "text/html": [
       "<div><div style = \"float: left;\"><span>2×35 DataFrame</span></div><div style = \"clear: both;\"></div></div><div class = \"data-frame\" style = \"overflow-x: scroll;\"><table class = \"data-frame\" style = \"margin-bottom: 6px;\"><thead><tr class = \"header\"><th class = \"rowNumber\" style = \"font-weight: bold; text-align: right;\">Row</th><th style = \"text-align: left;\">Team</th><th style = \"text-align: left;\">Goals</th><th style = \"text-align: left;\">Shots on target</th><th style = \"text-align: left;\">Shots off target</th><th style = \"text-align: left;\">Shooting Accuracy</th><th style = \"text-align: left;\">% Goals-to-shots</th><th style = \"text-align: left;\">Total shots (inc. Blocked)</th><th style = \"text-align: left;\">Hit Woodwork</th><th style = \"text-align: left;\">Penalty goals</th><th style = \"text-align: left;\">Penalties not scored</th><th style = \"text-align: left;\">Headed goals</th><th style = \"text-align: left;\">Passes</th><th style = \"text-align: left;\">Passes completed</th><th style = \"text-align: left;\">Passing Accuracy</th><th style = \"text-align: left;\">Touches</th><th style = \"text-align: left;\">Crosses</th><th style = \"text-align: left;\">Dribbles</th><th style = \"text-align: left;\">Corners Taken</th><th style = \"text-align: left;\">Tackles</th><th style = \"text-align: left;\">Clearances</th><th style = \"text-align: left;\">Interceptions</th><th style = \"text-align: left;\">Clearances off line</th><th style = \"text-align: left;\">Clean Sheets</th><th style = \"text-align: left;\">Blocks</th><th style = \"text-align: left;\">Goals conceded</th><th style = \"text-align: left;\">Saves made</th><th style = \"text-align: left;\">Saves-to-shots ratio</th><th style = \"text-align: left;\">Fouls Won</th><th style = \"text-align: left;\">Fouls Conceded</th><th style = \"text-align: left;\">Offsides</th><th style = \"text-align: left;\">Yellow Cards</th><th style = \"text-align: left;\">Red Cards</th><th style = \"text-align: left;\">Subs on</th><th style = \"text-align: left;\">Subs off</th><th style = \"text-align: left;\">Players Used</th></tr><tr class = \"subheader headerLastRow\"><th class = \"rowNumber\" style = \"font-weight: bold; text-align: right;\"></th><th title = \"String31\" style = \"text-align: left;\">String31</th><th title = \"Int64\" style = \"text-align: left;\">Int64</th><th title = \"Int64\" style = \"text-align: left;\">Int64</th><th title = \"Int64\" style = \"text-align: left;\">Int64</th><th title = \"String7\" style = \"text-align: left;\">String7</th><th title = \"String7\" style = \"text-align: left;\">String7</th><th title = \"Int64\" style = \"text-align: left;\">Int64</th><th title = \"Int64\" style = \"text-align: left;\">Int64</th><th title = \"Int64\" style = \"text-align: left;\">Int64</th><th title = \"Int64\" style = \"text-align: left;\">Int64</th><th title = \"Int64\" style = \"text-align: left;\">Int64</th><th title = \"Int64\" style = \"text-align: left;\">Int64</th><th title = \"Int64\" style = \"text-align: left;\">Int64</th><th title = \"String7\" style = \"text-align: left;\">String7</th><th title = \"Int64\" style = \"text-align: left;\">Int64</th><th title = \"Int64\" style = \"text-align: left;\">Int64</th><th title = \"Int64\" style = \"text-align: left;\">Int64</th><th title = \"Int64\" style = \"text-align: left;\">Int64</th><th title = \"Int64\" style = \"text-align: left;\">Int64</th><th title = \"Int64\" style = \"text-align: left;\">Int64</th><th title = \"Int64\" style = \"text-align: left;\">Int64</th><th title = \"Union{Missing, Int64}\" style = \"text-align: left;\">Int64?</th><th title = \"Int64\" style = \"text-align: left;\">Int64</th><th title = \"Int64\" style = \"text-align: left;\">Int64</th><th title = \"Int64\" style = \"text-align: left;\">Int64</th><th title = \"Int64\" style = \"text-align: left;\">Int64</th><th title = \"String7\" style = \"text-align: left;\">String7</th><th title = \"Int64\" style = \"text-align: left;\">Int64</th><th title = \"Int64\" style = \"text-align: left;\">Int64</th><th title = \"Int64\" style = \"text-align: left;\">Int64</th><th title = \"Int64\" style = \"text-align: left;\">Int64</th><th title = \"Int64\" style = \"text-align: left;\">Int64</th><th title = \"Int64\" style = \"text-align: left;\">Int64</th><th title = \"Int64\" style = \"text-align: left;\">Int64</th><th title = \"Int64\" style = \"text-align: left;\">Int64</th></tr></thead><tbody><tr><td class = \"rowNumber\" style = \"font-weight: bold; text-align: right;\">1</td><td style = \"text-align: left;\">Germany</td><td style = \"text-align: right;\">10</td><td style = \"text-align: right;\">32</td><td style = \"text-align: right;\">32</td><td style = \"text-align: left;\">47.8%</td><td style = \"text-align: left;\">15.6%</td><td style = \"text-align: right;\">80</td><td style = \"text-align: right;\">2</td><td style = \"text-align: right;\">1</td><td style = \"text-align: right;\">0</td><td style = \"text-align: right;\">2</td><td style = \"text-align: right;\">2774</td><td style = \"text-align: right;\">2427</td><td style = \"text-align: left;\">87.4%</td><td style = \"text-align: right;\">3761</td><td style = \"text-align: right;\">101</td><td style = \"text-align: right;\">60</td><td style = \"text-align: right;\">35</td><td style = \"text-align: right;\">91</td><td style = \"text-align: right;\">73</td><td style = \"text-align: right;\">69</td><td style = \"text-align: right;\">0</td><td style = \"text-align: right;\">1</td><td style = \"text-align: right;\">11</td><td style = \"text-align: right;\">6</td><td style = \"text-align: right;\">10</td><td style = \"text-align: left;\">62.6%</td><td style = \"text-align: right;\">63</td><td style = \"text-align: right;\">49</td><td style = \"text-align: right;\">12</td><td style = \"text-align: right;\">4</td><td style = \"text-align: right;\">0</td><td style = \"text-align: right;\">15</td><td style = \"text-align: right;\">15</td><td style = \"text-align: right;\">17</td></tr><tr><td class = \"rowNumber\" style = \"font-weight: bold; text-align: right;\">2</td><td style = \"text-align: left;\">Spain</td><td style = \"text-align: right;\">12</td><td style = \"text-align: right;\">42</td><td style = \"text-align: right;\">33</td><td style = \"text-align: left;\">55.9%</td><td style = \"text-align: left;\">16.0%</td><td style = \"text-align: right;\">100</td><td style = \"text-align: right;\">0</td><td style = \"text-align: right;\">1</td><td style = \"text-align: right;\">0</td><td style = \"text-align: right;\">2</td><td style = \"text-align: right;\">4317</td><td style = \"text-align: right;\">3820</td><td style = \"text-align: left;\">88.4%</td><td style = \"text-align: right;\">5585</td><td style = \"text-align: right;\">69</td><td style = \"text-align: right;\">106</td><td style = \"text-align: right;\">44</td><td style = \"text-align: right;\">122</td><td style = \"text-align: right;\">102</td><td style = \"text-align: right;\">79</td><td style = \"text-align: right;\">0</td><td style = \"text-align: right;\">5</td><td style = \"text-align: right;\">8</td><td style = \"text-align: right;\">1</td><td style = \"text-align: right;\">15</td><td style = \"text-align: left;\">93.8%</td><td style = \"text-align: right;\">102</td><td style = \"text-align: right;\">83</td><td style = \"text-align: right;\">19</td><td style = \"text-align: right;\">11</td><td style = \"text-align: right;\">0</td><td style = \"text-align: right;\">17</td><td style = \"text-align: right;\">17</td><td style = \"text-align: right;\">18</td></tr></tbody></table></div>"
      ],
      "text/latex": [
       "\\begin{tabular}{r|ccccccc}\n",
       "\t& Team & Goals & Shots on target & Shots off target & Shooting Accuracy & \\% Goals-to-shots & \\\\\n",
       "\t\\hline\n",
       "\t& String31 & Int64 & Int64 & Int64 & String7 & String7 & \\\\\n",
       "\t\\hline\n",
       "\t1 & Germany & 10 & 32 & 32 & 47.8\\% & 15.6\\% & $\\dots$ \\\\\n",
       "\t2 & Spain & 12 & 42 & 33 & 55.9\\% & 16.0\\% & $\\dots$ \\\\\n",
       "\\end{tabular}\n"
      ],
      "text/plain": [
       "\u001b[1m2×35 DataFrame\u001b[0m\n",
       "\u001b[1m Row \u001b[0m│\u001b[1m Team     \u001b[0m\u001b[1m Goals \u001b[0m\u001b[1m Shots on target \u001b[0m\u001b[1m Shots off target \u001b[0m\u001b[1m Shooting Accuracy \u001b[0m\u001b[1m \u001b[0m ⋯\n",
       "     │\u001b[90m String31 \u001b[0m\u001b[90m Int64 \u001b[0m\u001b[90m Int64           \u001b[0m\u001b[90m Int64            \u001b[0m\u001b[90m String7           \u001b[0m\u001b[90m \u001b[0m ⋯\n",
       "─────┼──────────────────────────────────────────────────────────────────────────\n",
       "   1 │ Germany      10               32                32  47.8%               ⋯\n",
       "   2 │ Spain        12               42                33  55.9%\n",
       "\u001b[36m                                                              30 columns omitted\u001b[0m"
      ]
     },
     "metadata": {},
     "output_type": "display_data"
    }
   ],
   "source": [
    "euro12[euro12[!, :Goals] .> 6, :]"
   ]
  },
  {
   "cell_type": "markdown",
   "metadata": {},
   "source": [
    "### Step 11. Select the teams that start with G"
   ]
  },
  {
   "cell_type": "code",
   "execution_count": 14,
   "metadata": {
    "collapsed": false
   },
   "outputs": [
    {
     "data": {
      "text/html": [
       "<div><div style = \"float: left;\"><span>2×35 DataFrame</span></div><div style = \"clear: both;\"></div></div><div class = \"data-frame\" style = \"overflow-x: scroll;\"><table class = \"data-frame\" style = \"margin-bottom: 6px;\"><thead><tr class = \"header\"><th class = \"rowNumber\" style = \"font-weight: bold; text-align: right;\">Row</th><th style = \"text-align: left;\">Team</th><th style = \"text-align: left;\">Goals</th><th style = \"text-align: left;\">Shots on target</th><th style = \"text-align: left;\">Shots off target</th><th style = \"text-align: left;\">Shooting Accuracy</th><th style = \"text-align: left;\">% Goals-to-shots</th><th style = \"text-align: left;\">Total shots (inc. Blocked)</th><th style = \"text-align: left;\">Hit Woodwork</th><th style = \"text-align: left;\">Penalty goals</th><th style = \"text-align: left;\">Penalties not scored</th><th style = \"text-align: left;\">Headed goals</th><th style = \"text-align: left;\">Passes</th><th style = \"text-align: left;\">Passes completed</th><th style = \"text-align: left;\">Passing Accuracy</th><th style = \"text-align: left;\">Touches</th><th style = \"text-align: left;\">Crosses</th><th style = \"text-align: left;\">Dribbles</th><th style = \"text-align: left;\">Corners Taken</th><th style = \"text-align: left;\">Tackles</th><th style = \"text-align: left;\">Clearances</th><th style = \"text-align: left;\">Interceptions</th><th style = \"text-align: left;\">Clearances off line</th><th style = \"text-align: left;\">Clean Sheets</th><th style = \"text-align: left;\">Blocks</th><th style = \"text-align: left;\">Goals conceded</th><th style = \"text-align: left;\">Saves made</th><th style = \"text-align: left;\">Saves-to-shots ratio</th><th style = \"text-align: left;\">Fouls Won</th><th style = \"text-align: left;\">Fouls Conceded</th><th style = \"text-align: left;\">Offsides</th><th style = \"text-align: left;\">Yellow Cards</th><th style = \"text-align: left;\">Red Cards</th><th style = \"text-align: left;\">Subs on</th><th style = \"text-align: left;\">Subs off</th><th style = \"text-align: left;\">Players Used</th></tr><tr class = \"subheader headerLastRow\"><th class = \"rowNumber\" style = \"font-weight: bold; text-align: right;\"></th><th title = \"String31\" style = \"text-align: left;\">String31</th><th title = \"Int64\" style = \"text-align: left;\">Int64</th><th title = \"Int64\" style = \"text-align: left;\">Int64</th><th title = \"Int64\" style = \"text-align: left;\">Int64</th><th title = \"String7\" style = \"text-align: left;\">String7</th><th title = \"String7\" style = \"text-align: left;\">String7</th><th title = \"Int64\" style = \"text-align: left;\">Int64</th><th title = \"Int64\" style = \"text-align: left;\">Int64</th><th title = \"Int64\" style = \"text-align: left;\">Int64</th><th title = \"Int64\" style = \"text-align: left;\">Int64</th><th title = \"Int64\" style = \"text-align: left;\">Int64</th><th title = \"Int64\" style = \"text-align: left;\">Int64</th><th title = \"Int64\" style = \"text-align: left;\">Int64</th><th title = \"String7\" style = \"text-align: left;\">String7</th><th title = \"Int64\" style = \"text-align: left;\">Int64</th><th title = \"Int64\" style = \"text-align: left;\">Int64</th><th title = \"Int64\" style = \"text-align: left;\">Int64</th><th title = \"Int64\" style = \"text-align: left;\">Int64</th><th title = \"Int64\" style = \"text-align: left;\">Int64</th><th title = \"Int64\" style = \"text-align: left;\">Int64</th><th title = \"Int64\" style = \"text-align: left;\">Int64</th><th title = \"Union{Missing, Int64}\" style = \"text-align: left;\">Int64?</th><th title = \"Int64\" style = \"text-align: left;\">Int64</th><th title = \"Int64\" style = \"text-align: left;\">Int64</th><th title = \"Int64\" style = \"text-align: left;\">Int64</th><th title = \"Int64\" style = \"text-align: left;\">Int64</th><th title = \"String7\" style = \"text-align: left;\">String7</th><th title = \"Int64\" style = \"text-align: left;\">Int64</th><th title = \"Int64\" style = \"text-align: left;\">Int64</th><th title = \"Int64\" style = \"text-align: left;\">Int64</th><th title = \"Int64\" style = \"text-align: left;\">Int64</th><th title = \"Int64\" style = \"text-align: left;\">Int64</th><th title = \"Int64\" style = \"text-align: left;\">Int64</th><th title = \"Int64\" style = \"text-align: left;\">Int64</th><th title = \"Int64\" style = \"text-align: left;\">Int64</th></tr></thead><tbody><tr><td class = \"rowNumber\" style = \"font-weight: bold; text-align: right;\">1</td><td style = \"text-align: left;\">Germany</td><td style = \"text-align: right;\">10</td><td style = \"text-align: right;\">32</td><td style = \"text-align: right;\">32</td><td style = \"text-align: left;\">47.8%</td><td style = \"text-align: left;\">15.6%</td><td style = \"text-align: right;\">80</td><td style = \"text-align: right;\">2</td><td style = \"text-align: right;\">1</td><td style = \"text-align: right;\">0</td><td style = \"text-align: right;\">2</td><td style = \"text-align: right;\">2774</td><td style = \"text-align: right;\">2427</td><td style = \"text-align: left;\">87.4%</td><td style = \"text-align: right;\">3761</td><td style = \"text-align: right;\">101</td><td style = \"text-align: right;\">60</td><td style = \"text-align: right;\">35</td><td style = \"text-align: right;\">91</td><td style = \"text-align: right;\">73</td><td style = \"text-align: right;\">69</td><td style = \"text-align: right;\">0</td><td style = \"text-align: right;\">1</td><td style = \"text-align: right;\">11</td><td style = \"text-align: right;\">6</td><td style = \"text-align: right;\">10</td><td style = \"text-align: left;\">62.6%</td><td style = \"text-align: right;\">63</td><td style = \"text-align: right;\">49</td><td style = \"text-align: right;\">12</td><td style = \"text-align: right;\">4</td><td style = \"text-align: right;\">0</td><td style = \"text-align: right;\">15</td><td style = \"text-align: right;\">15</td><td style = \"text-align: right;\">17</td></tr><tr><td class = \"rowNumber\" style = \"font-weight: bold; text-align: right;\">2</td><td style = \"text-align: left;\">Greece</td><td style = \"text-align: right;\">5</td><td style = \"text-align: right;\">8</td><td style = \"text-align: right;\">18</td><td style = \"text-align: left;\">30.7%</td><td style = \"text-align: left;\">19.2%</td><td style = \"text-align: right;\">32</td><td style = \"text-align: right;\">1</td><td style = \"text-align: right;\">1</td><td style = \"text-align: right;\">1</td><td style = \"text-align: right;\">0</td><td style = \"text-align: right;\">1187</td><td style = \"text-align: right;\">911</td><td style = \"text-align: left;\">76.7%</td><td style = \"text-align: right;\">2016</td><td style = \"text-align: right;\">52</td><td style = \"text-align: right;\">53</td><td style = \"text-align: right;\">10</td><td style = \"text-align: right;\">65</td><td style = \"text-align: right;\">123</td><td style = \"text-align: right;\">87</td><td style = \"text-align: right;\">0</td><td style = \"text-align: right;\">1</td><td style = \"text-align: right;\">23</td><td style = \"text-align: right;\">7</td><td style = \"text-align: right;\">13</td><td style = \"text-align: left;\">65.1%</td><td style = \"text-align: right;\">67</td><td style = \"text-align: right;\">48</td><td style = \"text-align: right;\">12</td><td style = \"text-align: right;\">9</td><td style = \"text-align: right;\">1</td><td style = \"text-align: right;\">12</td><td style = \"text-align: right;\">12</td><td style = \"text-align: right;\">20</td></tr></tbody></table></div>"
      ],
      "text/latex": [
       "\\begin{tabular}{r|ccccccc}\n",
       "\t& Team & Goals & Shots on target & Shots off target & Shooting Accuracy & \\% Goals-to-shots & \\\\\n",
       "\t\\hline\n",
       "\t& String31 & Int64 & Int64 & Int64 & String7 & String7 & \\\\\n",
       "\t\\hline\n",
       "\t1 & Germany & 10 & 32 & 32 & 47.8\\% & 15.6\\% & $\\dots$ \\\\\n",
       "\t2 & Greece & 5 & 8 & 18 & 30.7\\% & 19.2\\% & $\\dots$ \\\\\n",
       "\\end{tabular}\n"
      ],
      "text/plain": [
       "\u001b[1m2×35 DataFrame\u001b[0m\n",
       "\u001b[1m Row \u001b[0m│\u001b[1m Team     \u001b[0m\u001b[1m Goals \u001b[0m\u001b[1m Shots on target \u001b[0m\u001b[1m Shots off target \u001b[0m\u001b[1m Shooting Accuracy \u001b[0m\u001b[1m \u001b[0m ⋯\n",
       "     │\u001b[90m String31 \u001b[0m\u001b[90m Int64 \u001b[0m\u001b[90m Int64           \u001b[0m\u001b[90m Int64            \u001b[0m\u001b[90m String7           \u001b[0m\u001b[90m \u001b[0m ⋯\n",
       "─────┼──────────────────────────────────────────────────────────────────────────\n",
       "   1 │ Germany      10               32                32  47.8%               ⋯\n",
       "   2 │ Greece        5                8                18  30.7%\n",
       "\u001b[36m                                                              30 columns omitted\u001b[0m"
      ]
     },
     "metadata": {},
     "output_type": "display_data"
    }
   ],
   "source": [
    "euro12[first.(euro12[!, :Team], 1) .== \"G\", :]"
   ]
  },
  {
   "cell_type": "markdown",
   "metadata": {},
   "source": [
    "### Step 12. Select the first 7 columns"
   ]
  },
  {
   "cell_type": "code",
   "execution_count": 16,
   "metadata": {
    "collapsed": false
   },
   "outputs": [
    {
     "data": {
      "text/html": [
       "<div><div style = \"float: left;\"><span>16×7 DataFrame</span></div><div style = \"clear: both;\"></div></div><div class = \"data-frame\" style = \"overflow-x: scroll;\"><table class = \"data-frame\" style = \"margin-bottom: 6px;\"><thead><tr class = \"header\"><th class = \"rowNumber\" style = \"font-weight: bold; text-align: right;\">Row</th><th style = \"text-align: left;\">Team</th><th style = \"text-align: left;\">Goals</th><th style = \"text-align: left;\">Shots on target</th><th style = \"text-align: left;\">Shots off target</th><th style = \"text-align: left;\">Shooting Accuracy</th><th style = \"text-align: left;\">% Goals-to-shots</th><th style = \"text-align: left;\">Total shots (inc. Blocked)</th></tr><tr class = \"subheader headerLastRow\"><th class = \"rowNumber\" style = \"font-weight: bold; text-align: right;\"></th><th title = \"String31\" style = \"text-align: left;\">String31</th><th title = \"Int64\" style = \"text-align: left;\">Int64</th><th title = \"Int64\" style = \"text-align: left;\">Int64</th><th title = \"Int64\" style = \"text-align: left;\">Int64</th><th title = \"String7\" style = \"text-align: left;\">String7</th><th title = \"String7\" style = \"text-align: left;\">String7</th><th title = \"Int64\" style = \"text-align: left;\">Int64</th></tr></thead><tbody><tr><td class = \"rowNumber\" style = \"font-weight: bold; text-align: right;\">1</td><td style = \"text-align: left;\">Croatia</td><td style = \"text-align: right;\">4</td><td style = \"text-align: right;\">13</td><td style = \"text-align: right;\">12</td><td style = \"text-align: left;\">51.9%</td><td style = \"text-align: left;\">16.0%</td><td style = \"text-align: right;\">32</td></tr><tr><td class = \"rowNumber\" style = \"font-weight: bold; text-align: right;\">2</td><td style = \"text-align: left;\">Czech Republic</td><td style = \"text-align: right;\">4</td><td style = \"text-align: right;\">13</td><td style = \"text-align: right;\">18</td><td style = \"text-align: left;\">41.9%</td><td style = \"text-align: left;\">12.9%</td><td style = \"text-align: right;\">39</td></tr><tr><td class = \"rowNumber\" style = \"font-weight: bold; text-align: right;\">3</td><td style = \"text-align: left;\">Denmark</td><td style = \"text-align: right;\">4</td><td style = \"text-align: right;\">10</td><td style = \"text-align: right;\">10</td><td style = \"text-align: left;\">50.0%</td><td style = \"text-align: left;\">20.0%</td><td style = \"text-align: right;\">27</td></tr><tr><td class = \"rowNumber\" style = \"font-weight: bold; text-align: right;\">4</td><td style = \"text-align: left;\">England</td><td style = \"text-align: right;\">5</td><td style = \"text-align: right;\">11</td><td style = \"text-align: right;\">18</td><td style = \"text-align: left;\">50.0%</td><td style = \"text-align: left;\">17.2%</td><td style = \"text-align: right;\">40</td></tr><tr><td class = \"rowNumber\" style = \"font-weight: bold; text-align: right;\">5</td><td style = \"text-align: left;\">France</td><td style = \"text-align: right;\">3</td><td style = \"text-align: right;\">22</td><td style = \"text-align: right;\">24</td><td style = \"text-align: left;\">37.9%</td><td style = \"text-align: left;\">6.5%</td><td style = \"text-align: right;\">65</td></tr><tr><td class = \"rowNumber\" style = \"font-weight: bold; text-align: right;\">6</td><td style = \"text-align: left;\">Germany</td><td style = \"text-align: right;\">10</td><td style = \"text-align: right;\">32</td><td style = \"text-align: right;\">32</td><td style = \"text-align: left;\">47.8%</td><td style = \"text-align: left;\">15.6%</td><td style = \"text-align: right;\">80</td></tr><tr><td class = \"rowNumber\" style = \"font-weight: bold; text-align: right;\">7</td><td style = \"text-align: left;\">Greece</td><td style = \"text-align: right;\">5</td><td style = \"text-align: right;\">8</td><td style = \"text-align: right;\">18</td><td style = \"text-align: left;\">30.7%</td><td style = \"text-align: left;\">19.2%</td><td style = \"text-align: right;\">32</td></tr><tr><td class = \"rowNumber\" style = \"font-weight: bold; text-align: right;\">8</td><td style = \"text-align: left;\">Italy</td><td style = \"text-align: right;\">6</td><td style = \"text-align: right;\">34</td><td style = \"text-align: right;\">45</td><td style = \"text-align: left;\">43.0%</td><td style = \"text-align: left;\">7.5%</td><td style = \"text-align: right;\">110</td></tr><tr><td class = \"rowNumber\" style = \"font-weight: bold; text-align: right;\">9</td><td style = \"text-align: left;\">Netherlands</td><td style = \"text-align: right;\">2</td><td style = \"text-align: right;\">12</td><td style = \"text-align: right;\">36</td><td style = \"text-align: left;\">25.0%</td><td style = \"text-align: left;\">4.1%</td><td style = \"text-align: right;\">60</td></tr><tr><td class = \"rowNumber\" style = \"font-weight: bold; text-align: right;\">10</td><td style = \"text-align: left;\">Poland</td><td style = \"text-align: right;\">2</td><td style = \"text-align: right;\">15</td><td style = \"text-align: right;\">23</td><td style = \"text-align: left;\">39.4%</td><td style = \"text-align: left;\">5.2%</td><td style = \"text-align: right;\">48</td></tr><tr><td class = \"rowNumber\" style = \"font-weight: bold; text-align: right;\">11</td><td style = \"text-align: left;\">Portugal</td><td style = \"text-align: right;\">6</td><td style = \"text-align: right;\">22</td><td style = \"text-align: right;\">42</td><td style = \"text-align: left;\">34.3%</td><td style = \"text-align: left;\">9.3%</td><td style = \"text-align: right;\">82</td></tr><tr><td class = \"rowNumber\" style = \"font-weight: bold; text-align: right;\">12</td><td style = \"text-align: left;\">Republic of Ireland</td><td style = \"text-align: right;\">1</td><td style = \"text-align: right;\">7</td><td style = \"text-align: right;\">12</td><td style = \"text-align: left;\">36.8%</td><td style = \"text-align: left;\">5.2%</td><td style = \"text-align: right;\">28</td></tr><tr><td class = \"rowNumber\" style = \"font-weight: bold; text-align: right;\">13</td><td style = \"text-align: left;\">Russia</td><td style = \"text-align: right;\">5</td><td style = \"text-align: right;\">9</td><td style = \"text-align: right;\">31</td><td style = \"text-align: left;\">22.5%</td><td style = \"text-align: left;\">12.5%</td><td style = \"text-align: right;\">59</td></tr><tr><td class = \"rowNumber\" style = \"font-weight: bold; text-align: right;\">14</td><td style = \"text-align: left;\">Spain</td><td style = \"text-align: right;\">12</td><td style = \"text-align: right;\">42</td><td style = \"text-align: right;\">33</td><td style = \"text-align: left;\">55.9%</td><td style = \"text-align: left;\">16.0%</td><td style = \"text-align: right;\">100</td></tr><tr><td class = \"rowNumber\" style = \"font-weight: bold; text-align: right;\">15</td><td style = \"text-align: left;\">Sweden</td><td style = \"text-align: right;\">5</td><td style = \"text-align: right;\">17</td><td style = \"text-align: right;\">19</td><td style = \"text-align: left;\">47.2%</td><td style = \"text-align: left;\">13.8%</td><td style = \"text-align: right;\">39</td></tr><tr><td class = \"rowNumber\" style = \"font-weight: bold; text-align: right;\">16</td><td style = \"text-align: left;\">Ukraine</td><td style = \"text-align: right;\">2</td><td style = \"text-align: right;\">7</td><td style = \"text-align: right;\">26</td><td style = \"text-align: left;\">21.2%</td><td style = \"text-align: left;\">6.0%</td><td style = \"text-align: right;\">38</td></tr></tbody></table></div>"
      ],
      "text/latex": [
       "\\begin{tabular}{r|cccccc}\n",
       "\t& Team & Goals & Shots on target & Shots off target & Shooting Accuracy & \\\\\n",
       "\t\\hline\n",
       "\t& String31 & Int64 & Int64 & Int64 & String7 & \\\\\n",
       "\t\\hline\n",
       "\t1 & Croatia & 4 & 13 & 12 & 51.9\\% & $\\dots$ \\\\\n",
       "\t2 & Czech Republic & 4 & 13 & 18 & 41.9\\% & $\\dots$ \\\\\n",
       "\t3 & Denmark & 4 & 10 & 10 & 50.0\\% & $\\dots$ \\\\\n",
       "\t4 & England & 5 & 11 & 18 & 50.0\\% & $\\dots$ \\\\\n",
       "\t5 & France & 3 & 22 & 24 & 37.9\\% & $\\dots$ \\\\\n",
       "\t6 & Germany & 10 & 32 & 32 & 47.8\\% & $\\dots$ \\\\\n",
       "\t7 & Greece & 5 & 8 & 18 & 30.7\\% & $\\dots$ \\\\\n",
       "\t8 & Italy & 6 & 34 & 45 & 43.0\\% & $\\dots$ \\\\\n",
       "\t9 & Netherlands & 2 & 12 & 36 & 25.0\\% & $\\dots$ \\\\\n",
       "\t10 & Poland & 2 & 15 & 23 & 39.4\\% & $\\dots$ \\\\\n",
       "\t11 & Portugal & 6 & 22 & 42 & 34.3\\% & $\\dots$ \\\\\n",
       "\t12 & Republic of Ireland & 1 & 7 & 12 & 36.8\\% & $\\dots$ \\\\\n",
       "\t13 & Russia & 5 & 9 & 31 & 22.5\\% & $\\dots$ \\\\\n",
       "\t14 & Spain & 12 & 42 & 33 & 55.9\\% & $\\dots$ \\\\\n",
       "\t15 & Sweden & 5 & 17 & 19 & 47.2\\% & $\\dots$ \\\\\n",
       "\t16 & Ukraine & 2 & 7 & 26 & 21.2\\% & $\\dots$ \\\\\n",
       "\\end{tabular}\n"
      ],
      "text/plain": [
       "\u001b[1m16×7 DataFrame\u001b[0m\n",
       "\u001b[1m Row \u001b[0m│\u001b[1m Team                \u001b[0m\u001b[1m Goals \u001b[0m\u001b[1m Shots on target \u001b[0m\u001b[1m Shots off target \u001b[0m\u001b[1m Shooting\u001b[0m ⋯\n",
       "     │\u001b[90m String31            \u001b[0m\u001b[90m Int64 \u001b[0m\u001b[90m Int64           \u001b[0m\u001b[90m Int64            \u001b[0m\u001b[90m String7 \u001b[0m ⋯\n",
       "─────┼──────────────────────────────────────────────────────────────────────────\n",
       "   1 │ Croatia                  4               13                12  51.9%    ⋯\n",
       "   2 │ Czech Republic           4               13                18  41.9%\n",
       "   3 │ Denmark                  4               10                10  50.0%\n",
       "   4 │ England                  5               11                18  50.0%\n",
       "   5 │ France                   3               22                24  37.9%    ⋯\n",
       "   6 │ Germany                 10               32                32  47.8%\n",
       "   7 │ Greece                   5                8                18  30.7%\n",
       "   8 │ Italy                    6               34                45  43.0%\n",
       "   9 │ Netherlands              2               12                36  25.0%    ⋯\n",
       "  10 │ Poland                   2               15                23  39.4%\n",
       "  11 │ Portugal                 6               22                42  34.3%\n",
       "  12 │ Republic of Ireland      1                7                12  36.8%\n",
       "  13 │ Russia                   5                9                31  22.5%    ⋯\n",
       "  14 │ Spain                   12               42                33  55.9%\n",
       "  15 │ Sweden                   5               17                19  47.2%\n",
       "  16 │ Ukraine                  2                7                26  21.2%\n",
       "\u001b[36m                                                               3 columns omitted\u001b[0m"
      ]
     },
     "metadata": {},
     "output_type": "display_data"
    }
   ],
   "source": [
    "euro12[!, 1:7]"
   ]
  },
  {
   "cell_type": "markdown",
   "metadata": {},
   "source": [
    "### Step 13. Select all columns except the last 3."
   ]
  },
  {
   "cell_type": "code",
   "execution_count": 20,
   "metadata": {
    "collapsed": false
   },
   "outputs": [
    {
     "data": {
      "text/html": [
       "<div><div style = \"float: left;\"><span>16×32 DataFrame</span></div><div style = \"clear: both;\"></div></div><div class = \"data-frame\" style = \"overflow-x: scroll;\"><table class = \"data-frame\" style = \"margin-bottom: 6px;\"><thead><tr class = \"header\"><th class = \"rowNumber\" style = \"font-weight: bold; text-align: right;\">Row</th><th style = \"text-align: left;\">Team</th><th style = \"text-align: left;\">Goals</th><th style = \"text-align: left;\">Shots on target</th><th style = \"text-align: left;\">Shots off target</th><th style = \"text-align: left;\">Shooting Accuracy</th><th style = \"text-align: left;\">% Goals-to-shots</th><th style = \"text-align: left;\">Total shots (inc. Blocked)</th><th style = \"text-align: left;\">Hit Woodwork</th><th style = \"text-align: left;\">Penalty goals</th><th style = \"text-align: left;\">Penalties not scored</th><th style = \"text-align: left;\">Headed goals</th><th style = \"text-align: left;\">Passes</th><th style = \"text-align: left;\">Passes completed</th><th style = \"text-align: left;\">Passing Accuracy</th><th style = \"text-align: left;\">Touches</th><th style = \"text-align: left;\">Crosses</th><th style = \"text-align: left;\">Dribbles</th><th style = \"text-align: left;\">Corners Taken</th><th style = \"text-align: left;\">Tackles</th><th style = \"text-align: left;\">Clearances</th><th style = \"text-align: left;\">Interceptions</th><th style = \"text-align: left;\">Clearances off line</th><th style = \"text-align: left;\">Clean Sheets</th><th style = \"text-align: left;\">Blocks</th><th style = \"text-align: left;\">Goals conceded</th><th style = \"text-align: left;\">Saves made</th><th style = \"text-align: left;\">Saves-to-shots ratio</th><th style = \"text-align: left;\">Fouls Won</th><th style = \"text-align: left;\">Fouls Conceded</th><th style = \"text-align: left;\">Offsides</th><th style = \"text-align: left;\">Yellow Cards</th><th style = \"text-align: left;\">Red Cards</th></tr><tr class = \"subheader headerLastRow\"><th class = \"rowNumber\" style = \"font-weight: bold; text-align: right;\"></th><th title = \"String31\" style = \"text-align: left;\">String31</th><th title = \"Int64\" style = \"text-align: left;\">Int64</th><th title = \"Int64\" style = \"text-align: left;\">Int64</th><th title = \"Int64\" style = \"text-align: left;\">Int64</th><th title = \"String7\" style = \"text-align: left;\">String7</th><th title = \"String7\" style = \"text-align: left;\">String7</th><th title = \"Int64\" style = \"text-align: left;\">Int64</th><th title = \"Int64\" style = \"text-align: left;\">Int64</th><th title = \"Int64\" style = \"text-align: left;\">Int64</th><th title = \"Int64\" style = \"text-align: left;\">Int64</th><th title = \"Int64\" style = \"text-align: left;\">Int64</th><th title = \"Int64\" style = \"text-align: left;\">Int64</th><th title = \"Int64\" style = \"text-align: left;\">Int64</th><th title = \"String7\" style = \"text-align: left;\">String7</th><th title = \"Int64\" style = \"text-align: left;\">Int64</th><th title = \"Int64\" style = \"text-align: left;\">Int64</th><th title = \"Int64\" style = \"text-align: left;\">Int64</th><th title = \"Int64\" style = \"text-align: left;\">Int64</th><th title = \"Int64\" style = \"text-align: left;\">Int64</th><th title = \"Int64\" style = \"text-align: left;\">Int64</th><th title = \"Int64\" style = \"text-align: left;\">Int64</th><th title = \"Union{Missing, Int64}\" style = \"text-align: left;\">Int64?</th><th title = \"Int64\" style = \"text-align: left;\">Int64</th><th title = \"Int64\" style = \"text-align: left;\">Int64</th><th title = \"Int64\" style = \"text-align: left;\">Int64</th><th title = \"Int64\" style = \"text-align: left;\">Int64</th><th title = \"String7\" style = \"text-align: left;\">String7</th><th title = \"Int64\" style = \"text-align: left;\">Int64</th><th title = \"Int64\" style = \"text-align: left;\">Int64</th><th title = \"Int64\" style = \"text-align: left;\">Int64</th><th title = \"Int64\" style = \"text-align: left;\">Int64</th><th title = \"Int64\" style = \"text-align: left;\">Int64</th></tr></thead><tbody><tr><td class = \"rowNumber\" style = \"font-weight: bold; text-align: right;\">1</td><td style = \"text-align: left;\">Croatia</td><td style = \"text-align: right;\">4</td><td style = \"text-align: right;\">13</td><td style = \"text-align: right;\">12</td><td style = \"text-align: left;\">51.9%</td><td style = \"text-align: left;\">16.0%</td><td style = \"text-align: right;\">32</td><td style = \"text-align: right;\">0</td><td style = \"text-align: right;\">0</td><td style = \"text-align: right;\">0</td><td style = \"text-align: right;\">2</td><td style = \"text-align: right;\">1076</td><td style = \"text-align: right;\">828</td><td style = \"text-align: left;\">76.9%</td><td style = \"text-align: right;\">1706</td><td style = \"text-align: right;\">60</td><td style = \"text-align: right;\">42</td><td style = \"text-align: right;\">14</td><td style = \"text-align: right;\">49</td><td style = \"text-align: right;\">83</td><td style = \"text-align: right;\">56</td><td style = \"font-style: italic; text-align: right;\">missing</td><td style = \"text-align: right;\">0</td><td style = \"text-align: right;\">10</td><td style = \"text-align: right;\">3</td><td style = \"text-align: right;\">13</td><td style = \"text-align: left;\">81.3%</td><td style = \"text-align: right;\">41</td><td style = \"text-align: right;\">62</td><td style = \"text-align: right;\">2</td><td style = \"text-align: right;\">9</td><td style = \"text-align: right;\">0</td></tr><tr><td class = \"rowNumber\" style = \"font-weight: bold; text-align: right;\">2</td><td style = \"text-align: left;\">Czech Republic</td><td style = \"text-align: right;\">4</td><td style = \"text-align: right;\">13</td><td style = \"text-align: right;\">18</td><td style = \"text-align: left;\">41.9%</td><td style = \"text-align: left;\">12.9%</td><td style = \"text-align: right;\">39</td><td style = \"text-align: right;\">0</td><td style = \"text-align: right;\">0</td><td style = \"text-align: right;\">0</td><td style = \"text-align: right;\">0</td><td style = \"text-align: right;\">1565</td><td style = \"text-align: right;\">1223</td><td style = \"text-align: left;\">78.1%</td><td style = \"text-align: right;\">2358</td><td style = \"text-align: right;\">46</td><td style = \"text-align: right;\">68</td><td style = \"text-align: right;\">21</td><td style = \"text-align: right;\">62</td><td style = \"text-align: right;\">98</td><td style = \"text-align: right;\">37</td><td style = \"text-align: right;\">2</td><td style = \"text-align: right;\">1</td><td style = \"text-align: right;\">10</td><td style = \"text-align: right;\">6</td><td style = \"text-align: right;\">9</td><td style = \"text-align: left;\">60.1%</td><td style = \"text-align: right;\">53</td><td style = \"text-align: right;\">73</td><td style = \"text-align: right;\">8</td><td style = \"text-align: right;\">7</td><td style = \"text-align: right;\">0</td></tr><tr><td class = \"rowNumber\" style = \"font-weight: bold; text-align: right;\">3</td><td style = \"text-align: left;\">Denmark</td><td style = \"text-align: right;\">4</td><td style = \"text-align: right;\">10</td><td style = \"text-align: right;\">10</td><td style = \"text-align: left;\">50.0%</td><td style = \"text-align: left;\">20.0%</td><td style = \"text-align: right;\">27</td><td style = \"text-align: right;\">1</td><td style = \"text-align: right;\">0</td><td style = \"text-align: right;\">0</td><td style = \"text-align: right;\">3</td><td style = \"text-align: right;\">1298</td><td style = \"text-align: right;\">1082</td><td style = \"text-align: left;\">83.3%</td><td style = \"text-align: right;\">1873</td><td style = \"text-align: right;\">43</td><td style = \"text-align: right;\">32</td><td style = \"text-align: right;\">16</td><td style = \"text-align: right;\">40</td><td style = \"text-align: right;\">61</td><td style = \"text-align: right;\">59</td><td style = \"text-align: right;\">0</td><td style = \"text-align: right;\">1</td><td style = \"text-align: right;\">10</td><td style = \"text-align: right;\">5</td><td style = \"text-align: right;\">10</td><td style = \"text-align: left;\">66.7%</td><td style = \"text-align: right;\">25</td><td style = \"text-align: right;\">38</td><td style = \"text-align: right;\">8</td><td style = \"text-align: right;\">4</td><td style = \"text-align: right;\">0</td></tr><tr><td class = \"rowNumber\" style = \"font-weight: bold; text-align: right;\">4</td><td style = \"text-align: left;\">England</td><td style = \"text-align: right;\">5</td><td style = \"text-align: right;\">11</td><td style = \"text-align: right;\">18</td><td style = \"text-align: left;\">50.0%</td><td style = \"text-align: left;\">17.2%</td><td style = \"text-align: right;\">40</td><td style = \"text-align: right;\">0</td><td style = \"text-align: right;\">0</td><td style = \"text-align: right;\">0</td><td style = \"text-align: right;\">3</td><td style = \"text-align: right;\">1488</td><td style = \"text-align: right;\">1200</td><td style = \"text-align: left;\">80.6%</td><td style = \"text-align: right;\">2440</td><td style = \"text-align: right;\">58</td><td style = \"text-align: right;\">60</td><td style = \"text-align: right;\">16</td><td style = \"text-align: right;\">86</td><td style = \"text-align: right;\">106</td><td style = \"text-align: right;\">72</td><td style = \"text-align: right;\">1</td><td style = \"text-align: right;\">2</td><td style = \"text-align: right;\">29</td><td style = \"text-align: right;\">3</td><td style = \"text-align: right;\">22</td><td style = \"text-align: left;\">88.1%</td><td style = \"text-align: right;\">43</td><td style = \"text-align: right;\">45</td><td style = \"text-align: right;\">6</td><td style = \"text-align: right;\">5</td><td style = \"text-align: right;\">0</td></tr><tr><td class = \"rowNumber\" style = \"font-weight: bold; text-align: right;\">5</td><td style = \"text-align: left;\">France</td><td style = \"text-align: right;\">3</td><td style = \"text-align: right;\">22</td><td style = \"text-align: right;\">24</td><td style = \"text-align: left;\">37.9%</td><td style = \"text-align: left;\">6.5%</td><td style = \"text-align: right;\">65</td><td style = \"text-align: right;\">1</td><td style = \"text-align: right;\">0</td><td style = \"text-align: right;\">0</td><td style = \"text-align: right;\">0</td><td style = \"text-align: right;\">2066</td><td style = \"text-align: right;\">1803</td><td style = \"text-align: left;\">87.2%</td><td style = \"text-align: right;\">2909</td><td style = \"text-align: right;\">55</td><td style = \"text-align: right;\">76</td><td style = \"text-align: right;\">28</td><td style = \"text-align: right;\">71</td><td style = \"text-align: right;\">76</td><td style = \"text-align: right;\">58</td><td style = \"text-align: right;\">0</td><td style = \"text-align: right;\">1</td><td style = \"text-align: right;\">7</td><td style = \"text-align: right;\">5</td><td style = \"text-align: right;\">6</td><td style = \"text-align: left;\">54.6%</td><td style = \"text-align: right;\">36</td><td style = \"text-align: right;\">51</td><td style = \"text-align: right;\">5</td><td style = \"text-align: right;\">6</td><td style = \"text-align: right;\">0</td></tr><tr><td class = \"rowNumber\" style = \"font-weight: bold; text-align: right;\">6</td><td style = \"text-align: left;\">Germany</td><td style = \"text-align: right;\">10</td><td style = \"text-align: right;\">32</td><td style = \"text-align: right;\">32</td><td style = \"text-align: left;\">47.8%</td><td style = \"text-align: left;\">15.6%</td><td style = \"text-align: right;\">80</td><td style = \"text-align: right;\">2</td><td style = \"text-align: right;\">1</td><td style = \"text-align: right;\">0</td><td style = \"text-align: right;\">2</td><td style = \"text-align: right;\">2774</td><td style = \"text-align: right;\">2427</td><td style = \"text-align: left;\">87.4%</td><td style = \"text-align: right;\">3761</td><td style = \"text-align: right;\">101</td><td style = \"text-align: right;\">60</td><td style = \"text-align: right;\">35</td><td style = \"text-align: right;\">91</td><td style = \"text-align: right;\">73</td><td style = \"text-align: right;\">69</td><td style = \"text-align: right;\">0</td><td style = \"text-align: right;\">1</td><td style = \"text-align: right;\">11</td><td style = \"text-align: right;\">6</td><td style = \"text-align: right;\">10</td><td style = \"text-align: left;\">62.6%</td><td style = \"text-align: right;\">63</td><td style = \"text-align: right;\">49</td><td style = \"text-align: right;\">12</td><td style = \"text-align: right;\">4</td><td style = \"text-align: right;\">0</td></tr><tr><td class = \"rowNumber\" style = \"font-weight: bold; text-align: right;\">7</td><td style = \"text-align: left;\">Greece</td><td style = \"text-align: right;\">5</td><td style = \"text-align: right;\">8</td><td style = \"text-align: right;\">18</td><td style = \"text-align: left;\">30.7%</td><td style = \"text-align: left;\">19.2%</td><td style = \"text-align: right;\">32</td><td style = \"text-align: right;\">1</td><td style = \"text-align: right;\">1</td><td style = \"text-align: right;\">1</td><td style = \"text-align: right;\">0</td><td style = \"text-align: right;\">1187</td><td style = \"text-align: right;\">911</td><td style = \"text-align: left;\">76.7%</td><td style = \"text-align: right;\">2016</td><td style = \"text-align: right;\">52</td><td style = \"text-align: right;\">53</td><td style = \"text-align: right;\">10</td><td style = \"text-align: right;\">65</td><td style = \"text-align: right;\">123</td><td style = \"text-align: right;\">87</td><td style = \"text-align: right;\">0</td><td style = \"text-align: right;\">1</td><td style = \"text-align: right;\">23</td><td style = \"text-align: right;\">7</td><td style = \"text-align: right;\">13</td><td style = \"text-align: left;\">65.1%</td><td style = \"text-align: right;\">67</td><td style = \"text-align: right;\">48</td><td style = \"text-align: right;\">12</td><td style = \"text-align: right;\">9</td><td style = \"text-align: right;\">1</td></tr><tr><td class = \"rowNumber\" style = \"font-weight: bold; text-align: right;\">8</td><td style = \"text-align: left;\">Italy</td><td style = \"text-align: right;\">6</td><td style = \"text-align: right;\">34</td><td style = \"text-align: right;\">45</td><td style = \"text-align: left;\">43.0%</td><td style = \"text-align: left;\">7.5%</td><td style = \"text-align: right;\">110</td><td style = \"text-align: right;\">2</td><td style = \"text-align: right;\">0</td><td style = \"text-align: right;\">0</td><td style = \"text-align: right;\">2</td><td style = \"text-align: right;\">3016</td><td style = \"text-align: right;\">2531</td><td style = \"text-align: left;\">83.9%</td><td style = \"text-align: right;\">4363</td><td style = \"text-align: right;\">75</td><td style = \"text-align: right;\">75</td><td style = \"text-align: right;\">30</td><td style = \"text-align: right;\">98</td><td style = \"text-align: right;\">137</td><td style = \"text-align: right;\">136</td><td style = \"text-align: right;\">1</td><td style = \"text-align: right;\">2</td><td style = \"text-align: right;\">18</td><td style = \"text-align: right;\">7</td><td style = \"text-align: right;\">20</td><td style = \"text-align: left;\">74.1%</td><td style = \"text-align: right;\">101</td><td style = \"text-align: right;\">89</td><td style = \"text-align: right;\">16</td><td style = \"text-align: right;\">16</td><td style = \"text-align: right;\">0</td></tr><tr><td class = \"rowNumber\" style = \"font-weight: bold; text-align: right;\">9</td><td style = \"text-align: left;\">Netherlands</td><td style = \"text-align: right;\">2</td><td style = \"text-align: right;\">12</td><td style = \"text-align: right;\">36</td><td style = \"text-align: left;\">25.0%</td><td style = \"text-align: left;\">4.1%</td><td style = \"text-align: right;\">60</td><td style = \"text-align: right;\">2</td><td style = \"text-align: right;\">0</td><td style = \"text-align: right;\">0</td><td style = \"text-align: right;\">0</td><td style = \"text-align: right;\">1556</td><td style = \"text-align: right;\">1381</td><td style = \"text-align: left;\">88.7%</td><td style = \"text-align: right;\">2163</td><td style = \"text-align: right;\">50</td><td style = \"text-align: right;\">49</td><td style = \"text-align: right;\">22</td><td style = \"text-align: right;\">34</td><td style = \"text-align: right;\">41</td><td style = \"text-align: right;\">41</td><td style = \"text-align: right;\">0</td><td style = \"text-align: right;\">0</td><td style = \"text-align: right;\">9</td><td style = \"text-align: right;\">5</td><td style = \"text-align: right;\">12</td><td style = \"text-align: left;\">70.6%</td><td style = \"text-align: right;\">35</td><td style = \"text-align: right;\">30</td><td style = \"text-align: right;\">3</td><td style = \"text-align: right;\">5</td><td style = \"text-align: right;\">0</td></tr><tr><td class = \"rowNumber\" style = \"font-weight: bold; text-align: right;\">10</td><td style = \"text-align: left;\">Poland</td><td style = \"text-align: right;\">2</td><td style = \"text-align: right;\">15</td><td style = \"text-align: right;\">23</td><td style = \"text-align: left;\">39.4%</td><td style = \"text-align: left;\">5.2%</td><td style = \"text-align: right;\">48</td><td style = \"text-align: right;\">0</td><td style = \"text-align: right;\">0</td><td style = \"text-align: right;\">0</td><td style = \"text-align: right;\">1</td><td style = \"text-align: right;\">1059</td><td style = \"text-align: right;\">852</td><td style = \"text-align: left;\">80.4%</td><td style = \"text-align: right;\">1724</td><td style = \"text-align: right;\">55</td><td style = \"text-align: right;\">39</td><td style = \"text-align: right;\">14</td><td style = \"text-align: right;\">67</td><td style = \"text-align: right;\">87</td><td style = \"text-align: right;\">62</td><td style = \"text-align: right;\">0</td><td style = \"text-align: right;\">0</td><td style = \"text-align: right;\">8</td><td style = \"text-align: right;\">3</td><td style = \"text-align: right;\">6</td><td style = \"text-align: left;\">66.7%</td><td style = \"text-align: right;\">48</td><td style = \"text-align: right;\">56</td><td style = \"text-align: right;\">3</td><td style = \"text-align: right;\">7</td><td style = \"text-align: right;\">1</td></tr><tr><td class = \"rowNumber\" style = \"font-weight: bold; text-align: right;\">11</td><td style = \"text-align: left;\">Portugal</td><td style = \"text-align: right;\">6</td><td style = \"text-align: right;\">22</td><td style = \"text-align: right;\">42</td><td style = \"text-align: left;\">34.3%</td><td style = \"text-align: left;\">9.3%</td><td style = \"text-align: right;\">82</td><td style = \"text-align: right;\">6</td><td style = \"text-align: right;\">0</td><td style = \"text-align: right;\">0</td><td style = \"text-align: right;\">2</td><td style = \"text-align: right;\">1891</td><td style = \"text-align: right;\">1461</td><td style = \"text-align: left;\">77.2%</td><td style = \"text-align: right;\">2958</td><td style = \"text-align: right;\">91</td><td style = \"text-align: right;\">64</td><td style = \"text-align: right;\">41</td><td style = \"text-align: right;\">78</td><td style = \"text-align: right;\">92</td><td style = \"text-align: right;\">86</td><td style = \"text-align: right;\">0</td><td style = \"text-align: right;\">2</td><td style = \"text-align: right;\">11</td><td style = \"text-align: right;\">4</td><td style = \"text-align: right;\">10</td><td style = \"text-align: left;\">71.5%</td><td style = \"text-align: right;\">73</td><td style = \"text-align: right;\">90</td><td style = \"text-align: right;\">10</td><td style = \"text-align: right;\">12</td><td style = \"text-align: right;\">0</td></tr><tr><td class = \"rowNumber\" style = \"font-weight: bold; text-align: right;\">12</td><td style = \"text-align: left;\">Republic of Ireland</td><td style = \"text-align: right;\">1</td><td style = \"text-align: right;\">7</td><td style = \"text-align: right;\">12</td><td style = \"text-align: left;\">36.8%</td><td style = \"text-align: left;\">5.2%</td><td style = \"text-align: right;\">28</td><td style = \"text-align: right;\">0</td><td style = \"text-align: right;\">0</td><td style = \"text-align: right;\">0</td><td style = \"text-align: right;\">1</td><td style = \"text-align: right;\">851</td><td style = \"text-align: right;\">606</td><td style = \"text-align: left;\">71.2%</td><td style = \"text-align: right;\">1433</td><td style = \"text-align: right;\">43</td><td style = \"text-align: right;\">18</td><td style = \"text-align: right;\">8</td><td style = \"text-align: right;\">45</td><td style = \"text-align: right;\">78</td><td style = \"text-align: right;\">43</td><td style = \"text-align: right;\">1</td><td style = \"text-align: right;\">0</td><td style = \"text-align: right;\">23</td><td style = \"text-align: right;\">9</td><td style = \"text-align: right;\">17</td><td style = \"text-align: left;\">65.4%</td><td style = \"text-align: right;\">43</td><td style = \"text-align: right;\">51</td><td style = \"text-align: right;\">11</td><td style = \"text-align: right;\">6</td><td style = \"text-align: right;\">1</td></tr><tr><td class = \"rowNumber\" style = \"font-weight: bold; text-align: right;\">13</td><td style = \"text-align: left;\">Russia</td><td style = \"text-align: right;\">5</td><td style = \"text-align: right;\">9</td><td style = \"text-align: right;\">31</td><td style = \"text-align: left;\">22.5%</td><td style = \"text-align: left;\">12.5%</td><td style = \"text-align: right;\">59</td><td style = \"text-align: right;\">2</td><td style = \"text-align: right;\">0</td><td style = \"text-align: right;\">0</td><td style = \"text-align: right;\">1</td><td style = \"text-align: right;\">1602</td><td style = \"text-align: right;\">1345</td><td style = \"text-align: left;\">83.9%</td><td style = \"text-align: right;\">2278</td><td style = \"text-align: right;\">40</td><td style = \"text-align: right;\">40</td><td style = \"text-align: right;\">21</td><td style = \"text-align: right;\">65</td><td style = \"text-align: right;\">74</td><td style = \"text-align: right;\">58</td><td style = \"text-align: right;\">0</td><td style = \"text-align: right;\">0</td><td style = \"text-align: right;\">8</td><td style = \"text-align: right;\">3</td><td style = \"text-align: right;\">10</td><td style = \"text-align: left;\">77.0%</td><td style = \"text-align: right;\">34</td><td style = \"text-align: right;\">43</td><td style = \"text-align: right;\">4</td><td style = \"text-align: right;\">6</td><td style = \"text-align: right;\">0</td></tr><tr><td class = \"rowNumber\" style = \"font-weight: bold; text-align: right;\">14</td><td style = \"text-align: left;\">Spain</td><td style = \"text-align: right;\">12</td><td style = \"text-align: right;\">42</td><td style = \"text-align: right;\">33</td><td style = \"text-align: left;\">55.9%</td><td style = \"text-align: left;\">16.0%</td><td style = \"text-align: right;\">100</td><td style = \"text-align: right;\">0</td><td style = \"text-align: right;\">1</td><td style = \"text-align: right;\">0</td><td style = \"text-align: right;\">2</td><td style = \"text-align: right;\">4317</td><td style = \"text-align: right;\">3820</td><td style = \"text-align: left;\">88.4%</td><td style = \"text-align: right;\">5585</td><td style = \"text-align: right;\">69</td><td style = \"text-align: right;\">106</td><td style = \"text-align: right;\">44</td><td style = \"text-align: right;\">122</td><td style = \"text-align: right;\">102</td><td style = \"text-align: right;\">79</td><td style = \"text-align: right;\">0</td><td style = \"text-align: right;\">5</td><td style = \"text-align: right;\">8</td><td style = \"text-align: right;\">1</td><td style = \"text-align: right;\">15</td><td style = \"text-align: left;\">93.8%</td><td style = \"text-align: right;\">102</td><td style = \"text-align: right;\">83</td><td style = \"text-align: right;\">19</td><td style = \"text-align: right;\">11</td><td style = \"text-align: right;\">0</td></tr><tr><td class = \"rowNumber\" style = \"font-weight: bold; text-align: right;\">15</td><td style = \"text-align: left;\">Sweden</td><td style = \"text-align: right;\">5</td><td style = \"text-align: right;\">17</td><td style = \"text-align: right;\">19</td><td style = \"text-align: left;\">47.2%</td><td style = \"text-align: left;\">13.8%</td><td style = \"text-align: right;\">39</td><td style = \"text-align: right;\">3</td><td style = \"text-align: right;\">0</td><td style = \"text-align: right;\">0</td><td style = \"text-align: right;\">1</td><td style = \"text-align: right;\">1192</td><td style = \"text-align: right;\">965</td><td style = \"text-align: left;\">80.9%</td><td style = \"text-align: right;\">1806</td><td style = \"text-align: right;\">44</td><td style = \"text-align: right;\">29</td><td style = \"text-align: right;\">7</td><td style = \"text-align: right;\">56</td><td style = \"text-align: right;\">54</td><td style = \"text-align: right;\">45</td><td style = \"text-align: right;\">0</td><td style = \"text-align: right;\">1</td><td style = \"text-align: right;\">12</td><td style = \"text-align: right;\">5</td><td style = \"text-align: right;\">8</td><td style = \"text-align: left;\">61.6%</td><td style = \"text-align: right;\">35</td><td style = \"text-align: right;\">51</td><td style = \"text-align: right;\">7</td><td style = \"text-align: right;\">7</td><td style = \"text-align: right;\">0</td></tr><tr><td class = \"rowNumber\" style = \"font-weight: bold; text-align: right;\">16</td><td style = \"text-align: left;\">Ukraine</td><td style = \"text-align: right;\">2</td><td style = \"text-align: right;\">7</td><td style = \"text-align: right;\">26</td><td style = \"text-align: left;\">21.2%</td><td style = \"text-align: left;\">6.0%</td><td style = \"text-align: right;\">38</td><td style = \"text-align: right;\">0</td><td style = \"text-align: right;\">0</td><td style = \"text-align: right;\">0</td><td style = \"text-align: right;\">2</td><td style = \"text-align: right;\">1276</td><td style = \"text-align: right;\">1043</td><td style = \"text-align: left;\">81.7%</td><td style = \"text-align: right;\">1894</td><td style = \"text-align: right;\">33</td><td style = \"text-align: right;\">26</td><td style = \"text-align: right;\">18</td><td style = \"text-align: right;\">65</td><td style = \"text-align: right;\">97</td><td style = \"text-align: right;\">29</td><td style = \"text-align: right;\">0</td><td style = \"text-align: right;\">0</td><td style = \"text-align: right;\">4</td><td style = \"text-align: right;\">4</td><td style = \"text-align: right;\">13</td><td style = \"text-align: left;\">76.5%</td><td style = \"text-align: right;\">48</td><td style = \"text-align: right;\">31</td><td style = \"text-align: right;\">4</td><td style = \"text-align: right;\">5</td><td style = \"text-align: right;\">0</td></tr></tbody></table></div>"
      ],
      "text/latex": [
       "\\begin{tabular}{r|cccccc}\n",
       "\t& Team & Goals & Shots on target & Shots off target & Shooting Accuracy & \\\\\n",
       "\t\\hline\n",
       "\t& String31 & Int64 & Int64 & Int64 & String7 & \\\\\n",
       "\t\\hline\n",
       "\t1 & Croatia & 4 & 13 & 12 & 51.9\\% & $\\dots$ \\\\\n",
       "\t2 & Czech Republic & 4 & 13 & 18 & 41.9\\% & $\\dots$ \\\\\n",
       "\t3 & Denmark & 4 & 10 & 10 & 50.0\\% & $\\dots$ \\\\\n",
       "\t4 & England & 5 & 11 & 18 & 50.0\\% & $\\dots$ \\\\\n",
       "\t5 & France & 3 & 22 & 24 & 37.9\\% & $\\dots$ \\\\\n",
       "\t6 & Germany & 10 & 32 & 32 & 47.8\\% & $\\dots$ \\\\\n",
       "\t7 & Greece & 5 & 8 & 18 & 30.7\\% & $\\dots$ \\\\\n",
       "\t8 & Italy & 6 & 34 & 45 & 43.0\\% & $\\dots$ \\\\\n",
       "\t9 & Netherlands & 2 & 12 & 36 & 25.0\\% & $\\dots$ \\\\\n",
       "\t10 & Poland & 2 & 15 & 23 & 39.4\\% & $\\dots$ \\\\\n",
       "\t11 & Portugal & 6 & 22 & 42 & 34.3\\% & $\\dots$ \\\\\n",
       "\t12 & Republic of Ireland & 1 & 7 & 12 & 36.8\\% & $\\dots$ \\\\\n",
       "\t13 & Russia & 5 & 9 & 31 & 22.5\\% & $\\dots$ \\\\\n",
       "\t14 & Spain & 12 & 42 & 33 & 55.9\\% & $\\dots$ \\\\\n",
       "\t15 & Sweden & 5 & 17 & 19 & 47.2\\% & $\\dots$ \\\\\n",
       "\t16 & Ukraine & 2 & 7 & 26 & 21.2\\% & $\\dots$ \\\\\n",
       "\\end{tabular}\n"
      ],
      "text/plain": [
       "\u001b[1m16×32 DataFrame\u001b[0m\n",
       "\u001b[1m Row \u001b[0m│\u001b[1m Team                \u001b[0m\u001b[1m Goals \u001b[0m\u001b[1m Shots on target \u001b[0m\u001b[1m Shots off target \u001b[0m\u001b[1m Shooting\u001b[0m ⋯\n",
       "     │\u001b[90m String31            \u001b[0m\u001b[90m Int64 \u001b[0m\u001b[90m Int64           \u001b[0m\u001b[90m Int64            \u001b[0m\u001b[90m String7 \u001b[0m ⋯\n",
       "─────┼──────────────────────────────────────────────────────────────────────────\n",
       "   1 │ Croatia                  4               13                12  51.9%    ⋯\n",
       "   2 │ Czech Republic           4               13                18  41.9%\n",
       "   3 │ Denmark                  4               10                10  50.0%\n",
       "   4 │ England                  5               11                18  50.0%\n",
       "   5 │ France                   3               22                24  37.9%    ⋯\n",
       "   6 │ Germany                 10               32                32  47.8%\n",
       "   7 │ Greece                   5                8                18  30.7%\n",
       "   8 │ Italy                    6               34                45  43.0%\n",
       "   9 │ Netherlands              2               12                36  25.0%    ⋯\n",
       "  10 │ Poland                   2               15                23  39.4%\n",
       "  11 │ Portugal                 6               22                42  34.3%\n",
       "  12 │ Republic of Ireland      1                7                12  36.8%\n",
       "  13 │ Russia                   5                9                31  22.5%    ⋯\n",
       "  14 │ Spain                   12               42                33  55.9%\n",
       "  15 │ Sweden                   5               17                19  47.2%\n",
       "  16 │ Ukraine                  2                7                26  21.2%\n",
       "\u001b[36m                                                              28 columns omitted\u001b[0m"
      ]
     },
     "metadata": {},
     "output_type": "display_data"
    }
   ],
   "source": [
    "euro12[!, 1:end-3]"
   ]
  },
  {
   "cell_type": "markdown",
   "metadata": {},
   "source": [
    "### Step 14. Present only the Shooting Accuracy from England, Italy and Russia"
   ]
  },
  {
   "cell_type": "code",
   "execution_count": 16,
   "metadata": {
    "collapsed": false
   },
   "outputs": [
    {
     "data": {
      "text/html": [
       "<div><div style = \"float: left;\"><span>3×2 DataFrame</span></div><div style = \"clear: both;\"></div></div><div class = \"data-frame\" style = \"overflow-x: scroll;\"><table class = \"data-frame\" style = \"margin-bottom: 6px;\"><thead><tr class = \"header\"><th class = \"rowNumber\" style = \"font-weight: bold; text-align: right;\">Row</th><th style = \"text-align: left;\">Team</th><th style = \"text-align: left;\">Shooting Accuracy</th></tr><tr class = \"subheader headerLastRow\"><th class = \"rowNumber\" style = \"font-weight: bold; text-align: right;\"></th><th title = \"String31\" style = \"text-align: left;\">String31</th><th title = \"String7\" style = \"text-align: left;\">String7</th></tr></thead><tbody><tr><td class = \"rowNumber\" style = \"font-weight: bold; text-align: right;\">1</td><td style = \"text-align: left;\">England</td><td style = \"text-align: left;\">50.0%</td></tr><tr><td class = \"rowNumber\" style = \"font-weight: bold; text-align: right;\">2</td><td style = \"text-align: left;\">Italy</td><td style = \"text-align: left;\">43.0%</td></tr><tr><td class = \"rowNumber\" style = \"font-weight: bold; text-align: right;\">3</td><td style = \"text-align: left;\">Russia</td><td style = \"text-align: left;\">22.5%</td></tr></tbody></table></div>"
      ],
      "text/latex": [
       "\\begin{tabular}{r|cc}\n",
       "\t& Team & Shooting Accuracy\\\\\n",
       "\t\\hline\n",
       "\t& String31 & String7\\\\\n",
       "\t\\hline\n",
       "\t1 & England & 50.0\\% \\\\\n",
       "\t2 & Italy & 43.0\\% \\\\\n",
       "\t3 & Russia & 22.5\\% \\\\\n",
       "\\end{tabular}\n"
      ],
      "text/plain": [
       "\u001b[1m3×2 DataFrame\u001b[0m\n",
       "\u001b[1m Row \u001b[0m│\u001b[1m Team     \u001b[0m\u001b[1m Shooting Accuracy \u001b[0m\n",
       "     │\u001b[90m String31 \u001b[0m\u001b[90m String7           \u001b[0m\n",
       "─────┼─────────────────────────────\n",
       "   1 │ England   50.0%\n",
       "   2 │ Italy     43.0%\n",
       "   3 │ Russia    22.5%"
      ]
     },
     "metadata": {},
     "output_type": "display_data"
    }
   ],
   "source": [
    "euro12[in.(euro12.Team, Ref(Set([\"England\", \"Italy\", \"Russia\"]))), [\"Team\",\"Shooting Accuracy\"]]"
   ]
  }
 ],
 "metadata": {
  "anaconda-cloud": {},
  "kernelspec": {
   "display_name": "Julia 1.10.3",
   "language": "julia",
   "name": "julia-1.10"
  },
  "language_info": {
   "file_extension": ".jl",
   "mimetype": "application/julia",
   "name": "julia",
   "version": "1.10.3"
  }
 },
 "nbformat": 4,
 "nbformat_minor": 0
}
