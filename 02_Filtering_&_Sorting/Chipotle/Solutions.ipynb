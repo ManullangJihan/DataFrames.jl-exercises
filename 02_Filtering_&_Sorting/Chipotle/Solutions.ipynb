{
 "cells": [
  {
   "cell_type": "markdown",
   "metadata": {},
   "source": [
    "# Ex1 - Filtering and Sorting Data"
   ]
  },
  {
   "cell_type": "markdown",
   "metadata": {},
   "source": [
    "This time we are going to pull data directly from the internet.\n",
    "Special thanks to: https://github.com/justmarkham for sharing the dataset and materials.\n",
    "\n",
    "### Step 1. Import the necessary libraries"
   ]
  },
  {
   "cell_type": "code",
   "execution_count": null,
   "metadata": {},
   "outputs": [],
   "source": []
  },
  {
   "cell_type": "markdown",
   "metadata": {},
   "source": [
    "### Step 2. Import the dataset from this [address](https://raw.githubusercontent.com/justmarkham/DAT8/master/data/chipotle.tsv). "
   ]
  },
  {
   "cell_type": "markdown",
   "metadata": {},
   "source": [
    "### Step 3. Assign it to a variable called chipo."
   ]
  },
  {
   "cell_type": "code",
   "execution_count": 2,
   "metadata": {
    "collapsed": false
   },
   "outputs": [
    {
     "data": {
      "text/html": [
       "<div><div style = \"float: left;\"><span>3×5 DataFrame</span></div><div style = \"clear: both;\"></div></div><div class = \"data-frame\" style = \"overflow-x: scroll;\"><table class = \"data-frame\" style = \"margin-bottom: 6px;\"><thead><tr class = \"header\"><th class = \"rowNumber\" style = \"font-weight: bold; text-align: right;\">Row</th><th style = \"text-align: left;\">order_id</th><th style = \"text-align: left;\">quantity</th><th style = \"text-align: left;\">item_name</th><th style = \"text-align: left;\">choice_description</th><th style = \"text-align: left;\">item_price</th></tr><tr class = \"subheader headerLastRow\"><th class = \"rowNumber\" style = \"font-weight: bold; text-align: right;\"></th><th title = \"Int64\" style = \"text-align: left;\">Int64</th><th title = \"Int64\" style = \"text-align: left;\">Int64</th><th title = \"String\" style = \"text-align: left;\">String</th><th title = \"String\" style = \"text-align: left;\">String</th><th title = \"String7\" style = \"text-align: left;\">String7</th></tr></thead><tbody><tr><td class = \"rowNumber\" style = \"font-weight: bold; text-align: right;\">1</td><td style = \"text-align: right;\">1</td><td style = \"text-align: right;\">1</td><td style = \"text-align: left;\">Chips and Fresh Tomato Salsa</td><td style = \"text-align: left;\">NULL</td><td style = \"text-align: left;\">$2.39 </td></tr><tr><td class = \"rowNumber\" style = \"font-weight: bold; text-align: right;\">2</td><td style = \"text-align: right;\">1</td><td style = \"text-align: right;\">1</td><td style = \"text-align: left;\">Izze</td><td style = \"text-align: left;\">[Clementine]</td><td style = \"text-align: left;\">$3.39 </td></tr><tr><td class = \"rowNumber\" style = \"font-weight: bold; text-align: right;\">3</td><td style = \"text-align: right;\">1</td><td style = \"text-align: right;\">1</td><td style = \"text-align: left;\">Nantucket Nectar</td><td style = \"text-align: left;\">[Apple]</td><td style = \"text-align: left;\">$3.39 </td></tr></tbody></table></div>"
      ],
      "text/latex": [
       "\\begin{tabular}{r|ccccc}\n",
       "\t& order\\_id & quantity & item\\_name & choice\\_description & item\\_price\\\\\n",
       "\t\\hline\n",
       "\t& Int64 & Int64 & String & String & String7\\\\\n",
       "\t\\hline\n",
       "\t1 & 1 & 1 & Chips and Fresh Tomato Salsa & NULL & \\$2.39  \\\\\n",
       "\t2 & 1 & 1 & Izze & [Clementine] & \\$3.39  \\\\\n",
       "\t3 & 1 & 1 & Nantucket Nectar & [Apple] & \\$3.39  \\\\\n",
       "\\end{tabular}\n"
      ],
      "text/plain": [
       "\u001b[1m3×5 DataFrame\u001b[0m\n",
       "\u001b[1m Row \u001b[0m│\u001b[1m order_id \u001b[0m\u001b[1m quantity \u001b[0m\u001b[1m item_name                    \u001b[0m\u001b[1m choice_description \u001b[0m\u001b[1m i\u001b[0m ⋯\n",
       "     │\u001b[90m Int64    \u001b[0m\u001b[90m Int64    \u001b[0m\u001b[90m String                       \u001b[0m\u001b[90m String             \u001b[0m\u001b[90m S\u001b[0m ⋯\n",
       "─────┼──────────────────────────────────────────────────────────────────────────\n",
       "   1 │        1         1  Chips and Fresh Tomato Salsa  NULL                $ ⋯\n",
       "   2 │        1         1  Izze                          [Clementine]        $\n",
       "   3 │        1         1  Nantucket Nectar              [Apple]             $\n",
       "\u001b[36m                                                                1 column omitted\u001b[0m"
      ]
     },
     "metadata": {},
     "output_type": "display_data"
    }
   ],
   "source": []
  },
  {
   "cell_type": "markdown",
   "metadata": {},
   "source": [
    "### Step 4. How many products cost more than $10.00?"
   ]
  },
  {
   "cell_type": "code",
   "execution_count": 3,
   "metadata": {},
   "outputs": [],
   "source": []
  },
  {
   "cell_type": "code",
   "execution_count": 4,
   "metadata": {
    "collapsed": false
   },
   "outputs": [
    {
     "data": {
      "text/plain": [
       "1130"
      ]
     },
     "metadata": {},
     "output_type": "display_data"
    }
   ],
   "source": []
  },
  {
   "cell_type": "markdown",
   "metadata": {},
   "source": [
    "### Step 5. What is the price of each item? \n",
    "\n",
    "print a data frame with only two columns item_name and item_price"
   ]
  },
  {
   "cell_type": "code",
   "execution_count": 6,
   "metadata": {
    "collapsed": false
   },
   "outputs": [
    {
     "data": {
      "text/html": [
       "<div><div style = \"float: left;\"><span>78×2 DataFrame</span></div><div style = \"float: right;\"><span style = \"font-style: italic;\">53 rows omitted</span></div><div style = \"clear: both;\"></div></div><div class = \"data-frame\" style = \"overflow-x: scroll;\"><table class = \"data-frame\" style = \"margin-bottom: 6px;\"><thead><tr class = \"header\"><th class = \"rowNumber\" style = \"font-weight: bold; text-align: right;\">Row</th><th style = \"text-align: left;\">item_name</th><th style = \"text-align: left;\">item_price</th></tr><tr class = \"subheader headerLastRow\"><th class = \"rowNumber\" style = \"font-weight: bold; text-align: right;\"></th><th title = \"String\" style = \"text-align: left;\">String</th><th title = \"Float64\" style = \"text-align: left;\">Float64</th></tr></thead><tbody><tr><td class = \"rowNumber\" style = \"font-weight: bold; text-align: right;\">1</td><td style = \"text-align: left;\">Chips and Fresh Tomato Salsa</td><td style = \"text-align: right;\">2.39</td></tr><tr><td class = \"rowNumber\" style = \"font-weight: bold; text-align: right;\">2</td><td style = \"text-align: left;\">Izze</td><td style = \"text-align: right;\">3.39</td></tr><tr><td class = \"rowNumber\" style = \"font-weight: bold; text-align: right;\">3</td><td style = \"text-align: left;\">Chicken Bowl</td><td style = \"text-align: right;\">16.98</td></tr><tr><td class = \"rowNumber\" style = \"font-weight: bold; text-align: right;\">4</td><td style = \"text-align: left;\">Chicken Bowl</td><td style = \"text-align: right;\">10.98</td></tr><tr><td class = \"rowNumber\" style = \"font-weight: bold; text-align: right;\">5</td><td style = \"text-align: left;\">Side of Chips</td><td style = \"text-align: right;\">1.69</td></tr><tr><td class = \"rowNumber\" style = \"font-weight: bold; text-align: right;\">6</td><td style = \"text-align: left;\">Steak Burrito</td><td style = \"text-align: right;\">11.75</td></tr><tr><td class = \"rowNumber\" style = \"font-weight: bold; text-align: right;\">7</td><td style = \"text-align: left;\">Steak Soft Tacos</td><td style = \"text-align: right;\">9.25</td></tr><tr><td class = \"rowNumber\" style = \"font-weight: bold; text-align: right;\">8</td><td style = \"text-align: left;\">Chips and Guacamole</td><td style = \"text-align: right;\">4.45</td></tr><tr><td class = \"rowNumber\" style = \"font-weight: bold; text-align: right;\">9</td><td style = \"text-align: left;\">Chicken Crispy Tacos</td><td style = \"text-align: right;\">8.75</td></tr><tr><td class = \"rowNumber\" style = \"font-weight: bold; text-align: right;\">10</td><td style = \"text-align: left;\">Chicken Bowl</td><td style = \"text-align: right;\">11.25</td></tr><tr><td class = \"rowNumber\" style = \"font-weight: bold; text-align: right;\">11</td><td style = \"text-align: left;\">Chicken Burrito</td><td style = \"text-align: right;\">8.49</td></tr><tr><td class = \"rowNumber\" style = \"font-weight: bold; text-align: right;\">12</td><td style = \"text-align: left;\">Canned Soda</td><td style = \"text-align: right;\">2.18</td></tr><tr><td class = \"rowNumber\" style = \"font-weight: bold; text-align: right;\">13</td><td style = \"text-align: left;\">Barbacoa Burrito</td><td style = \"text-align: right;\">8.99</td></tr><tr><td style = \"text-align: right;\">&vellip;</td><td style = \"text-align: right;\">&vellip;</td><td style = \"text-align: right;\">&vellip;</td></tr><tr><td class = \"rowNumber\" style = \"font-weight: bold; text-align: right;\">67</td><td style = \"text-align: left;\">Carnitas Bowl</td><td style = \"text-align: right;\">35.25</td></tr><tr><td class = \"rowNumber\" style = \"font-weight: bold; text-align: right;\">68</td><td style = \"text-align: left;\">Chips and Fresh Tomato Salsa</td><td style = \"text-align: right;\">44.25</td></tr><tr><td class = \"rowNumber\" style = \"font-weight: bold; text-align: right;\">69</td><td style = \"text-align: left;\">Bottled Water</td><td style = \"text-align: right;\">10.5</td></tr><tr><td class = \"rowNumber\" style = \"font-weight: bold; text-align: right;\">70</td><td style = \"text-align: left;\">Veggie Burrito</td><td style = \"text-align: right;\">33.75</td></tr><tr><td class = \"rowNumber\" style = \"font-weight: bold; text-align: right;\">71</td><td style = \"text-align: left;\">Chicken Burrito</td><td style = \"text-align: right;\">16.38</td></tr><tr><td class = \"rowNumber\" style = \"font-weight: bold; text-align: right;\">72</td><td style = \"text-align: left;\">Side of Chips</td><td style = \"text-align: right;\">13.52</td></tr><tr><td class = \"rowNumber\" style = \"font-weight: bold; text-align: right;\">73</td><td style = \"text-align: left;\">Canned Soft Drink</td><td style = \"text-align: right;\">5.0</td></tr><tr><td class = \"rowNumber\" style = \"font-weight: bold; text-align: right;\">74</td><td style = \"text-align: left;\">Bottled Water</td><td style = \"text-align: right;\">15.0</td></tr><tr><td class = \"rowNumber\" style = \"font-weight: bold; text-align: right;\">75</td><td style = \"text-align: left;\">Chicken Bowl</td><td style = \"text-align: right;\">8.5</td></tr><tr><td class = \"rowNumber\" style = \"font-weight: bold; text-align: right;\">76</td><td style = \"text-align: left;\">Chips and Guacamole</td><td style = \"text-align: right;\">17.8</td></tr><tr><td class = \"rowNumber\" style = \"font-weight: bold; text-align: right;\">77</td><td style = \"text-align: left;\">Chips</td><td style = \"text-align: right;\">1.99</td></tr><tr><td class = \"rowNumber\" style = \"font-weight: bold; text-align: right;\">78</td><td style = \"text-align: left;\">Barbacoa Bowl</td><td style = \"text-align: right;\">11.49</td></tr></tbody></table></div>"
      ],
      "text/latex": [
       "\\begin{tabular}{r|cc}\n",
       "\t& item\\_name & item\\_price\\\\\n",
       "\t\\hline\n",
       "\t& String & Float64\\\\\n",
       "\t\\hline\n",
       "\t1 & Chips and Fresh Tomato Salsa & 2.39 \\\\\n",
       "\t2 & Izze & 3.39 \\\\\n",
       "\t3 & Chicken Bowl & 16.98 \\\\\n",
       "\t4 & Chicken Bowl & 10.98 \\\\\n",
       "\t5 & Side of Chips & 1.69 \\\\\n",
       "\t6 & Steak Burrito & 11.75 \\\\\n",
       "\t7 & Steak Soft Tacos & 9.25 \\\\\n",
       "\t8 & Chips and Guacamole & 4.45 \\\\\n",
       "\t9 & Chicken Crispy Tacos & 8.75 \\\\\n",
       "\t10 & Chicken Bowl & 11.25 \\\\\n",
       "\t11 & Chicken Burrito & 8.49 \\\\\n",
       "\t12 & Canned Soda & 2.18 \\\\\n",
       "\t13 & Barbacoa Burrito & 8.99 \\\\\n",
       "\t14 & Canned Soda & 1.09 \\\\\n",
       "\t15 & Chips and Tomatillo Green Chili Salsa & 2.95 \\\\\n",
       "\t16 & Chips & 2.15 \\\\\n",
       "\t17 & Chips and Guacamole & 3.99 \\\\\n",
       "\t18 & Chicken Salad Bowl & 22.5 \\\\\n",
       "\t19 & Steak Burrito & 11.48 \\\\\n",
       "\t20 & Steak Burrito & 17.98 \\\\\n",
       "\t21 & Chicken Burrito & 17.5 \\\\\n",
       "\t22 & Chips & 4.3 \\\\\n",
       "\t23 & Chips and Tomatillo Green Chili Salsa & 5.9 \\\\\n",
       "\t24 & Canned Soft Drink & 1.25 \\\\\n",
       "\t$\\dots$ & $\\dots$ & $\\dots$ \\\\\n",
       "\\end{tabular}\n"
      ],
      "text/plain": [
       "\u001b[1m78×2 DataFrame\u001b[0m\n",
       "\u001b[1m Row \u001b[0m│\u001b[1m item_name                    \u001b[0m\u001b[1m item_price \u001b[0m\n",
       "     │\u001b[90m String                       \u001b[0m\u001b[90m Float64    \u001b[0m\n",
       "─────┼──────────────────────────────────────────\n",
       "   1 │ Chips and Fresh Tomato Salsa        2.39\n",
       "   2 │ Izze                                3.39\n",
       "   3 │ Chicken Bowl                       16.98\n",
       "   4 │ Chicken Bowl                       10.98\n",
       "   5 │ Side of Chips                       1.69\n",
       "   6 │ Steak Burrito                      11.75\n",
       "   7 │ Steak Soft Tacos                    9.25\n",
       "   8 │ Chips and Guacamole                 4.45\n",
       "  ⋮  │              ⋮                    ⋮\n",
       "  72 │ Side of Chips                      13.52\n",
       "  73 │ Canned Soft Drink                   5.0\n",
       "  74 │ Bottled Water                      15.0\n",
       "  75 │ Chicken Bowl                        8.5\n",
       "  76 │ Chips and Guacamole                17.8\n",
       "  77 │ Chips                               1.99\n",
       "  78 │ Barbacoa Bowl                      11.49\n",
       "\u001b[36m                                 63 rows omitted\u001b[0m"
      ]
     },
     "metadata": {},
     "output_type": "display_data"
    }
   ],
   "source": []
  },
  {
   "cell_type": "markdown",
   "metadata": {},
   "source": [
    "### Step 6. Sort by the name of the item"
   ]
  },
  {
   "cell_type": "code",
   "execution_count": 7,
   "metadata": {
    "collapsed": false
   },
   "outputs": [
    {
     "data": {
      "text/html": [
       "<div><div style = \"float: left;\"><span>4622×5 DataFrame</span></div><div style = \"float: right;\"><span style = \"font-style: italic;\">4597 rows omitted</span></div><div style = \"clear: both;\"></div></div><div class = \"data-frame\" style = \"overflow-x: scroll;\"><table class = \"data-frame\" style = \"margin-bottom: 6px;\"><thead><tr class = \"header\"><th class = \"rowNumber\" style = \"font-weight: bold; text-align: right;\">Row</th><th style = \"text-align: left;\">order_id</th><th style = \"text-align: left;\">quantity</th><th style = \"text-align: left;\">item_name</th><th style = \"text-align: left;\">choice_description</th><th style = \"text-align: left;\">item_price</th></tr><tr class = \"subheader headerLastRow\"><th class = \"rowNumber\" style = \"font-weight: bold; text-align: right;\"></th><th title = \"Int64\" style = \"text-align: left;\">Int64</th><th title = \"Int64\" style = \"text-align: left;\">Int64</th><th title = \"String\" style = \"text-align: left;\">String</th><th title = \"String\" style = \"text-align: left;\">String</th><th title = \"Float64\" style = \"text-align: left;\">Float64</th></tr></thead><tbody><tr><td class = \"rowNumber\" style = \"font-weight: bold; text-align: right;\">1</td><td style = \"text-align: right;\">129</td><td style = \"text-align: right;\">1</td><td style = \"text-align: left;\">6 Pack Soft Drink</td><td style = \"text-align: left;\">[Sprite]</td><td style = \"text-align: right;\">6.49</td></tr><tr><td class = \"rowNumber\" style = \"font-weight: bold; text-align: right;\">2</td><td style = \"text-align: right;\">148</td><td style = \"text-align: right;\">1</td><td style = \"text-align: left;\">6 Pack Soft Drink</td><td style = \"text-align: left;\">[Diet Coke]</td><td style = \"text-align: right;\">6.49</td></tr><tr><td class = \"rowNumber\" style = \"font-weight: bold; text-align: right;\">3</td><td style = \"text-align: right;\">154</td><td style = \"text-align: right;\">1</td><td style = \"text-align: left;\">6 Pack Soft Drink</td><td style = \"text-align: left;\">[Coke]</td><td style = \"text-align: right;\">6.49</td></tr><tr><td class = \"rowNumber\" style = \"font-weight: bold; text-align: right;\">4</td><td style = \"text-align: right;\">168</td><td style = \"text-align: right;\">1</td><td style = \"text-align: left;\">6 Pack Soft Drink</td><td style = \"text-align: left;\">[Diet Coke]</td><td style = \"text-align: right;\">6.49</td></tr><tr><td class = \"rowNumber\" style = \"font-weight: bold; text-align: right;\">5</td><td style = \"text-align: right;\">182</td><td style = \"text-align: right;\">1</td><td style = \"text-align: left;\">6 Pack Soft Drink</td><td style = \"text-align: left;\">[Diet Coke]</td><td style = \"text-align: right;\">6.49</td></tr><tr><td class = \"rowNumber\" style = \"font-weight: bold; text-align: right;\">6</td><td style = \"text-align: right;\">230</td><td style = \"text-align: right;\">1</td><td style = \"text-align: left;\">6 Pack Soft Drink</td><td style = \"text-align: left;\">[Diet Coke]</td><td style = \"text-align: right;\">6.49</td></tr><tr><td class = \"rowNumber\" style = \"font-weight: bold; text-align: right;\">7</td><td style = \"text-align: right;\">264</td><td style = \"text-align: right;\">1</td><td style = \"text-align: left;\">6 Pack Soft Drink</td><td style = \"text-align: left;\">[Diet Coke]</td><td style = \"text-align: right;\">6.49</td></tr><tr><td class = \"rowNumber\" style = \"font-weight: bold; text-align: right;\">8</td><td style = \"text-align: right;\">298</td><td style = \"text-align: right;\">1</td><td style = \"text-align: left;\">6 Pack Soft Drink</td><td style = \"text-align: left;\">[Nestea]</td><td style = \"text-align: right;\">6.49</td></tr><tr><td class = \"rowNumber\" style = \"font-weight: bold; text-align: right;\">9</td><td style = \"text-align: right;\">306</td><td style = \"text-align: right;\">1</td><td style = \"text-align: left;\">6 Pack Soft Drink</td><td style = \"text-align: left;\">[Coke]</td><td style = \"text-align: right;\">6.49</td></tr><tr><td class = \"rowNumber\" style = \"font-weight: bold; text-align: right;\">10</td><td style = \"text-align: right;\">363</td><td style = \"text-align: right;\">1</td><td style = \"text-align: left;\">6 Pack Soft Drink</td><td style = \"text-align: left;\">[Coke]</td><td style = \"text-align: right;\">6.49</td></tr><tr><td class = \"rowNumber\" style = \"font-weight: bold; text-align: right;\">11</td><td style = \"text-align: right;\">422</td><td style = \"text-align: right;\">1</td><td style = \"text-align: left;\">6 Pack Soft Drink</td><td style = \"text-align: left;\">[Sprite]</td><td style = \"text-align: right;\">6.49</td></tr><tr><td class = \"rowNumber\" style = \"font-weight: bold; text-align: right;\">12</td><td style = \"text-align: right;\">432</td><td style = \"text-align: right;\">1</td><td style = \"text-align: left;\">6 Pack Soft Drink</td><td style = \"text-align: left;\">[Coke]</td><td style = \"text-align: right;\">6.49</td></tr><tr><td class = \"rowNumber\" style = \"font-weight: bold; text-align: right;\">13</td><td style = \"text-align: right;\">465</td><td style = \"text-align: right;\">1</td><td style = \"text-align: left;\">6 Pack Soft Drink</td><td style = \"text-align: left;\">[Coke]</td><td style = \"text-align: right;\">6.49</td></tr><tr><td style = \"text-align: right;\">&vellip;</td><td style = \"text-align: right;\">&vellip;</td><td style = \"text-align: right;\">&vellip;</td><td style = \"text-align: right;\">&vellip;</td><td style = \"text-align: right;\">&vellip;</td><td style = \"text-align: right;\">&vellip;</td></tr><tr><td class = \"rowNumber\" style = \"font-weight: bold; text-align: right;\">4611</td><td style = \"text-align: right;\">1646</td><td style = \"text-align: right;\">1</td><td style = \"text-align: left;\">Veggie Salad Bowl</td><td style = \"text-align: left;\">[Tomatillo Red Chili Salsa, [Fajita Vegetables, Rice, Black Beans, Cheese, Guacamole, Lettuce]]</td><td style = \"text-align: right;\">11.25</td></tr><tr><td class = \"rowNumber\" style = \"font-weight: bold; text-align: right;\">4612</td><td style = \"text-align: right;\">1677</td><td style = \"text-align: right;\">1</td><td style = \"text-align: left;\">Veggie Salad Bowl</td><td style = \"text-align: left;\">[Fresh Tomato Salsa, [Fajita Vegetables, Black Beans, Guacamole]]</td><td style = \"text-align: right;\">11.25</td></tr><tr><td class = \"rowNumber\" style = \"font-weight: bold; text-align: right;\">4613</td><td style = \"text-align: right;\">1700</td><td style = \"text-align: right;\">1</td><td style = \"text-align: left;\">Veggie Salad Bowl</td><td style = \"text-align: left;\">[Fresh Tomato Salsa, [Fajita Vegetables, Rice, Guacamole]]</td><td style = \"text-align: right;\">11.25</td></tr><tr><td class = \"rowNumber\" style = \"font-weight: bold; text-align: right;\">4614</td><td style = \"text-align: right;\">1805</td><td style = \"text-align: right;\">1</td><td style = \"text-align: left;\">Veggie Salad Bowl</td><td style = \"text-align: left;\">[Tomatillo Green Chili Salsa, [Fajita Vegetables, Rice, Black Beans, Cheese, Sour Cream, Lettuce]]</td><td style = \"text-align: right;\">8.75</td></tr><tr><td class = \"rowNumber\" style = \"font-weight: bold; text-align: right;\">4615</td><td style = \"text-align: right;\">1818</td><td style = \"text-align: right;\">1</td><td style = \"text-align: left;\">Veggie Salad Bowl</td><td style = \"text-align: left;\">[Fresh Tomato Salsa, [Fajita Vegetables, Pinto Beans, Lettuce]]</td><td style = \"text-align: right;\">8.75</td></tr><tr><td class = \"rowNumber\" style = \"font-weight: bold; text-align: right;\">4616</td><td style = \"text-align: right;\">304</td><td style = \"text-align: right;\">1</td><td style = \"text-align: left;\">Veggie Soft Tacos</td><td style = \"text-align: left;\">[Tomatillo Red Chili Salsa, [Fajita Vegetables, Rice, Black Beans, Cheese, Guacamole, Lettuce]]</td><td style = \"text-align: right;\">11.25</td></tr><tr><td class = \"rowNumber\" style = \"font-weight: bold; text-align: right;\">4617</td><td style = \"text-align: right;\">322</td><td style = \"text-align: right;\">1</td><td style = \"text-align: left;\">Veggie Soft Tacos</td><td style = \"text-align: left;\">[Fresh Tomato Salsa, [Black Beans, Cheese, Sour Cream, Lettuce]]</td><td style = \"text-align: right;\">8.75</td></tr><tr><td class = \"rowNumber\" style = \"font-weight: bold; text-align: right;\">4618</td><td style = \"text-align: right;\">567</td><td style = \"text-align: right;\">1</td><td style = \"text-align: left;\">Veggie Soft Tacos</td><td style = \"text-align: left;\">[Fresh Tomato Salsa (Mild), [Pinto Beans, Rice, Cheese, Sour Cream]]</td><td style = \"text-align: right;\">8.49</td></tr><tr><td class = \"rowNumber\" style = \"font-weight: bold; text-align: right;\">4619</td><td style = \"text-align: right;\">688</td><td style = \"text-align: right;\">1</td><td style = \"text-align: left;\">Veggie Soft Tacos</td><td style = \"text-align: left;\">[Fresh Tomato Salsa, [Fajita Vegetables, Rice, Black Beans, Pinto Beans, Cheese, Sour Cream, Guacamole, Lettuce]]</td><td style = \"text-align: right;\">11.25</td></tr><tr><td class = \"rowNumber\" style = \"font-weight: bold; text-align: right;\">4620</td><td style = \"text-align: right;\">948</td><td style = \"text-align: right;\">1</td><td style = \"text-align: left;\">Veggie Soft Tacos</td><td style = \"text-align: left;\">[Roasted Chili Corn Salsa, [Fajita Vegetables, Black Beans, Pinto Beans, Cheese, Lettuce]]</td><td style = \"text-align: right;\">8.75</td></tr><tr><td class = \"rowNumber\" style = \"font-weight: bold; text-align: right;\">4621</td><td style = \"text-align: right;\">1132</td><td style = \"text-align: right;\">1</td><td style = \"text-align: left;\">Veggie Soft Tacos</td><td style = \"text-align: left;\">[Roasted Chili Corn Salsa (Medium), [Black Beans, Fajita Veggies, Cheese, Sour Cream, Lettuce]]</td><td style = \"text-align: right;\">8.49</td></tr><tr><td class = \"rowNumber\" style = \"font-weight: bold; text-align: right;\">4622</td><td style = \"text-align: right;\">1559</td><td style = \"text-align: right;\">2</td><td style = \"text-align: left;\">Veggie Soft Tacos</td><td style = \"text-align: left;\">[Fresh Tomato Salsa (Mild), [Black Beans, Rice, Cheese, Lettuce]]</td><td style = \"text-align: right;\">16.98</td></tr></tbody></table></div>"
      ],
      "text/latex": [
       "\\begin{tabular}{r|ccccc}\n",
       "\t& order\\_id & quantity & item\\_name & choice\\_description & item\\_price\\\\\n",
       "\t\\hline\n",
       "\t& Int64 & Int64 & String & String & Float64\\\\\n",
       "\t\\hline\n",
       "\t1 & 129 & 1 & 6 Pack Soft Drink & [Sprite] & 6.49 \\\\\n",
       "\t2 & 148 & 1 & 6 Pack Soft Drink & [Diet Coke] & 6.49 \\\\\n",
       "\t3 & 154 & 1 & 6 Pack Soft Drink & [Coke] & 6.49 \\\\\n",
       "\t4 & 168 & 1 & 6 Pack Soft Drink & [Diet Coke] & 6.49 \\\\\n",
       "\t5 & 182 & 1 & 6 Pack Soft Drink & [Diet Coke] & 6.49 \\\\\n",
       "\t6 & 230 & 1 & 6 Pack Soft Drink & [Diet Coke] & 6.49 \\\\\n",
       "\t7 & 264 & 1 & 6 Pack Soft Drink & [Diet Coke] & 6.49 \\\\\n",
       "\t8 & 298 & 1 & 6 Pack Soft Drink & [Nestea] & 6.49 \\\\\n",
       "\t9 & 306 & 1 & 6 Pack Soft Drink & [Coke] & 6.49 \\\\\n",
       "\t10 & 363 & 1 & 6 Pack Soft Drink & [Coke] & 6.49 \\\\\n",
       "\t11 & 422 & 1 & 6 Pack Soft Drink & [Sprite] & 6.49 \\\\\n",
       "\t12 & 432 & 1 & 6 Pack Soft Drink & [Coke] & 6.49 \\\\\n",
       "\t13 & 465 & 1 & 6 Pack Soft Drink & [Coke] & 6.49 \\\\\n",
       "\t14 & 481 & 1 & 6 Pack Soft Drink & [Coke] & 6.49 \\\\\n",
       "\t15 & 511 & 1 & 6 Pack Soft Drink & [Coke] & 6.49 \\\\\n",
       "\t16 & 520 & 1 & 6 Pack Soft Drink & [Sprite] & 6.49 \\\\\n",
       "\t17 & 566 & 1 & 6 Pack Soft Drink & [Diet Coke] & 6.49 \\\\\n",
       "\t18 & 708 & 1 & 6 Pack Soft Drink & [Coke] & 6.49 \\\\\n",
       "\t19 & 709 & 1 & 6 Pack Soft Drink & [Diet Coke] & 6.49 \\\\\n",
       "\t20 & 749 & 1 & 6 Pack Soft Drink & [Coke] & 6.49 \\\\\n",
       "\t21 & 754 & 1 & 6 Pack Soft Drink & [Diet Coke] & 6.49 \\\\\n",
       "\t22 & 774 & 1 & 6 Pack Soft Drink & [Diet Coke] & 6.49 \\\\\n",
       "\t23 & 776 & 1 & 6 Pack Soft Drink & [Coke] & 6.49 \\\\\n",
       "\t24 & 784 & 1 & 6 Pack Soft Drink & [Diet Coke] & 6.49 \\\\\n",
       "\t$\\dots$ & $\\dots$ & $\\dots$ & $\\dots$ & $\\dots$ & $\\dots$ \\\\\n",
       "\\end{tabular}\n"
      ],
      "text/plain": [
       "\u001b[1m4622×5 DataFrame\u001b[0m\n",
       "\u001b[1m  Row \u001b[0m│\u001b[1m order_id \u001b[0m\u001b[1m quantity \u001b[0m\u001b[1m item_name         \u001b[0m\u001b[1m choice_description             \u001b[0m ⋯\n",
       "      │\u001b[90m Int64    \u001b[0m\u001b[90m Int64    \u001b[0m\u001b[90m String            \u001b[0m\u001b[90m String                         \u001b[0m ⋯\n",
       "──────┼─────────────────────────────────────────────────────────────────────────\n",
       "    1 │      129         1  6 Pack Soft Drink  [Sprite]                        ⋯\n",
       "    2 │      148         1  6 Pack Soft Drink  [Diet Coke]\n",
       "    3 │      154         1  6 Pack Soft Drink  [Coke]\n",
       "    4 │      168         1  6 Pack Soft Drink  [Diet Coke]\n",
       "    5 │      182         1  6 Pack Soft Drink  [Diet Coke]                     ⋯\n",
       "    6 │      230         1  6 Pack Soft Drink  [Diet Coke]\n",
       "    7 │      264         1  6 Pack Soft Drink  [Diet Coke]\n",
       "    8 │      298         1  6 Pack Soft Drink  [Nestea]\n",
       "  ⋮   │    ⋮         ⋮              ⋮                          ⋮               ⋱\n",
       " 4616 │      304         1  Veggie Soft Tacos  [Tomatillo Red Chili Salsa, [Fa ⋯\n",
       " 4617 │      322         1  Veggie Soft Tacos  [Fresh Tomato Salsa, [Black Bea\n",
       " 4618 │      567         1  Veggie Soft Tacos  [Fresh Tomato Salsa (Mild), [Pi\n",
       " 4619 │      688         1  Veggie Soft Tacos  [Fresh Tomato Salsa, [Fajita Ve\n",
       " 4620 │      948         1  Veggie Soft Tacos  [Roasted Chili Corn Salsa, [Faj ⋯\n",
       " 4621 │     1132         1  Veggie Soft Tacos  [Roasted Chili Corn Salsa (Medi\n",
       " 4622 │     1559         2  Veggie Soft Tacos  [Fresh Tomato Salsa (Mild), [Bl\n",
       "\u001b[36m                                                 2 columns and 4607 rows omitted\u001b[0m"
      ]
     },
     "metadata": {},
     "output_type": "display_data"
    }
   ],
   "source": []
  },
  {
   "cell_type": "markdown",
   "metadata": {},
   "source": [
    "### Step 7. What was the quantity of the most expensive item ordered?"
   ]
  },
  {
   "cell_type": "code",
   "execution_count": 8,
   "metadata": {
    "collapsed": false
   },
   "outputs": [
    {
     "data": {
      "text/html": [
       "<div><div style = \"float: left;\"><span>4622×3 DataFrame</span></div><div style = \"float: right;\"><span style = \"font-style: italic;\">4597 rows omitted</span></div><div style = \"clear: both;\"></div></div><div class = \"data-frame\" style = \"overflow-x: scroll;\"><table class = \"data-frame\" style = \"margin-bottom: 6px;\"><thead><tr class = \"header\"><th class = \"rowNumber\" style = \"font-weight: bold; text-align: right;\">Row</th><th style = \"text-align: left;\">item_name</th><th style = \"text-align: left;\">item_price</th><th style = \"text-align: left;\">quantity</th></tr><tr class = \"subheader headerLastRow\"><th class = \"rowNumber\" style = \"font-weight: bold; text-align: right;\"></th><th title = \"String\" style = \"text-align: left;\">String</th><th title = \"Float64\" style = \"text-align: left;\">Float64</th><th title = \"Int64\" style = \"text-align: left;\">Int64</th></tr></thead><tbody><tr><td class = \"rowNumber\" style = \"font-weight: bold; text-align: right;\">1</td><td style = \"text-align: left;\">Chips and Fresh Tomato Salsa</td><td style = \"text-align: right;\">44.25</td><td style = \"text-align: right;\">15</td></tr><tr><td class = \"rowNumber\" style = \"font-weight: bold; text-align: right;\">2</td><td style = \"text-align: left;\">Carnitas Bowl</td><td style = \"text-align: right;\">35.25</td><td style = \"text-align: right;\">3</td></tr><tr><td class = \"rowNumber\" style = \"font-weight: bold; text-align: right;\">3</td><td style = \"text-align: left;\">Chicken Burrito</td><td style = \"text-align: right;\">35.0</td><td style = \"text-align: right;\">4</td></tr><tr><td class = \"rowNumber\" style = \"font-weight: bold; text-align: right;\">4</td><td style = \"text-align: left;\">Chicken Burrito</td><td style = \"text-align: right;\">35.0</td><td style = \"text-align: right;\">4</td></tr><tr><td class = \"rowNumber\" style = \"font-weight: bold; text-align: right;\">5</td><td style = \"text-align: left;\">Veggie Burrito</td><td style = \"text-align: right;\">33.75</td><td style = \"text-align: right;\">3</td></tr><tr><td class = \"rowNumber\" style = \"font-weight: bold; text-align: right;\">6</td><td style = \"text-align: left;\">Chicken Bowl</td><td style = \"text-align: right;\">32.94</td><td style = \"text-align: right;\">3</td></tr><tr><td class = \"rowNumber\" style = \"font-weight: bold; text-align: right;\">7</td><td style = \"text-align: left;\">Steak Burrito</td><td style = \"text-align: right;\">27.75</td><td style = \"text-align: right;\">3</td></tr><tr><td class = \"rowNumber\" style = \"font-weight: bold; text-align: right;\">8</td><td style = \"text-align: left;\">Steak Burrito</td><td style = \"text-align: right;\">27.75</td><td style = \"text-align: right;\">3</td></tr><tr><td class = \"rowNumber\" style = \"font-weight: bold; text-align: right;\">9</td><td style = \"text-align: left;\">Chicken Bowl</td><td style = \"text-align: right;\">26.25</td><td style = \"text-align: right;\">3</td></tr><tr><td class = \"rowNumber\" style = \"font-weight: bold; text-align: right;\">10</td><td style = \"text-align: left;\">Chicken Burrito</td><td style = \"text-align: right;\">26.25</td><td style = \"text-align: right;\">3</td></tr><tr><td class = \"rowNumber\" style = \"font-weight: bold; text-align: right;\">11</td><td style = \"text-align: left;\">Chicken Burrito</td><td style = \"text-align: right;\">26.25</td><td style = \"text-align: right;\">3</td></tr><tr><td class = \"rowNumber\" style = \"font-weight: bold; text-align: right;\">12</td><td style = \"text-align: left;\">Steak Bowl</td><td style = \"text-align: right;\">26.07</td><td style = \"text-align: right;\">3</td></tr><tr><td class = \"rowNumber\" style = \"font-weight: bold; text-align: right;\">13</td><td style = \"text-align: left;\">Steak Salad Bowl</td><td style = \"text-align: right;\">23.78</td><td style = \"text-align: right;\">2</td></tr><tr><td style = \"text-align: right;\">&vellip;</td><td style = \"text-align: right;\">&vellip;</td><td style = \"text-align: right;\">&vellip;</td><td style = \"text-align: right;\">&vellip;</td></tr><tr><td class = \"rowNumber\" style = \"font-weight: bold; text-align: right;\">4611</td><td style = \"text-align: left;\">Canned Soda</td><td style = \"text-align: right;\">1.09</td><td style = \"text-align: right;\">1</td></tr><tr><td class = \"rowNumber\" style = \"font-weight: bold; text-align: right;\">4612</td><td style = \"text-align: left;\">Canned Soda</td><td style = \"text-align: right;\">1.09</td><td style = \"text-align: right;\">1</td></tr><tr><td class = \"rowNumber\" style = \"font-weight: bold; text-align: right;\">4613</td><td style = \"text-align: left;\">Canned Soda</td><td style = \"text-align: right;\">1.09</td><td style = \"text-align: right;\">1</td></tr><tr><td class = \"rowNumber\" style = \"font-weight: bold; text-align: right;\">4614</td><td style = \"text-align: left;\">Canned Soda</td><td style = \"text-align: right;\">1.09</td><td style = \"text-align: right;\">1</td></tr><tr><td class = \"rowNumber\" style = \"font-weight: bold; text-align: right;\">4615</td><td style = \"text-align: left;\">Canned Soda</td><td style = \"text-align: right;\">1.09</td><td style = \"text-align: right;\">1</td></tr><tr><td class = \"rowNumber\" style = \"font-weight: bold; text-align: right;\">4616</td><td style = \"text-align: left;\">Canned Soda</td><td style = \"text-align: right;\">1.09</td><td style = \"text-align: right;\">1</td></tr><tr><td class = \"rowNumber\" style = \"font-weight: bold; text-align: right;\">4617</td><td style = \"text-align: left;\">Bottled Water</td><td style = \"text-align: right;\">1.09</td><td style = \"text-align: right;\">1</td></tr><tr><td class = \"rowNumber\" style = \"font-weight: bold; text-align: right;\">4618</td><td style = \"text-align: left;\">Canned Soda</td><td style = \"text-align: right;\">1.09</td><td style = \"text-align: right;\">1</td></tr><tr><td class = \"rowNumber\" style = \"font-weight: bold; text-align: right;\">4619</td><td style = \"text-align: left;\">Bottled Water</td><td style = \"text-align: right;\">1.09</td><td style = \"text-align: right;\">1</td></tr><tr><td class = \"rowNumber\" style = \"font-weight: bold; text-align: right;\">4620</td><td style = \"text-align: left;\">Canned Soda</td><td style = \"text-align: right;\">1.09</td><td style = \"text-align: right;\">1</td></tr><tr><td class = \"rowNumber\" style = \"font-weight: bold; text-align: right;\">4621</td><td style = \"text-align: left;\">Canned Soda</td><td style = \"text-align: right;\">1.09</td><td style = \"text-align: right;\">1</td></tr><tr><td class = \"rowNumber\" style = \"font-weight: bold; text-align: right;\">4622</td><td style = \"text-align: left;\">Bottled Water</td><td style = \"text-align: right;\">1.09</td><td style = \"text-align: right;\">1</td></tr></tbody></table></div>"
      ],
      "text/latex": [
       "\\begin{tabular}{r|ccc}\n",
       "\t& item\\_name & item\\_price & quantity\\\\\n",
       "\t\\hline\n",
       "\t& String & Float64 & Int64\\\\\n",
       "\t\\hline\n",
       "\t1 & Chips and Fresh Tomato Salsa & 44.25 & 15 \\\\\n",
       "\t2 & Carnitas Bowl & 35.25 & 3 \\\\\n",
       "\t3 & Chicken Burrito & 35.0 & 4 \\\\\n",
       "\t4 & Chicken Burrito & 35.0 & 4 \\\\\n",
       "\t5 & Veggie Burrito & 33.75 & 3 \\\\\n",
       "\t6 & Chicken Bowl & 32.94 & 3 \\\\\n",
       "\t7 & Steak Burrito & 27.75 & 3 \\\\\n",
       "\t8 & Steak Burrito & 27.75 & 3 \\\\\n",
       "\t9 & Chicken Bowl & 26.25 & 3 \\\\\n",
       "\t10 & Chicken Burrito & 26.25 & 3 \\\\\n",
       "\t11 & Chicken Burrito & 26.25 & 3 \\\\\n",
       "\t12 & Steak Bowl & 26.07 & 3 \\\\\n",
       "\t13 & Steak Salad Bowl & 23.78 & 2 \\\\\n",
       "\t14 & Steak Salad Bowl & 23.78 & 2 \\\\\n",
       "\t15 & Carnitas Bowl & 23.5 & 2 \\\\\n",
       "\t16 & Steak Bowl & 23.5 & 2 \\\\\n",
       "\t17 & Steak Burrito & 23.5 & 2 \\\\\n",
       "\t18 & Steak Bowl & 23.5 & 2 \\\\\n",
       "\t19 & Steak Bowl & 23.5 & 2 \\\\\n",
       "\t20 & Steak Bowl & 23.5 & 2 \\\\\n",
       "\t21 & Steak Burrito & 22.96 & 2 \\\\\n",
       "\t22 & Chicken Salad Bowl & 22.5 & 2 \\\\\n",
       "\t23 & Chicken Salad Bowl & 22.5 & 2 \\\\\n",
       "\t24 & Chicken Salad Bowl & 22.5 & 2 \\\\\n",
       "\t$\\dots$ & $\\dots$ & $\\dots$ & $\\dots$ \\\\\n",
       "\\end{tabular}\n"
      ],
      "text/plain": [
       "\u001b[1m4622×3 DataFrame\u001b[0m\n",
       "\u001b[1m  Row \u001b[0m│\u001b[1m item_name                    \u001b[0m\u001b[1m item_price \u001b[0m\u001b[1m quantity \u001b[0m\n",
       "      │\u001b[90m String                       \u001b[0m\u001b[90m Float64    \u001b[0m\u001b[90m Int64    \u001b[0m\n",
       "──────┼────────────────────────────────────────────────────\n",
       "    1 │ Chips and Fresh Tomato Salsa       44.25        15\n",
       "    2 │ Carnitas Bowl                      35.25         3\n",
       "    3 │ Chicken Burrito                    35.0          4\n",
       "    4 │ Chicken Burrito                    35.0          4\n",
       "    5 │ Veggie Burrito                     33.75         3\n",
       "    6 │ Chicken Bowl                       32.94         3\n",
       "    7 │ Steak Burrito                      27.75         3\n",
       "    8 │ Steak Burrito                      27.75         3\n",
       "  ⋮   │              ⋮                    ⋮          ⋮\n",
       " 4616 │ Canned Soda                         1.09         1\n",
       " 4617 │ Bottled Water                       1.09         1\n",
       " 4618 │ Canned Soda                         1.09         1\n",
       " 4619 │ Bottled Water                       1.09         1\n",
       " 4620 │ Canned Soda                         1.09         1\n",
       " 4621 │ Canned Soda                         1.09         1\n",
       " 4622 │ Bottled Water                       1.09         1\n",
       "\u001b[36m                                          4607 rows omitted\u001b[0m"
      ]
     },
     "metadata": {},
     "output_type": "display_data"
    }
   ],
   "source": []
  },
  {
   "cell_type": "markdown",
   "metadata": {},
   "source": [
    "### Step 8. How many times was a Veggie Salad Bowl ordered?"
   ]
  },
  {
   "cell_type": "code",
   "execution_count": 10,
   "metadata": {
    "collapsed": false
   },
   "outputs": [
    {
     "name": "stdout",
     "output_type": "stream",
     "text": [
      "veggie_salad_total_order = 18\n"
     ]
    }
   ],
   "source": []
  },
  {
   "cell_type": "markdown",
   "metadata": {},
   "source": [
    "### Step 9. How many times did someone order more than one Canned Soda?"
   ]
  },
  {
   "cell_type": "code",
   "execution_count": 12,
   "metadata": {
    "collapsed": false
   },
   "outputs": [
    {
     "data": {
      "text/plain": [
       "20"
      ]
     },
     "metadata": {},
     "output_type": "display_data"
    }
   ],
   "source": []
  }
 ],
 "metadata": {
  "kernelspec": {
   "display_name": "Julia 1.10.3",
   "language": "julia",
   "name": "julia-1.10"
  },
  "language_info": {
   "file_extension": ".jl",
   "mimetype": "application/julia",
   "name": "julia",
   "version": "1.10.3"
  }
 },
 "nbformat": 4,
 "nbformat_minor": 0
}
